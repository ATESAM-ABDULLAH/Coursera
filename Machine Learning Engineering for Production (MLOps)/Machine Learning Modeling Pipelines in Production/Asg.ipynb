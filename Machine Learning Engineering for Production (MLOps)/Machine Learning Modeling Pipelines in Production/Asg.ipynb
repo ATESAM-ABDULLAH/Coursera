{
 "cells": [
  {
   "cell_type": "markdown",
   "id": "3ccfca27-151a-4d2f-98c4-f43f41d6d83b",
   "metadata": {},
   "source": [
    "## Overview\n",
    "In this lab you create a Vertex AI Workbench instance on which you devlop a TensorFlow model in Jupyter notebook. You train the model, create an input data pipeline, deploy it to an endpoint, and get predictions.\n",
    "\n",
    "Objectives\n",
    "- Deploy Vertex AI Workbench instance\n",
    "- Create minimal training, validation data\n",
    "- Create the input data pipeline\n",
    "- Create TensorFlow model\n",
    "- Deploy model to Vertex AI\n",
    "- Deploy Explainable AI model to Vertex AI\n",
    "- Make predictions from the model endpoint\n"
   ]
  },
  {
   "cell_type": "markdown",
   "id": "a24eaa6b-c1ec-4f5c-b058-610cad2d3a46",
   "metadata": {},
   "source": [
    "## Create minimal training and validation data"
   ]
  },
  {
   "cell_type": "markdown",
   "id": "7d9268cd-9a55-406e-9964-964a9050ff79",
   "metadata": {},
   "source": [
    "1) Import Python libraries and set environment variables:"
   ]
  },
  {
   "cell_type": "code",
   "execution_count": 1,
   "id": "919206d1-fe33-410b-ae28-1d1045a97b2d",
   "metadata": {
    "tags": []
   },
   "outputs": [
    {
     "name": "stderr",
     "output_type": "stream",
     "text": [
      "2023-11-30 04:16:53.243091: I tensorflow/core/platform/cpu_feature_guard.cc:193] This TensorFlow binary is optimized with oneAPI Deep Neural Network Library (oneDNN) to use the following CPU instructions in performance-critical operations:  AVX2 FMA\n",
      "To enable them in other operations, rebuild TensorFlow with the appropriate compiler flags.\n",
      "2023-11-30 04:16:59.974037: W tensorflow/compiler/xla/stream_executor/platform/default/dso_loader.cc:64] Could not load dynamic library 'libnvinfer.so.7'; dlerror: libnvinfer.so.7: cannot open shared object file: No such file or directory; LD_LIBRARY_PATH: /usr/local/cuda/lib64:/usr/local/nccl2/lib:/usr/local/cuda/extras/CUPTI/lib64\n",
      "2023-11-30 04:16:59.975756: W tensorflow/compiler/xla/stream_executor/platform/default/dso_loader.cc:64] Could not load dynamic library 'libnvinfer_plugin.so.7'; dlerror: libnvinfer_plugin.so.7: cannot open shared object file: No such file or directory; LD_LIBRARY_PATH: /usr/local/cuda/lib64:/usr/local/nccl2/lib:/usr/local/cuda/extras/CUPTI/lib64\n",
      "2023-11-30 04:16:59.975784: W tensorflow/compiler/tf2tensorrt/utils/py_utils.cc:38] TF-TRT Warning: Cannot dlopen some TensorRT libraries. If you would like to use Nvidia GPU with TensorRT, please make sure the missing libraries mentioned above are installed properly.\n"
     ]
    },
    {
     "name": "stdout",
     "output_type": "stream",
     "text": [
      "Reading package lists... Done\n",
      "Building dependency tree... Done\n",
      "Reading state information... Done\n",
      "The following additional packages will be installed:\n",
      "  fonts-liberation libann0 libcdt5 libcgraph6 libgts-0.7-5 libgts-bin libgvc6\n",
      "  libgvpr2 liblab-gamut1 libpathplan4\n",
      "Suggested packages:\n",
      "  gsfonts graphviz-doc\n",
      "The following NEW packages will be installed:\n",
      "  fonts-liberation graphviz libann0 libcdt5 libcgraph6 libgts-0.7-5 libgts-bin\n",
      "  libgvc6 libgvpr2 liblab-gamut1 libpathplan4\n",
      "0 upgraded, 11 newly installed, 0 to remove and 2 not upgraded.\n",
      "Need to get 3032 kB of archives.\n",
      "After this operation, 11.5 MB of additional disk space will be used.\n",
      "Get:1 https://deb.debian.org/debian bullseye/main amd64 fonts-liberation all 1:1.07.4-11 [828 kB]\n",
      "Get:2 https://deb.debian.org/debian bullseye/main amd64 libann0 amd64 1.1.2+doc-7 [25.3 kB]\n",
      "Get:3 https://deb.debian.org/debian bullseye/main amd64 libcdt5 amd64 2.42.2-5 [62.2 kB]\n",
      "Get:4 https://deb.debian.org/debian bullseye/main amd64 libcgraph6 amd64 2.42.2-5 [85.5 kB]\n",
      "Get:5 https://deb.debian.org/debian bullseye/main amd64 libgts-0.7-5 amd64 0.7.6+darcs121130-4+b1 [158 kB]\n",
      "Get:6 https://deb.debian.org/debian bullseye/main amd64 libpathplan4 amd64 2.42.2-5 [64.3 kB]\n",
      "Get:7 https://deb.debian.org/debian bullseye/main amd64 libgvc6 amd64 2.42.2-5 [695 kB]\n",
      "Get:8 https://deb.debian.org/debian bullseye/main amd64 libgvpr2 amd64 2.42.2-5 [212 kB]\n",
      "Get:9 https://deb.debian.org/debian bullseye/main amd64 liblab-gamut1 amd64 2.42.2-5 [221 kB]\n",
      "Get:10 https://deb.debian.org/debian bullseye/main amd64 graphviz amd64 2.42.2-5 [632 kB]\n",
      "Get:11 https://deb.debian.org/debian bullseye/main amd64 libgts-bin amd64 0.7.6+darcs121130-4+b1 [50.3 kB]\n",
      "Fetched 3032 kB in 0s (14.5 MB/s)      \u001b[0m\u001b[33m\n",
      "\n",
      "\u001b7\u001b[0;23r\u001b8\u001b[1ASelecting previously unselected package fonts-liberation.\n",
      "(Reading database ... 130808 files and directories currently installed.)\n",
      "Preparing to unpack .../00-fonts-liberation_1%3a1.07.4-11_all.deb ...\n",
      "\u001b7\u001b[24;0f\u001b[42m\u001b[30mProgress: [  0%]\u001b[49m\u001b[39m [..........................................................] \u001b8\u001b7\u001b[24;0f\u001b[42m\u001b[30mProgress: [  2%]\u001b[49m\u001b[39m [#.........................................................] \u001b8Unpacking fonts-liberation (1:1.07.4-11) ...\n",
      "\u001b7\u001b[24;0f\u001b[42m\u001b[30mProgress: [  4%]\u001b[49m\u001b[39m [##........................................................] \u001b8Selecting previously unselected package libann0.\n",
      "Preparing to unpack .../01-libann0_1.1.2+doc-7_amd64.deb ...\n",
      "\u001b7\u001b[24;0f\u001b[42m\u001b[30mProgress: [  7%]\u001b[49m\u001b[39m [###.......................................................] \u001b8Unpacking libann0 (1.1.2+doc-7) ...\n",
      "\u001b7\u001b[24;0f\u001b[42m\u001b[30mProgress: [  9%]\u001b[49m\u001b[39m [#####.....................................................] \u001b8Selecting previously unselected package libcdt5:amd64.\n",
      "Preparing to unpack .../02-libcdt5_2.42.2-5_amd64.deb ...\n",
      "\u001b7\u001b[24;0f\u001b[42m\u001b[30mProgress: [ 11%]\u001b[49m\u001b[39m [######....................................................] \u001b8Unpacking libcdt5:amd64 (2.42.2-5) ...\n",
      "\u001b7\u001b[24;0f\u001b[42m\u001b[30mProgress: [ 13%]\u001b[49m\u001b[39m [#######...................................................] \u001b8Selecting previously unselected package libcgraph6:amd64.\n",
      "Preparing to unpack .../03-libcgraph6_2.42.2-5_amd64.deb ...\n",
      "\u001b7\u001b[24;0f\u001b[42m\u001b[30mProgress: [ 16%]\u001b[49m\u001b[39m [#########.................................................] \u001b8Unpacking libcgraph6:amd64 (2.42.2-5) ...\n",
      "\u001b7\u001b[24;0f\u001b[42m\u001b[30mProgress: [ 18%]\u001b[49m\u001b[39m [##########................................................] \u001b8Selecting previously unselected package libgts-0.7-5:amd64.\n",
      "Preparing to unpack .../04-libgts-0.7-5_0.7.6+darcs121130-4+b1_amd64.deb ...\n",
      "\u001b7\u001b[24;0f\u001b[42m\u001b[30mProgress: [ 20%]\u001b[49m\u001b[39m [###########...............................................] \u001b8Unpacking libgts-0.7-5:amd64 (0.7.6+darcs121130-4+b1) ...\n",
      "\u001b7\u001b[24;0f\u001b[42m\u001b[30mProgress: [ 22%]\u001b[49m\u001b[39m [############..............................................] \u001b8Selecting previously unselected package libpathplan4:amd64.\n",
      "Preparing to unpack .../05-libpathplan4_2.42.2-5_amd64.deb ...\n",
      "\u001b7\u001b[24;0f\u001b[42m\u001b[30mProgress: [ 24%]\u001b[49m\u001b[39m [##############............................................] \u001b8Unpacking libpathplan4:amd64 (2.42.2-5) ...\n",
      "\u001b7\u001b[24;0f\u001b[42m\u001b[30mProgress: [ 27%]\u001b[49m\u001b[39m [###############...........................................] \u001b8Selecting previously unselected package libgvc6.\n",
      "Preparing to unpack .../06-libgvc6_2.42.2-5_amd64.deb ...\n",
      "\u001b7\u001b[24;0f\u001b[42m\u001b[30mProgress: [ 29%]\u001b[49m\u001b[39m [################..........................................] \u001b8Unpacking libgvc6 (2.42.2-5) ...\n",
      "\u001b7\u001b[24;0f\u001b[42m\u001b[30mProgress: [ 31%]\u001b[49m\u001b[39m [##################........................................] \u001b8Selecting previously unselected package libgvpr2:amd64.\n",
      "Preparing to unpack .../07-libgvpr2_2.42.2-5_amd64.deb ...\n",
      "\u001b7\u001b[24;0f\u001b[42m\u001b[30mProgress: [ 33%]\u001b[49m\u001b[39m [###################.......................................] \u001b8Unpacking libgvpr2:amd64 (2.42.2-5) ...\n",
      "\u001b7\u001b[24;0f\u001b[42m\u001b[30mProgress: [ 36%]\u001b[49m\u001b[39m [####################......................................] \u001b8Selecting previously unselected package liblab-gamut1:amd64.\n",
      "Preparing to unpack .../08-liblab-gamut1_2.42.2-5_amd64.deb ...\n",
      "\u001b7\u001b[24;0f\u001b[42m\u001b[30mProgress: [ 38%]\u001b[49m\u001b[39m [#####################.....................................] \u001b8Unpacking liblab-gamut1:amd64 (2.42.2-5) ...\n",
      "\u001b7\u001b[24;0f\u001b[42m\u001b[30mProgress: [ 40%]\u001b[49m\u001b[39m [#######################...................................] \u001b8Selecting previously unselected package graphviz.\n",
      "Preparing to unpack .../09-graphviz_2.42.2-5_amd64.deb ...\n",
      "\u001b7\u001b[24;0f\u001b[42m\u001b[30mProgress: [ 42%]\u001b[49m\u001b[39m [########################..................................] \u001b8Unpacking graphviz (2.42.2-5) ...\n",
      "\u001b7\u001b[24;0f\u001b[42m\u001b[30mProgress: [ 44%]\u001b[49m\u001b[39m [#########################.................................] \u001b8Selecting previously unselected package libgts-bin.\n",
      "Preparing to unpack .../10-libgts-bin_0.7.6+darcs121130-4+b1_amd64.deb ...\n",
      "\u001b7\u001b[24;0f\u001b[42m\u001b[30mProgress: [ 47%]\u001b[49m\u001b[39m [###########################...............................] \u001b8Unpacking libgts-bin (0.7.6+darcs121130-4+b1) ...\n",
      "\u001b7\u001b[24;0f\u001b[42m\u001b[30mProgress: [ 49%]\u001b[49m\u001b[39m [############################..............................] \u001b8Setting up liblab-gamut1:amd64 (2.42.2-5) ...\n",
      "\u001b7\u001b[24;0f\u001b[42m\u001b[30mProgress: [ 51%]\u001b[49m\u001b[39m [#############################.............................] \u001b8\u001b7\u001b[24;0f\u001b[42m\u001b[30mProgress: [ 53%]\u001b[49m\u001b[39m [##############################............................] \u001b8Setting up libgts-0.7-5:amd64 (0.7.6+darcs121130-4+b1) ...\n",
      "\u001b7\u001b[24;0f\u001b[42m\u001b[30mProgress: [ 56%]\u001b[49m\u001b[39m [################################..........................] \u001b8\u001b7\u001b[24;0f\u001b[42m\u001b[30mProgress: [ 58%]\u001b[49m\u001b[39m [#################################.........................] \u001b8Setting up libpathplan4:amd64 (2.42.2-5) ...\n",
      "\u001b7\u001b[24;0f\u001b[42m\u001b[30mProgress: [ 60%]\u001b[49m\u001b[39m [##################################........................] \u001b8\u001b7\u001b[24;0f\u001b[42m\u001b[30mProgress: [ 62%]\u001b[49m\u001b[39m [####################################......................] \u001b8Setting up libann0 (1.1.2+doc-7) ...\n",
      "\u001b7\u001b[24;0f\u001b[42m\u001b[30mProgress: [ 64%]\u001b[49m\u001b[39m [#####################################.....................] \u001b8\u001b7\u001b[24;0f\u001b[42m\u001b[30mProgress: [ 67%]\u001b[49m\u001b[39m [######################################....................] \u001b8Setting up fonts-liberation (1:1.07.4-11) ...\n",
      "\u001b7\u001b[24;0f\u001b[42m\u001b[30mProgress: [ 69%]\u001b[49m\u001b[39m [#######################################...................] \u001b8\u001b7\u001b[24;0f\u001b[42m\u001b[30mProgress: [ 71%]\u001b[49m\u001b[39m [#########################################.................] \u001b8Setting up libcdt5:amd64 (2.42.2-5) ...\n",
      "\u001b7\u001b[24;0f\u001b[42m\u001b[30mProgress: [ 73%]\u001b[49m\u001b[39m [##########################################................] \u001b8\u001b7\u001b[24;0f\u001b[42m\u001b[30mProgress: [ 76%]\u001b[49m\u001b[39m [###########################################...............] \u001b8Setting up libcgraph6:amd64 (2.42.2-5) ...\n",
      "\u001b7\u001b[24;0f\u001b[42m\u001b[30mProgress: [ 78%]\u001b[49m\u001b[39m [#############################################.............] \u001b8\u001b7\u001b[24;0f\u001b[42m\u001b[30mProgress: [ 80%]\u001b[49m\u001b[39m [##############################################............] \u001b8Setting up libgts-bin (0.7.6+darcs121130-4+b1) ...\n",
      "\u001b7\u001b[24;0f\u001b[42m\u001b[30mProgress: [ 82%]\u001b[49m\u001b[39m [###############################################...........] \u001b8\u001b7\u001b[24;0f\u001b[42m\u001b[30mProgress: [ 84%]\u001b[49m\u001b[39m [################################################..........] \u001b8Setting up libgvc6 (2.42.2-5) ...\n",
      "\u001b7\u001b[24;0f\u001b[42m\u001b[30mProgress: [ 87%]\u001b[49m\u001b[39m [##################################################........] \u001b8\u001b7\u001b[24;0f\u001b[42m\u001b[30mProgress: [ 89%]\u001b[49m\u001b[39m [###################################################.......] \u001b8Setting up libgvpr2:amd64 (2.42.2-5) ...\n",
      "\u001b7\u001b[24;0f\u001b[42m\u001b[30mProgress: [ 91%]\u001b[49m\u001b[39m [####################################################......] \u001b8\u001b7\u001b[24;0f\u001b[42m\u001b[30mProgress: [ 93%]\u001b[49m\u001b[39m [######################################################....] \u001b8Setting up graphviz (2.42.2-5) ...\n",
      "\u001b7\u001b[24;0f\u001b[42m\u001b[30mProgress: [ 96%]\u001b[49m\u001b[39m [#######################################################...] \u001b8\u001b7\u001b[24;0f\u001b[42m\u001b[30mProgress: [ 98%]\u001b[49m\u001b[39m [########################################################..] \u001b8Processing triggers for libc-bin (2.31-13+deb11u7) ...\n",
      "ldconfig: /usr/local/cuda-11.3/targets/x86_64-linux/lib/libcudnn_adv_train.so.8 is not a symbolic link\n",
      "\n",
      "ldconfig: /usr/local/cuda-11.3/targets/x86_64-linux/lib/libcudnn_adv_infer.so.8 is not a symbolic link\n",
      "\n",
      "ldconfig: /usr/local/cuda-11.3/targets/x86_64-linux/lib/libcudnn_cnn_infer.so.8 is not a symbolic link\n",
      "\n",
      "ldconfig: /usr/local/cuda-11.3/targets/x86_64-linux/lib/libcudnn_cnn_train.so.8 is not a symbolic link\n",
      "\n",
      "ldconfig: /usr/local/cuda-11.3/targets/x86_64-linux/lib/libcudnn_ops_infer.so.8 is not a symbolic link\n",
      "\n",
      "ldconfig: /usr/local/cuda-11.3/targets/x86_64-linux/lib/libcudnn.so.8 is not a symbolic link\n",
      "\n",
      "ldconfig: /usr/local/cuda-11.3/targets/x86_64-linux/lib/libcudnn_ops_train.so.8 is not a symbolic link\n",
      "\n",
      "ldconfig: /lib/libnvonnxparser.so.8 is not a symbolic link\n",
      "\n",
      "ldconfig: /lib/libnvinfer_plugin.so.8 is not a symbolic link\n",
      "\n",
      "ldconfig: /lib/libnvinfer.so.8 is not a symbolic link\n",
      "\n",
      "ldconfig: /lib/libnvparsers.so.8 is not a symbolic link\n",
      "\n",
      "Processing triggers for man-db (2.9.4-2) ...\n",
      "Processing triggers for fontconfig (2.13.1-4.2) ...\n",
      "\n",
      "\u001b7\u001b[0;24r\u001b8\u001b[1A\u001b[J"
     ]
    }
   ],
   "source": [
    "import os, json, math, shutil\n",
    "import numpy as np\n",
    "import tensorflow as tf\n",
    "!sudo apt install graphviz -y\n",
    "\n",
    "# environment variables used by bash cells\n",
    "PROJECT=!(gcloud config get-value project)\n",
    "PROJECT=PROJECT[0]\n",
    "\n",
    "REGION = 'us-west1'\n",
    "BUCKET='{}-dsongcp'.format(PROJECT)\n",
    "os.environ['ENDPOINT_NAME'] = 'flights'\n",
    "\n",
    "os.environ['BUCKET'] = BUCKET\n",
    "os.environ['REGION'] = REGION\n",
    "os.environ['TF_VERSION']='2-' + tf.__version__[2:4]"
   ]
  },
  {
   "cell_type": "markdown",
   "id": "2bee3f70-0df2-4615-9817-57f9e38040c1",
   "metadata": {},
   "source": [
    "### Export files that contain training, validation data\n",
    "When the lab spins up, a few tables are created in the BigQuery dataset. In this section, you use BigQuery to create temporary tables in BigQuery that contain the data we need, and then export the table to CSV files on Google Cloud Storage. You then delete the temporary table. Moving further, read and process those CSV data files to create the training, validation, and full datasets you need for a custom TensorFlow model."
   ]
  },
  {
   "cell_type": "markdown",
   "id": "96e50413-ac01-4dd0-ab67-11615e25d1ae",
   "metadata": {},
   "source": [
    "1) Create training dataset flights_train_data for model training:"
   ]
  },
  {
   "cell_type": "code",
   "execution_count": 2,
   "id": "ba90a0d6-2f71-4da6-a80b-a46ab244da60",
   "metadata": {
    "tags": []
   },
   "outputs": [
    {
     "data": {
      "application/vnd.jupyter.widget-view+json": {
       "model_id": "74ee494bc0324e6c98964e34f97505af",
       "version_major": 2,
       "version_minor": 0
      },
      "text/plain": [
       "Query is running:   0%|          |"
      ]
     },
     "metadata": {},
     "output_type": "display_data"
    },
    {
     "data": {
      "text/html": [
       "<div>\n",
       "<style scoped>\n",
       "    .dataframe tbody tr th:only-of-type {\n",
       "        vertical-align: middle;\n",
       "    }\n",
       "\n",
       "    .dataframe tbody tr th {\n",
       "        vertical-align: top;\n",
       "    }\n",
       "\n",
       "    .dataframe thead th {\n",
       "        text-align: right;\n",
       "    }\n",
       "</style>\n",
       "<table border=\"1\" class=\"dataframe\">\n",
       "  <thead>\n",
       "    <tr style=\"text-align: right;\">\n",
       "      <th></th>\n",
       "    </tr>\n",
       "  </thead>\n",
       "  <tbody>\n",
       "  </tbody>\n",
       "</table>\n",
       "</div>"
      ],
      "text/plain": [
       "Empty DataFrame\n",
       "Columns: []\n",
       "Index: []"
      ]
     },
     "execution_count": 2,
     "metadata": {},
     "output_type": "execute_result"
    }
   ],
   "source": [
    "%%bigquery\n",
    "CREATE OR REPLACE TABLE dsongcp.flights_train_data AS\n",
    "\n",
    "SELECT\n",
    "  IF(arr_delay < 15, 1.0, 0.0) AS ontime,\n",
    "  dep_delay,\n",
    "  taxi_out,\n",
    "  distance,\n",
    "  origin,\n",
    "  dest,\n",
    "  EXTRACT(hour FROM dep_time) AS dep_hour,\n",
    "  IF (EXTRACT(dayofweek FROM dep_time) BETWEEN 2 AND 6, 1, 0) AS is_weekday,\n",
    "  UNIQUE_CARRIER AS carrier,\n",
    "  dep_airport_lat,\n",
    "  dep_airport_lon,\n",
    "  arr_airport_lat,\n",
    "  arr_airport_lon\n",
    "FROM dsongcp.flights_tzcorr f\n",
    "JOIN dsongcp.trainday t\n",
    "ON f.FL_DATE = t.FL_DATE\n",
    "WHERE\n",
    "  f.CANCELLED = False AND\n",
    "  f.DIVERTED = False AND\n",
    "  is_train_day = 'True'"
   ]
  },
  {
   "cell_type": "markdown",
   "id": "4007efd8-fe52-4c8b-a3a8-b6d9d54d1fd4",
   "metadata": {},
   "source": [
    "2) Create the evaluation dataset flights_eval_data for model evaluation:\n"
   ]
  },
  {
   "cell_type": "code",
   "execution_count": 3,
   "id": "e064917b-e89a-4acb-bd38-668ffbb6b4a7",
   "metadata": {
    "tags": []
   },
   "outputs": [
    {
     "data": {
      "application/vnd.jupyter.widget-view+json": {
       "model_id": "c7d23c96e10f4aaea835e6980ef4e2da",
       "version_major": 2,
       "version_minor": 0
      },
      "text/plain": [
       "Query is running:   0%|          |"
      ]
     },
     "metadata": {},
     "output_type": "display_data"
    },
    {
     "data": {
      "text/html": [
       "<div>\n",
       "<style scoped>\n",
       "    .dataframe tbody tr th:only-of-type {\n",
       "        vertical-align: middle;\n",
       "    }\n",
       "\n",
       "    .dataframe tbody tr th {\n",
       "        vertical-align: top;\n",
       "    }\n",
       "\n",
       "    .dataframe thead th {\n",
       "        text-align: right;\n",
       "    }\n",
       "</style>\n",
       "<table border=\"1\" class=\"dataframe\">\n",
       "  <thead>\n",
       "    <tr style=\"text-align: right;\">\n",
       "      <th></th>\n",
       "    </tr>\n",
       "  </thead>\n",
       "  <tbody>\n",
       "  </tbody>\n",
       "</table>\n",
       "</div>"
      ],
      "text/plain": [
       "Empty DataFrame\n",
       "Columns: []\n",
       "Index: []"
      ]
     },
     "execution_count": 3,
     "metadata": {},
     "output_type": "execute_result"
    }
   ],
   "source": [
    "%%bigquery\n",
    "CREATE OR REPLACE TABLE dsongcp.flights_eval_data AS\n",
    "\n",
    "SELECT\n",
    "  IF(arr_delay < 15, 1.0, 0.0) AS ontime,\n",
    "  dep_delay,\n",
    "  taxi_out,\n",
    "  distance,\n",
    "  origin,\n",
    "  dest,\n",
    "  EXTRACT(hour FROM dep_time) AS dep_hour,\n",
    "  IF (EXTRACT(dayofweek FROM dep_time) BETWEEN 2 AND 6, 1, 0) AS is_weekday,\n",
    "  UNIQUE_CARRIER AS carrier,\n",
    "  dep_airport_lat,\n",
    "  dep_airport_lon,\n",
    "  arr_airport_lat,\n",
    "  arr_airport_lon\n",
    "FROM dsongcp.flights_tzcorr f\n",
    "JOIN dsongcp.trainday t\n",
    "ON f.FL_DATE = t.FL_DATE\n",
    "WHERE\n",
    "  f.CANCELLED = False AND\n",
    "  f.DIVERTED = False AND\n",
    "  is_train_day = 'False'"
   ]
  },
  {
   "cell_type": "markdown",
   "id": "0b930611-2e09-40d6-a90d-0072692a587f",
   "metadata": {},
   "source": [
    "3) Create the full dataset flights_all_data using the following code:\n"
   ]
  },
  {
   "cell_type": "code",
   "execution_count": 4,
   "id": "c451dc43-f00f-404b-9d48-fbc34f29376f",
   "metadata": {
    "tags": []
   },
   "outputs": [
    {
     "data": {
      "application/vnd.jupyter.widget-view+json": {
       "model_id": "123a4a85c576403290ffd24aecd36f45",
       "version_major": 2,
       "version_minor": 0
      },
      "text/plain": [
       "Query is running:   0%|          |"
      ]
     },
     "metadata": {},
     "output_type": "display_data"
    },
    {
     "data": {
      "text/html": [
       "<div>\n",
       "<style scoped>\n",
       "    .dataframe tbody tr th:only-of-type {\n",
       "        vertical-align: middle;\n",
       "    }\n",
       "\n",
       "    .dataframe tbody tr th {\n",
       "        vertical-align: top;\n",
       "    }\n",
       "\n",
       "    .dataframe thead th {\n",
       "        text-align: right;\n",
       "    }\n",
       "</style>\n",
       "<table border=\"1\" class=\"dataframe\">\n",
       "  <thead>\n",
       "    <tr style=\"text-align: right;\">\n",
       "      <th></th>\n",
       "    </tr>\n",
       "  </thead>\n",
       "  <tbody>\n",
       "  </tbody>\n",
       "</table>\n",
       "</div>"
      ],
      "text/plain": [
       "Empty DataFrame\n",
       "Columns: []\n",
       "Index: []"
      ]
     },
     "execution_count": 4,
     "metadata": {},
     "output_type": "execute_result"
    }
   ],
   "source": [
    "%%bigquery\n",
    "CREATE OR REPLACE TABLE dsongcp.flights_all_data AS\n",
    "\n",
    "SELECT\n",
    "  IF(arr_delay < 15, 1.0, 0.0) AS ontime,\n",
    "  dep_delay,\n",
    "  taxi_out,\n",
    "  distance,\n",
    "  origin,\n",
    "  dest,\n",
    "  EXTRACT(hour FROM dep_time) AS dep_hour,\n",
    "  IF (EXTRACT(dayofweek FROM dep_time) BETWEEN 2 AND 6, 1, 0) AS is_weekday,\n",
    "  UNIQUE_CARRIER AS carrier,\n",
    "  dep_airport_lat,\n",
    "  dep_airport_lon,\n",
    "  arr_airport_lat,\n",
    "  arr_airport_lon,\n",
    "  IF (is_train_day = 'True',\n",
    "      IF(ABS(MOD(FARM_FINGERPRINT(CAST(f.FL_DATE AS STRING)), 100)) < 60, 'TRAIN', 'VALIDATE'),\n",
    "      'TEST') AS data_split\n",
    "FROM dsongcp.flights_tzcorr f\n",
    "JOIN dsongcp.trainday t\n",
    "ON f.FL_DATE = t.FL_DATE\n",
    "WHERE\n",
    "  f.CANCELLED = False AND\n",
    "  f.DIVERTED = False"
   ]
  },
  {
   "cell_type": "markdown",
   "id": "3fe32ea0-b1c0-4dfe-9ac2-07765ffe10d9",
   "metadata": {},
   "source": [
    "4) Export the training, validation, and full datasets to CSV file format the Google Cloud Storage bucket:"
   ]
  },
  {
   "cell_type": "code",
   "execution_count": 5,
   "id": "899f4b6c-a4dc-4607-925d-5a14447cbabf",
   "metadata": {
    "tags": []
   },
   "outputs": [
    {
     "name": "stdout",
     "output_type": "stream",
     "text": [
      "Exporting dsongcp.flights_train_data to gs://qwiklabs-gcp-00-babc84dc62ce-dsongcp/ch9/data/train.csv and deleting table\n"
     ]
    },
    {
     "name": "stderr",
     "output_type": "stream",
     "text": [
      "Waiting on bqjob_r361bb16f24387890_0000018c1e759686_1 ... (48s) Current status: DONE   \n"
     ]
    },
    {
     "name": "stdout",
     "output_type": "stream",
     "text": [
      "Exporting dsongcp.flights_eval_data to gs://qwiklabs-gcp-00-babc84dc62ce-dsongcp/ch9/data/eval.csv and deleting table\n"
     ]
    },
    {
     "name": "stderr",
     "output_type": "stream",
     "text": [
      "Waiting on bqjob_r519b389f72898aa7_0000018c1e7666b3_1 ... (23s) Current status: DONE   \n"
     ]
    },
    {
     "name": "stdout",
     "output_type": "stream",
     "text": [
      "Exporting dsongcp.flights_all_data to gs://qwiklabs-gcp-00-babc84dc62ce-dsongcp/ch9/data/all.csv and deleting table\n"
     ]
    },
    {
     "name": "stderr",
     "output_type": "stream",
     "text": [
      "Waiting on bqjob_r837c029bd3ec4ee_0000018c1e76d39a_1 ... (71s) Current status: DONE   \n"
     ]
    }
   ],
   "source": [
    "%%bash\n",
    "PROJECT=$(gcloud config get-value project)\n",
    "for dataset in \"train\" \"eval\" \"all\"; do\n",
    "  TABLE=dsongcp.flights_${dataset}_data\n",
    "  CSV=gs://${BUCKET}/ch9/data/${dataset}.csv\n",
    "  echo \"Exporting ${TABLE} to ${CSV} and deleting table\"\n",
    "  bq --project_id=${PROJECT} extract --destination_format=CSV $TABLE $CSV\n",
    "  bq --project_id=${PROJECT} rm -f $TABLE\n",
    "done"
   ]
  },
  {
   "cell_type": "markdown",
   "id": "62cef287-d3ae-4707-8210-ce4f16fd2431",
   "metadata": {},
   "source": [
    "5) List exported objects to Google Cloud Storage bucket using the following code:"
   ]
  },
  {
   "cell_type": "code",
   "execution_count": 6,
   "id": "b02a014f-218a-47f2-b089-a4affbfc2244",
   "metadata": {
    "tags": []
   },
   "outputs": [
    {
     "name": "stdout",
     "output_type": "stream",
     "text": [
      "445.01 MiB  2023-11-30T04:23:38Z  gs://qwiklabs-gcp-00-babc84dc62ce-dsongcp/ch9/data/all.csv\n",
      "115.19 MiB  2023-11-30T04:22:28Z  gs://qwiklabs-gcp-00-babc84dc62ce-dsongcp/ch9/data/eval.csv\n",
      "296.96 MiB  2023-11-30T04:21:56Z  gs://qwiklabs-gcp-00-babc84dc62ce-dsongcp/ch9/data/train.csv\n",
      "TOTAL: 3 objects, 898801258 bytes (857.16 MiB)\n"
     ]
    }
   ],
   "source": [
    "!gsutil ls -lh gs://{BUCKET}/ch9/data"
   ]
  },
  {
   "cell_type": "markdown",
   "id": "7d4a36a9-aa85-4035-8ffd-2d6eb27e82bb",
   "metadata": {},
   "source": [
    "## Setup in notebook\n",
    "1) For development purposes, train for a few epochs. That's why the NUM_EXAMPLES is so low."
   ]
  },
  {
   "cell_type": "code",
   "execution_count": 7,
   "id": "0420575c-24cf-4ab0-a89c-f82958825891",
   "metadata": {
    "tags": []
   },
   "outputs": [],
   "source": [
    "DEVELOP_MODE = True\n",
    "NUM_EXAMPLES = 5000*1000"
   ]
  },
  {
   "cell_type": "markdown",
   "id": "cb63e677-5001-4e8b-8206-9d2fa924b7a2",
   "metadata": {},
   "source": [
    "2) Assign your training and validation data URI to training_data_uri and validation_data_uri respectively:"
   ]
  },
  {
   "cell_type": "code",
   "execution_count": 8,
   "id": "255e315d-ba72-4085-a42c-e8b084f80dba",
   "metadata": {
    "tags": []
   },
   "outputs": [],
   "source": [
    "training_data_uri = 'gs://{}/ch9/data/train*'.format(BUCKET)\n",
    "validation_data_uri = 'gs://{}/ch9/data/eval*'.format(BUCKET)"
   ]
  },
  {
   "cell_type": "markdown",
   "id": "6979b65d-474a-467e-91f3-d5d3a19f9904",
   "metadata": {},
   "source": [
    "3) Set up Model Parameters using the following code-block:\n"
   ]
  },
  {
   "cell_type": "code",
   "execution_count": 9,
   "id": "0c0537c2-df9d-41e1-8834-4aca34347c88",
   "metadata": {
    "tags": []
   },
   "outputs": [],
   "source": [
    "NBUCKETS = 5\n",
    "NEMBEDS = 3\n",
    "TRAIN_BATCH_SIZE = 64\n",
    "DNN_HIDDEN_UNITS = '64,32'"
   ]
  },
  {
   "cell_type": "markdown",
   "id": "f4c65e52-ca71-42b3-8eea-01ce38a43f3c",
   "metadata": {},
   "source": [
    "## Reading data into TensorFlow\n",
    "1) To read the CSV files from Google Cloud Storage into TensorFlow, use a method from the tf.data package:"
   ]
  },
  {
   "cell_type": "code",
   "execution_count": 10,
   "id": "60453b03-10f2-4a72-9024-62bcb49a9606",
   "metadata": {
    "tags": []
   },
   "outputs": [
    {
     "name": "stderr",
     "output_type": "stream",
     "text": [
      "2023-11-30 04:25:47.821397: W tensorflow/compiler/xla/stream_executor/platform/default/dso_loader.cc:64] Could not load dynamic library 'libcuda.so.1'; dlerror: libcuda.so.1: cannot open shared object file: No such file or directory; LD_LIBRARY_PATH: /usr/local/cuda/lib64:/usr/local/nccl2/lib:/usr/local/cuda/extras/CUPTI/lib64\n",
      "2023-11-30 04:25:47.821462: W tensorflow/compiler/xla/stream_executor/cuda/cuda_driver.cc:265] failed call to cuInit: UNKNOWN ERROR (303)\n",
      "2023-11-30 04:25:47.821492: I tensorflow/compiler/xla/stream_executor/cuda/cuda_diagnostics.cc:156] kernel driver does not appear to be running on this host (instance-20231130-091218): /proc/driver/nvidia/version does not exist\n",
      "2023-11-30 04:25:47.827520: I tensorflow/core/platform/cpu_feature_guard.cc:193] This TensorFlow binary is optimized with oneAPI Deep Neural Network Library (oneDNN) to use the following CPU instructions in performance-critical operations:  AVX2 FMA\n",
      "To enable them in other operations, rebuild TensorFlow with the appropriate compiler flags.\n"
     ]
    },
    {
     "name": "stdout",
     "output_type": "stream",
     "text": [
      "0 {'ontime': array([1, 1, 1, 1, 1], dtype=int32), 'dep_delay': array([ -6,  13,   5, -11,   4], dtype=int32), 'taxi_out': array([14, 11, 23, 11, 18], dtype=int32), 'distance': array([326, 287, 834, 859, 642], dtype=int32), 'origin': array([b'BUR', b'GEG', b'LAX', b'SNA', b'ORD'], dtype=object), 'dest': array([b'SFO', b'BOI', b'PDX', b'PDX', b'RIC'], dtype=object), 'dep_hour': array([13,  0,  3, 21, 23], dtype=int32), 'is_weekday': array([1, 0, 1, 1, 1], dtype=int32), 'carrier': array([b'OO', b'WN', b'DL', b'AS', b'UA'], dtype=object), 'dep_airport_lat': array([34.200554, 47.619167, 33.9425  , 33.675556, 41.977222],\n",
      "      dtype=float32), 'dep_airport_lon': array([-118.35861, -117.53528, -118.40806, -117.86833,  -87.90806],\n",
      "      dtype=float32), 'arr_airport_lat': array([37.61889 , 43.564445, 45.58861 , 45.58861 , 37.50528 ],\n",
      "      dtype=float32), 'arr_airport_lon': array([-122.375   , -116.22278 , -122.59695 , -122.59695 ,  -77.319725],\n",
      "      dtype=float32)}\n",
      "1 {'ontime': array([1, 1, 1, 1, 0], dtype=int32), 'dep_delay': array([33, -7, -1, -5, 37], dtype=int32), 'taxi_out': array([23, 13, 17, 10, 21], dtype=int32), 'distance': array([2565, 1175,  304,  129,  158], dtype=int32), 'origin': array([b'EWR', b'MSP', b'SFO', b'SEA', b'FAT'], dtype=object), 'dest': array([b'SFO', b'GEG', b'CEC', b'PDX', b'SFO'], dtype=object), 'dep_hour': array([ 0,  0, 19,  5, 16], dtype=int32), 'is_weekday': array([1, 1, 0, 1, 0], dtype=int32), 'carrier': array([b'UA', b'DL', b'OO', b'AS', b'OO'], dtype=object), 'dep_airport_lat': array([40.6925  , 44.881943, 37.61889 , 47.45    , 36.77667 ],\n",
      "      dtype=float32), 'dep_airport_lon': array([ -74.16861 ,  -93.221664, -122.375   , -122.31167 , -119.71889 ],\n",
      "      dtype=float32), 'arr_airport_lat': array([37.61889 , 47.619167, 41.780277, 45.58861 , 37.61889 ],\n",
      "      dtype=float32), 'arr_airport_lon': array([-122.375   , -117.53528 , -124.236664, -122.59695 , -122.375   ],\n",
      "      dtype=float32)}\n"
     ]
    }
   ],
   "source": [
    "if DEVELOP_MODE:\n",
    "    train_df = tf.data.experimental.make_csv_dataset(training_data_uri, batch_size=5)\n",
    "    for n, data in enumerate(train_df):\n",
    "        numpy_data = {k: v.numpy() for k, v in data.items()}\n",
    "        print(n, numpy_data)\n",
    "        if n==1: break"
   ]
  },
  {
   "cell_type": "markdown",
   "id": "6abf9b34-aa92-4d0b-a62f-64b14ab31f76",
   "metadata": {},
   "source": [
    "Write features_and_labels() and read_dataset() functions. The read_dataset() function reads the training data, yielding batch_size examples each time, and allows you to stop iterating once a certain number of examples have been read.\n",
    "\n",
    "The dataset contains all the columns in the CSV file, named according to the header line. The data consists of both features and the label. It’s better to separate them by writing the features_and_labels() function to make the later code easier to read. Hence, we’ll apply a pop() function to the dictionary and return a tuple of features and labels).\n",
    "\n",
    "2) Enter and run the following code:"
   ]
  },
  {
   "cell_type": "code",
   "execution_count": 11,
   "id": "280eaadb-3d81-4605-b88a-d8225e915755",
   "metadata": {
    "tags": []
   },
   "outputs": [
    {
     "name": "stdout",
     "output_type": "stream",
     "text": [
      "Checking input pipeline\n",
      "[(OrderedDict([('dep_delay', <tf.Tensor: shape=(2,), dtype=int32, numpy=array([1, 0], dtype=int32)>), ('taxi_out', <tf.Tensor: shape=(2,), dtype=int32, numpy=array([17, 17], dtype=int32)>), ('distance', <tf.Tensor: shape=(2,), dtype=int32, numpy=array([772, 294], dtype=int32)>), ('origin', <tf.Tensor: shape=(2,), dtype=string, numpy=array([b'DFW', b'MIA'], dtype=object)>), ('dest', <tf.Tensor: shape=(2,), dtype=string, numpy=array([b'TYS', b'GNV'], dtype=object)>), ('dep_hour', <tf.Tensor: shape=(2,), dtype=int32, numpy=array([1, 1], dtype=int32)>), ('is_weekday', <tf.Tensor: shape=(2,), dtype=int32, numpy=array([0, 1], dtype=int32)>), ('carrier', <tf.Tensor: shape=(2,), dtype=string, numpy=array([b'EV', b'MQ'], dtype=object)>), ('dep_airport_lat', <tf.Tensor: shape=(2,), dtype=float32, numpy=array([32.89722 , 25.795279], dtype=float32)>), ('dep_airport_lon', <tf.Tensor: shape=(2,), dtype=float32, numpy=array([-97.03778, -80.29   ], dtype=float32)>), ('arr_airport_lat', <tf.Tensor: shape=(2,), dtype=float32, numpy=array([35.810833, 29.69    ], dtype=float32)>), ('arr_airport_lon', <tf.Tensor: shape=(2,), dtype=float32, numpy=array([-83.99416, -82.27167], dtype=float32)>)]), <tf.Tensor: shape=(2,), dtype=int32, numpy=array([1, 1], dtype=int32)>)]\n"
     ]
    }
   ],
   "source": [
    "def features_and_labels(features):\n",
    "  label = features.pop('ontime')\n",
    "  return features, label\n",
    "\n",
    "def read_dataset(pattern, batch_size, mode=tf.estimator.ModeKeys.TRAIN, truncate=None):\n",
    "  dataset = tf.data.experimental.make_csv_dataset(pattern, batch_size, num_epochs=1)\n",
    "  dataset = dataset.map(features_and_labels)\n",
    "  if mode == tf.estimator.ModeKeys.TRAIN:\n",
    "    dataset = dataset.shuffle(batch_size*10)\n",
    "    dataset = dataset.repeat()\n",
    "  dataset = dataset.prefetch(1)\n",
    "  if truncate is not None:\n",
    "    dataset = dataset.take(truncate)\n",
    "  return dataset\n",
    "\n",
    "\n",
    "if DEVELOP_MODE:\n",
    "    print(\"Checking input pipeline\")\n",
    "    one_item = read_dataset(training_data_uri, batch_size=2, truncate=1)\n",
    "    print(list(one_item)) # should print one batch of 2 items"
   ]
  },
  {
   "cell_type": "markdown",
   "id": "a0f95f69-2a58-4811-ac87-eb3011ff1327",
   "metadata": {},
   "source": [
    "## Create, train and evaluate TensorFlow model\n",
    "Typically you create one feature for every column in our tabular data. Keras supports feature columns, opening up the ability to represent structured data using standard feature engineering techniques like embedding, bucketizing, and feature crosses. As numeric data can be passed in directly to the ML model, keep the real-valued columns separate from the sparse (or string) columns:"
   ]
  },
  {
   "cell_type": "markdown",
   "id": "919d7fc6-4bbd-470b-a799-a9a10e3cfd07",
   "metadata": {},
   "source": [
    "1) Enter and run the following code:\n"
   ]
  },
  {
   "cell_type": "code",
   "execution_count": 12,
   "id": "a6cb6268-c9ca-4c40-8deb-cd5fe2391ba0",
   "metadata": {
    "tags": []
   },
   "outputs": [],
   "source": [
    "import tensorflow as tf\n",
    "\n",
    "real = {\n",
    "    colname : tf.feature_column.numeric_column(colname)\n",
    "          for colname in\n",
    "            (\n",
    "                'dep_delay,taxi_out,distance,dep_hour,is_weekday,' +\n",
    "                'dep_airport_lat,dep_airport_lon,' +\n",
    "                'arr_airport_lat,arr_airport_lon'\n",
    "            ).split(',')\n",
    "}\n",
    "sparse = {\n",
    "      'carrier': tf.feature_column.categorical_column_with_vocabulary_list('carrier',\n",
    "                  vocabulary_list='AS,VX,F9,UA,US,WN,HA,EV,MQ,DL,OO,B6,NK,AA'.split(',')),\n",
    "      'origin' : tf.feature_column.categorical_column_with_hash_bucket('origin', hash_bucket_size=1000),\n",
    "      'dest'   : tf.feature_column.categorical_column_with_hash_bucket('dest', hash_bucket_size=1000),\n",
    "}"
   ]
  },
  {
   "cell_type": "markdown",
   "id": "9981d652-344b-4a58-b292-8b948cebc36f",
   "metadata": {},
   "source": [
    "All these features come directly from the input file (and are provided by any client that wants a prediction for a flight). Input layers map 1:1 to the input features and their types, so rather than repeat the column names, you create an input layer for each of these columns, specifying the right data type (either a float or a string).\n",
    "\n",
    "2) Enter and run the following code:\n"
   ]
  },
  {
   "cell_type": "code",
   "execution_count": 13,
   "id": "1345a52c-3342-4510-8d05-df8e5f2d5b18",
   "metadata": {
    "tags": []
   },
   "outputs": [],
   "source": [
    "inputs = {\n",
    "    colname : tf.keras.layers.Input(name=colname, shape=(), dtype='float32')\n",
    "          for colname in real.keys()\n",
    "}\n",
    "inputs.update({\n",
    "    colname : tf.keras.layers.Input(name=colname, shape=(), dtype='string')\n",
    "          for colname in sparse.keys()\n",
    "})"
   ]
  },
  {
   "cell_type": "markdown",
   "id": "c1ac3f43-9320-456b-96c8-6988099a6bcb",
   "metadata": {},
   "source": [
    "### Bucketing\n",
    "Real-valued columns whose precision is overkill (thus, likely to cause overfitting) can be discretized and made into categorical columns. For example, if you have a column for the age of the aircraft, you might discretize into just three bins—less than 5 years old, 5 to 20 years old, and more than 20 years old. Use the discretization shortcut: you can discretize the latitudes and longitudes and cross the buckets—this results in breaking up the country into grids and yield the grid point into which a specific latitude and longitude falls.\n",
    "\n",
    "- Enter and run the following code:"
   ]
  },
  {
   "cell_type": "code",
   "execution_count": 14,
   "id": "750cb534-3efc-4128-92f5-264ed7efffe1",
   "metadata": {
    "tags": []
   },
   "outputs": [
    {
     "name": "stdout",
     "output_type": "stream",
     "text": [
      "dict_keys(['carrier', 'origin', 'dest', 'dep_loc', 'arr_loc', 'dep_arr'])\n",
      "dict_keys(['dep_delay', 'taxi_out', 'distance', 'dep_hour', 'is_weekday', 'dep_airport_lat', 'dep_airport_lon', 'arr_airport_lat', 'arr_airport_lon', 'embed_carrier', 'embed_origin', 'embed_dest', 'embed_dep_loc', 'embed_arr_loc', 'embed_dep_arr'])\n"
     ]
    }
   ],
   "source": [
    "latbuckets = np.linspace(20.0, 50.0, NBUCKETS).tolist()  # USA\n",
    "lonbuckets = np.linspace(-120.0, -70.0, NBUCKETS).tolist() # USA\n",
    "disc = {}\n",
    "disc.update({\n",
    "       'd_{}'.format(key) : tf.feature_column.bucketized_column(real[key], latbuckets)\n",
    "          for key in ['dep_airport_lat', 'arr_airport_lat']\n",
    "})\n",
    "disc.update({\n",
    "       'd_{}'.format(key) : tf.feature_column.bucketized_column(real[key], lonbuckets)\n",
    "          for key in ['dep_airport_lon', 'arr_airport_lon']\n",
    "})\n",
    "\n",
    "# cross columns that make sense in combination\n",
    "sparse['dep_loc'] = tf.feature_column.crossed_column(\n",
    "    [disc['d_dep_airport_lat'], disc['d_dep_airport_lon']], NBUCKETS*NBUCKETS)\n",
    "sparse['arr_loc'] = tf.feature_column.crossed_column(\n",
    "    [disc['d_arr_airport_lat'], disc['d_arr_airport_lon']], NBUCKETS*NBUCKETS)\n",
    "sparse['dep_arr'] = tf.feature_column.crossed_column([sparse['dep_loc'], sparse['arr_loc']], NBUCKETS ** 4)\n",
    "\n",
    "# embed all the sparse columns\n",
    "embed = {\n",
    "       'embed_{}'.format(colname) : tf.feature_column.embedding_column(col, NEMBEDS)\n",
    "          for colname, col in sparse.items()\n",
    "}\n",
    "real.update(embed)\n",
    "\n",
    "# one-hot encode the sparse columns\n",
    "sparse = {\n",
    "    colname : tf.feature_column.indicator_column(col)\n",
    "          for colname, col in sparse.items()\n",
    "}\n",
    "\n",
    "if DEVELOP_MODE:\n",
    "    print(sparse.keys())\n",
    "    print(real.keys())"
   ]
  },
  {
   "cell_type": "markdown",
   "id": "89d53a13-e842-45f7-9cc5-9b7a68212d87",
   "metadata": {},
   "source": [
    "## Train and evaluate the model\n",
    "1) Save the checkpoint:\n"
   ]
  },
  {
   "cell_type": "code",
   "execution_count": 15,
   "id": "41b02e5c-dc1a-431a-88be-7f6b72100c0c",
   "metadata": {
    "tags": []
   },
   "outputs": [
    {
     "name": "stdout",
     "output_type": "stream",
     "text": [
      "Writing trained model to gs://qwiklabs-gcp-00-babc84dc62ce-dsongcp/ch9/trained_model\n"
     ]
    }
   ],
   "source": [
    "output_dir='gs://{}/ch9/trained_model'.format(BUCKET)\n",
    "os.environ['OUTDIR'] = output_dir  # needed for deployment\n",
    "print('Writing trained model to {}'.format(output_dir))"
   ]
  },
  {
   "cell_type": "markdown",
   "id": "e94d9a09-bf33-484e-a34f-35b6012db723",
   "metadata": {},
   "source": [
    "2) Delete the model checkpoints already present in the storage bucket:\n"
   ]
  },
  {
   "cell_type": "code",
   "execution_count": 16,
   "id": "3fde021c-b464-4613-8639-55c78549eddf",
   "metadata": {
    "tags": []
   },
   "outputs": [
    {
     "name": "stdout",
     "output_type": "stream",
     "text": [
      "CommandException: 1 files/objects could not be removed.\n"
     ]
    }
   ],
   "source": [
    "!gsutil -m rm -rf $OUTDIR"
   ]
  },
  {
   "cell_type": "markdown",
   "id": "9d2e4194-bc31-4852-98ab-f35a266cd16c",
   "metadata": {},
   "source": [
    "3) With the sparse and real feature columns thus enhanced beyond the raw inputs, you can create a wide_and_deep_classifier passing in the linear and deep feature columns separately:"
   ]
  },
  {
   "cell_type": "code",
   "execution_count": 17,
   "id": "86ee65e0-7f2e-4324-8806-eb00753066ad",
   "metadata": {
    "tags": []
   },
   "outputs": [
    {
     "data": {
      "image/png": "[encoded data removed]",
      "text/plain": [
       "<IPython.core.display.Image object>"
      ]
     },
     "execution_count": 17,
     "metadata": {},
     "output_type": "execute_result"
    }
   ],
   "source": [
    "# Build a wide-and-deep model.\n",
    "def wide_and_deep_classifier(inputs, linear_feature_columns, dnn_feature_columns, dnn_hidden_units):\n",
    "    deep = tf.keras.layers.DenseFeatures(dnn_feature_columns, name='deep_inputs')(inputs)\n",
    "    layers = [int(x) for x in dnn_hidden_units.split(',')]\n",
    "    for layerno, numnodes in enumerate(layers):\n",
    "        deep = tf.keras.layers.Dense(numnodes, activation='relu', name='dnn_{}'.format(layerno+1))(deep)        \n",
    "    wide = tf.keras.layers.DenseFeatures(linear_feature_columns, name='wide_inputs')(inputs)\n",
    "    both = tf.keras.layers.concatenate([deep, wide], name='both')\n",
    "    output = tf.keras.layers.Dense(1, activation='sigmoid', name='pred')(both)\n",
    "    model = tf.keras.Model(inputs, output)\n",
    "    model.compile(optimizer='adam',\n",
    "                  loss='binary_crossentropy',\n",
    "                  metrics=['accuracy'])\n",
    "    return model\n",
    "\n",
    "model = wide_and_deep_classifier(\n",
    "    inputs,\n",
    "    linear_feature_columns = sparse.values(),\n",
    "    dnn_feature_columns = real.values(),\n",
    "    dnn_hidden_units = DNN_HIDDEN_UNITS)\n",
    "tf.keras.utils.plot_model(model, 'flights_model.png', show_shapes=False, rankdir='LR')"
   ]
  },
  {
   "cell_type": "markdown",
   "id": "e3c19d88-3262-4745-aa22-2b199314c45e",
   "metadata": {},
   "source": [
    "Use train_dataset for model training and eval_dataset for model evaluation.\n",
    "\n",
    "4) Create the model using the following code-blocks:\n"
   ]
  },
  {
   "cell_type": "code",
   "execution_count": 18,
   "id": "1b34de8a-78ad-4d80-aad8-a9524168c247",
   "metadata": {
    "tags": []
   },
   "outputs": [
    {
     "name": "stdout",
     "output_type": "stream",
     "text": [
      "Epoch 1/2\n",
      "1/3 [=========>....................] - ETA: 10s - loss: 11.3265 - accuracy: 0.2188\n",
      "Epoch 1: saving model to gs://qwiklabs-gcp-00-babc84dc62ce-dsongcp/ch9/trained_model/checkpoints/flights.cpt\n",
      "3/3 [==============================] - 19s 7s/step - loss: 9.1857 - accuracy: 0.1875 - val_loss: 3.7090 - val_accuracy: 0.1813\n",
      "Epoch 2/2\n",
      "1/3 [=========>....................] - ETA: 0s - loss: 4.6570 - accuracy: 0.1875\n",
      "Epoch 2: saving model to gs://qwiklabs-gcp-00-babc84dc62ce-dsongcp/ch9/trained_model/checkpoints/flights.cpt\n",
      "3/3 [==============================] - 7s 4s/step - loss: 2.0350 - accuracy: 0.4062 - val_loss: 1.2306 - val_accuracy: 0.8182\n"
     ]
    }
   ],
   "source": [
    "# training and evaluation dataset\n",
    "train_batch_size = TRAIN_BATCH_SIZE\n",
    "if DEVELOP_MODE:\n",
    "    eval_batch_size = 100\n",
    "    steps_per_epoch = 3\n",
    "    epochs = 2\n",
    "    num_eval_examples = eval_batch_size*10\n",
    "else:\n",
    "    eval_batch_size = 100\n",
    "    steps_per_epoch = NUM_EXAMPLES // train_batch_size\n",
    "    epochs = 10\n",
    "    num_eval_examples = eval_batch_size * 100\n",
    "train_dataset = read_dataset(training_data_uri, train_batch_size)\n",
    "eval_dataset = read_dataset(validation_data_uri, eval_batch_size, tf.estimator.ModeKeys.EVAL, num_eval_examples)\n",
    "\n",
    "checkpoint_path = '{}/checkpoints/flights.cpt'.format(output_dir)\n",
    "shutil.rmtree(checkpoint_path, ignore_errors=True)\n",
    "cp_callback = tf.keras.callbacks.ModelCheckpoint(checkpoint_path,\n",
    "                                                 save_weights_only=True,\n",
    "                                                 verbose=1)\n",
    "\n",
    "history = model.fit(train_dataset,\n",
    "                    validation_data=eval_dataset,\n",
    "                    epochs=epochs,\n",
    "                    steps_per_epoch=steps_per_epoch,\n",
    "                    callbacks=[cp_callback])"
   ]
  },
  {
   "cell_type": "markdown",
   "id": "2c1688a0-05de-4b45-afc7-2ae7d33366a8",
   "metadata": {},
   "source": [
    "5) Visualize the model loss and model accuracy using matplotlib.pyplot:\n"
   ]
  },
  {
   "cell_type": "code",
   "execution_count": 19,
   "id": "8085eb28-9717-4e98-ba25-38215ccb76f6",
   "metadata": {
    "tags": []
   },
   "outputs": [
    {
     "data": {
      "image/png": "[encoded data removed]",
      "text/plain": [
       "<Figure size 1000x500 with 2 Axes>"
      ]
     },
     "metadata": {},
     "output_type": "display_data"
    }
   ],
   "source": [
    "import matplotlib.pyplot as plt\n",
    "nrows = 1\n",
    "ncols = 2\n",
    "fig = plt.figure(figsize=(10, 5))\n",
    "\n",
    "for idx, key in enumerate(['loss', 'accuracy']):\n",
    "    ax = fig.add_subplot(nrows, ncols, idx+1)\n",
    "    plt.plot(history.history[key])\n",
    "    plt.plot(history.history['val_{}'.format(key)])\n",
    "    plt.title('model {}'.format(key))\n",
    "    plt.ylabel(key)\n",
    "    plt.xlabel('epoch')\n",
    "    plt.legend(['train', 'validation'], loc='upper left');"
   ]
  },
  {
   "cell_type": "markdown",
   "id": "4944ce72-47f0-44c7-8ebe-b517a0a9f416",
   "metadata": {},
   "source": [
    "### Export the trained model\n",
    "- Save the model artifacts to the Google Cloud Storage bucket:"
   ]
  },
  {
   "cell_type": "code",
   "execution_count": 20,
   "id": "737e031f-0b1d-4c99-ba2e-922669afe624",
   "metadata": {
    "tags": []
   },
   "outputs": [
    {
     "name": "stdout",
     "output_type": "stream",
     "text": [
      "Exporting to gs://qwiklabs-gcp-00-babc84dc62ce-dsongcp/ch9/trained_model/export/flights_20231130-043222\n"
     ]
    },
    {
     "name": "stderr",
     "output_type": "stream",
     "text": [
      "WARNING:absl:Found untraced functions such as _update_step_xla while saving (showing 1 of 1). These functions will not be directly callable after loading.\n"
     ]
    },
    {
     "name": "stdout",
     "output_type": "stream",
     "text": [
      "INFO:tensorflow:Assets written to: gs://qwiklabs-gcp-00-babc84dc62ce-dsongcp/ch9/trained_model/export/flights_20231130-043222/assets\n"
     ]
    },
    {
     "name": "stderr",
     "output_type": "stream",
     "text": [
      "INFO:tensorflow:Assets written to: gs://qwiklabs-gcp-00-babc84dc62ce-dsongcp/ch9/trained_model/export/flights_20231130-043222/assets\n"
     ]
    }
   ],
   "source": [
    "import time\n",
    "export_dir = '{}/export/flights_{}'.format(output_dir, time.strftime(\"%Y%m%d-%H%M%S\"))\n",
    "print('Exporting to {}'.format(export_dir))\n",
    "tf.saved_model.save(model, export_dir)"
   ]
  },
  {
   "cell_type": "markdown",
   "id": "8b9ed3e9-3009-4d95-8117-5e0790087f08",
   "metadata": {},
   "source": [
    "## Deploy flights model to Vertex AI\n",
    "Vertex AI provides a fully managed, autoscaling, serverless environment for Machine Learning models. You get the benefits of paying for any compute resources (such as CPUs or GPUs) only when you are using them. Because the models are containerized, dependency management is taken care of. The Endpoints take care of traffic splits, allowing you to do A/B testing in a convenient way.\n",
    "\n",
    "The benefits go beyond not having to manage infrastructure. Once you deploy the model to Vertex AI, you get a lot of neat capabilities without any additional code — explainability, drift detection, monitoring, etc.\n",
    "\n",
    "1) Create the model endpoint flights using the following code cell and delete any existing models with the same name:\n"
   ]
  },
  {
   "cell_type": "code",
   "execution_count": 21,
   "id": "047b6d51-2ce2-4a31-9735-32377463659d",
   "metadata": {
    "tags": []
   },
   "outputs": [
    {
     "name": "stdout",
     "output_type": "stream",
     "text": [
      "gs://qwiklabs-gcp-00-babc84dc62ce-dsongcp/ch9/trained_model/export/flights_20231130-043222/\n"
     ]
    },
    {
     "name": "stderr",
     "output_type": "stream",
     "text": [
      "Using endpoint [https://us-west1-aiplatform.googleapis.com/]\n",
      "WARNING: The following filter keys were not present in any resource : display_name\n"
     ]
    },
    {
     "name": "stdout",
     "output_type": "stream",
     "text": [
      "Creating Endpoint for flights-20231130-043404\n"
     ]
    },
    {
     "name": "stderr",
     "output_type": "stream",
     "text": [
      "Using endpoint [https://us-west1-aiplatform.googleapis.com/]\n",
      "Waiting for operation [2110065068283527168]...\n",
      "..............................................................................................................................................................................................................................................................................................................................................................................................................................................................................................................................................................................................................................................................................................................................................................................................................................................................................................................................................................................................................................................................................done.\n",
      "Created Vertex AI endpoint: projects/63784504791/locations/us-west1/endpoints/7310001902198980608.\n",
      "Using endpoint [https://us-west1-aiplatform.googleapis.com/]\n"
     ]
    },
    {
     "name": "stdout",
     "output_type": "stream",
     "text": [
      "ENDPOINT_ID=7310001902198980608\n"
     ]
    },
    {
     "name": "stderr",
     "output_type": "stream",
     "text": [
      "Using endpoint [https://us-west1-aiplatform.googleapis.com/]\n",
      "WARNING: The following filter keys were not present in any resource : display_name\n",
      "Using endpoint [https://us-west1-aiplatform.googleapis.com/]\n",
      "Waiting for operation [6242117726395957248]...\n",
      ".............................................................done.\n",
      "Using endpoint [https://us-west1-aiplatform.googleapis.com/]\n"
     ]
    },
    {
     "name": "stdout",
     "output_type": "stream",
     "text": [
      "MODEL_ID=8437045301134491648\n"
     ]
    },
    {
     "name": "stderr",
     "output_type": "stream",
     "text": [
      "Using endpoint [https://us-west1-aiplatform.googleapis.com/]\n",
      "Waiting for operation [3936274717182263296]...\n",
      ".........................................................................................................................................................................................................................................................................................................................................................................................................................................................................................................................................................................................................................................................................................................................................................................................................................................................................................................................................................................................................................................................................................................................................................................................................................................................................................................................................................................................................................................................................................................................................................................................................................................................................................................................................................................................................................................................................................................................................................................................................................................................................................................................................................................................................................................................................................................................................................................................................................................................................................................................................................................................................................................................................................................................................................................................................................................................................................................................................................................................................................................................................................................................................................................................................................................................................................................................................................................................................................................................................................................................................................................................................................................................................................................................................................................................................................................................done.\n",
      "Deployed a model to the endpoint 7310001902198980608. Id of the deployed model: 2660351946287742976.\n"
     ]
    }
   ],
   "source": [
    "%%bash\n",
    "# note TF_VERSION and ENDPOINT_NAME set in 1st cell\n",
    "# TF_VERSION=2-6\n",
    "# ENDPOINT_NAME=flights\n",
    "\n",
    "TIMESTAMP=$(date +%Y%m%d-%H%M%S)\n",
    "MODEL_NAME=${ENDPOINT_NAME}-${TIMESTAMP}\n",
    "EXPORT_PATH=$(gsutil ls ${OUTDIR}/export | tail -1)\n",
    "echo $EXPORT_PATH\n",
    "\n",
    "# create the model endpoint for deploying the model\n",
    "if [[ $(gcloud beta ai endpoints list --region=$REGION \\\n",
    "        --format='value(DISPLAY_NAME)' --filter=display_name=${ENDPOINT_NAME}) ]]; then\n",
    "    echo \"Endpoint for $MODEL_NAME already exists\"\n",
    "else\n",
    "    echo \"Creating Endpoint for $MODEL_NAME\"\n",
    "    gcloud beta ai endpoints create --region=${REGION} --display-name=${ENDPOINT_NAME}\n",
    "fi\n",
    "\n",
    "ENDPOINT_ID=$(gcloud beta ai endpoints list --region=$REGION \\\n",
    "              --format='value(ENDPOINT_ID)' --filter=display_name=${ENDPOINT_NAME})\n",
    "echo \"ENDPOINT_ID=$ENDPOINT_ID\"\n",
    "\n",
    "\n",
    "# delete any existing models with this name\n",
    "for MODEL_ID in $(gcloud beta ai models list --region=$REGION --format='value(MODEL_ID)' --filter=display_name=${MODEL_NAME}); do\n",
    "    echo \"Deleting existing $MODEL_NAME ... $MODEL_ID \"\n",
    "    gcloud ai models delete --region=$REGION $MODEL_ID\n",
    "done\n",
    "\n",
    "\n",
    "# create the model using the parameters docker conatiner image and artifact uri\n",
    "gcloud beta ai models upload --region=$REGION --display-name=$MODEL_NAME \\\n",
    "     --container-image-uri=us-docker.pkg.dev/vertex-ai/prediction/tf2-cpu.${TF_VERSION}:latest \\\n",
    "     --artifact-uri=$EXPORT_PATH\n",
    "MODEL_ID=$(gcloud beta ai models list --region=$REGION --format='value(MODEL_ID)' --filter=display_name=${MODEL_NAME})\n",
    "echo \"MODEL_ID=$MODEL_ID\"\n",
    "\n",
    "\n",
    "# deploy the model to the endpoint\n",
    "gcloud beta ai endpoints deploy-model $ENDPOINT_ID \\\n",
    "  --region=$REGION \\\n",
    "  --model=$MODEL_ID \\\n",
    "  --display-name=$MODEL_NAME \\\n",
    "  --machine-type=e2-standard-2 \\\n",
    "  --min-replica-count=1 \\\n",
    "  --max-replica-count=1 \\\n",
    "  --traffic-split=0=100"
   ]
  },
  {
   "cell_type": "markdown",
   "id": "afca9e96-4cb4-4f8f-92c5-42636728fa7f",
   "metadata": {},
   "source": [
    "2) Create a test input file example_input.json using the following code:\n"
   ]
  },
  {
   "cell_type": "code",
   "execution_count": 22,
   "id": "0b8f61bf-1432-44d8-b998-b658bf94c80d",
   "metadata": {
    "tags": []
   },
   "outputs": [
    {
     "name": "stdout",
     "output_type": "stream",
     "text": [
      "Writing example_input.json\n"
     ]
    }
   ],
   "source": [
    "%%writefile example_input.json\n",
    "{\"instances\": [\n",
    "  {\"dep_hour\": 2, \"is_weekday\": 1, \"dep_delay\": 40, \"taxi_out\": 17, \"distance\": 41, \"carrier\": \"AS\", \"dep_airport_lat\": 58.42527778, \"dep_airport_lon\": -135.7075, \"arr_airport_lat\": 58.35472222, \"arr_airport_lon\": -134.57472222, \"origin\": \"GST\", \"dest\": \"JNU\"},\n",
    "  {\"dep_hour\": 22, \"is_weekday\": 0, \"dep_delay\": -7, \"taxi_out\": 7, \"distance\": 201, \"carrier\": \"HA\", \"dep_airport_lat\": 21.97611111, \"dep_airport_lon\": -159.33888889, \"arr_airport_lat\": 20.89861111, \"arr_airport_lon\": -156.43055556, \"origin\": \"LIH\", \"dest\": \"OGG\"}\n",
    "]}"
   ]
  },
  {
   "cell_type": "markdown",
   "id": "611be064-fba5-49ce-b4d8-4b36817793b9",
   "metadata": {},
   "source": [
    "3) Make a prediction from the model endpoint. Here you have input data in a JSON file called example_input.json:\n"
   ]
  },
  {
   "cell_type": "code",
   "execution_count": 23,
   "id": "c284f835-c995-4f61-88cb-2eb99ea63b09",
   "metadata": {
    "tags": []
   },
   "outputs": [
    {
     "name": "stderr",
     "output_type": "stream",
     "text": [
      "Using endpoint [https://us-west1-aiplatform.googleapis.com/]\n"
     ]
    },
    {
     "name": "stdout",
     "output_type": "stream",
     "text": [
      "7310001902198980608\n"
     ]
    },
    {
     "name": "stderr",
     "output_type": "stream",
     "text": [
      "Using endpoint [https://us-west1-prediction-aiplatform.googleapis.com/]\n"
     ]
    },
    {
     "name": "stdout",
     "output_type": "stream",
     "text": [
      "[[0.901144505], [0.568238258]]\n"
     ]
    }
   ],
   "source": [
    "%%bash\n",
    "ENDPOINT_ID=$(gcloud beta ai endpoints list --region=$REGION \\\n",
    "              --format='value(ENDPOINT_ID)' --filter=display_name=${ENDPOINT_NAME})\n",
    "echo $ENDPOINT_ID\n",
    "gcloud beta ai endpoints predict $ENDPOINT_ID --region=$REGION --json-request=example_input.json"
   ]
  },
  {
   "cell_type": "markdown",
   "id": "90b79d4b-e0f5-4266-8066-acfc0c90b2c5",
   "metadata": {},
   "source": [
    "### Invoke the deployed model\n",
    "Assume that they have the input data in a JSON file called example_input.json.\n",
    "\n",
    "4) Now, send an HTTP POST request and you will get the result back as JSON:\n"
   ]
  },
  {
   "cell_type": "code",
   "execution_count": 24,
   "id": "c6a199f2-b070-4789-8f26-560557eff972",
   "metadata": {
    "tags": []
   },
   "outputs": [
    {
     "name": "stderr",
     "output_type": "stream",
     "text": [
      "Using endpoint [https://us-west1-aiplatform.googleapis.com/]\n",
      "  % Total    % Received % Xferd  Average Speed   Time    Time     Time  Current\n",
      "                                 Dload  Upload   Total   Spent    Left  Speed\n",
      "100   830    0   287  100   543   5125   9696 --:--:-- --:--:-- --:--:-- 14821\n"
     ]
    },
    {
     "name": "stdout",
     "output_type": "stream",
     "text": [
      "{\n",
      "  \"predictions\": [\n",
      "    [\n",
      "      0.901144505\n",
      "    ],\n",
      "    [\n",
      "      0.568238258\n",
      "    ]\n",
      "  ],\n",
      "  \"deployedModelId\": \"2660351946287742976\",\n",
      "  \"model\": \"projects/63784504791/locations/us-west1/models/8437045301134491648\",\n",
      "  \"modelDisplayName\": \"flights-20231130-043404\",\n",
      "  \"modelVersionId\": \"1\"\n",
      "}\n"
     ]
    }
   ],
   "source": [
    "%%bash\n",
    "PROJECT=$(gcloud config get-value project)\n",
    "ENDPOINT_ID=$(gcloud beta ai endpoints list --region=$REGION \\\n",
    "              --format='value(ENDPOINT_ID)' --filter=display_name=${ENDPOINT_NAME})\n",
    "\n",
    "curl -X POST \\\n",
    "  -H \"Authorization: Bearer \"$(gcloud auth application-default print-access-token) \\\n",
    "  -H \"Content-Type: application/json; charset=utf-8\" \\\n",
    "  -d @example_input.json \\\n",
    "  \"https://${REGION}-aiplatform.googleapis.com/v1/projects/${PROJECT}/locations/${REGION}/endpoints/${ENDPOINT_ID}:predict\""
   ]
  },
  {
   "cell_type": "markdown",
   "id": "f501c3b8-4d50-4e9b-888b-a6c0c5327647",
   "metadata": {},
   "source": [
    "## Model explainability\n",
    "Model explainability is one of the most important problems in machine learning. It's a broad concept of analyzing and understanding the results provided by machine learning models. Explainability in machine learning means you can explain what happens in your model from input to output. It makes models transparent and solves the black box problem. Explainable AI (XAI) is the more formal way to describe this.\n",
    "\n",
    "1) Run the following code:"
   ]
  },
  {
   "cell_type": "code",
   "execution_count": 25,
   "id": "20f1bf07-71f7-4e0b-9d89-8c0bd8f603b5",
   "metadata": {
    "tags": []
   },
   "outputs": [
    {
     "name": "stdout",
     "output_type": "stream",
     "text": [
      "gs://qwiklabs-gcp-00-babc84dc62ce-dsongcp/ch9/trained_model/export/flights_20231130-043222/\n"
     ]
    },
    {
     "name": "stderr",
     "output_type": "stream",
     "text": [
      "2023-11-30 04:50:20.408274: I tensorflow/core/platform/cpu_feature_guard.cc:193] This TensorFlow binary is optimized with oneAPI Deep Neural Network Library (oneDNN) to use the following CPU instructions in performance-critical operations:  AVX2 FMA\n",
      "To enable them in other operations, rebuild TensorFlow with the appropriate compiler flags.\n",
      "2023-11-30 04:50:21.728142: W tensorflow/compiler/xla/stream_executor/platform/default/dso_loader.cc:64] Could not load dynamic library 'libnvinfer.so.7'; dlerror: libnvinfer.so.7: cannot open shared object file: No such file or directory; LD_LIBRARY_PATH: /usr/local/cuda/lib64:/usr/local/nccl2/lib:/usr/local/cuda/extras/CUPTI/lib64\n",
      "2023-11-30 04:50:21.728266: W tensorflow/compiler/xla/stream_executor/platform/default/dso_loader.cc:64] Could not load dynamic library 'libnvinfer_plugin.so.7'; dlerror: libnvinfer_plugin.so.7: cannot open shared object file: No such file or directory; LD_LIBRARY_PATH: /usr/local/cuda/lib64:/usr/local/nccl2/lib:/usr/local/cuda/extras/CUPTI/lib64\n",
      "2023-11-30 04:50:21.728278: W tensorflow/compiler/tf2tensorrt/utils/py_utils.cc:38] TF-TRT Warning: Cannot dlopen some TensorRT libraries. If you would like to use Nvidia GPU with TensorRT, please make sure the missing libraries mentioned above are installed properly.\n"
     ]
    },
    {
     "name": "stdout",
     "output_type": "stream",
     "text": [
      "The given SavedModel SignatureDef contains the following input(s):\n",
      "  inputs['arr_airport_lat'] tensor_info:\n",
      "      dtype: DT_FLOAT\n",
      "      shape: (-1)\n",
      "      name: serving_default_arr_airport_lat:0\n",
      "  inputs['arr_airport_lon'] tensor_info:\n",
      "      dtype: DT_FLOAT\n",
      "      shape: (-1)\n",
      "      name: serving_default_arr_airport_lon:0\n",
      "  inputs['carrier'] tensor_info:\n",
      "      dtype: DT_STRING\n",
      "      shape: (-1)\n",
      "      name: serving_default_carrier:0\n",
      "  inputs['dep_airport_lat'] tensor_info:\n",
      "      dtype: DT_FLOAT\n",
      "      shape: (-1)\n",
      "      name: serving_default_dep_airport_lat:0\n",
      "  inputs['dep_airport_lon'] tensor_info:\n",
      "      dtype: DT_FLOAT\n",
      "      shape: (-1)\n",
      "      name: serving_default_dep_airport_lon:0\n",
      "  inputs['dep_delay'] tensor_info:\n",
      "      dtype: DT_FLOAT\n",
      "      shape: (-1)\n",
      "      name: serving_default_dep_delay:0\n",
      "  inputs['dep_hour'] tensor_info:\n",
      "      dtype: DT_FLOAT\n",
      "      shape: (-1)\n",
      "      name: serving_default_dep_hour:0\n",
      "  inputs['dest'] tensor_info:\n",
      "      dtype: DT_STRING\n",
      "      shape: (-1)\n",
      "      name: serving_default_dest:0\n",
      "  inputs['distance'] tensor_info:\n",
      "      dtype: DT_FLOAT\n",
      "      shape: (-1)\n",
      "      name: serving_default_distance:0\n",
      "  inputs['is_weekday'] tensor_info:\n",
      "      dtype: DT_FLOAT\n",
      "      shape: (-1)\n",
      "      name: serving_default_is_weekday:0\n",
      "  inputs['origin'] tensor_info:\n",
      "      dtype: DT_STRING\n",
      "      shape: (-1)\n",
      "      name: serving_default_origin:0\n",
      "  inputs['taxi_out'] tensor_info:\n",
      "      dtype: DT_FLOAT\n",
      "      shape: (-1)\n",
      "      name: serving_default_taxi_out:0\n",
      "The given SavedModel SignatureDef contains the following output(s):\n",
      "  outputs['pred'] tensor_info:\n",
      "      dtype: DT_FLOAT\n",
      "      shape: (-1, 1)\n",
      "      name: StatefulPartitionedCall:0\n",
      "Method name is: tensorflow/serving/predict\n"
     ]
    }
   ],
   "source": [
    "%%bash\n",
    "model_dir=$(gsutil ls ${OUTDIR}/export | tail -1)\n",
    "echo $model_dir\n",
    "saved_model_cli show --tag_set serve --signature_def serving_default --dir $model_dir"
   ]
  },
  {
   "cell_type": "markdown",
   "id": "c0c2308f-9570-4543-b54f-75546f5d3225",
   "metadata": {},
   "source": [
    "2) Create a JSON file explanation-metadata.json that contains the metadata describing the Model's input and output for explanation. Here, you use sampled-shapley method used for explanation:"
   ]
  },
  {
   "cell_type": "code",
   "execution_count": 26,
   "id": "97f71081-6757-45a6-b6fa-c14cdcfeb126",
   "metadata": {
    "tags": []
   },
   "outputs": [
    {
     "name": "stdout",
     "output_type": "stream",
     "text": [
      "{'inputs': {'dep_delay': {'inputTensorName': 'dep_delay'}, 'taxi_out': {'inputTensorName': 'taxi_out'}, 'distance': {'inputTensorName': 'distance'}, 'dep_hour': {'inputTensorName': 'dep_hour'}, 'is_weekday': {'inputTensorName': 'is_weekday'}, 'dep_airport_lat': {'inputTensorName': 'dep_airport_lat'}, 'dep_airport_lon': {'inputTensorName': 'dep_airport_lon'}, 'arr_airport_lat': {'inputTensorName': 'arr_airport_lat'}, 'arr_airport_lon': {'inputTensorName': 'arr_airport_lon'}, 'carrier': {'inputTensorName': 'carrier'}, 'origin': {'inputTensorName': 'origin'}, 'dest': {'inputTensorName': 'dest'}}, 'outputs': {'pred': {'outputTensorName': 'pred'}}}\n"
     ]
    }
   ],
   "source": [
    "cols = ('dep_delay,taxi_out,distance,dep_hour,is_weekday,' +\n",
    "        'dep_airport_lat,dep_airport_lon,' +\n",
    "        'arr_airport_lat,arr_airport_lon,' +\n",
    "        'carrier,origin,dest')\n",
    "inputs = {x: {\"inputTensorName\": \"{}\".format(x)}\n",
    "        for x in cols.split(',')}\n",
    "expl = {\n",
    "    \"inputs\": inputs,\n",
    "    \"outputs\": {\n",
    "    \"pred\": {\n",
    "      \"outputTensorName\": \"pred\"\n",
    "    }\n",
    "  }\n",
    "}\n",
    "print(expl)\n",
    "with open('explanation-metadata.json', 'w') as ofp:\n",
    "    json.dump(expl, ofp, indent=2)"
   ]
  },
  {
   "cell_type": "markdown",
   "id": "3096a880-f981-4f44-9d59-11ab38459d27",
   "metadata": {},
   "source": [
    "3) View the explanation-metadata.json file using the cat command:\n"
   ]
  },
  {
   "cell_type": "code",
   "execution_count": 28,
   "id": "0eb1a233-1a35-4921-985f-1e3f0f3fa062",
   "metadata": {
    "tags": []
   },
   "outputs": [
    {
     "name": "stdout",
     "output_type": "stream",
     "text": [
      "{\n",
      "  \"inputs\": {\n",
      "    \"dep_delay\": {\n",
      "      \"inputTensorName\": \"dep_delay\"\n",
      "    },\n",
      "    \"taxi_out\": {\n",
      "      \"inputTensorName\": \"taxi_out\"\n",
      "    },\n",
      "    \"distance\": {\n",
      "      \"inputTensorName\": \"distance\"\n",
      "    },\n",
      "    \"dep_hour\": {\n",
      "      \"inputTensorName\": \"dep_hour\"\n",
      "    },\n",
      "    \"is_weekday\": {\n",
      "      \"inputTensorName\": \"is_weekday\"\n",
      "    },\n",
      "    \"dep_airport_lat\": {\n",
      "      \"inputTensorName\": \"dep_airport_lat\"\n",
      "    },\n",
      "    \"dep_airport_lon\": {\n",
      "      \"inputTensorName\": \"dep_airport_lon\"\n",
      "    },\n",
      "    \"arr_airport_lat\": {\n",
      "      \"inputTensorName\": \"arr_airport_lat\"\n",
      "    },\n",
      "    \"arr_airport_lon\": {\n",
      "      \"inputTensorName\": \"arr_airport_lon\"\n",
      "    },\n",
      "    \"carrier\": {\n",
      "      \"inputTensorName\": \"carrier\"\n",
      "    },\n",
      "    \"origin\": {\n",
      "      \"inputTensorName\": \"origin\"\n",
      "    },\n",
      "    \"dest\": {\n",
      "      \"inputTensorName\": \"dest\"\n",
      "    }\n",
      "  },\n",
      "  \"outputs\": {\n",
      "    \"pred\": {\n",
      "      \"outputTensorName\": \"pred\"\n",
      "    }\n",
      "  }\n",
      "}"
     ]
    }
   ],
   "source": [
    "!cat explanation-metadata.json"
   ]
  },
  {
   "cell_type": "markdown",
   "id": "8f483e85-4437-414e-ad02-2aa74908cecb",
   "metadata": {},
   "source": [
    "### Create and deploy another model flights_xai to Vertex AI\n",
    "- Create the model endpoint flights_xai, upload the model, and deploy it at the model endpoint using the following code:"
   ]
  },
  {
   "cell_type": "code",
   "execution_count": 29,
   "id": "d0bad543-1f94-4d57-ba69-b20c6266495e",
   "metadata": {
    "tags": []
   },
   "outputs": [
    {
     "name": "stdout",
     "output_type": "stream",
     "text": [
      "gs://qwiklabs-gcp-00-babc84dc62ce-dsongcp/ch9/trained_model/export/flights_20231130-043222/\n"
     ]
    },
    {
     "name": "stderr",
     "output_type": "stream",
     "text": [
      "Using endpoint [https://us-west1-aiplatform.googleapis.com/]\n"
     ]
    },
    {
     "name": "stdout",
     "output_type": "stream",
     "text": [
      "Creating Endpoint for flights_xai-20231130-045055\n"
     ]
    },
    {
     "name": "stderr",
     "output_type": "stream",
     "text": [
      "Using endpoint [https://us-west1-aiplatform.googleapis.com/]\n",
      "Waiting for operation [7971499983306227712]...\n",
      "................done.\n",
      "Created Vertex AI endpoint: projects/63784504791/locations/us-west1/endpoints/8566506198235348992.\n",
      "Using endpoint [https://us-west1-aiplatform.googleapis.com/]\n"
     ]
    },
    {
     "name": "stdout",
     "output_type": "stream",
     "text": [
      "ENDPOINT_ID=8566506198235348992\n"
     ]
    },
    {
     "name": "stderr",
     "output_type": "stream",
     "text": [
      "Using endpoint [https://us-west1-aiplatform.googleapis.com/]\n",
      "Using endpoint [https://us-west1-aiplatform.googleapis.com/]\n",
      "Waiting for operation [7021240461931053056]...\n",
      "...........................................................................................................................................................................................................................................................................................................................................................................................................................................................................................................................................................................................................................................................................................................................................................................................................................................................................................................................................................................................................................................................................................................................................................................................................................................................................................................................................................................................................................................................................................................................................................................................................................................................................................................................................................................................................................................................................................................................................................................................................................................................................................................................................................................................................................................................................................................................................................................................................................................................................................................................................................................................................................................................................................................................................................................................................................................................................................................................done.\n",
      "Using endpoint [https://us-west1-aiplatform.googleapis.com/]\n"
     ]
    },
    {
     "name": "stdout",
     "output_type": "stream",
     "text": [
      "MODEL_ID=5640309932537413632\n"
     ]
    },
    {
     "name": "stderr",
     "output_type": "stream",
     "text": [
      "Using endpoint [https://us-west1-aiplatform.googleapis.com/]\n",
      "Waiting for operation [3895742320535928832]...\n",
      "...........................................................................................................................................................................................................................................................................................................................................................................................................................................................................................................................................................................................................................................................................................................................................................................................................................................................................................................................................................................................................................................................................................................................................................................................................................................................................................................................................................................................................................................................................................................................................................................................................................................................................................................................................................................................................................................................................................................................................................................................................................................................................................................................................................................................................................................................................................................................................................................................................................................................................................................................................................................................................................................................................................................................................................................................................................................................................................................................done.\n",
      "Deployed a model to the endpoint 8566506198235348992. Id of the deployed model: 2061373195847467008.\n"
     ]
    }
   ],
   "source": [
    "%%bash\n",
    "# note ENDPOINT_NAME is being changed\n",
    "\n",
    "ENDPOINT_NAME=flights_xai\n",
    "\n",
    "TIMESTAMP=$(date +%Y%m%d-%H%M%S)\n",
    "MODEL_NAME=${ENDPOINT_NAME}-${TIMESTAMP}\n",
    "EXPORT_PATH=$(gsutil ls ${OUTDIR}/export | tail -1)\n",
    "echo $EXPORT_PATH\n",
    "\n",
    "# create the model endpoint for deploying the model\n",
    "if [[ $(gcloud beta ai endpoints list --region=$REGION \\\n",
    "        --format='value(DISPLAY_NAME)' --filter=display_name=${ENDPOINT_NAME}) ]]; then\n",
    "    echo \"Endpoint for $MODEL_NAME already exists\"\n",
    "else\n",
    "    # create model endpoint\n",
    "    echo \"Creating Endpoint for $MODEL_NAME\"\n",
    "    gcloud beta ai endpoints create --region=${REGION} --display-name=${ENDPOINT_NAME}\n",
    "fi\n",
    "\n",
    "ENDPOINT_ID=$(gcloud beta ai endpoints list --region=$REGION \\\n",
    "              --format='value(ENDPOINT_ID)' --filter=display_name=${ENDPOINT_NAME})\n",
    "echo \"ENDPOINT_ID=$ENDPOINT_ID\"\n",
    "\n",
    "\n",
    "# delete any existing models with this name\n",
    "for MODEL_ID in $(gcloud beta ai models list --region=$REGION --format='value(MODEL_ID)' --filter=display_name=${MODEL_NAME}); do\n",
    "    echo \"Deleting existing $MODEL_NAME ... $MODEL_ID \"\n",
    "    gcloud ai models delete --region=$REGION $MODEL_ID\n",
    "done\n",
    "\n",
    "\n",
    "# upload the model using the parameters docker conatiner image, artifact URI, explanation method,\n",
    "# explanation path count and explanation metadata JSON file `explanation-metadata.json`.\n",
    "# Here, you keep number of feature permutations to `10` when approximating the Shapley values for explanation.\n",
    "gcloud beta ai models upload --region=$REGION --display-name=$MODEL_NAME \\\n",
    "     --container-image-uri=us-docker.pkg.dev/vertex-ai/prediction/tf2-cpu.${TF_VERSION}:latest \\\n",
    "     --artifact-uri=$EXPORT_PATH \\\n",
    "     --explanation-method=sampled-shapley --explanation-path-count=10 --explanation-metadata-file=explanation-metadata.json\n",
    "MODEL_ID=$(gcloud beta ai models list --region=$REGION --format='value(MODEL_ID)' --filter=display_name=${MODEL_NAME})\n",
    "echo \"MODEL_ID=$MODEL_ID\"\n",
    "\n",
    "\n",
    "# deploy the model to the endpoint\n",
    "gcloud beta ai endpoints deploy-model $ENDPOINT_ID \\\n",
    "  --region=$REGION \\\n",
    "  --model=$MODEL_ID \\\n",
    "  --display-name=$MODEL_NAME \\\n",
    "  --machine-type=e2-standard-2 \\\n",
    "  --min-replica-count=1 \\\n",
    "  --max-replica-count=1 \\\n",
    "  --traffic-split=0=100"
   ]
  },
  {
   "cell_type": "markdown",
   "id": "9b445240-112d-4605-b84b-6c80bf8aa428",
   "metadata": {},
   "source": [
    "### Invoke the deployed model\n",
    "Here’s how client programs can invoke the model you deployed. Assume that they have the input data in a JSON file called example_input.json. Now, send an HTTP POST request and you will get the result back as JSON.\n",
    "\n",
    "- Run the following code:\n"
   ]
  },
  {
   "cell_type": "code",
   "execution_count": 30,
   "id": "1c0f42c6-766e-4829-8d5e-02b5e9393866",
   "metadata": {
    "tags": []
   },
   "outputs": [
    {
     "name": "stderr",
     "output_type": "stream",
     "text": [
      "Using endpoint [https://us-west1-aiplatform.googleapis.com/]\n",
      "  % Total    % Received % Xferd  Average Speed   Time    Time     Time  Current\n",
      "                                 Dload  Upload   Total   Spent    Left  Speed\n",
      "100  2556    0  2013  100   543    947    255  0:00:02  0:00:02 --:--:--  1203\n"
     ]
    },
    {
     "name": "stdout",
     "output_type": "stream",
     "text": [
      "{\n",
      "  \"explanations\": [\n",
      "    {\n",
      "      \"attributions\": [\n",
      "        {\n",
      "          \"baselineOutputValue\": 0.50755375623703,\n",
      "          \"instanceOutputValue\": 0.90114450454711914,\n",
      "          \"featureAttributions\": {\n",
      "            \"dep_airport_lat\": 0.1634902775287628,\n",
      "            \"dep_airport_lon\": 0.099372917413711542,\n",
      "            \"dep_delay\": 0.024000245332717891,\n",
      "            \"is_weekday\": 0.00082542896270751951,\n",
      "            \"arr_airport_lat\": 0.15557295083999631,\n",
      "            \"dep_hour\": -0.00043640732765197747,\n",
      "            \"dest\": -0.0046522200107574456,\n",
      "            \"carrier\": 0.004146093130111694,\n",
      "            \"taxi_out\": -0.0028217673301696778,\n",
      "            \"origin\": 0.0041660308837890622,\n",
      "            \"distance\": -0.01059932112693787,\n",
      "            \"arr_airport_lon\": -0.039473479986190788\n",
      "          },\n",
      "          \"outputIndex\": [\n",
      "            0\n",
      "          ],\n",
      "          \"approximationError\": 0.00886577827560253,\n",
      "          \"outputName\": \"pred\"\n",
      "        }\n",
      "      ]\n",
      "    },\n",
      "    {\n",
      "      \"attributions\": [\n",
      "        {\n",
      "          \"baselineOutputValue\": 0.50755375623703,\n",
      "          \"instanceOutputValue\": 0.56823807954788208,\n",
      "          \"featureAttributions\": {\n",
      "            \"dest\": 0.0072984457015991206,\n",
      "            \"distance\": 0.02014716267585754,\n",
      "            \"dep_hour\": 0.0057046413421630859,\n",
      "            \"taxi_out\": -0.0066405177116394039,\n",
      "            \"carrier\": -0.000563889741897583,\n",
      "            \"dep_airport_lon\": 0.021346282958984379,\n",
      "            \"arr_airport_lon\": -0.093253779411315921,\n",
      "            \"origin\": -0.0101253867149353,\n",
      "            \"dep_airport_lat\": 0.055990660190582277,\n",
      "            \"arr_airport_lat\": 0.058233398199081417,\n",
      "            \"dep_delay\": 0.0025473058223724359,\n",
      "            \"is_weekday\": 0\n",
      "          },\n",
      "          \"outputIndex\": [\n",
      "            0\n",
      "          ],\n",
      "          \"approximationError\": 0.022365863500186409,\n",
      "          \"outputName\": \"pred\"\n",
      "        }\n",
      "      ]\n",
      "    }\n",
      "  ],\n",
      "  \"deployedModelId\": \"2061373195847467008\",\n",
      "  \"predictions\": [\n",
      "    [\n",
      "      0.901144505\n",
      "    ],\n",
      "    [\n",
      "      0.568238258\n",
      "    ]\n",
      "  ]\n",
      "}\n"
     ]
    }
   ],
   "source": [
    "%%bash\n",
    "PROJECT=$(gcloud config get-value project)\n",
    "ENDPOINT_NAME=flights_xai\n",
    "ENDPOINT_ID=$(gcloud beta ai endpoints list --region=$REGION \\\n",
    "              --format='value(ENDPOINT_ID)' --filter=display_name=${ENDPOINT_NAME})\n",
    "\n",
    "curl -X POST \\\n",
    "  -H \"Authorization: Bearer \"$(gcloud auth application-default print-access-token) \\\n",
    "  -H \"Content-Type: application/json; charset=utf-8\" \\\n",
    "  -d @example_input.json \\\n",
    "  \"https://${REGION}-aiplatform.googleapis.com/v1/projects/${PROJECT}/locations/${REGION}/endpoints/${ENDPOINT_ID}:explain\""
   ]
  }
 ],
 "metadata": {
  "environment": {
   "kernel": "python3",
   "name": "tf2-cpu.2-11.m113",
   "type": "gcloud",
   "uri": "gcr.io/deeplearning-platform-release/tf2-cpu.2-11:m113"
  },
  "kernelspec": {
   "display_name": "Python 3",
   "language": "python",
   "name": "python3"
  },
  "language_info": {
   "codemirror_mode": {
    "name": "ipython",
    "version": 3
   },
   "file_extension": ".py",
   "mimetype": "text/x-python",
   "name": "python",
   "nbconvert_exporter": "python",
   "pygments_lexer": "ipython3",
   "version": "3.10.13"
  }
 },
 "nbformat": 4,
 "nbformat_minor": 5
}
