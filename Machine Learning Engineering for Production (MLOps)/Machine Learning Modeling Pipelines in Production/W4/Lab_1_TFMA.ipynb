{
 "cells": [
  {
   "cell_type": "markdown",
   "metadata": {
    "id": "YuSYVbwEYNHw"
   },
   "source": [
    "# Ungraded Lab: TensorFlow Model Analysis\n",
    "\n",
    "In production systems, the decision to deploy a model usually goes beyond the global metrics (e.g. accuracy) set during training. It is also important to evaluate how your model performs in different scenarios. For instance, does your weather forecasting model perform equally well in summer compared to winter? Or does your camera-based defect detector work only in certain lighting conditions? This type of investigation helps to ensure that your model can handle different cases. More than that, it can help uncover any learned biases that can result in a negative experience for your users. For example, if you're supposed to have a gender-neutral application, you don't want your model to only work well for one while poorly for another.\n",
    "\n",
    "In this lab, you will be working with [TensorFlow Model Analysis (TFMA)](https://www.tensorflow.org/tfx/guide/tfma) -- a library built specifically for analyzing a model's performance across different configurations. It allows you to specify slices of your data, then it will compute and visualize how your model performs on each slice. You can also set thresholds that your model must meet before it is marked ready for deployment. These help you make better decisions regarding any improvements you may want to make to boost your model's performance and ensure fairness.\n",
    "\n",
    "For this exercise, you will use TFMA to analyze models trained on the [Census Income dataset](http://archive.ics.uci.edu/ml/datasets/Census+Income). Specifically, you will:\n",
    "\n",
    "* study and setup the starter files to use with TFMA\n",
    "* make a configuration file to tell TFMA what data slices it will analyze and the metrics it will compute\n",
    "* visualize TFMA's outputs in a notebook environment\n",
    "* generate a time series of a model's performance\n",
    "* compare the performance of two models so you can decide which one to push to production\n",
    "\n",
    "*Credits: Some of the code and discussions are based on the TensorFlow team's [official tutorial](https://www.tensorflow.org/tfx/tutorials/model_analysis/tfma_basic).*"
   ]
  },
  {
   "cell_type": "markdown",
   "metadata": {
    "id": "VUHcOxH0W2PH"
   },
   "source": [
    "## Setup\n",
    "\n",
    "In this section, you will first setup your workspace to have all the modules and files to work with TFMA. You will \n",
    "* download the starter files that will contain the dataset, schema, and pretrained models you will analyze\n",
    "* prepare the dataset so it can be consumed by TFMA\n",
    "* observe how the models transform the raw features"
   ]
  },
  {
   "cell_type": "markdown",
   "metadata": {
    "id": "q7-ouHFnWAsu"
   },
   "source": [
    "### Install Jupyter Extensions\n",
    "If running in a local Jupyter notebook, then these Jupyter extensions must be installed in the environment before running Jupyter. These are already available in this lab environment so we'll just leave the commands here for reference.\n",
    "\n",
    "```bash\n",
    "jupyter nbextension enable --py widgetsnbextension --sys-prefix \n",
    "jupyter nbextension install --py --symlink tensorflow_model_analysis --sys-prefix \n",
    "jupyter nbextension enable --py tensorflow_model_analysis --sys-prefix \n",
    "```"
   ]
  },
  {
   "cell_type": "markdown",
   "metadata": {
    "id": "saT03A81Z4Nr"
   },
   "source": [
    "### Check the installation\n",
    "\n",
    "Running the code below should show the versions of the packages."
   ]
  },
  {
   "cell_type": "code",
   "execution_count": 1,
   "metadata": {
    "id": "SA2E343NAMRF"
   },
   "outputs": [
    {
     "name": "stdout",
     "output_type": "stream",
     "text": [
      "TF version: 2.11.0\n",
      "TFMA version: 0.43.0\n",
      "TFDV version: 1.12.0\n"
     ]
    }
   ],
   "source": [
    "import os\n",
    "import tensorflow as tf\n",
    "import tensorflow_model_analysis as tfma\n",
    "import tensorflow_data_validation as tfdv\n",
    "from absl import logging as absl_logging\n",
    "from apache_beam import logging as beam_logging\n",
    "\n",
    "tf.get_logger().setLevel('ERROR')\n",
    "absl_logging.set_verbosity('ERROR')\n",
    "beam_logging.getLogger().setLevel('ERROR')\n",
    "\n",
    "print('TF version: {}'.format(tf.__version__))\n",
    "print('TFMA version: {}'.format(tfma.__version__))\n",
    "print('TFDV version: {}'.format(tfdv.__version__))"
   ]
  },
  {
   "cell_type": "markdown",
   "metadata": {
    "id": "RptgLn2RYuK3"
   },
   "source": [
    "### Load the files\n",
    "\n",
    "Next, you will download the files you will need for this exercise:\n",
    "\n",
    "* Test datasets\n",
    "* Data schema\n",
    "* Pretrained models\n",
    "\n",
    "We've also defined some global variables below so you can access these files throughout the notebook more easily."
   ]
  },
  {
   "cell_type": "code",
   "execution_count": 2,
   "metadata": {
    "id": "K4QXVIM7iglN"
   },
   "outputs": [],
   "source": [
    "# String variables for file and directory names\n",
    "URL = 'https://storage.googleapis.com/mlep-public/course_3/week4/C3_W4_Lab_1_starter_files.tar.gz'\n",
    "TAR_NAME = 'C3_W4_Lab_1_starter_files.tar.gz'\n",
    "BASE_DIR = 'starter_files'\n",
    "DATA_DIR = os.path.join(BASE_DIR, 'data')\n",
    "CSV_DIR = os.path.join(DATA_DIR, 'csv')\n",
    "TFRECORD_DIR = os.path.join(DATA_DIR, 'tfrecord')\n",
    "MODELS_DIR = os.path.join(BASE_DIR, 'models')\n",
    "SCHEMA_FILE = os.path.join(BASE_DIR, 'schema.pbtxt')"
   ]
  },
  {
   "cell_type": "code",
   "execution_count": 3,
   "metadata": {
    "id": "Mw6d-3aNw-fm"
   },
   "outputs": [
    {
     "name": "stdout",
     "output_type": "stream",
     "text": [
      "--2023-11-29 04:18:56--  https://storage.googleapis.com/mlep-public/course_3/week4/C3_W4_Lab_1_starter_files.tar.gz\n",
      "Resolving storage.googleapis.com (storage.googleapis.com)... 142.251.167.207, 142.251.16.207, 172.253.62.207, ...\n",
      "Connecting to storage.googleapis.com (storage.googleapis.com)|142.251.167.207|:443... connected.\n",
      "HTTP request sent, awaiting response... 200 OK\n",
      "Length: 1533288 (1.5M) [application/x-gzip]\n",
      "Saving to: ‘C3_W4_Lab_1_starter_files.tar.gz’\n",
      "\n",
      "C3_W4_Lab_1_starter 100%[===================>]   1.46M  --.-KB/s    in 0.03s   \n",
      "\n",
      "2023-11-29 04:18:57 (56.6 MB/s) - ‘C3_W4_Lab_1_starter_files.tar.gz’ saved [1533288/1533288]\n",
      "\n"
     ]
    }
   ],
   "source": [
    "# uncomment this line if you've downloaded the files before and want to reset\n",
    "# !rm -rf {BASE_DIR}\n",
    "\n",
    "# Download the tar file\n",
    "!wget {URL}\n",
    "\n",
    "# Extract the tar file to the base directory\n",
    "!tar xzf {TAR_NAME}\n",
    "\n",
    "# Delete tar file\n",
    "!rm {TAR_NAME}"
   ]
  },
  {
   "cell_type": "markdown",
   "metadata": {
    "id": "wrO1e6QnVf9I"
   },
   "source": [
    "You can see the top level file and directories by running the cell below. We'll discuss what each contain in the next sections."
   ]
  },
  {
   "cell_type": "code",
   "execution_count": 4,
   "metadata": {
    "id": "NpNZrJl-YJq9"
   },
   "outputs": [
    {
     "name": "stdout",
     "output_type": "stream",
     "text": [
      "Here's what you downloaded:\n",
      "data  models  schema.pbtxt\n"
     ]
    }
   ],
   "source": [
    "print(\"Here's what you downloaded:\")\n",
    "!ls {BASE_DIR}"
   ]
  },
  {
   "cell_type": "markdown",
   "metadata": {
    "id": "UBhvex2jSBa_"
   },
   "source": [
    "### Preview the dataset"
   ]
  },
  {
   "cell_type": "markdown",
   "metadata": {
    "id": "iIxhCtvaV0cC"
   },
   "source": [
    "The `data/csv` directory contains the test split of the Census Income dataset. We've divided it into several files for this demo notebook:\n",
    "\n",
    "* `data_test.csv` - 15000 rows of test data\n",
    "* `data_test_1.csv` - first 5000 rows of `data_test.csv`\n",
    "* `data_test_2.csv` - next 5000 rows of `data_test.csv`\n",
    "* `data_test_3.csv` - last 5000 rows of `data_test.csv`\n",
    "\n",
    "You can see the description of each column [here](http://archive.ics.uci.edu/ml/machine-learning-databases/adult/adult.names) (please open link in a new window if your browser prevents the download). Also for simplicity, we've already preprocessed the `label` column as binary (i.e. `0` or `1`) to match the model's output. In your own projects, your labels might be in a different data type (e.g. string) and you want to transform that first so you can evaluate your model properly. You can preview the first few rows below:"
   ]
  },
  {
   "cell_type": "code",
   "execution_count": 5,
   "metadata": {
    "id": "C4LCdt9zQ1oL"
   },
   "outputs": [
    {
     "name": "stdout",
     "output_type": "stream",
     "text": [
      "age,workclass,fnlwgt,education,education-num,marital-status,occupation,relationship,race,sex,capital-gain,capital-loss,hours-per-week,native-country,label\r\n",
      "25,Private,226802,11th,7,Never-married,Machine-op-inspct,Own-child,Black,Male,0,0,40,United-States,0\r\n",
      "38,Private,89814,HS-grad,9,Married-civ-spouse,Farming-fishing,Husband,White,Male,0,0,50,United-States,0\r\n",
      "28,Local-gov,336951,Assoc-acdm,12,Married-civ-spouse,Protective-serv,Husband,White,Male,0,0,40,United-States,1\r\n",
      "44,Private,160323,Some-college,10,Married-civ-spouse,Machine-op-inspct,Husband,Black,Male,7688,0,40,United-States,1\r\n",
      "18,?,103497,Some-college,10,Never-married,?,Own-child,White,Female,0,0,30,United-States,0\r\n",
      "34,Private,198693,10th,6,Never-married,Other-service,Not-in-family,White,Male,0,0,30,United-States,0\r\n",
      "29,?,227026,HS-grad,9,Never-married,?,Unmarried,Black,Male,0,0,40,United-States,0\r\n",
      "63,Self-emp-not-inc,104626,Prof-school,15,Married-civ-spouse,Prof-specialty,Husband,White,Male,3103,0,32,United-States,1\r\n",
      "24,Private,369667,Some-college,10,Never-married,Other-service,Unmarried,White,Female,0,0,40,United-States,0\r\n"
     ]
    }
   ],
   "source": [
    "# Path to the full test set\n",
    "TEST_DATA_PATH = os.path.join(CSV_DIR, 'data_test.csv')\n",
    "\n",
    "# Preview the first few rows\n",
    "!head {TEST_DATA_PATH}"
   ]
  },
  {
   "cell_type": "markdown",
   "metadata": {
    "id": "_xa7ZDV1MycO"
   },
   "source": [
    "### Parse the Schema\n",
    "\n",
    "You also downloaded a schema generated by [TensorFlow Data Validation](https://www.tensorflow.org/tfx/data_validation/). You should be familiar with this file type already from previous courses. You will load it now so you can use it in the later parts of the notebook."
   ]
  },
  {
   "cell_type": "code",
   "execution_count": 6,
   "metadata": {
    "id": "XYo2SHFzf6_t"
   },
   "outputs": [
    {
     "data": {
      "text/html": [
       "<div>\n",
       "<style scoped>\n",
       "    .dataframe tbody tr th:only-of-type {\n",
       "        vertical-align: middle;\n",
       "    }\n",
       "\n",
       "    .dataframe tbody tr th {\n",
       "        vertical-align: top;\n",
       "    }\n",
       "\n",
       "    .dataframe thead th {\n",
       "        text-align: right;\n",
       "    }\n",
       "</style>\n",
       "<table border=\"1\" class=\"dataframe\">\n",
       "  <thead>\n",
       "    <tr style=\"text-align: right;\">\n",
       "      <th></th>\n",
       "      <th>Type</th>\n",
       "      <th>Presence</th>\n",
       "      <th>Valency</th>\n",
       "      <th>Domain</th>\n",
       "    </tr>\n",
       "    <tr>\n",
       "      <th>Feature name</th>\n",
       "      <th></th>\n",
       "      <th></th>\n",
       "      <th></th>\n",
       "      <th></th>\n",
       "    </tr>\n",
       "  </thead>\n",
       "  <tbody>\n",
       "    <tr>\n",
       "      <th>'age'</th>\n",
       "      <td>INT</td>\n",
       "      <td>required</td>\n",
       "      <td></td>\n",
       "      <td>-</td>\n",
       "    </tr>\n",
       "    <tr>\n",
       "      <th>'capital-gain'</th>\n",
       "      <td>INT</td>\n",
       "      <td>required</td>\n",
       "      <td></td>\n",
       "      <td>-</td>\n",
       "    </tr>\n",
       "    <tr>\n",
       "      <th>'capital-loss'</th>\n",
       "      <td>INT</td>\n",
       "      <td>required</td>\n",
       "      <td></td>\n",
       "      <td>-</td>\n",
       "    </tr>\n",
       "    <tr>\n",
       "      <th>'education'</th>\n",
       "      <td>STRING</td>\n",
       "      <td>required</td>\n",
       "      <td></td>\n",
       "      <td>'education'</td>\n",
       "    </tr>\n",
       "    <tr>\n",
       "      <th>'education-num'</th>\n",
       "      <td>INT</td>\n",
       "      <td>required</td>\n",
       "      <td></td>\n",
       "      <td>-</td>\n",
       "    </tr>\n",
       "    <tr>\n",
       "      <th>'fnlwgt'</th>\n",
       "      <td>INT</td>\n",
       "      <td>required</td>\n",
       "      <td></td>\n",
       "      <td>-</td>\n",
       "    </tr>\n",
       "    <tr>\n",
       "      <th>'hours-per-week'</th>\n",
       "      <td>INT</td>\n",
       "      <td>required</td>\n",
       "      <td></td>\n",
       "      <td>-</td>\n",
       "    </tr>\n",
       "    <tr>\n",
       "      <th>'label'</th>\n",
       "      <td>INT</td>\n",
       "      <td>required</td>\n",
       "      <td></td>\n",
       "      <td>-</td>\n",
       "    </tr>\n",
       "    <tr>\n",
       "      <th>'marital-status'</th>\n",
       "      <td>STRING</td>\n",
       "      <td>required</td>\n",
       "      <td></td>\n",
       "      <td>'marital-status'</td>\n",
       "    </tr>\n",
       "    <tr>\n",
       "      <th>'native-country'</th>\n",
       "      <td>STRING</td>\n",
       "      <td>required</td>\n",
       "      <td></td>\n",
       "      <td>'native-country'</td>\n",
       "    </tr>\n",
       "    <tr>\n",
       "      <th>'occupation'</th>\n",
       "      <td>STRING</td>\n",
       "      <td>required</td>\n",
       "      <td></td>\n",
       "      <td>'occupation'</td>\n",
       "    </tr>\n",
       "    <tr>\n",
       "      <th>'race'</th>\n",
       "      <td>STRING</td>\n",
       "      <td>required</td>\n",
       "      <td></td>\n",
       "      <td>'race'</td>\n",
       "    </tr>\n",
       "    <tr>\n",
       "      <th>'relationship'</th>\n",
       "      <td>STRING</td>\n",
       "      <td>required</td>\n",
       "      <td></td>\n",
       "      <td>'relationship'</td>\n",
       "    </tr>\n",
       "    <tr>\n",
       "      <th>'sex'</th>\n",
       "      <td>STRING</td>\n",
       "      <td>required</td>\n",
       "      <td></td>\n",
       "      <td>'sex'</td>\n",
       "    </tr>\n",
       "    <tr>\n",
       "      <th>'workclass'</th>\n",
       "      <td>STRING</td>\n",
       "      <td>required</td>\n",
       "      <td></td>\n",
       "      <td>'workclass'</td>\n",
       "    </tr>\n",
       "  </tbody>\n",
       "</table>\n",
       "</div>"
      ],
      "text/plain": [
       "                    Type  Presence Valency            Domain\n",
       "Feature name                                                \n",
       "'age'                INT  required                         -\n",
       "'capital-gain'       INT  required                         -\n",
       "'capital-loss'       INT  required                         -\n",
       "'education'       STRING  required               'education'\n",
       "'education-num'      INT  required                         -\n",
       "'fnlwgt'             INT  required                         -\n",
       "'hours-per-week'     INT  required                         -\n",
       "'label'              INT  required                         -\n",
       "'marital-status'  STRING  required          'marital-status'\n",
       "'native-country'  STRING  required          'native-country'\n",
       "'occupation'      STRING  required              'occupation'\n",
       "'race'            STRING  required                    'race'\n",
       "'relationship'    STRING  required            'relationship'\n",
       "'sex'             STRING  required                     'sex'\n",
       "'workclass'       STRING  required               'workclass'"
      ]
     },
     "metadata": {},
     "output_type": "display_data"
    },
    {
     "data": {
      "text/html": [
       "<div>\n",
       "<style scoped>\n",
       "    .dataframe tbody tr th:only-of-type {\n",
       "        vertical-align: middle;\n",
       "    }\n",
       "\n",
       "    .dataframe tbody tr th {\n",
       "        vertical-align: top;\n",
       "    }\n",
       "\n",
       "    .dataframe thead th {\n",
       "        text-align: right;\n",
       "    }\n",
       "</style>\n",
       "<table border=\"1\" class=\"dataframe\">\n",
       "  <thead>\n",
       "    <tr style=\"text-align: right;\">\n",
       "      <th></th>\n",
       "      <th>Values</th>\n",
       "    </tr>\n",
       "    <tr>\n",
       "      <th>Domain</th>\n",
       "      <th></th>\n",
       "    </tr>\n",
       "  </thead>\n",
       "  <tbody>\n",
       "    <tr>\n",
       "      <th>'education'</th>\n",
       "      <td>'10th', '11th', '12th', '1st-4th', '5th-6th', '7th-8th', '9th', 'Assoc-acdm', 'Assoc-voc', 'Bachelors', 'Doctorate', 'HS-grad', 'Masters', 'Preschool', 'Prof-school', 'Some-college'</td>\n",
       "    </tr>\n",
       "    <tr>\n",
       "      <th>'marital-status'</th>\n",
       "      <td>'Divorced', 'Married-AF-spouse', 'Married-civ-spouse', 'Married-spouse-absent', 'Never-married', 'Separated', 'Widowed'</td>\n",
       "    </tr>\n",
       "    <tr>\n",
       "      <th>'native-country'</th>\n",
       "      <td>'?', 'Cambodia', 'Canada', 'China', 'Columbia', 'Cuba', 'Dominican-Republic', 'Ecuador', 'El-Salvador', 'England', 'France', 'Germany', 'Greece', 'Guatemala', 'Haiti', 'Holand-Netherlands', 'Honduras', 'Hong', 'Hungary', 'India', 'Iran', 'Ireland', 'Italy', 'Jamaica', 'Japan', 'Laos', 'Mexico', 'Nicaragua', 'Outlying-US(Guam-USVI-etc)', 'Peru', 'Philippines', 'Poland', 'Portugal', 'Puerto-Rico', 'Scotland', 'South', 'Taiwan', 'Thailand', 'Trinadad&amp;Tobago', 'United-States', 'Vietnam', 'Yugoslavia'</td>\n",
       "    </tr>\n",
       "    <tr>\n",
       "      <th>'occupation'</th>\n",
       "      <td>'?', 'Adm-clerical', 'Armed-Forces', 'Craft-repair', 'Exec-managerial', 'Farming-fishing', 'Handlers-cleaners', 'Machine-op-inspct', 'Other-service', 'Priv-house-serv', 'Prof-specialty', 'Protective-serv', 'Sales', 'Tech-support', 'Transport-moving'</td>\n",
       "    </tr>\n",
       "    <tr>\n",
       "      <th>'race'</th>\n",
       "      <td>'Amer-Indian-Eskimo', 'Asian-Pac-Islander', 'Black', 'Other', 'White'</td>\n",
       "    </tr>\n",
       "    <tr>\n",
       "      <th>'relationship'</th>\n",
       "      <td>'Husband', 'Not-in-family', 'Other-relative', 'Own-child', 'Unmarried', 'Wife'</td>\n",
       "    </tr>\n",
       "    <tr>\n",
       "      <th>'sex'</th>\n",
       "      <td>'Female', 'Male'</td>\n",
       "    </tr>\n",
       "    <tr>\n",
       "      <th>'workclass'</th>\n",
       "      <td>'?', 'Federal-gov', 'Local-gov', 'Never-worked', 'Private', 'Self-emp-inc', 'Self-emp-not-inc', 'State-gov', 'Without-pay'</td>\n",
       "    </tr>\n",
       "  </tbody>\n",
       "</table>\n",
       "</div>"
      ],
      "text/plain": [
       "                                                                                                                                                                                                                                                                                                                                                                                                                                                                                                                                 Values\n",
       "Domain                                                                                                                                                                                                                                                                                                                                                                                                                                                                                                                                 \n",
       "'education'                                                                                                                                                                                                                                                                                                                                       '10th', '11th', '12th', '1st-4th', '5th-6th', '7th-8th', '9th', 'Assoc-acdm', 'Assoc-voc', 'Bachelors', 'Doctorate', 'HS-grad', 'Masters', 'Preschool', 'Prof-school', 'Some-college'\n",
       "'marital-status'                                                                                                                                                                                                                                                                                                                                                                                                'Divorced', 'Married-AF-spouse', 'Married-civ-spouse', 'Married-spouse-absent', 'Never-married', 'Separated', 'Widowed'\n",
       "'native-country'  '?', 'Cambodia', 'Canada', 'China', 'Columbia', 'Cuba', 'Dominican-Republic', 'Ecuador', 'El-Salvador', 'England', 'France', 'Germany', 'Greece', 'Guatemala', 'Haiti', 'Holand-Netherlands', 'Honduras', 'Hong', 'Hungary', 'India', 'Iran', 'Ireland', 'Italy', 'Jamaica', 'Japan', 'Laos', 'Mexico', 'Nicaragua', 'Outlying-US(Guam-USVI-etc)', 'Peru', 'Philippines', 'Poland', 'Portugal', 'Puerto-Rico', 'Scotland', 'South', 'Taiwan', 'Thailand', 'Trinadad&Tobago', 'United-States', 'Vietnam', 'Yugoslavia'\n",
       "'occupation'                                                                                                                                                                                                                                                                  '?', 'Adm-clerical', 'Armed-Forces', 'Craft-repair', 'Exec-managerial', 'Farming-fishing', 'Handlers-cleaners', 'Machine-op-inspct', 'Other-service', 'Priv-house-serv', 'Prof-specialty', 'Protective-serv', 'Sales', 'Tech-support', 'Transport-moving'\n",
       "'race'                                                                                                                                                                                                                                                                                                                                                                                                                                                            'Amer-Indian-Eskimo', 'Asian-Pac-Islander', 'Black', 'Other', 'White'\n",
       "'relationship'                                                                                                                                                                                                                                                                                                                                                                                                                                           'Husband', 'Not-in-family', 'Other-relative', 'Own-child', 'Unmarried', 'Wife'\n",
       "'sex'                                                                                                                                                                                                                                                                                                                                                                                                                                                                                                                  'Female', 'Male'\n",
       "'workclass'                                                                                                                                                                                                                                                                                                                                                                                                  '?', 'Federal-gov', 'Local-gov', 'Never-worked', 'Private', 'Self-emp-inc', 'Self-emp-not-inc', 'State-gov', 'Without-pay'"
      ]
     },
     "metadata": {},
     "output_type": "display_data"
    }
   ],
   "source": [
    "# Load the schema as a protocol buffer\n",
    "SCHEMA = tfdv.load_schema_text(SCHEMA_FILE)\n",
    "\n",
    "# Display the schema\n",
    "tfdv.display_schema(SCHEMA)"
   ]
  },
  {
   "cell_type": "markdown",
   "metadata": {
    "id": "UP3yuJxfNXRL"
   },
   "source": [
    "### Use the Schema to Create TFRecords\n",
    "\n",
    "TFMA needs a TFRecord file input so you need to convert the CSVs in the data directory. If you've done the earlier labs, you will know that this can be easily done with `ExampleGen`. For this notebook however, you will use the helper function below instead to demonstrate how it can be done outside a TFX pipeline. You will pass in the schema you loaded in the previous step to determine the correct type of each feature."
   ]
  },
  {
   "cell_type": "code",
   "execution_count": 7,
   "metadata": {
    "id": "8-wud3fPczl6"
   },
   "outputs": [],
   "source": [
    "# imports for helper function\n",
    "import csv\n",
    "from tensorflow.core.example import example_pb2\n",
    "from tensorflow_metadata.proto.v0 import schema_pb2\n",
    "\n",
    "def csv_to_tfrecord(schema, csv_file, tfrecord_file):\n",
    "  ''' Converts a csv file into a tfrecord\n",
    "  Args:\n",
    "    schema (schema_pb2) - Schema protobuf from TFDV\n",
    "    csv_file (string) - file to convert to tfrecord\n",
    "    tfrecord_file (string) - filename of tfrecord to create\n",
    "\n",
    "  Returns:\n",
    "    filename of tfrecord\n",
    "  '''\n",
    "\n",
    "  # Open CSV file for reading. Each row is mapped as a dictionary.\n",
    "  reader = csv.DictReader(open(csv_file, 'r'))\n",
    "  \n",
    "  # Initialize TF examples list\n",
    "  examples = []\n",
    "\n",
    "  # For each row in CSV, create a TF Example based on\n",
    "  # the Schema and append to the list\n",
    "  for line in reader:\n",
    "\n",
    "    # Intialize example\n",
    "    example = example_pb2.Example()\n",
    "\n",
    "    # Loop through features in the schema\n",
    "    for feature in schema.feature:\n",
    "\n",
    "      # Get current feature name\n",
    "      key = feature.name\n",
    "\n",
    "      # Populate values based on data type of current feature\n",
    "      if feature.type == schema_pb2.FLOAT:\n",
    "        example.features.feature[key].float_list.value[:] = (\n",
    "            [float(line[key])] if len(line[key]) > 0 else [])\n",
    "      elif feature.type == schema_pb2.INT:\n",
    "        example.features.feature[key].int64_list.value[:] = (\n",
    "            [int(line[key])] if len(line[key]) > 0 else [])\n",
    "      elif feature.type == schema_pb2.BYTES:\n",
    "        example.features.feature[key].bytes_list.value[:] = (\n",
    "            [line[key].encode('utf8')] if len(line[key]) > 0 else [])\n",
    "        \n",
    "    # Append to the list\n",
    "    examples.append(example)\n",
    "\n",
    "  # Write examples to tfrecord file\n",
    "  with tf.io.TFRecordWriter(tfrecord_file) as writer:\n",
    "    for example in examples:\n",
    "      writer.write(example.SerializeToString())\n",
    "  \n",
    "  return tfrecord_file"
   ]
  },
  {
   "cell_type": "markdown",
   "metadata": {
    "id": "sSO1fOrrYZjK"
   },
   "source": [
    "The code below will do the conversion and we've defined some more global variables that you will use in later exercises. "
   ]
  },
  {
   "cell_type": "code",
   "execution_count": 8,
   "metadata": {
    "id": "xU8R41EexIoc"
   },
   "outputs": [
    {
     "name": "stdout",
     "output_type": "stream",
     "text": [
      "files created: ['starter_files/data/tfrecord/data_test_2.tfrecord', 'starter_files/data/tfrecord/data_test_3.tfrecord', 'starter_files/data/tfrecord/data_test_1.tfrecord', 'starter_files/data/tfrecord/data_test.tfrecord']\n"
     ]
    }
   ],
   "source": [
    "# Create tfrecord directory\n",
    "!mkdir {TFRECORD_DIR}\n",
    "\n",
    "# Create list of tfrecord files\n",
    "tfrecord_files = [csv_to_tfrecord(SCHEMA, f'{CSV_DIR}/{name}', f\"{TFRECORD_DIR}/{name.replace('csv','tfrecord')}\") \n",
    "  for name in os.listdir(CSV_DIR)]\n",
    "\n",
    "# Print created files\n",
    "print(f'files created: {tfrecord_files}')\n",
    "\n",
    "# Create variables for each tfrecord\n",
    "TFRECORD_FULL = os.path.join(TFRECORD_DIR, 'data_test.tfrecord')\n",
    "TFRECORD_DAY1 = os.path.join(TFRECORD_DIR, 'data_test_1.tfrecord')\n",
    "TFRECORD_DAY2 = os.path.join(TFRECORD_DIR, 'data_test_2.tfrecord')\n",
    "TFRECORD_DAY3 = os.path.join(TFRECORD_DIR, 'data_test_3.tfrecord')\n",
    "\n",
    "# Delete unneeded variable\n",
    "del tfrecord_files"
   ]
  },
  {
   "cell_type": "markdown",
   "metadata": {
    "id": "Wr6d8JqzR8TZ"
   },
   "source": [
    "### Pretrained models\n",
    "\n",
    "Lastly, you also downloaded pretrained Keras models and they are stored in the `models/` directory. TFMA supports a number of different model types including TF Keras models, models based on generic TF2 signature APIs, as well TF estimator based models. The [get_started](https://www.tensorflow.org/tfx/model_analysis/get_started) guide has the full list of model types supported and any restrictions. You can also consult the [FAQ](https://www.tensorflow.org/tfx/model_analysis/faq) for examples on how to configure these models.\n",
    "\n",
    "We have included three models and you can choose to analyze any one of them in the later sections. These were saved in [SavedModel](https://www.tensorflow.org/guide/saved_model) format which is the default when saving with the Keras Models API."
   ]
  },
  {
   "cell_type": "code",
   "execution_count": 9,
   "metadata": {
    "id": "HQ4mjuMkR7z2"
   },
   "outputs": [
    {
     "name": "stdout",
     "output_type": "stream",
     "text": [
      "model1\tmodel2\tmodel3\r\n"
     ]
    }
   ],
   "source": [
    "# list model directories\n",
    "!ls {MODELS_DIR}\n",
    "\n",
    "# Create string variables for each model directory\n",
    "MODEL1_FILE = os.path.join(MODELS_DIR, 'model1')\n",
    "MODEL2_FILE = os.path.join(MODELS_DIR, 'model2')\n",
    "MODEL3_FILE = os.path.join(MODELS_DIR, 'model3')"
   ]
  },
  {
   "cell_type": "markdown",
   "metadata": {
    "id": "x0eQ0M7BI6IG"
   },
   "source": [
    "As mentioned earlier, these models were trained on the [Census Income dataset](http://archive.ics.uci.edu/ml/datasets/Census+Income). The label is `1` if a person earns more than 50k USD and `0` if less than or equal. You can load one of the models and look at the summary to get a sense of its architecture. All three models use the same architecture but were trained with different epochs to simulate varying performance."
   ]
  },
  {
   "cell_type": "code",
   "execution_count": 10,
   "metadata": {
    "id": "vvIEhxeMxekr"
   },
   "outputs": [
    {
     "name": "stdout",
     "output_type": "stream",
     "text": [
      "Model: \"model\"\n",
      "__________________________________________________________________________________________________\n",
      " Layer (type)                   Output Shape         Param #     Connected to                     \n",
      "==================================================================================================\n",
      " fnlwgt (InputLayer)            [(None, 1)]          0           []                               \n",
      "                                                                                                  \n",
      " education-num (InputLayer)     [(None, 1)]          0           []                               \n",
      "                                                                                                  \n",
      " capital-gain (InputLayer)      [(None, 1)]          0           []                               \n",
      "                                                                                                  \n",
      " capital-loss (InputLayer)      [(None, 1)]          0           []                               \n",
      "                                                                                                  \n",
      " hours-per-week (InputLayer)    [(None, 1)]          0           []                               \n",
      "                                                                                                  \n",
      " concatenate (Concatenate)      (None, 5)            0           ['fnlwgt[0][0]',                 \n",
      "                                                                  'education-num[0][0]',          \n",
      "                                                                  'capital-gain[0][0]',           \n",
      "                                                                  'capital-loss[0][0]',           \n",
      "                                                                  'hours-per-week[0][0]']         \n",
      "                                                                                                  \n",
      " dense (Dense)                  (None, 100)          600         ['concatenate[0][0]']            \n",
      "                                                                                                  \n",
      " dense_1 (Dense)                (None, 70)           7070        ['dense[0][0]']                  \n",
      "                                                                                                  \n",
      " education (InputLayer)         [(None, 21)]         0           []                               \n",
      "                                                                                                  \n",
      " marital-status (InputLayer)    [(None, 12)]         0           []                               \n",
      "                                                                                                  \n",
      " occupation (InputLayer)        [(None, 20)]         0           []                               \n",
      "                                                                                                  \n",
      " race (InputLayer)              [(None, 10)]         0           []                               \n",
      "                                                                                                  \n",
      " relationship (InputLayer)      [(None, 11)]         0           []                               \n",
      "                                                                                                  \n",
      " workclass (InputLayer)         [(None, 14)]         0           []                               \n",
      "                                                                                                  \n",
      " sex (InputLayer)               [(None, 7)]          0           []                               \n",
      "                                                                                                  \n",
      " native-country (InputLayer)    [(None, 47)]         0           []                               \n",
      "                                                                                                  \n",
      " age (InputLayer)               [(None, 4)]          0           []                               \n",
      "                                                                                                  \n",
      " dense_2 (Dense)                (None, 48)           3408        ['dense_1[0][0]']                \n",
      "                                                                                                  \n",
      " concatenate_1 (Concatenate)    (None, 146)          0           ['education[0][0]',              \n",
      "                                                                  'marital-status[0][0]',         \n",
      "                                                                  'occupation[0][0]',             \n",
      "                                                                  'race[0][0]',                   \n",
      "                                                                  'relationship[0][0]',           \n",
      "                                                                  'workclass[0][0]',              \n",
      "                                                                  'sex[0][0]',                    \n",
      "                                                                  'native-country[0][0]',         \n",
      "                                                                  'age[0][0]']                    \n",
      "                                                                                                  \n",
      " dense_3 (Dense)                (None, 34)           1666        ['dense_2[0][0]']                \n",
      "                                                                                                  \n",
      " dense_4 (Dense)                (None, 128)          18816       ['concatenate_1[0][0]']          \n",
      "                                                                                                  \n",
      " concatenate_2 (Concatenate)    (None, 162)          0           ['dense_3[0][0]',                \n",
      "                                                                  'dense_4[0][0]']                \n",
      "                                                                                                  \n",
      " dense_5 (Dense)                (None, 1)            163         ['concatenate_2[0][0]']          \n",
      "                                                                                                  \n",
      " transform_features_layer (Tens  multiple            0           []                               \n",
      " orFlowTransform>TransformFeatu                                                                   \n",
      " resLayer)                                                                                        \n",
      "                                                                                                  \n",
      "==================================================================================================\n",
      "Total params: 31,723\n",
      "Trainable params: 31,723\n",
      "Non-trainable params: 0\n",
      "__________________________________________________________________________________________________\n"
     ]
    }
   ],
   "source": [
    "# Load model 1\n",
    "model = tf.keras.models.load_model(MODEL1_FILE)\n",
    "\n",
    "# Print summary. You can ignore the warnings at the start.\n",
    "model.summary()"
   ]
  },
  {
   "cell_type": "markdown",
   "metadata": {
    "id": "L8P-3h-HLPtH"
   },
   "source": [
    "You can see the code to build these in the next lab. For now, you'll only need to take note of a few things. First, the output is a single dense unit with a sigmoid activation (i.e. `dense_5` above). This is standard for binary classification problems.\n",
    "\n",
    "Another is that the model is exported with a transformation layer. You can see this in the summary above at the bottom row named `transform_features_layer` and it is not connected to the other layers. From previous labs, you will know that this is taken from the graph generated by the `Transform` component. It helps to avoid training-serving skews by making sure that raw inputs are transformed in the same way that the model expects. It is also available as a `tft_layer` property of the model object."
   ]
  },
  {
   "cell_type": "code",
   "execution_count": 11,
   "metadata": {
    "id": "qjEsamx6620d"
   },
   "outputs": [
    {
     "data": {
      "text/plain": [
       "True"
      ]
     },
     "execution_count": 11,
     "metadata": {},
     "output_type": "execute_result"
    }
   ],
   "source": [
    "# Transformation layer can be accessed in two ways. These are equivalent.\n",
    "model.get_layer('transform_features_layer') is model.tft_layer"
   ]
  },
  {
   "cell_type": "markdown",
   "metadata": {
    "id": "Cvzrnszr9YL1"
   },
   "source": [
    "TFMA invokes this layer automatically for your raw inputs but we've included a short snippet below to demonstrate how the transformation works. You can see that the raw features are indeed reformatted to an acceptable input for the model. The raw numeric features are scaled and the raw categorical (string) features are encoded to one-hot vectors."
   ]
  },
  {
   "cell_type": "code",
   "execution_count": 12,
   "metadata": {
    "id": "pIUo4v_NFBuO"
   },
   "outputs": [
    {
     "name": "stdout",
     "output_type": "stream",
     "text": [
      "\n",
      "RAW FEATURES:\n",
      "age: [[25]]\n",
      "capital-gain: [[0]]\n",
      "capital-loss: [[0]]\n",
      "education: [[b'11th']]\n",
      "education-num: [[7]]\n",
      "fnlwgt: [[226802]]\n",
      "hours-per-week: [[40]]\n",
      "label: [[0]]\n",
      "marital-status: [[b'Never-married']]\n",
      "native-country: [[b'United-States']]\n",
      "occupation: [[b'Machine-op-inspct']]\n",
      "race: [[b'Black']]\n",
      "relationship: [[b'Own-child']]\n",
      "sex: [[b'Male']]\n",
      "workclass: [[b'Private']]\n",
      "\n",
      "TRANSFORMED FEATURES:\n",
      "age: [[1. 0. 0. 0.]]\n",
      "workclass: [[1. 0. 0. 0. 0. 0. 0. 0. 0. 0. 0. 0. 0. 0.]]\n",
      "education-num: [0.4]\n",
      "capital-gain: [0.]\n",
      "education: [[0. 0. 0. 0. 0. 1. 0. 0. 0. 0. 0. 0. 0. 0. 0. 0. 0. 0. 0. 0. 0.]]\n",
      "hours-per-week: [0.39795917]\n",
      "sex: [[1. 0. 0. 0. 0. 0. 0.]]\n",
      "native-country: [[1. 0. 0. 0. 0. 0. 0. 0. 0. 0. 0. 0. 0. 0. 0. 0. 0. 0. 0. 0. 0. 0. 0. 0.\n",
      "  0. 0. 0. 0. 0. 0. 0. 0. 0. 0. 0. 0. 0. 0. 0. 0. 0. 0. 0. 0. 0. 0. 0.]]\n",
      "marital-status: [[0. 1. 0. 0. 0. 0. 0. 0. 0. 0. 0. 0.]]\n",
      "fnlwgt: [0.14569008]\n",
      "relationship: [[0. 0. 1. 0. 0. 0. 0. 0. 0. 0. 0.]]\n",
      "race: [[0. 1. 0. 0. 0. 0. 0. 0. 0. 0.]]\n",
      "occupation: [[0. 0. 0. 0. 0. 0. 1. 0. 0. 0. 0. 0. 0. 0. 0. 0. 0. 0. 0. 0.]]\n",
      "capital-loss: [0.]\n"
     ]
    }
   ],
   "source": [
    "from tensorflow_transform.tf_metadata import schema_utils\n",
    "\n",
    "# Load one tfrecord\n",
    "tfrecord_file = tf.data.TFRecordDataset(TFRECORD_DAY1)\n",
    "\n",
    "# Parse schema object as a feature spec\n",
    "feature_spec = schema_utils.schema_as_feature_spec(SCHEMA).feature_spec\n",
    "\n",
    "# Create a batch from the dataset\n",
    "for records in tfrecord_file.batch(1).take(1):\n",
    "\n",
    "  # Parse the batch to get a dictionary of raw features\n",
    "  parsed_examples = tf.io.parse_example(records, feature_spec)\n",
    "\n",
    "  # Print the results\n",
    "  print(\"\\nRAW FEATURES:\")\n",
    "  for key, value in parsed_examples.items():\n",
    "    print(f'{key}: {value.numpy()}')\n",
    "  \n",
    "  # Pop the label since the model does not expect a label input\n",
    "  parsed_examples.pop('label')\n",
    "\n",
    "  # Transform the rest of the raw features using the transform layer\n",
    "  transformed_examples = model.tft_layer(parsed_examples)\n",
    "\n",
    "  # Print the input to the model\n",
    "  print(\"\\nTRANSFORMED FEATURES:\")\n",
    "  for key, value in transformed_examples.items():\n",
    "    print(f'{key}: {value.numpy()}')"
   ]
  },
  {
   "cell_type": "markdown",
   "metadata": {
    "id": "AEeCIAwXJnDr"
   },
   "source": [
    "The transformed features can be passed into the model to get the predictions. The snippet below demonstrates this and we used a low-threshold [BinaryAccuracy](https://www.tensorflow.org/api_docs/python/tf/keras/metrics/BinaryAccuracy) metric to compare the true labels and model predictions."
   ]
  },
  {
   "cell_type": "code",
   "execution_count": 13,
   "metadata": {
    "id": "FXIrFLKPyHtz"
   },
   "outputs": [
    {
     "name": "stdout",
     "output_type": "stream",
     "text": [
      "labels:\n",
      " [[0]\n",
      " [0]\n",
      " [1]\n",
      " [1]\n",
      " [0]]\n",
      "\n",
      "predictions:\n",
      " [[0.08749139]\n",
      " [0.29836026]\n",
      " [0.2780506 ]\n",
      " [0.28879786]\n",
      " [0.08491176]]\n",
      "\n",
      "binary accuracy: 0.6000000238418579\n",
      "\n"
     ]
    }
   ],
   "source": [
    "from tensorflow_transform.tf_metadata import schema_utils\n",
    "\n",
    "# Load one tfrecord\n",
    "tfrecord_file = tf.data.TFRecordDataset(TFRECORD_DAY1)\n",
    "\n",
    "# Parse schema object as a feature spec\n",
    "feature_spec = schema_utils.schema_as_feature_spec(SCHEMA).feature_spec\n",
    "\n",
    "# Create a batch from the dataset\n",
    "for records in tfrecord_file.batch(5).take(1):\n",
    "\n",
    "  # Get the label values from the raw input\n",
    "  parsed_examples = tf.io.parse_example(records, feature_spec)\n",
    "  y_true = parsed_examples.pop('label')\n",
    "  print(f'labels:\\n {y_true.numpy()}\\n')\n",
    "  \n",
    "  # Transform the raw features and pass to the model to get predictions\n",
    "  transformed_examples = model.tft_layer(parsed_examples)\n",
    "  y_pred = model(transformed_examples)\n",
    "  print(f'predictions:\\n {y_pred.numpy()}\\n')\n",
    "  \n",
    "  # Measure the binary accuracy\n",
    "  metric = tf.keras.metrics.BinaryAccuracy(threshold=0.3)\n",
    "  metric.update_state(y_true, y_pred)\n",
    "  print(f'binary accuracy: {metric.result().numpy()}\\n')"
   ]
  },
  {
   "cell_type": "markdown",
   "metadata": {
    "id": "MGFEc_P0LH8b"
   },
   "source": [
    "Last thing to note is the model is also exported with a [serving signature](https://www.tensorflow.org/guide/saved_model#specifying_signatures_during_export). You will know more about this in the next lab and in later parts of the specialization but for now, you can think of it as a configuration for when the model is deployed for inference. For this particular model, the default signature is configured to transform batches of serialized raw features before feeding to the model input. That way, you wouldn't have to explicitly code the transformations as previously shown in the snippet above. You can just pass in batches of data directly as shown below. "
   ]
  },
  {
   "cell_type": "code",
   "execution_count": 14,
   "metadata": {
    "id": "Nh9rvKbSUW_l"
   },
   "outputs": [
    {
     "name": "stdout",
     "output_type": "stream",
     "text": [
      "model signatures: _SignatureMap({'serving_default': <ConcreteFunction signature_wrapper(*, examples) at 0x7FBD4CCF0A50>})\n",
      "\n",
      "predictions:\n",
      " [[0.08749139]\n",
      " [0.29836026]\n",
      " [0.27805057]\n",
      " [0.28879786]\n",
      " [0.08491176]]\n",
      "\n"
     ]
    }
   ],
   "source": [
    "# Load one tfrecord\n",
    "tfrecord_file = tf.data.TFRecordDataset(TFRECORD_DAY1)\n",
    "\n",
    "# Print available signatures\n",
    "print(f'model signatures: {model.signatures}\\n')\n",
    "\n",
    "# Create a batch\n",
    "for records in tfrecord_file.batch(5).take(1):\n",
    "\n",
    "  # Pass the batch to the model serving signature to get predictions\n",
    "  output = model.signatures['serving_default'](examples=records)\n",
    "\n",
    "  # Print results\n",
    "  print(f\"predictions:\\n {output['outputs']}\\n\")"
   ]
  },
  {
   "cell_type": "markdown",
   "metadata": {
    "id": "8gNoFWd3N-9b"
   },
   "source": [
    "TFMA accesses this model signature so it can work with the raw data and evaluate the model to get the metrics. Not only that, it can also extract specific features and domain values from your dataset before it computes these metrics. Let's see how this is done in the next section."
   ]
  },
  {
   "cell_type": "markdown",
   "metadata": {
    "id": "fp8Ub7GTXH3j"
   },
   "source": [
    "## Setup and Run TFMA\n",
    "\n",
    "With the dataset and model now available, you can now move on to use TFMA. There are some additional steps needed:\n",
    "\n",
    "* Create a `tfma.EvalConfig` protocol message containing details about the models, metrics, and data slices you'd like to analyze\n",
    "* Create a `tfma.EvalSharedModel` that points to your saved models.\n",
    "* Specify an output path where the analysis results will be stored "
   ]
  },
  {
   "cell_type": "markdown",
   "metadata": {
    "id": "qgC7NdCatT8y"
   },
   "source": [
    "### Create the EvalConfig\n",
    "\n",
    "The [tfma.EvalConfig()](https://www.tensorflow.org/tfx/model_analysis/api_docs/python/tfma/EvalConfig?hl=nn&skip_cache=true) is a protocol message that sets up the analysis. Here, you will specify:\n",
    "\n",
    "* [`model_specs`](https://www.tensorflow.org/tfx/model_analysis/api_docs/python/tfma/ModelSpec) - message containing at least the label key so it can be extracted from the evaluation/test data\n",
    "\n",
    "* [`metrics_specs`](https://www.tensorflow.org/tfx/model_analysis/api_docs/python/tfma/MetricsSpec) - containing the metrics you would like to evaluate, as well as plots to include in the output. A comprehensive guide can be found [here](https://www.tensorflow.org/tfx/model_analysis/metrics) and you will use the binary classification metrics for this exercise.\n",
    "\n",
    "* [`slicing_specs`](https://www.tensorflow.org/tfx/model_analysis/api_docs/python/tfma/SlicingSpec) - containing the feature slices you would like to compute metrics for. A short description of different types of slices is shown [here](https://www.tensorflow.org/tfx/model_analysis/setup#slicing_specs)"
   ]
  },
  {
   "cell_type": "code",
   "execution_count": 15,
   "metadata": {
    "id": "PLJxcjpjfwkx"
   },
   "outputs": [],
   "source": [
    "eval_config = tfma.EvalConfig(\n",
    "    model_specs=[\n",
    "        # This assumes a serving model with a signature 'serving_default'.\n",
    "        tfma.ModelSpec(\n",
    "            signature_name='serving_default',\n",
    "            label_key='label'\n",
    "            )\n",
    "        ],\n",
    "    metrics_specs=[\n",
    "        tfma.MetricsSpec(\n",
    "            # The metrics added here are in addition to those saved with the\n",
    "            # model (assuming either a keras model or EvalSavedModel is used).\n",
    "            # Any metrics added into the saved model (for example using\n",
    "            # model.compile(..., metrics=[...]), etc) will be computed\n",
    "            # automatically.\n",
    "            metrics=[\n",
    "                tfma.MetricConfig(class_name='ExampleCount'),\n",
    "                tfma.MetricConfig(class_name='BinaryAccuracy'),\n",
    "                tfma.MetricConfig(class_name='CalibrationPlot'),\n",
    "                tfma.MetricConfig(class_name='ConfusionMatrixPlot'),\n",
    "            ]\n",
    "        )\n",
    "    ],\n",
    "    slicing_specs=[\n",
    "        # An empty slice spec means the overall slice, i.e. the whole dataset.\n",
    "        tfma.SlicingSpec(),\n",
    "        # Data can be sliced along a feature column.\n",
    "        tfma.SlicingSpec(\n",
    "            feature_keys=['sex']),\n",
    "        tfma.SlicingSpec(\n",
    "            feature_keys=['race']),\n",
    "        \n",
    "        # slice specific values from features\n",
    "        tfma.SlicingSpec(\n",
    "            feature_values={'native-country': 'Cambodia'}),\n",
    "        tfma.SlicingSpec(\n",
    "            feature_values={'native-country': 'Canada'}),\n",
    "        \n",
    "        # slice feature crosses\n",
    "        tfma.SlicingSpec(\n",
    "            feature_keys=['sex', 'race'])\n",
    "    ])"
   ]
  },
  {
   "cell_type": "markdown",
   "metadata": {
    "id": "J165kzHNTEQN"
   },
   "source": [
    "### Create the EvalSharedModel\n",
    "\n",
    "TFMA also requires an [EvalSharedModel](https://www.tensorflow.org/tfx/model_analysis/api_docs/python/tfma/types/EvalSharedModel) instance that points to your model so it can be shared between multiple threads in the same process. This instance includes information about the type of model (keras, etc) and how to load and configure the model from its saved location on disk (e.g. tags, etc). The [tfma.default_eval_shared_model()](https://www.tensorflow.org/tfx/model_analysis/api_docs/python/tfma/default_eval_shared_model) API can be used to create this given the model location and eval config."
   ]
  },
  {
   "cell_type": "code",
   "execution_count": 16,
   "metadata": {
    "id": "KsnjbIi5OtXb"
   },
   "outputs": [],
   "source": [
    "# Create a tfma.EvalSharedModel that points to your model.\n",
    "# You can ignore the warnings generated.\n",
    "eval_shared_model = tfma.default_eval_shared_model(\n",
    "    eval_saved_model_path=MODEL1_FILE,\n",
    "    eval_config=eval_config)"
   ]
  },
  {
   "cell_type": "code",
   "execution_count": 17,
   "metadata": {
    "id": "F0s4wWgQb2LT"
   },
   "outputs": [
    {
     "name": "stdout",
     "output_type": "stream",
     "text": [
      "EvalSharedModel contents: EvalSharedModel(model_path='starter_files/models/model1', add_metrics_callbacks=[], include_default_metrics=True, example_weight_key=None, additional_fetches=None, model_loader=<tensorflow_model_analysis.types.ModelLoader object at 0x7fbb4d943d20>, model_name='', model_type='tf_keras', rubber_stamp=False, is_baseline=False)\n"
     ]
    }
   ],
   "source": [
    "# Show properties of EvalSharedModel\n",
    "print(f'EvalSharedModel contents: {eval_shared_model}')"
   ]
  },
  {
   "cell_type": "markdown",
   "metadata": {
    "id": "pViNbIpuVYLU"
   },
   "source": [
    "### Run TFMA\n",
    "\n",
    "With the setup complete, you just need to declare an output directory then run TFMA. You will pass in the eval config, shared model, dataset, and output directory to [`tfma.run_model_analysis()`](https://www.tensorflow.org/tfx/model_analysis/api_docs/python/tfma/run_model_analysis) as shown below. This will create a [`tfma.EvalResult`](https://www.tensorflow.org/tfx/model_analysis/api_docs/python/tfma/EvalResult) which you can use later for rendering metrics and plots."
   ]
  },
  {
   "cell_type": "code",
   "execution_count": 18,
   "metadata": {
    "id": "P3ej6jgiVkuY"
   },
   "outputs": [
    {
     "data": {
      "application/javascript": [
       "\n",
       "        if (typeof window.interactive_beam_jquery == 'undefined') {\n",
       "          var jqueryScript = document.createElement('script');\n",
       "          jqueryScript.src = 'https://code.jquery.com/jquery-3.4.1.slim.min.js';\n",
       "          jqueryScript.type = 'text/javascript';\n",
       "          jqueryScript.onload = function() {\n",
       "            var datatableScript = document.createElement('script');\n",
       "            datatableScript.src = 'https://cdn.datatables.net/1.10.20/js/jquery.dataTables.min.js';\n",
       "            datatableScript.type = 'text/javascript';\n",
       "            datatableScript.onload = function() {\n",
       "              window.interactive_beam_jquery = jQuery.noConflict(true);\n",
       "              window.interactive_beam_jquery(document).ready(function($){\n",
       "                \n",
       "              });\n",
       "            }\n",
       "            document.head.appendChild(datatableScript);\n",
       "          };\n",
       "          document.head.appendChild(jqueryScript);\n",
       "        } else {\n",
       "          window.interactive_beam_jquery(document).ready(function($){\n",
       "            \n",
       "          });\n",
       "        }"
      ]
     },
     "metadata": {},
     "output_type": "display_data"
    }
   ],
   "source": [
    "# Specify output path for the evaluation results\n",
    "OUTPUT_DIR = os.path.join(BASE_DIR, 'output')\n",
    "\n",
    "# Run TFMA. You can ignore the warnings generated.\n",
    "eval_result = tfma.run_model_analysis(\n",
    "    eval_shared_model=eval_shared_model,\n",
    "    eval_config=eval_config,\n",
    "    data_location=TFRECORD_FULL,\n",
    "    output_path=OUTPUT_DIR)"
   ]
  },
  {
   "cell_type": "markdown",
   "metadata": {
    "id": "A0khNBC9FlEO"
   },
   "source": [
    "## Visualizing Metrics and Plots\n",
    "\n",
    "You can visualize the results also using TFMA methods. In this section, you will view the returned metrics and plots for the different slices you specified in the eval config."
   ]
  },
  {
   "cell_type": "markdown",
   "metadata": {
    "id": "cSl9qyTCbBKR"
   },
   "source": [
    "### Rendering Metrics\n",
    "\n",
    "You can view the metrics with the [`tfma.view.render_slicing_metrics()`](https://www.tensorflow.org/tfx/model_analysis/api_docs/python/tfma/view/render_slicing_metrics) method. By default, the views will display the `Overall` slice. To view a particular slice you can pass in a feature name to the `slicing_column` argument as shown below. You can visualize the different metrics through the `Show` dropdown menu and you can hover over the bar charts to show the exact value measured. \n",
    "\n",
    "We encourage you to try the different options you see and also modify the command. Here are some examples:\n",
    "\n",
    "* Removing the `slicing_column` argument will produce the overall slice.\n",
    "* You can also pass in `race` (since it was specified in the eval config) to see the results for that particular slice.\n",
    "* Using the `Examples (Weighted) Threshold` slider above 5421 will remove the `Female` slice because it has less examples than that.\n",
    "* Toggling the `View` dropdown to `Metrics Histogram` will show the results divided into buckets. For example, if you're slicing column is `sex` and the `Histogram Type` dropdown is at `Slice Counts`, then you will one slice in two of the 10 (default) buckets since we only have two values for that feature ('Male' and 'Female'). The x-axis show the values for the metric in the `Select Metric` dropdown. This is the default view when the number of slices is large.\n",
    "* At the bottom of the screen, you will notice the measurements also presented in tabular format. You can sort it by clicking on the feature name headers."
   ]
  },
  {
   "cell_type": "code",
   "execution_count": 19,
   "metadata": {
    "id": "hJ5_UMnWYmaE"
   },
   "outputs": [
    {
     "data": {
      "application/vnd.jupyter.widget-view+json": {
       "model_id": "5b9dd3722b1a4f368f33e9b06f934066",
       "version_major": 2,
       "version_minor": 0
      },
      "text/plain": [
       "SlicingMetricsViewer(config={'weightedExamplesColumn': 'example_count'}, data=[{'slice': 'sex:Male', 'metrics'…"
      ]
     },
     "metadata": {},
     "output_type": "display_data"
    }
   ],
   "source": [
    "# Render metrics for a feature\n",
    "# NOTE: If you don't see the visualization on the first try, please re-run this cell to generate it again.\n",
    "tfma.view.render_slicing_metrics(eval_result, slicing_column='sex')"
   ]
  },
  {
   "cell_type": "markdown",
   "metadata": {
    "id": "hSnqI6Esb1XM"
   },
   "source": [
    "### More Slices\n",
    "\n",
    "If you haven't yet, you can also pass in the `native-country` to the slicing column. The difference in this visualization is we only specified two of its values in the eval config earlier. This is useful if you just want to study a subgroup of a particular feature and not the entire domain."
   ]
  },
  {
   "cell_type": "code",
   "execution_count": 20,
   "metadata": {
    "id": "355wqvY3yBod"
   },
   "outputs": [
    {
     "data": {
      "application/vnd.jupyter.widget-view+json": {
       "model_id": "818c3d3aae844f62b2b66c3394c37c8b",
       "version_major": 2,
       "version_minor": 0
      },
      "text/plain": [
       "SlicingMetricsViewer(config={'weightedExamplesColumn': 'example_count'}, data=[{'slice': 'native-country:Cambo…"
      ]
     },
     "metadata": {},
     "output_type": "display_data"
    }
   ],
   "source": [
    "# Render metrics for feature. Review EvalConfig message to see what values were selected.\n",
    "tfma.view.render_slicing_metrics(eval_result, slicing_column='native-country')"
   ]
  },
  {
   "cell_type": "markdown",
   "metadata": {
    "id": "PsXM0NYGeajg"
   },
   "source": [
    "TFMA also supports creating feature crosses to analyze combinations of features. Our original settings created a cross between `sex` and `race` and you can pass it in as a [SlicingSpec](https://www.tensorflow.org/tfx/model_analysis/api_docs/python/tfma/SlicingSpec) as shown below."
   ]
  },
  {
   "cell_type": "code",
   "execution_count": 21,
   "metadata": {
    "id": "k7vbFS1Me1SH"
   },
   "outputs": [
    {
     "data": {
      "application/vnd.jupyter.widget-view+json": {
       "model_id": "1e9e36f22309484eb8d5263db743042d",
       "version_major": 2,
       "version_minor": 0
      },
      "text/plain": [
       "SlicingMetricsViewer(config={'weightedExamplesColumn': 'example_count'}, data=[{'slice': 'race_X_sex:Black_X_M…"
      ]
     },
     "metadata": {},
     "output_type": "display_data"
    }
   ],
   "source": [
    "# Render metrics for feature crosses\n",
    "tfma.view.render_slicing_metrics(\n",
    "    eval_result,\n",
    "    slicing_spec=tfma.SlicingSpec(\n",
    "        feature_keys=['sex', 'race']))"
   ]
  },
  {
   "cell_type": "markdown",
   "metadata": {
    "id": "GmeODqrUfJw2"
   },
   "source": [
    "In some cases, crossing the two columns creates a lot of combinations. You can narrow down the results to only look at specific values by specifying it in the `slicing_spec` argument. Below shows the results for the `sex` feature for the `Other` race."
   ]
  },
  {
   "cell_type": "code",
   "execution_count": 22,
   "metadata": {
    "id": "kdvBNfcHfRWg"
   },
   "outputs": [
    {
     "data": {
      "application/vnd.jupyter.widget-view+json": {
       "model_id": "39ee15f4b8ca4e21ac48ac23d3266796",
       "version_major": 2,
       "version_minor": 0
      },
      "text/plain": [
       "SlicingMetricsViewer(config={'weightedExamplesColumn': 'example_count'}, data=[{'slice': 'race_X_sex:Other_X_M…"
      ]
     },
     "metadata": {},
     "output_type": "display_data"
    }
   ],
   "source": [
    "# Narrow down the feature crosses by specifying feature values\n",
    "tfma.view.render_slicing_metrics(\n",
    "    eval_result,\n",
    "    slicing_spec=tfma.SlicingSpec(\n",
    "        feature_keys=['sex'], feature_values={'race': 'Other'}))"
   ]
  },
  {
   "cell_type": "markdown",
   "metadata": {
    "id": "f8acksU33KMm"
   },
   "source": [
    "### Rendering Plots\n",
    "\n",
    "Any plots that were added to the `tfma.EvalConfig` as post training `metric_specs` can be displayed using [`tfma.view.render_plot`](https://www.tensorflow.org/tfx/model_analysis/api_docs/python/tfma/view/render_plot).\n",
    "\n",
    "As with metrics, plots can be viewed by slice. Unlike metrics, only plots for a particular slice value can be displayed so the `tfma.SlicingSpec` must be used and it must specify both a slice feature name and value. If no slice is provided then the plots for the `Overall` slice is used.\n",
    "\n",
    "The example below displays the plots that were computed for the `sex:Male` slice. You can click on the names at the bottom of the graph to see a different plot type. Alternatively, you can tick the `Show all plots` checkbox to show all the plots in one screen."
   ]
  },
  {
   "cell_type": "code",
   "execution_count": 23,
   "metadata": {
    "id": "X4TCKjGw3S-a"
   },
   "outputs": [
    {
     "data": {
      "application/vnd.jupyter.widget-view+json": {
       "model_id": "25316f18b0934bba8cb75bc51df7a4ab",
       "version_major": 2,
       "version_minor": 0
      },
      "text/plain": [
       "PlotViewer(config={'sliceName': 'sex:Male', 'metricKeys': {'calibrationPlot': {'metricName': 'calibrationHisto…"
      ]
     },
     "metadata": {},
     "output_type": "display_data"
    }
   ],
   "source": [
    "# Render plots\n",
    "tfma.view.render_plot(\n",
    "    eval_result,\n",
    "    tfma.SlicingSpec(feature_values={'sex': 'Male'}))"
   ]
  },
  {
   "cell_type": "markdown",
   "metadata": {
    "id": "meRvFkKcPbux"
   },
   "source": [
    "## Tracking Model Performance Over Time\n",
    "\n",
    "Your training dataset will be used for training your model, and will hopefully be representative of your test dataset and the data that will be sent to your model in production.  However, while the data in inference requests may remain the same as your training data, it can also start to change enough so that the performance of your model will change. That means that you need to monitor and measure your model's performance on an ongoing basis so that you can be aware of and react to changes.\n",
    "\n",
    "Let's take a look at how TFMA can help. You will load three different datasets and compare the model analysis results using the [`render_time_series()`](https://www.tensorflow.org/tfx/model_analysis/api_docs/python/tfma/view/render_time_series) method."
   ]
  },
  {
   "cell_type": "code",
   "execution_count": 24,
   "metadata": {
    "id": "zJYUOjmFfuPy"
   },
   "outputs": [],
   "source": [
    "# Put data paths we prepared earlier in a list\n",
    "TFRECORDS = [TFRECORD_DAY1, TFRECORD_DAY2, TFRECORD_DAY3]\n",
    "\n",
    "# Initialize output paths list for each result \n",
    "output_paths = []\n",
    "\n",
    "# Run eval on each tfrecord separately\n",
    "for num, tfrecord in enumerate(TFRECORDS):\n",
    "\n",
    "  # Use the same model as before\n",
    "  eval_shared_model = tfma.default_eval_shared_model(\n",
    "      eval_saved_model_path=MODEL1_FILE,\n",
    "      eval_config=eval_config)\n",
    "\n",
    "  # Prepare output path name\n",
    "  output_path = os.path.join('.', 'time_series', str(num))\n",
    "  output_paths.append(output_path)\n",
    "\n",
    "  # Run TFMA on the current tfrecord in the loop\n",
    "  tfma.run_model_analysis(eval_shared_model=eval_shared_model,\n",
    "                          eval_config=eval_config,\n",
    "                          data_location=tfrecord,\n",
    "                          output_path=output_path)"
   ]
  },
  {
   "cell_type": "markdown",
   "metadata": {
    "id": "RsO-gqCRK0ar"
   },
   "source": [
    "First, imagine that you've trained and deployed your model yesterday. And now, you want to see how it's doing on the new data coming in today.  The visualization will start by displaying the Binary Accuracy. From the UI, you can:\n",
    "\n",
    "* Add other metrics using the \"Add metric series\" menu.\n",
    "* Close unwanted graphs by clicking on x\n",
    "* Hover over data points (the ends of line segments in the graph) to get more details\n",
    "\n",
    "Note: In the metric series charts, the x-axis is just the model directory name of the model that you're examining."
   ]
  },
  {
   "cell_type": "code",
   "execution_count": 25,
   "metadata": {
    "id": "KjEws8T0cDm9"
   },
   "outputs": [
    {
     "data": {
      "application/vnd.jupyter.widget-view+json": {
       "model_id": "5ce7e598b1d448478e40eace79ac1be4",
       "version_major": 2,
       "version_minor": 0
      },
      "text/plain": [
       "TimeSeriesViewer(config={'isModelCentric': True}, data=[{'metrics': {'': {'': {'binary_accuracy': {'doubleValu…"
      ]
     },
     "metadata": {},
     "output_type": "display_data"
    }
   ],
   "source": [
    "# Load results for day 1 and day 2 datasets\n",
    "eval_results_from_disk = tfma.load_eval_results(output_paths[:2])\n",
    "\n",
    "# Visualize results\n",
    "tfma.view.render_time_series(eval_results_from_disk)"
   ]
  },
  {
   "cell_type": "markdown",
   "metadata": {
    "id": "EQ7kZxESN9Bx"
   },
   "source": [
    "Now imagine that another day has passed and you want to see how it's doing on the new data coming in today."
   ]
  },
  {
   "cell_type": "code",
   "execution_count": 26,
   "metadata": {
    "id": "VjQmlXMmLwHf"
   },
   "outputs": [
    {
     "data": {
      "application/vnd.jupyter.widget-view+json": {
       "model_id": "87e6500ec029450891eaf7ba562166d9",
       "version_major": 2,
       "version_minor": 0
      },
      "text/plain": [
       "TimeSeriesViewer(config={'isModelCentric': True}, data=[{'metrics': {'': {'': {'binary_accuracy': {'doubleValu…"
      ]
     },
     "metadata": {},
     "output_type": "display_data"
    }
   ],
   "source": [
    "# Load results for all three days\n",
    "eval_results_from_disk = tfma.load_eval_results(output_paths)\n",
    "\n",
    "# Visualize the results\n",
    "tfma.view.render_time_series(eval_results_from_disk)"
   ]
  },
  {
   "cell_type": "markdown",
   "metadata": {
    "id": "oWD68u-emPN9"
   },
   "source": [
    "This type of investigation lets you see if your model is behaving poorly on new data. You can make the decision to retrain your production model based on these results. Retraining might not always produce the best results and you also need a way to detect that. You will see how TFMA helps in that regard in the next section."
   ]
  },
  {
   "cell_type": "markdown",
   "metadata": {
    "id": "N1jpShgQxlVL"
   },
   "source": [
    "## Model Validation\n",
    "\n",
    "TFMA can be configured to evaluate multiple models at the same time. Typically, this is done to compare a candidate model against a baseline (such as the currently serving model) to determine what the performance differences in metrics are. When [thresholds](https://www.tensorflow.org/tfx/model_analysis/api_docs/python/tfma/MetricThreshold) are configured, TFMA will produce a [`tfma.ValidationResult`](https://www.tensorflow.org/tfx/model_analysis/api_docs/python/tfma/ValidationResult) record indicating whether the performance matches expecations.\n",
    "\n",
    "Below, you will re-configure the EvalConfig settings to compare two models: a candidate and a baseline. You will also validate the candidate's performance against the baseline by setting a [`tmfa.MetricThreshold`](https://www.tensorflow.org/tfx/model_analysis/api_docs/python/tfma/MetricThreshold) on the `BinaryAccuracy` metric. This helps in determining if your new model can indeed replace your currently deployed model."
   ]
  },
  {
   "cell_type": "code",
   "execution_count": 27,
   "metadata": {
    "id": "kkatdR6Y1-4G"
   },
   "outputs": [],
   "source": [
    "# Setup tfma.EvalConfig setting with metric thresholds\n",
    "eval_config_with_thresholds = tfma.EvalConfig(\n",
    "    \n",
    "    # Model information\n",
    "    model_specs=[\n",
    "        # Setup candidate and baseline models\n",
    "        tfma.ModelSpec(\n",
    "            name='candidate',\n",
    "            signature_name='serving_default',\n",
    "            label_key='label',\n",
    "            ),\n",
    "        tfma.ModelSpec(\n",
    "            name='baseline',\n",
    "            signature_name='serving_default',\n",
    "            label_key='label',\n",
    "            is_baseline=True\n",
    "            ),\n",
    "        ],\n",
    "\n",
    "    ## Post training metric information\n",
    "    metrics_specs=[\n",
    "        tfma.MetricsSpec(\n",
    "            metrics=[\n",
    "                tfma.MetricConfig(class_name='ExampleCount'),\n",
    "                tfma.MetricConfig(class_name='BinaryAccuracy',\n",
    "                      threshold=tfma.MetricThreshold(\n",
    "                          value_threshold=tfma.GenericValueThreshold(\n",
    "                              \n",
    "                              # Ensure that metric is always > 0.9\n",
    "                              lower_bound={'value': 0.9}),\n",
    "                              \n",
    "                              # Ensure that metric does not drop by more than a small epsilon\n",
    "                              # e.g. (candidate - baseline) > -1e-10 or candidate > baseline - 1e-10\n",
    "                              change_threshold=tfma.GenericChangeThreshold(\n",
    "                                  direction=tfma.MetricDirection.HIGHER_IS_BETTER,\n",
    "                                  absolute={'value': -1e-10}\n",
    "                                  )\n",
    "                              )\n",
    "                      )\n",
    "            ]\n",
    "        )\n",
    "    ],\n",
    "    slicing_specs=[\n",
    "        # An empty slice spec means the overall slice, i.e. the whole dataset.\n",
    "        tfma.SlicingSpec(),\n",
    "        # Data can be sliced along a feature column.\n",
    "        tfma.SlicingSpec(\n",
    "            feature_keys=['sex']),\n",
    "        tfma.SlicingSpec(\n",
    "            feature_keys=['race']),\n",
    "    ])\n",
    "\n",
    "# Create tfma.EvalSharedModels that points to the candidate and baseline\n",
    "candidate_model_path = MODEL1_FILE\n",
    "baseline_model_path = MODEL2_FILE\n",
    "\n",
    "eval_shared_models = [\n",
    "  tfma.default_eval_shared_model(\n",
    "      model_name=tfma.CANDIDATE_KEY,\n",
    "      eval_saved_model_path=candidate_model_path,\n",
    "      eval_config=eval_config_with_thresholds),\n",
    "  tfma.default_eval_shared_model(\n",
    "      model_name=tfma.BASELINE_KEY,\n",
    "      eval_saved_model_path=baseline_model_path,\n",
    "      eval_config=eval_config_with_thresholds),\n",
    "]\n",
    "\n",
    "# Specify validation path\n",
    "validation_output_path = os.path.join(OUTPUT_DIR, 'validation')\n",
    "\n",
    "# Run TFMA on the two models\n",
    "eval_result_with_validation = tfma.run_model_analysis(\n",
    "    eval_shared_models,\n",
    "    eval_config=eval_config_with_thresholds,\n",
    "    data_location=TFRECORD_FULL,\n",
    "    output_path=validation_output_path)"
   ]
  },
  {
   "cell_type": "markdown",
   "metadata": {
    "id": "siF6npd3IfJq"
   },
   "source": [
    "When running evaluations with one or more models against a baseline, TFMA automatically adds different metrics for all the metrics computed during the evaluation. These metrics are named after the corresponding metric but with the string `_diff` appended to the metric name. A positive value for these `_diff` metrics indicates an improved performance against the baseline.\n",
    "\n",
    "Like in the previous section, you can view the results with `render_time_series()`."
   ]
  },
  {
   "cell_type": "code",
   "execution_count": 28,
   "metadata": {
    "id": "yGIw9TDuJ7wn"
   },
   "outputs": [
    {
     "data": {
      "application/vnd.jupyter.widget-view+json": {
       "model_id": "c15237e1559b459a9024a40ecc582623",
       "version_major": 2,
       "version_minor": 0
      },
      "text/plain": [
       "TimeSeriesViewer(config={'isModelCentric': True}, data=[{'metrics': {'': {'': {'binary_accuracy': {'doubleValu…"
      ]
     },
     "metadata": {},
     "output_type": "display_data"
    }
   ],
   "source": [
    "# Render results\n",
    "tfma.view.render_time_series(eval_result_with_validation)"
   ]
  },
  {
   "cell_type": "markdown",
   "metadata": {
    "id": "JIsehm_V4oKU"
   },
   "source": [
    "You can use [`tfma.load_validator_result`](https://www.tensorflow.org/tfx/model_analysis/api_docs/python/tfma/load_validation_result) to view the validation results you specified with the threshold settings. For this example, the validation fails because `BinaryAccuracy` is below the threshold."
   ]
  },
  {
   "cell_type": "code",
   "execution_count": 29,
   "metadata": {
    "id": "48EdSTUW5eE1"
   },
   "outputs": [
    {
     "name": "stdout",
     "output_type": "stream",
     "text": [
      "False\n"
     ]
    }
   ],
   "source": [
    "# Print validation result\n",
    "validation_result = tfma.load_validation_result(validation_output_path)\n",
    "print(validation_result.validation_ok)"
   ]
  },
  {
   "cell_type": "markdown",
   "metadata": {
    "id": "aBhzlF-lqRFY"
   },
   "source": [
    "**Congratulations! You have now explored the different methods of model analysis using TFMA. In the next section, you will see how these can fit into a TFX pipeline so you can automate the process and store the results in your pipeline directory and metadata store.**"
   ]
  }
 ],
 "metadata": {
  "colab": {
   "private_outputs": true,
   "provenance": []
  },
  "kernelspec": {
   "display_name": "Python 3",
   "language": "python",
   "name": "python3"
  },
  "language_info": {
   "codemirror_mode": {
    "name": "ipython",
    "version": 3
   },
   "file_extension": ".py",
   "mimetype": "text/x-python",
   "name": "python",
   "nbconvert_exporter": "python",
   "pygments_lexer": "ipython3",
   "version": "3.7.6"
  }
 },
 "nbformat": 4,
 "nbformat_minor": 1
}
