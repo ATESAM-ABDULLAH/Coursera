{
 "cells": [
  {
   "cell_type": "markdown",
   "id": "86b09de4",
   "metadata": {},
   "source": [
    "```\n",
    "i = current node\n",
    "\n",
    "2i = left child of i\n",
    "\n",
    "2i+1 = right child of i\n",
    "```"
   ]
  },
  {
   "cell_type": "markdown",
   "id": "83535ee5",
   "metadata": {},
   "source": [
    "# MIN HEAP"
   ]
  },
  {
   "cell_type": "markdown",
   "id": "17918c17",
   "metadata": {},
   "source": [
    "## Bubble Up:\n",
    "is used when **only 1 child is out of place**.\n",
    "\n",
    "**Swap child with parent** -> move up till root "
   ]
  },
  {
   "cell_type": "code",
   "execution_count": 5,
   "id": "2d1d5856",
   "metadata": {},
   "outputs": [],
   "source": [
    "def BubbleUp(Heap:list,i:int)->list:\n",
    "    if(i<1):\n",
    "        return Heap\n",
    "    else:\n",
    "        if(Heap[i]<Heap[i//2]):                     # child<parent\n",
    "            Heap[i],Heap[i//2] = Heap[i//2],Heap[i] # swap(parent,child)\n",
    "            BubbleUp(Heap,i//2)                     # call bubbleup on parent\n",
    "    return Heap"
   ]
  },
  {
   "cell_type": "markdown",
   "id": "ecb2154f",
   "metadata": {},
   "source": [
    "## Bubble Down:\n",
    "is used when **both child are out of place**.\n",
    "\n",
    "**Swap parent with smaller child** -> move down till leaf."
   ]
  },
  {
   "cell_type": "code",
   "execution_count": 181,
   "id": "1a454bca",
   "metadata": {},
   "outputs": [],
   "source": [
    "def BubbleDown(Heap:list,i:int)->list:\n",
    "    if(2*i >= len(Heap)): # no children\n",
    "        return Heap\n",
    "    if((2*i)<len(Heap) and (2*i)+1>=len(Heap)): # only 1 child\n",
    "        Heap[i],Heap[2*i] = Heap[2*i],Heap[i]   # swap(parent,left child)\n",
    "    else:                # 2 child\n",
    "        small= (2*i) if (Heap[2*1]<Heap[2*i+1]) else (2*i+1) # find smaller child                 \n",
    "        Heap[i],Heap[small]=Heap[small],Heap[i]              # swap(parent,smaller child)\n",
    "        BubbleDown(Heap,small)\n",
    "    return Heap"
   ]
  },
  {
   "cell_type": "markdown",
   "id": "baaa182c",
   "metadata": {},
   "source": [
    "## Insert\n",
    "\n",
    "Insert item to end and BubbleUp."
   ]
  },
  {
   "cell_type": "code",
   "execution_count": 147,
   "id": "bca673c8",
   "metadata": {},
   "outputs": [],
   "source": [
    "def Insert(Heap:list,new:\"item to insert\")->list:\n",
    "    if(len(Heap)>1):\n",
    "        assert type(new)==type(Heap[0]),\"New element has wrong Data Type\"\n",
    "    Heap.append(new)                  #append new element to heap\n",
    "    Heap = BubbleUp(Heap,len(Heap)-1) # Bubble up from new elemnt\n",
    "    return Heap"
   ]
  },
  {
   "cell_type": "code",
   "execution_count": 42,
   "id": "72e441bd",
   "metadata": {},
   "outputs": [
    {
     "data": {
      "text/plain": [
       "[1, 2, 2, 4, 3]"
      ]
     },
     "execution_count": 42,
     "metadata": {},
     "output_type": "execute_result"
    }
   ],
   "source": [
    "Insert([1,2,3,4],2)"
   ]
  },
  {
   "cell_type": "markdown",
   "id": "3eccd584",
   "metadata": {},
   "source": [
    "## Delete\n",
    "\n",
    "Swap ith element (to delete) with last. Bubble down from ith position. "
   ]
  },
  {
   "cell_type": "code",
   "execution_count": 148,
   "id": "28a2d520",
   "metadata": {},
   "outputs": [],
   "source": [
    "def Delete(Heap:list,remove:\"element to remove\")->list:\n",
    "    try:\n",
    "        index = Heap.index(remove) # find index to remove\n",
    "    except ValueError:\n",
    "        print(\"Item not found\")    # if item not found\n",
    "        return Heap\n",
    "    \n",
    "    Heap[index],Heap[len(Heap)-1] = Heap[len(Heap)-1],Heap[index]  # swap item to end of list\n",
    "    Heap.pop(-1)                   # pop last element\n",
    "    \n",
    "    BubbleDown(Heap,index)\n",
    "        \n",
    "    return Heap"
   ]
  },
  {
   "cell_type": "code",
   "execution_count": 184,
   "id": "b70cbd67",
   "metadata": {
    "scrolled": true
   },
   "outputs": [
    {
     "data": {
      "text/plain": [
       "[1, 2, 6, 4, 5, 7]"
      ]
     },
     "execution_count": 184,
     "metadata": {},
     "output_type": "execute_result"
    }
   ],
   "source": [
    "Delete([1,2,3,4,5,6,7],3)"
   ]
  },
  {
   "cell_type": "markdown",
   "id": "3c3facb4",
   "metadata": {},
   "source": [
    "## Heapify"
   ]
  },
  {
   "cell_type": "code",
   "execution_count": 187,
   "id": "8e617c32",
   "metadata": {},
   "outputs": [],
   "source": [
    "def Heapify(Heap:list,Min:bool)->list:\n",
    "    if(Min):\n",
    "        Heap.sort()\n",
    "    else:\n",
    "        Heap.sort(reverse=True)\n",
    "    return Heap"
   ]
  },
  {
   "cell_type": "code",
   "execution_count": 191,
   "id": "874e93d5",
   "metadata": {},
   "outputs": [
    {
     "data": {
      "text/plain": [
       "[1, 2, 3, 5, 6, 7, 8, 10]"
      ]
     },
     "execution_count": 191,
     "metadata": {},
     "output_type": "execute_result"
    }
   ],
   "source": [
    "h = [1,2,3,10,5,6,7,8]\n",
    "Heapify(Heap=h,Min=True)"
   ]
  }
 ],
 "metadata": {
  "kernelspec": {
   "display_name": "Python 3 (ipykernel)",
   "language": "python",
   "name": "python3"
  },
  "language_info": {
   "codemirror_mode": {
    "name": "ipython",
    "version": 3
   },
   "file_extension": ".py",
   "mimetype": "text/x-python",
   "name": "python",
   "nbconvert_exporter": "python",
   "pygments_lexer": "ipython3",
   "version": "3.10.6"
  }
 },
 "nbformat": 4,
 "nbformat_minor": 5
}
