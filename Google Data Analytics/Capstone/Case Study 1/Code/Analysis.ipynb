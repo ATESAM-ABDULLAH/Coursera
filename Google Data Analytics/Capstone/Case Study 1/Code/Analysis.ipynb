{
 "cells": [
  {
   "cell_type": "markdown",
   "id": "e7e0d2d5",
   "metadata": {},
   "source": [
    "### Imports"
   ]
  },
  {
   "cell_type": "code",
   "execution_count": 1,
   "id": "24725281",
   "metadata": {},
   "outputs": [],
   "source": [
    "import pandas as pd\n",
    "import numpy as np\n",
    "import seaborn as sns"
   ]
  },
  {
   "cell_type": "markdown",
   "id": "a5e97934",
   "metadata": {},
   "source": [
    "# Process"
   ]
  },
  {
   "cell_type": "markdown",
   "id": "48fd83fc",
   "metadata": {},
   "source": [
    "### Data Import"
   ]
  },
  {
   "cell_type": "code",
   "execution_count": 2,
   "id": "c85443d7",
   "metadata": {},
   "outputs": [],
   "source": [
    "df = pd.read_csv(\"../Data/merged.csv\")"
   ]
  },
  {
   "cell_type": "code",
   "execution_count": 3,
   "id": "55525145",
   "metadata": {},
   "outputs": [
    {
     "name": "stdout",
     "output_type": "stream",
     "text": [
      "<class 'pandas.core.frame.DataFrame'>\n",
      "RangeIndex: 639424 entries, 0 to 639423\n",
      "Data columns (total 13 columns):\n",
      " #   Column              Non-Null Count   Dtype  \n",
      "---  ------              --------------   -----  \n",
      " 0   ride_id             639424 non-null  object \n",
      " 1   rideable_type       639424 non-null  object \n",
      " 2   started_at          639424 non-null  object \n",
      " 3   ended_at            639424 non-null  object \n",
      " 4   start_station_name  551320 non-null  object \n",
      " 5   start_station_id    551188 non-null  object \n",
      " 6   end_station_name    546408 non-null  object \n",
      " 7   end_station_id      546267 non-null  object \n",
      " 8   start_lat           639424 non-null  float64\n",
      " 9   start_lng           639424 non-null  float64\n",
      " 10  end_lat             638998 non-null  float64\n",
      " 11  end_lng             638998 non-null  float64\n",
      " 12  member_casual       639424 non-null  object \n",
      "dtypes: float64(4), object(9)\n",
      "memory usage: 63.4+ MB\n"
     ]
    }
   ],
   "source": [
    "df.info()"
   ]
  },
  {
   "cell_type": "markdown",
   "id": "7d2af84f",
   "metadata": {},
   "source": [
    "### Calculate ride length"
   ]
  },
  {
   "cell_type": "code",
   "execution_count": 24,
   "id": "687b9ff1",
   "metadata": {},
   "outputs": [],
   "source": [
    "date_format = '%Y-%m-%d %H:%M:%S'\n",
    "ride_format = '%H:%M:%S'\n",
    "\n",
    "# Convert strings to datetime\n",
    "df['started_at'] = pd.to_datetime(df['started_at'],format=date_format)\n",
    "df['ended_at'] =  pd.to_datetime(df['ended_at'],format=date_format)\n",
    "\n",
    "# Calculate the time difference and store it in a new column\n",
    "df['ride_length'] = (df['ended_at'] - df['started_at']).dt.total_seconds()\n",
    "\n",
    "# Convert to seconds to ride_format\n",
    "df['ride_length'] = df['ride_length'].apply(lambda x: f'{int(x // 3600)}:{int((x % 3600) // 60)}:{int(x % 60)}')"
   ]
  },
  {
   "cell_type": "markdown",
   "id": "db8930af",
   "metadata": {},
   "source": [
    "Example"
   ]
  },
  {
   "cell_type": "code",
   "execution_count": 30,
   "id": "275b12ba",
   "metadata": {
    "scrolled": true
   },
   "outputs": [
    {
     "data": {
      "text/plain": [
       "0    0:10:51\n",
       "1     0:8:29\n",
       "2    0:13:14\n",
       "3     0:8:46\n",
       "4    0:15:19\n",
       "Name: ride_length, dtype: object"
      ]
     },
     "execution_count": 30,
     "metadata": {},
     "output_type": "execute_result"
    }
   ],
   "source": [
    "df['ride_length'].head()"
   ]
  },
  {
   "cell_type": "markdown",
   "id": "f6377882",
   "metadata": {},
   "source": [
    "### Calculate day of the week ride started\n",
    "1 = monday, 7 = sunday"
   ]
  },
  {
   "cell_type": "code",
   "execution_count": 28,
   "id": "7261a886",
   "metadata": {},
   "outputs": [],
   "source": [
    "df['day_of_week'] = df['started_at'].dt.day_name()"
   ]
  },
  {
   "cell_type": "markdown",
   "id": "3d44e71b",
   "metadata": {},
   "source": [
    "Example"
   ]
  },
  {
   "cell_type": "code",
   "execution_count": 29,
   "id": "71d53509",
   "metadata": {},
   "outputs": [
    {
     "data": {
      "text/plain": [
       "0    Saturday\n",
       "1     Tuesday\n",
       "2      Monday\n",
       "3      Sunday\n",
       "4    Thursday\n",
       "Name: day_of_week, dtype: object"
      ]
     },
     "execution_count": 29,
     "metadata": {},
     "output_type": "execute_result"
    }
   ],
   "source": [
    "df['day_of_week'].head()"
   ]
  },
  {
   "cell_type": "markdown",
   "id": "06ebd3e7",
   "metadata": {},
   "source": [
    "# Analyze"
   ]
  },
  {
   "cell_type": "code",
   "execution_count": null,
   "id": "1ca5d1b6",
   "metadata": {},
   "outputs": [],
   "source": [
    "### "
   ]
  }
 ],
 "metadata": {
  "kernelspec": {
   "display_name": "Python 3 (ipykernel)",
   "language": "python",
   "name": "python3"
  },
  "language_info": {
   "codemirror_mode": {
    "name": "ipython",
    "version": 3
   },
   "file_extension": ".py",
   "mimetype": "text/x-python",
   "name": "python",
   "nbconvert_exporter": "python",
   "pygments_lexer": "ipython3",
   "version": "3.10.12"
  }
 },
 "nbformat": 4,
 "nbformat_minor": 5
}
