{
 "cells": [
  {
   "cell_type": "markdown",
   "id": "3e2d91ef-e43f-4363-8943-29036ed7b484",
   "metadata": {},
   "source": [
    "## PACKAGES IMPORTS\n"
   ]
  },
  {
   "cell_type": "code",
   "execution_count": 1,
   "id": "ee6add0d-8b22-4a5c-9bb8-a09743ddfad0",
   "metadata": {},
   "outputs": [
    {
     "name": "stderr",
     "output_type": "stream",
     "text": [
      "/home/jupyterlab/conda/envs/python/lib/python3.7/site-packages/sklearn/utils/validation.py:37: DeprecationWarning: distutils Version classes are deprecated. Use packaging.version instead.\n",
      "  LARGE_SPARSE_SUPPORTED = LooseVersion(scipy_version) >= '0.14.0'\n",
      "Using TensorFlow backend.\n",
      "/home/jupyterlab/conda/envs/python/lib/python3.7/site-packages/tensorflow/python/framework/dtypes.py:516: FutureWarning: Passing (type, 1) or '1type' as a synonym of type is deprecated; in a future version of numpy, it will be understood as (type, (1,)) / '(1,)type'.\n",
      "  _np_qint8 = np.dtype([(\"qint8\", np.int8, 1)])\n",
      "/home/jupyterlab/conda/envs/python/lib/python3.7/site-packages/tensorflow/python/framework/dtypes.py:517: FutureWarning: Passing (type, 1) or '1type' as a synonym of type is deprecated; in a future version of numpy, it will be understood as (type, (1,)) / '(1,)type'.\n",
      "  _np_quint8 = np.dtype([(\"quint8\", np.uint8, 1)])\n",
      "/home/jupyterlab/conda/envs/python/lib/python3.7/site-packages/tensorflow/python/framework/dtypes.py:518: FutureWarning: Passing (type, 1) or '1type' as a synonym of type is deprecated; in a future version of numpy, it will be understood as (type, (1,)) / '(1,)type'.\n",
      "  _np_qint16 = np.dtype([(\"qint16\", np.int16, 1)])\n",
      "/home/jupyterlab/conda/envs/python/lib/python3.7/site-packages/tensorflow/python/framework/dtypes.py:519: FutureWarning: Passing (type, 1) or '1type' as a synonym of type is deprecated; in a future version of numpy, it will be understood as (type, (1,)) / '(1,)type'.\n",
      "  _np_quint16 = np.dtype([(\"quint16\", np.uint16, 1)])\n",
      "/home/jupyterlab/conda/envs/python/lib/python3.7/site-packages/tensorflow/python/framework/dtypes.py:520: FutureWarning: Passing (type, 1) or '1type' as a synonym of type is deprecated; in a future version of numpy, it will be understood as (type, (1,)) / '(1,)type'.\n",
      "  _np_qint32 = np.dtype([(\"qint32\", np.int32, 1)])\n",
      "/home/jupyterlab/conda/envs/python/lib/python3.7/site-packages/tensorflow/python/framework/dtypes.py:525: FutureWarning: Passing (type, 1) or '1type' as a synonym of type is deprecated; in a future version of numpy, it will be understood as (type, (1,)) / '(1,)type'.\n",
      "  np_resource = np.dtype([(\"resource\", np.ubyte, 1)])\n",
      "/home/jupyterlab/conda/envs/python/lib/python3.7/site-packages/tensorboard/compat/tensorflow_stub/dtypes.py:541: FutureWarning: Passing (type, 1) or '1type' as a synonym of type is deprecated; in a future version of numpy, it will be understood as (type, (1,)) / '(1,)type'.\n",
      "  _np_qint8 = np.dtype([(\"qint8\", np.int8, 1)])\n",
      "/home/jupyterlab/conda/envs/python/lib/python3.7/site-packages/tensorboard/compat/tensorflow_stub/dtypes.py:542: FutureWarning: Passing (type, 1) or '1type' as a synonym of type is deprecated; in a future version of numpy, it will be understood as (type, (1,)) / '(1,)type'.\n",
      "  _np_quint8 = np.dtype([(\"quint8\", np.uint8, 1)])\n",
      "/home/jupyterlab/conda/envs/python/lib/python3.7/site-packages/tensorboard/compat/tensorflow_stub/dtypes.py:543: FutureWarning: Passing (type, 1) or '1type' as a synonym of type is deprecated; in a future version of numpy, it will be understood as (type, (1,)) / '(1,)type'.\n",
      "  _np_qint16 = np.dtype([(\"qint16\", np.int16, 1)])\n",
      "/home/jupyterlab/conda/envs/python/lib/python3.7/site-packages/tensorboard/compat/tensorflow_stub/dtypes.py:544: FutureWarning: Passing (type, 1) or '1type' as a synonym of type is deprecated; in a future version of numpy, it will be understood as (type, (1,)) / '(1,)type'.\n",
      "  _np_quint16 = np.dtype([(\"quint16\", np.uint16, 1)])\n",
      "/home/jupyterlab/conda/envs/python/lib/python3.7/site-packages/tensorboard/compat/tensorflow_stub/dtypes.py:545: FutureWarning: Passing (type, 1) or '1type' as a synonym of type is deprecated; in a future version of numpy, it will be understood as (type, (1,)) / '(1,)type'.\n",
      "  _np_qint32 = np.dtype([(\"qint32\", np.int32, 1)])\n",
      "/home/jupyterlab/conda/envs/python/lib/python3.7/site-packages/tensorboard/compat/tensorflow_stub/dtypes.py:550: FutureWarning: Passing (type, 1) or '1type' as a synonym of type is deprecated; in a future version of numpy, it will be understood as (type, (1,)) / '(1,)type'.\n",
      "  np_resource = np.dtype([(\"resource\", np.ubyte, 1)])\n"
     ]
    }
   ],
   "source": [
    "import pandas as pd\n",
    "import numpy as np\n",
    "\n",
    "from sklearn.model_selection import train_test_split\n",
    "from sklearn.metrics import mean_squared_error\n",
    "\n",
    "import keras\n",
    "from keras.models import Sequential\n",
    "from keras.layers import Dense"
   ]
  },
  {
   "cell_type": "markdown",
   "id": "4e7399f0-03dc-4a8f-9810-4531520fe612",
   "metadata": {},
   "source": [
    "## DATA IMPORT"
   ]
  },
  {
   "cell_type": "code",
   "execution_count": 2,
   "id": "444aeb9c-d77d-4755-baf9-fb4b8d22192f",
   "metadata": {},
   "outputs": [
    {
     "data": {
      "text/html": [
       "<div>\n",
       "<style scoped>\n",
       "    .dataframe tbody tr th:only-of-type {\n",
       "        vertical-align: middle;\n",
       "    }\n",
       "\n",
       "    .dataframe tbody tr th {\n",
       "        vertical-align: top;\n",
       "    }\n",
       "\n",
       "    .dataframe thead th {\n",
       "        text-align: right;\n",
       "    }\n",
       "</style>\n",
       "<table border=\"1\" class=\"dataframe\">\n",
       "  <thead>\n",
       "    <tr style=\"text-align: right;\">\n",
       "      <th></th>\n",
       "      <th>Cement</th>\n",
       "      <th>Blast Furnace Slag</th>\n",
       "      <th>Fly Ash</th>\n",
       "      <th>Water</th>\n",
       "      <th>Superplasticizer</th>\n",
       "      <th>Coarse Aggregate</th>\n",
       "      <th>Fine Aggregate</th>\n",
       "      <th>Age</th>\n",
       "      <th>Strength</th>\n",
       "    </tr>\n",
       "  </thead>\n",
       "  <tbody>\n",
       "    <tr>\n",
       "      <th>0</th>\n",
       "      <td>540.0</td>\n",
       "      <td>0.0</td>\n",
       "      <td>0.0</td>\n",
       "      <td>162.0</td>\n",
       "      <td>2.5</td>\n",
       "      <td>1040.0</td>\n",
       "      <td>676.0</td>\n",
       "      <td>28</td>\n",
       "      <td>79.99</td>\n",
       "    </tr>\n",
       "    <tr>\n",
       "      <th>1</th>\n",
       "      <td>540.0</td>\n",
       "      <td>0.0</td>\n",
       "      <td>0.0</td>\n",
       "      <td>162.0</td>\n",
       "      <td>2.5</td>\n",
       "      <td>1055.0</td>\n",
       "      <td>676.0</td>\n",
       "      <td>28</td>\n",
       "      <td>61.89</td>\n",
       "    </tr>\n",
       "    <tr>\n",
       "      <th>2</th>\n",
       "      <td>332.5</td>\n",
       "      <td>142.5</td>\n",
       "      <td>0.0</td>\n",
       "      <td>228.0</td>\n",
       "      <td>0.0</td>\n",
       "      <td>932.0</td>\n",
       "      <td>594.0</td>\n",
       "      <td>270</td>\n",
       "      <td>40.27</td>\n",
       "    </tr>\n",
       "    <tr>\n",
       "      <th>3</th>\n",
       "      <td>332.5</td>\n",
       "      <td>142.5</td>\n",
       "      <td>0.0</td>\n",
       "      <td>228.0</td>\n",
       "      <td>0.0</td>\n",
       "      <td>932.0</td>\n",
       "      <td>594.0</td>\n",
       "      <td>365</td>\n",
       "      <td>41.05</td>\n",
       "    </tr>\n",
       "    <tr>\n",
       "      <th>4</th>\n",
       "      <td>198.6</td>\n",
       "      <td>132.4</td>\n",
       "      <td>0.0</td>\n",
       "      <td>192.0</td>\n",
       "      <td>0.0</td>\n",
       "      <td>978.4</td>\n",
       "      <td>825.5</td>\n",
       "      <td>360</td>\n",
       "      <td>44.30</td>\n",
       "    </tr>\n",
       "  </tbody>\n",
       "</table>\n",
       "</div>"
      ],
      "text/plain": [
       "   Cement  Blast Furnace Slag  Fly Ash  Water  Superplasticizer  \\\n",
       "0   540.0                 0.0      0.0  162.0               2.5   \n",
       "1   540.0                 0.0      0.0  162.0               2.5   \n",
       "2   332.5               142.5      0.0  228.0               0.0   \n",
       "3   332.5               142.5      0.0  228.0               0.0   \n",
       "4   198.6               132.4      0.0  192.0               0.0   \n",
       "\n",
       "   Coarse Aggregate  Fine Aggregate  Age  Strength  \n",
       "0            1040.0           676.0   28     79.99  \n",
       "1            1055.0           676.0   28     61.89  \n",
       "2             932.0           594.0  270     40.27  \n",
       "3             932.0           594.0  365     41.05  \n",
       "4             978.4           825.5  360     44.30  "
      ]
     },
     "execution_count": 2,
     "metadata": {},
     "output_type": "execute_result"
    }
   ],
   "source": [
    "concrete_data = pd.read_csv('https://s3-api.us-geo.objectstorage.softlayer.net/cf-courses-data/CognitiveClass/DL0101EN/labs/data/concrete_data.csv')\n",
    "concrete_data.head()"
   ]
  },
  {
   "cell_type": "code",
   "execution_count": 3,
   "id": "65fec4dd-0265-47c0-8de5-8a9371d1e2cb",
   "metadata": {},
   "outputs": [],
   "source": [
    "X = concrete_data.loc[:,concrete_data.columns!='Strength']\n",
    "Y = concrete_data.loc[:,concrete_data.columns=='Strength']\n",
    "n_cols = X.shape[1]"
   ]
  },
  {
   "cell_type": "markdown",
   "id": "ddd99e90-7f35-4338-8d40-8b07395d9ccc",
   "metadata": {},
   "source": [
    "# **A** - Baseline Model"
   ]
  },
  {
   "cell_type": "code",
   "execution_count": 4,
   "id": "89e2073f-eebe-4234-8b1d-a21af40e66c9",
   "metadata": {},
   "outputs": [],
   "source": [
    "# Define regression model\n",
    "def regression_model():\n",
    "    # Create model\n",
    "    model = Sequential()\n",
    "    model.add(Dense(10, activation='relu', input_shape=(n_cols,)))\n",
    "    model.add(Dense(1))\n",
    "    \n",
    "    # Compile model\n",
    "    model.compile(optimizer='adam', loss='mean_squared_error')\n",
    "    return model"
   ]
  },
  {
   "cell_type": "code",
   "execution_count": 5,
   "id": "fa16ac61-cb3c-4892-883d-d2d3c6ef31f1",
   "metadata": {},
   "outputs": [],
   "source": [
    "# Split data into test and train \n",
    "X_train,X_test,Y_train,Y_test = train_test_split(X,Y ,test_size = 0.3) "
   ]
  },
  {
   "cell_type": "code",
   "execution_count": 6,
   "id": "93f5bf93-6309-44bd-85ae-b44496c25496",
   "metadata": {},
   "outputs": [
    {
     "name": "stdout",
     "output_type": "stream",
     "text": [
      "WARNING:tensorflow:From /home/jupyterlab/conda/envs/python/lib/python3.7/site-packages/keras/backend/tensorflow_backend.py:68: The name tf.get_default_graph is deprecated. Please use tf.compat.v1.get_default_graph instead.\n",
      "\n",
      "WARNING:tensorflow:From /home/jupyterlab/conda/envs/python/lib/python3.7/site-packages/keras/backend/tensorflow_backend.py:508: The name tf.placeholder is deprecated. Please use tf.compat.v1.placeholder instead.\n",
      "\n",
      "WARNING:tensorflow:From /home/jupyterlab/conda/envs/python/lib/python3.7/site-packages/keras/backend/tensorflow_backend.py:3837: The name tf.random_uniform is deprecated. Please use tf.random.uniform instead.\n",
      "\n",
      "WARNING:tensorflow:From /home/jupyterlab/conda/envs/python/lib/python3.7/site-packages/keras/optimizers.py:757: The name tf.train.Optimizer is deprecated. Please use tf.compat.v1.train.Optimizer instead.\n",
      "\n",
      "WARNING:tensorflow:From /home/jupyterlab/conda/envs/python/lib/python3.7/site-packages/keras/backend/tensorflow_backend.py:977: The name tf.assign_add is deprecated. Please use tf.compat.v1.assign_add instead.\n",
      "\n",
      "WARNING:tensorflow:From /home/jupyterlab/conda/envs/python/lib/python3.7/site-packages/keras/backend/tensorflow_backend.py:964: The name tf.assign is deprecated. Please use tf.compat.v1.assign instead.\n",
      "\n"
     ]
    },
    {
     "name": "stderr",
     "output_type": "stream",
     "text": [
      "2023-02-08 09:19:39.180058: I tensorflow/core/platform/cpu_feature_guard.cc:142] Your CPU supports instructions that this TensorFlow binary was not compiled to use: SSE4.1 SSE4.2 AVX AVX2 FMA\n",
      "2023-02-08 09:19:39.190514: I tensorflow/core/platform/profile_utils/cpu_utils.cc:94] CPU Frequency: 2095145000 Hz\n",
      "2023-02-08 09:19:39.191753: I tensorflow/compiler/xla/service/service.cc:168] XLA service 0x561825700b30 executing computations on platform Host. Devices:\n",
      "2023-02-08 09:19:39.191803: I tensorflow/compiler/xla/service/service.cc:175]   StreamExecutor device (0): <undefined>, <undefined>\n",
      "2023-02-08 09:19:39.292449: W tensorflow/compiler/jit/mark_for_compilation_pass.cc:1412] (One-time warning): Not using XLA:CPU for cluster because envvar TF_XLA_FLAGS=--tf_xla_cpu_global_jit was not set.  If you want XLA:CPU, either set that envvar, or use experimental_jit_scope to enable XLA:CPU.  To confirm that XLA is active, pass --vmodule=xla_compilation_cache=1 (as a proper command-line flag, not via TF_XLA_FLAGS) or set the envvar XLA_FLAGS=--xla_hlo_profile.\n"
     ]
    },
    {
     "data": {
      "text/plain": [
       "<keras.callbacks.History at 0x7fbc4e4f5290>"
      ]
     },
     "execution_count": 6,
     "metadata": {},
     "output_type": "execute_result"
    }
   ],
   "source": [
    "# Build model\n",
    "model = regression_model()\n",
    "\n",
    "# Fit model\n",
    "model.fit(X_train,Y_train,epochs = 50,verbose=0)"
   ]
  },
  {
   "cell_type": "code",
   "execution_count": 7,
   "id": "8b96c1f4-b39c-40c2-9456-ebf8b345fbf5",
   "metadata": {},
   "outputs": [
    {
     "name": "stdout",
     "output_type": "stream",
     "text": [
      "Mean Squared Error for model is: 217.35225608984356\n"
     ]
    }
   ],
   "source": [
    "# Predict Y_test from X_test\n",
    "prediction = model.predict(X_test) \n",
    "\n",
    "# Calculate MSE prediction vs Y_test\n",
    "error = mean_squared_error(Y_test,prediction)\n",
    "print(f\"Mean Squared Error for model is: {error}\")"
   ]
  },
  {
   "cell_type": "code",
   "execution_count": 8,
   "id": "6c3ba5fa-a121-4f9a-a678-9eb06f0beb35",
   "metadata": {},
   "outputs": [],
   "source": [
    "# Function to do repeat all previous steps\n",
    "def MSE_repeat(X,Y,iterations):\n",
    "    error_list=[]\n",
    "    \n",
    "    for i in range(0,iterations):\n",
    "        X_train,X_test,Y_train,Y_test = train_test_split(X,Y ,test_size = 0.3) \n",
    "        model = regression_model()\n",
    "        model.fit(X_train,Y_train,epochs = 50,verbose=0)\n",
    "        prediction = model.predict(X_test) \n",
    "        error = mean_squared_error(Y_test,prediction)\n",
    "        error_list.append(error)\n",
    "    return error_list"
   ]
  },
  {
   "cell_type": "code",
   "execution_count": 9,
   "id": "ae21066a-06cf-47a4-9208-dbfd5276457e",
   "metadata": {},
   "outputs": [
    {
     "name": "stdout",
     "output_type": "stream",
     "text": [
      "Mean of MSE= 334.5532880704893 | Standard deviation of MSE= 397.9865187904868\n"
     ]
    }
   ],
   "source": [
    "# Run function for 50 iterations\n",
    "error_list_A = MSE_repeat(X,Y,50)\n",
    "\n",
    "#Calulate mean and std for the 50 MSE returned\n",
    "mean_MSE_A = np.mean(error_list_A)\n",
    "std_MSE_A = np.std(error_list_A)\n",
    "\n",
    "print(f\"Mean of MSE= {mean_MSE_A} | Standard deviation of MSE= {std_MSE_A}\")"
   ]
  },
  {
   "cell_type": "markdown",
   "id": "a5056ac3-c585-4224-b830-dcfc2b531137",
   "metadata": {},
   "source": [
    "## **B** - Normalize The Data"
   ]
  },
  {
   "cell_type": "code",
   "execution_count": 10,
   "id": "96573970-1d8e-486a-b287-5a2390d4ac5d",
   "metadata": {},
   "outputs": [],
   "source": [
    "# Normalize The predictors (X)\n",
    "X_norm = (X - X.mean()) / X.std()"
   ]
  },
  {
   "cell_type": "code",
   "execution_count": null,
   "id": "29ba00d1-6d10-48c7-a691-2cae601d7cc0",
   "metadata": {},
   "outputs": [],
   "source": [
    "# Run function for 50 iterations\n",
    "error_list_B = MSE_repeat(X_norm,Y,50)\n",
    "\n",
    "#Calulate mean and std for the 50 MSE returned\n",
    "mean_MSE_B = np.mean(error_list_B)\n",
    "std_MSE_B = np.std(error_list_B)\n",
    "\n",
    "print(f\"Mean of  MSE= {mean_MSE_B} | Standard deviation of  MSE= {std_MSE_B}\")"
   ]
  },
  {
   "cell_type": "markdown",
   "id": "83572788-2ffa-4d29-a7ef-c0af1499132c",
   "metadata": {},
   "source": [
    "***The mean MSE decreased and the standard deviation for MSEs also decreased. (Compared to A)***"
   ]
  },
  {
   "cell_type": "markdown",
   "id": "dfa8bed6-747b-4d50-b551-2133d1fca3c9",
   "metadata": {},
   "source": [
    "# **C** - Increase number of Epochs"
   ]
  },
  {
   "cell_type": "code",
   "execution_count": null,
   "id": "7aaab585-321f-4db3-91b0-1dd39de7de4f",
   "metadata": {},
   "outputs": [],
   "source": [
    "# Function to do repeat all previous steps\n",
    "def MSE_repeat_C(X,Y,iterations):\n",
    "    error_list=[]\n",
    "    \n",
    "    for i in range(0,iterations):\n",
    "        X_train,X_test,Y_train,Y_test = train_test_split(X,Y ,test_size = 0.3) \n",
    "        model = regression_model()\n",
    "        model.fit(X_train,Y_train,epochs = 100,verbose=0)\n",
    "        prediction = model.predict(X_test) \n",
    "        error = mean_squared_error(Y_test,prediction)\n",
    "        error_list.append(error)\n",
    "    return error_list"
   ]
  },
  {
   "cell_type": "code",
   "execution_count": null,
   "id": "f6f832b0-68d0-4485-9960-56dc9cf3bfda",
   "metadata": {},
   "outputs": [],
   "source": [
    "# Run function for 50 iterations\n",
    "error_list = MSE_repeat_C(X_norm,Y,50)\n",
    "\n",
    "#Calulate mean and std for the 50 MSE returned\n",
    "mean_MSE_C = np.mean(error_list_C)\n",
    "std_MSE_C = np.std(error_list_C)\n",
    "\n",
    "print(f\"Mean of MSE= {mean_MSE_C} | Standard deviation of MSE= {std_MSE_C}\")"
   ]
  },
  {
   "cell_type": "markdown",
   "id": "0eea465d-0464-4139-8b73-cc290377112c",
   "metadata": {},
   "source": [
    "***The mean MSE decreased and the standard deviation for MSEs also decreased. (Compared to B)***"
   ]
  },
  {
   "cell_type": "markdown",
   "id": "95a3de60-11d9-45f3-bc47-49eef45494fd",
   "metadata": {},
   "source": [
    "# **D** - Increase number of Hidden Layers"
   ]
  },
  {
   "cell_type": "code",
   "execution_count": null,
   "id": "94ab607a-e76d-455a-91a3-8911046058c9",
   "metadata": {},
   "outputs": [],
   "source": [
    "# Define regression model with increased layers\n",
    "def regression_model_D():\n",
    "    # Create model\n",
    "    model = Sequential()\n",
    "    model.add(Dense(10, activation='relu', input_shape=(n_cols,)))\n",
    "    model.add(Dense(10, activation='relu'))\n",
    "    model.add(Dense(10, activation='relu'))\n",
    "    model.add(Dense(1))\n",
    "    \n",
    "    # Compile model\n",
    "    model.compile(optimizer='adam', loss='mean_squared_error')\n",
    "    return model"
   ]
  },
  {
   "cell_type": "code",
   "execution_count": null,
   "id": "b7b996bd-e4e7-458d-8d66-f65d23d489c5",
   "metadata": {},
   "outputs": [],
   "source": [
    "# Function to do repeat all previous steps\n",
    "def MSE_repeat_D(X,Y,iterations):\n",
    "    error_list=[]\n",
    "    \n",
    "    for i in range(0,iterations):\n",
    "        X_train,X_test,Y_train,Y_test = train_test_split(X,Y ,test_size = 0.3) \n",
    "        model = regression_model_D()\n",
    "        model.fit(X_train,Y_train,epochs = 50,verbose=0)\n",
    "        prediction = model.predict(X_test) \n",
    "        error = mean_squared_error(Y_test,prediction)\n",
    "        error_list.append(error)\n",
    "    return error_list"
   ]
  },
  {
   "cell_type": "code",
   "execution_count": null,
   "id": "4b4602b8-ee8a-4a8b-93eb-44487e39ba35",
   "metadata": {},
   "outputs": [],
   "source": [
    "# Run function for 50 iterations\n",
    "error_list_D = MSE_repeat_D(X_norm,Y,50)\n",
    "\n",
    "#Calulate mean and std for the 50 MSE returned\n",
    "mean_MSE_D = np.mean(error_list_D)\n",
    "std_MSE_D = np.std(error_list_D)\n",
    "\n",
    "print(f\"Mean of 50 MSE= {mean_MSE_D} | Standard deviation of 50 MSE= {std_MSE_D}\")"
   ]
  },
  {
   "cell_type": "markdown",
   "id": "5286d64d-fa46-41d3-b797-6fc78a076fdc",
   "metadata": {},
   "source": [
    "***The mean MSE decreased and the standard deviation for MSEs also decreased. (Compared to B)***"
   ]
  }
 ],
 "metadata": {
  "kernelspec": {
   "display_name": "Python 3 (ipykernel)",
   "language": "python",
   "name": "python3"
  },
  "language_info": {
   "codemirror_mode": {
    "name": "ipython",
    "version": 3
   },
   "file_extension": ".py",
   "mimetype": "text/x-python",
   "name": "python",
   "nbconvert_exporter": "python",
   "pygments_lexer": "ipython3",
   "version": "3.10.6"
  }
 },
 "nbformat": 4,
 "nbformat_minor": 5
}
