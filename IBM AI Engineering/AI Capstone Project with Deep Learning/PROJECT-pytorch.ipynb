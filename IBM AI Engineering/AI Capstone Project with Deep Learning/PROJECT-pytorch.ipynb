{
 "cells": [
  {
   "cell_type": "markdown",
   "id": "0e83116b",
   "metadata": {},
   "source": [
    "## Imports"
   ]
  },
  {
   "cell_type": "code",
   "execution_count": 2,
   "id": "08e84062",
   "metadata": {
    "scrolled": true
   },
   "outputs": [
    {
     "ename": "ModuleNotFoundError",
     "evalue": "No module named 'torch'",
     "output_type": "error",
     "traceback": [
      "\u001b[0;31m---------------------------------------------------------------------------\u001b[0m",
      "\u001b[0;31mModuleNotFoundError\u001b[0m                       Traceback (most recent call last)",
      "Cell \u001b[0;32mIn [2], line 14\u001b[0m\n\u001b[1;32m     11\u001b[0m \u001b[38;5;28;01mimport\u001b[39;00m \u001b[38;5;21;01mglob\u001b[39;00m\n\u001b[1;32m     13\u001b[0m \u001b[38;5;66;03m#Pytorch\u001b[39;00m\n\u001b[0;32m---> 14\u001b[0m \u001b[38;5;28;01mimport\u001b[39;00m \u001b[38;5;21;01mtorch\u001b[39;00m\n\u001b[1;32m     15\u001b[0m \u001b[38;5;28;01mfrom\u001b[39;00m \u001b[38;5;21;01mtorch\u001b[39;00m\u001b[38;5;21;01m.\u001b[39;00m\u001b[38;5;21;01mutils\u001b[39;00m\u001b[38;5;21;01m.\u001b[39;00m\u001b[38;5;21;01mdata\u001b[39;00m \u001b[38;5;28;01mimport\u001b[39;00m Dataset\n",
      "\u001b[0;31mModuleNotFoundError\u001b[0m: No module named 'torch'"
     ]
    }
   ],
   "source": [
    "#Data Procssing\n",
    "import pandas\n",
    "import matplotlib.pylab as plt #numpy + pyplot as 1 library\n",
    "\n",
    "#Image Processing\n",
    "from PIL import Image\n",
    "from matplotlib.pyplot import imshow\n",
    "\n",
    "#File handling\n",
    "import os\n",
    "import glob\n",
    "\n",
    "#Pytorch\n",
    "import torch\n",
    "from torch.utils.data import Dataset\n",
    "\n",
    "#IBM library \n",
    "# import skillsnetworkb"
   ]
  },
  {
   "cell_type": "markdown",
   "id": "dcc0c13f",
   "metadata": {},
   "source": [
    "## Dataset\n",
    "\n",
    "**Link:** https://data.mendeley.com/datasets/5y9wdsg2zt/2\n",
    "\n",
    "**Size:** 203MB\n",
    "\n",
    "**Classes:** 2 - positive(cracked),negative(not cracked)\n",
    "\n",
    "**Images:** 40000 , 227 x 227, RGB channels."
   ]
  },
  {
   "cell_type": "markdown",
   "id": "9a7f16e1",
   "metadata": {},
   "source": [
    "## Helper Functions"
   ]
  },
  {
   "cell_type": "markdown",
   "id": "5f33e93e",
   "metadata": {},
   "source": [
    "Function to plot images"
   ]
  },
  {
   "cell_type": "code",
   "execution_count": 2,
   "id": "4ab13da5",
   "metadata": {},
   "outputs": [],
   "source": [
    "def show_data(data_sample, shape = (28, 28)):\n",
    "    plt.imshow(data_sample[0].numpy().reshape(shape), cmap='gray')\n",
    "    plt.title('y = ' + data_sample[1])"
   ]
  },
  {
   "cell_type": "markdown",
   "id": "5c83403e",
   "metadata": {},
   "source": [
    "Function to plot image from path"
   ]
  },
  {
   "cell_type": "code",
   "execution_count": 6,
   "id": "88fd473d",
   "metadata": {},
   "outputs": [],
   "source": [
    "def show_image(path,title):\n",
    "    image = Image.open(path)\n",
    "    plt.imshow(image)\n",
    "    plt.title(title)\n",
    "    plt.show()"
   ]
  },
  {
   "cell_type": "markdown",
   "id": "6aaffa90",
   "metadata": {},
   "source": [
    "Function to return list of images full path"
   ]
  },
  {
   "cell_type": "code",
   "execution_count": 4,
   "id": "4bf735ea",
   "metadata": {},
   "outputs": [],
   "source": [
    "def file_maker(directory,positive_directory,negative_directory):\n",
    "    positive_file_path = os.path.join(directory,positive_directory)\n",
    "    positive_files=[os.path.join(positive_file_path,file) for file in  os.listdir(positive_file_path) if file.endswith(\".jpg\")]\n",
    "    positive_files.sort()\n",
    "\n",
    "    negative_file_path = os.path.join(directory,negative_directory)\n",
    "    negative_files=[os.path.join(negative_file_path,file) for file in  os.listdir(negative_file_path) if file.endswith(\".jpg\")]\n",
    "    negative_files.sort()\n",
    "    \n",
    "    return positive_files,negative_files"
   ]
  },
  {
   "cell_type": "markdown",
   "id": "991e681e",
   "metadata": {},
   "source": [
    "Dataloader (Function to build Dataset)"
   ]
  },
  {
   "cell_type": "code",
   "execution_count": 1,
   "id": "bae48f79",
   "metadata": {},
   "outputs": [
    {
     "ename": "NameError",
     "evalue": "name 'Dataset' is not defined",
     "output_type": "error",
     "traceback": [
      "\u001b[0;31m---------------------------------------------------------------------------\u001b[0m",
      "\u001b[0;31mNameError\u001b[0m                                 Traceback (most recent call last)",
      "Cell \u001b[0;32mIn [1], line 1\u001b[0m\n\u001b[0;32m----> 1\u001b[0m \u001b[38;5;28;01mclass\u001b[39;00m \u001b[38;5;21;01mDataset\u001b[39;00m(\u001b[43mDataset\u001b[49m):\n\u001b[1;32m      2\u001b[0m \n\u001b[1;32m      3\u001b[0m     \u001b[38;5;66;03m# Constructor\u001b[39;00m\n\u001b[1;32m      4\u001b[0m     \u001b[38;5;28;01mdef\u001b[39;00m \u001b[38;5;21m__init__\u001b[39m(\u001b[38;5;28mself\u001b[39m,transform\u001b[38;5;241m=\u001b[39m\u001b[38;5;28;01mNone\u001b[39;00m,train\u001b[38;5;241m=\u001b[39m\u001b[38;5;28;01mTrue\u001b[39;00m):\n\u001b[1;32m      5\u001b[0m         directory\u001b[38;5;241m=\u001b[39m\u001b[38;5;124m\"\u001b[39m\u001b[38;5;124m/resources/data\u001b[39m\u001b[38;5;124m\"\u001b[39m\n",
      "\u001b[0;31mNameError\u001b[0m: name 'Dataset' is not defined"
     ]
    }
   ],
   "source": [
    "class Dataset(Dataset):\n",
    "\n",
    "    # Constructor\n",
    "    def __init__(self,transform=None,train=True):\n",
    "        directory=\"/resources/data\"\n",
    "        positive=\"Positive\"\n",
    "        negative=\"Negative\"\n",
    "        \n",
    "        #define paths\n",
    "        positive_file_path=os.path.join(directory,positive)\n",
    "        negative_file_path=os.path.join(directory,negative)\n",
    "        \n",
    "        #make list of full image paths\n",
    "        positive_files=[os.path.join(positive_file_path,file) for file in  os.listdir(positive_file_path) if file.endswith(\".jpg\")]\n",
    "        negative_files=[os.path.join(negative_file_path,file) for file in  os.listdir(negative_file_path) if file.endswith(\".jpg\")]\n",
    "        \n",
    "        #sort lists\n",
    "        positive_files.sort()\n",
    "        negative_files.sort()\n",
    "        \n",
    "        #total number of images\n",
    "        number_of_samples = len(positive_files) + len(negative_files)\n",
    "        \n",
    "        #Combine both list. Even = +ve, Odd = -ve\n",
    "        self.all_files=[None]*number_of_samples\n",
    "        self.all_files[::2]=positive_files\n",
    "        self.all_files[1::2]=negative_files \n",
    "        \n",
    "        # The transform is goint to be used on image\n",
    "        self.transform = transform\n",
    "        \n",
    "        #List of output class \n",
    "        self.Y=torch.zeros([number_of_samples]).type(torch.LongTensor)\n",
    "        #Even = 1/positive, Odd = 0/negative\n",
    "        self.Y[::2]=1\n",
    "        self.Y[1::2]=0\n",
    "        \n",
    "        \n",
    "        #if train on [0-30000], val on [30000-40000]\n",
    "        if train:\n",
    "            self.Y=self.Y[0:30000]\n",
    "            self.len=len(self.all_files)\n",
    "        else:\n",
    "\n",
    "            self.Y=self.Y[30000:]\n",
    "            self.len=len(self.all_files)\n",
    "       \n",
    "    # Get the length\n",
    "    def __len__(self):\n",
    "        return self.len\n",
    "    \n",
    "    # Getter\n",
    "    def __getitem__(self, idx):\n",
    "        #open image tensor and output\n",
    "        image=Image.open(self.all_files[idx])\n",
    "        y=self.Y[idx]\n",
    "          \n",
    "        # If there is any transform method, apply it onto the image\n",
    "        if self.transform:\n",
    "            image = self.transform(image)\n",
    "\n",
    "        return image, y"
   ]
  }
 ],
 "metadata": {
  "kernelspec": {
   "display_name": "Python 3 (ipykernel)",
   "language": "python",
   "name": "python3"
  },
  "language_info": {
   "codemirror_mode": {
    "name": "ipython",
    "version": 3
   },
   "file_extension": ".py",
   "mimetype": "text/x-python",
   "name": "python",
   "nbconvert_exporter": "python",
   "pygments_lexer": "ipython3",
   "version": "3.10.12"
  }
 },
 "nbformat": 4,
 "nbformat_minor": 5
}
