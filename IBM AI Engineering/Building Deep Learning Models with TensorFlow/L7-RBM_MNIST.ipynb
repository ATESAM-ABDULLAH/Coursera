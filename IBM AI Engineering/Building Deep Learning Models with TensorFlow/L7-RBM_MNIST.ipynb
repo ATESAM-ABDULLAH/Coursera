{
 "cells": [
  {
   "cell_type": "markdown",
   "metadata": {},
   "source": [
    "<img src=\"https://cf-courses-data.s3.us.cloud-object-storage.appdomain.cloud/IBMDeveloperSkillsNetwork-DL0120EN-SkillsNetwork/images/IDSN-logo.png\" width=\"300\" alt=\"cognitiveclass.ai logo\">\n",
    "\n",
    "<h1 align=\"center\"><font size=\"5\">RESTRICTED BOLTZMANN MACHINES</font></h1>\n"
   ]
  },
  {
   "cell_type": "markdown",
   "metadata": {},
   "source": [
    "Estimated time needed: **25** minutes\n"
   ]
  },
  {
   "cell_type": "markdown",
   "metadata": {},
   "source": [
    "<h3>Introduction</h3>\n",
    "<b>Restricted Boltzmann Machine (RBM):</b>  RBMs are shallow neural nets that learn to reconstruct data by themselves in an unsupervised fashion.  \n",
    "\n",
    "\n",
    "<h4>Why are RBMs important?</h4>\n",
    "An RBM are a basic form of autoencoder.  It can automatically extract <b>meaningful</b> features from a given input.\n",
    "\n",
    "\n",
    "<h4>How does it work?</h4>\n",
    "RBM is a 2 layer neural network. Simply, RBM takes the inputs and translates those into a set of binary values that represents them in the hidden layer. Then, these numbers can be translated back to reconstruct the inputs. Through several forward and backward passes, the RBM will be trained, and a trained RBM can reveal which features are the most important ones when detecting patterns.   \n",
    "\n",
    "\n",
    "<h4>What are the applications of an RBM?</h4>\n",
    "RBM is useful for <a href='http://www.cs.utoronto.ca/~hinton/absps/netflixICML.pdf?utm_medium=Exinfluencer&utm_source=Exinfluencer&utm_content=000026UJ&utm_term=10006555&utm_id=NA-SkillsNetwork-Channel-SkillsNetworkCoursesIBMDeveloperSkillsNetworkDL0120ENSkillsNetwork954-2023-01-01'>  Collaborative Filtering</a>, dimensionality reduction, classification, regression, feature learning, topic modeling and even <b>Deep Belief Networks</b>.\n",
    "\n",
    "<h4>Is RBM a generative or Discriminative model?</h4>\n",
    "RBM is a generative model. Let me explain it by first, see what is different between discriminative and generative models: \n",
    "\n",
    "<b>Discriminative:</b> Consider a classification problem where we want to learn to distinguish between Sedan cars (y = 1) and SUV cars (y = 0), based on some features of cars. Given a training set, an algorithm like logistic regression tries to find a straight line, or <i>decision boundary</i>, that separates the suv and sedan.  \n",
    "\n",
    "<b>Generative:</b> looking at cars, we can build a model of what Sedan cars look like. Then, looking at SUVs, we can build a separate model of what SUV cars look like. Finally, to classify a new car, we can match the new car against the Sedan model, and match it against the SUV model, to see whether the new car looks more like the SUV or Sedan. \n",
    "\n",
    "Generative Models specify a probability distribution over a dataset of input vectors. We can carry out both supervised and unsupervised tasks with generative models:\n",
    "<ul>\n",
    "    <li>In an unsupervised task, we try to form a model for $P(x)$, where $P$ is the probability given $x$ as an input vector.</li>\n",
    "    <li>In the supervised task, we first form a model for $P(x|y)$, where $P$ is the probability of $x$ given $y$(the label for $x$). For example, if $y = 0$ indicates that a car is an SUV, and $y = 1$ indicates that a car is a sedan, then $p(x|y = 0)$ models the distribution of SUV features, and $p(x|y = 1)$ models the distribution of sedan features. If we manage to find $P(x|y)$ and $P(y)$, then we can use <b>Bayes rule</b> to estimate $P(y|x)$, because:   \n",
    "        $$p(y|x) = \\frac{p(x|y)p(y)}{p(x)}$$</li>\n",
    "</ul>\n",
    "Now the question is, can we build a generative model, and then use it to create synthetic data by directly sampling from the modeled probability distributions? Lets see. \n"
   ]
  },
  {
   "cell_type": "markdown",
   "metadata": {},
   "source": [
    "<h2>Table of Contents</h2>\n",
    "<ol>\n",
    "    <li><a href=\"#ref1\">Initialization</a></li>\n",
    "    <li><a href=\"#ref2\">RBM layers</a></li>\n",
    "    <li><a href=\"#ref3\">What RBM can do after training?</a></li>\n",
    "    <li><a href=\"#ref4\">How to train the model?</a></li>\n",
    "    <li><a href=\"#ref5\">Learned features</a></li>\n",
    "</ol>\n",
    "<p></p>\n",
    "</div>\n",
    "<br>\n",
    "\n",
    "<hr>\n"
   ]
  },
  {
   "cell_type": "markdown",
   "metadata": {},
   "source": [
    "<a id=\"ref1\"></a>\n",
    "<h3>Initialization</h3>\n",
    "\n",
    "First, we have to load the utility file which contains different utility functions that are not connected\n",
    "in any way to the networks presented in the tutorials, but rather help in\n",
    "processing the outputs into a more understandable way.\n"
   ]
  },
  {
   "cell_type": "code",
   "execution_count": 1,
   "metadata": {},
   "outputs": [],
   "source": [
    "import urllib.request\n",
    "\n",
    "with urllib.request.urlopen(\n",
    "    \"https://cf-courses-data.s3.us.cloud-object-storage.appdomain.cloud/IBMDeveloperSkillsNetwork-DL0120EN-SkillsNetwork/labs/Week4/data/utils.py\"\n",
    ") as url:\n",
    "    response = url.read()\n",
    "target = open(\"utils.py\", \"w\")\n",
    "target.write(response.decode(\"utf-8\"))\n",
    "target.close()"
   ]
  },
  {
   "cell_type": "markdown",
   "metadata": {},
   "source": [
    "<h2>Installing TensorFlow </h2>\n",
    "\n",
    "We will installing TensorFlow version 2.9.0 and its required prerequistes.  Also installing pillow...\n"
   ]
  },
  {
   "cell_type": "code",
   "execution_count": 2,
   "metadata": {},
   "outputs": [
    {
     "name": "stdout",
     "output_type": "stream",
     "text": [
      "Collecting grpcio==1.24.3\n",
      "  Downloading grpcio-1.24.3-cp37-cp37m-manylinux2010_x86_64.whl (2.2 MB)\n",
      "\u001b[2K     \u001b[90m━━━━━━━━━━━━━━━━━━━━━━━━━━━━━━━━━━━━━━━━\u001b[0m \u001b[32m2.2/2.2 MB\u001b[0m \u001b[31m66.5 MB/s\u001b[0m eta \u001b[36m0:00:00\u001b[0m\n",
      "\u001b[?25hRequirement already satisfied: six>=1.5.2 in /home/jupyterlab/conda/envs/python/lib/python3.7/site-packages (from grpcio==1.24.3) (1.16.0)\n",
      "Installing collected packages: grpcio\n",
      "  Attempting uninstall: grpcio\n",
      "    Found existing installation: grpcio 1.48.1\n",
      "    Uninstalling grpcio-1.48.1:\n",
      "      Successfully uninstalled grpcio-1.48.1\n",
      "Successfully installed grpcio-1.24.3\n",
      "Collecting tensorflow==2.9.0\n",
      "  Downloading tensorflow-2.9.0-cp37-cp37m-manylinux_2_17_x86_64.manylinux2014_x86_64.whl (511.7 MB)\n",
      "\u001b[2K     \u001b[90m━━━━━━━━━━━━━━━━━━━━━━━━━━━━━━━━━━━━━\u001b[0m \u001b[32m511.7/511.7 MB\u001b[0m \u001b[31m954.2 kB/s\u001b[0m eta \u001b[36m0:00:00\u001b[0m00:01\u001b[0m00:01\u001b[0m\n",
      "\u001b[?25hRequirement already satisfied: absl-py>=1.0.0 in /home/jupyterlab/conda/envs/python/lib/python3.7/site-packages (from tensorflow==2.9.0) (1.4.0)\n",
      "Collecting astunparse>=1.6.0 (from tensorflow==2.9.0)\n",
      "  Downloading astunparse-1.6.3-py2.py3-none-any.whl (12 kB)\n",
      "Collecting flatbuffers<2,>=1.12 (from tensorflow==2.9.0)\n",
      "  Downloading flatbuffers-1.12-py2.py3-none-any.whl (15 kB)\n",
      "Collecting gast<=0.4.0,>=0.2.1 (from tensorflow==2.9.0)\n",
      "  Downloading gast-0.4.0-py3-none-any.whl (9.8 kB)\n",
      "Requirement already satisfied: google-pasta>=0.1.1 in /home/jupyterlab/conda/envs/python/lib/python3.7/site-packages (from tensorflow==2.9.0) (0.2.0)\n",
      "Requirement already satisfied: grpcio<2.0,>=1.24.3 in /home/jupyterlab/conda/envs/python/lib/python3.7/site-packages (from tensorflow==2.9.0) (1.24.3)\n",
      "Collecting h5py>=2.9.0 (from tensorflow==2.9.0)\n",
      "  Downloading h5py-3.8.0-cp37-cp37m-manylinux_2_17_x86_64.manylinux2014_x86_64.whl (4.3 MB)\n",
      "\u001b[2K     \u001b[90m━━━━━━━━━━━━━━━━━━━━━━━━━━━━━━━━━━━━━━━━\u001b[0m \u001b[32m4.3/4.3 MB\u001b[0m \u001b[31m95.6 MB/s\u001b[0m eta \u001b[36m0:00:00\u001b[0m:00:01\u001b[0m\n",
      "\u001b[?25hCollecting keras<2.10.0,>=2.9.0rc0 (from tensorflow==2.9.0)\n",
      "  Downloading keras-2.9.0-py2.py3-none-any.whl (1.6 MB)\n",
      "\u001b[2K     \u001b[90m━━━━━━━━━━━━━━━━━━━━━━━━━━━━━━━━━━━━━━━━\u001b[0m \u001b[32m1.6/1.6 MB\u001b[0m \u001b[31m78.5 MB/s\u001b[0m eta \u001b[36m0:00:00\u001b[0m\n",
      "\u001b[?25hRequirement already satisfied: keras-preprocessing>=1.1.1 in /home/jupyterlab/conda/envs/python/lib/python3.7/site-packages (from tensorflow==2.9.0) (1.1.2)\n",
      "Collecting libclang>=13.0.0 (from tensorflow==2.9.0)\n",
      "  Downloading libclang-16.0.6-py2.py3-none-manylinux2010_x86_64.whl (22.9 MB)\n",
      "\u001b[2K     \u001b[90m━━━━━━━━━━━━━━━━━━━━━━━━━━━━━━━━━━━━━━━━\u001b[0m \u001b[32m22.9/22.9 MB\u001b[0m \u001b[31m63.1 MB/s\u001b[0m eta \u001b[36m0:00:00\u001b[0m00:01\u001b[0m00:01\u001b[0m\n",
      "\u001b[?25hRequirement already satisfied: numpy>=1.20 in /home/jupyterlab/conda/envs/python/lib/python3.7/site-packages (from tensorflow==2.9.0) (1.21.6)\n",
      "Collecting opt-einsum>=2.3.2 (from tensorflow==2.9.0)\n",
      "  Downloading opt_einsum-3.3.0-py3-none-any.whl (65 kB)\n",
      "\u001b[2K     \u001b[90m━━━━━━━━━━━━━━━━━━━━━━━━━━━━━━━━━━━━━━━━\u001b[0m \u001b[32m65.5/65.5 kB\u001b[0m \u001b[31m14.9 MB/s\u001b[0m eta \u001b[36m0:00:00\u001b[0m\n",
      "\u001b[?25hRequirement already satisfied: packaging in /home/jupyterlab/conda/envs/python/lib/python3.7/site-packages (from tensorflow==2.9.0) (23.1)\n",
      "Requirement already satisfied: protobuf>=3.9.2 in /home/jupyterlab/conda/envs/python/lib/python3.7/site-packages (from tensorflow==2.9.0) (4.21.8)\n",
      "Requirement already satisfied: setuptools in /home/jupyterlab/conda/envs/python/lib/python3.7/site-packages (from tensorflow==2.9.0) (67.7.2)\n",
      "Requirement already satisfied: six>=1.12.0 in /home/jupyterlab/conda/envs/python/lib/python3.7/site-packages (from tensorflow==2.9.0) (1.16.0)\n",
      "Collecting tensorboard<2.10,>=2.9 (from tensorflow==2.9.0)\n",
      "  Downloading tensorboard-2.9.1-py3-none-any.whl (5.8 MB)\n",
      "\u001b[2K     \u001b[90m━━━━━━━━━━━━━━━━━━━━━━━━━━━━━━━━━━━━━━━━\u001b[0m \u001b[32m5.8/5.8 MB\u001b[0m \u001b[31m89.0 MB/s\u001b[0m eta \u001b[36m0:00:00\u001b[0m:00:01\u001b[0m\n",
      "\u001b[?25hCollecting tensorflow-io-gcs-filesystem>=0.23.1 (from tensorflow==2.9.0)\n",
      "  Downloading tensorflow_io_gcs_filesystem-0.34.0-cp37-cp37m-manylinux_2_12_x86_64.manylinux2010_x86_64.whl (2.4 MB)\n",
      "\u001b[2K     \u001b[90m━━━━━━━━━━━━━━━━━━━━━━━━━━━━━━━━━━━━━━━━\u001b[0m \u001b[32m2.4/2.4 MB\u001b[0m \u001b[31m84.6 MB/s\u001b[0m eta \u001b[36m0:00:00\u001b[0m\n",
      "\u001b[?25hCollecting tensorflow-estimator<2.10.0,>=2.9.0rc0 (from tensorflow==2.9.0)\n",
      "  Downloading tensorflow_estimator-2.9.0-py2.py3-none-any.whl (438 kB)\n",
      "\u001b[2K     \u001b[90m━━━━━━━━━━━━━━━━━━━━━━━━━━━━━━━━━━━━━━\u001b[0m \u001b[32m438.7/438.7 kB\u001b[0m \u001b[31m41.6 MB/s\u001b[0m eta \u001b[36m0:00:00\u001b[0m\n",
      "\u001b[?25hRequirement already satisfied: termcolor>=1.1.0 in /home/jupyterlab/conda/envs/python/lib/python3.7/site-packages (from tensorflow==2.9.0) (2.3.0)\n",
      "Requirement already satisfied: typing-extensions>=3.6.6 in /home/jupyterlab/conda/envs/python/lib/python3.7/site-packages (from tensorflow==2.9.0) (4.5.0)\n",
      "Requirement already satisfied: wrapt>=1.11.0 in /home/jupyterlab/conda/envs/python/lib/python3.7/site-packages (from tensorflow==2.9.0) (1.14.1)\n",
      "Requirement already satisfied: wheel<1.0,>=0.23.0 in /home/jupyterlab/conda/envs/python/lib/python3.7/site-packages (from astunparse>=1.6.0->tensorflow==2.9.0) (0.40.0)\n",
      "Collecting google-auth<3,>=1.6.3 (from tensorboard<2.10,>=2.9->tensorflow==2.9.0)\n",
      "  Downloading google_auth-2.22.0-py2.py3-none-any.whl (181 kB)\n",
      "\u001b[2K     \u001b[90m━━━━━━━━━━━━━━━━━━━━━━━━━━━━━━━━━━━━━━\u001b[0m \u001b[32m181.8/181.8 kB\u001b[0m \u001b[31m30.8 MB/s\u001b[0m eta \u001b[36m0:00:00\u001b[0m\n",
      "\u001b[?25hCollecting google-auth-oauthlib<0.5,>=0.4.1 (from tensorboard<2.10,>=2.9->tensorflow==2.9.0)\n",
      "  Downloading google_auth_oauthlib-0.4.6-py2.py3-none-any.whl (18 kB)\n",
      "Requirement already satisfied: markdown>=2.6.8 in /home/jupyterlab/conda/envs/python/lib/python3.7/site-packages (from tensorboard<2.10,>=2.9->tensorflow==2.9.0) (3.4.3)\n",
      "Collecting protobuf>=3.9.2 (from tensorflow==2.9.0)\n",
      "  Downloading protobuf-3.19.6-cp37-cp37m-manylinux_2_17_x86_64.manylinux2014_x86_64.whl (1.1 MB)\n",
      "\u001b[2K     \u001b[90m━━━━━━━━━━━━━━━━━━━━━━━━━━━━━━━━━━━━━━━━\u001b[0m \u001b[32m1.1/1.1 MB\u001b[0m \u001b[31m75.2 MB/s\u001b[0m eta \u001b[36m0:00:00\u001b[0m\n",
      "\u001b[?25hRequirement already satisfied: requests<3,>=2.21.0 in /home/jupyterlab/conda/envs/python/lib/python3.7/site-packages (from tensorboard<2.10,>=2.9->tensorflow==2.9.0) (2.29.0)\n",
      "Collecting tensorboard-data-server<0.7.0,>=0.6.0 (from tensorboard<2.10,>=2.9->tensorflow==2.9.0)\n",
      "  Downloading tensorboard_data_server-0.6.1-py3-none-manylinux2010_x86_64.whl (4.9 MB)\n",
      "\u001b[2K     \u001b[90m━━━━━━━━━━━━━━━━━━━━━━━━━━━━━━━━━━━━━━━━\u001b[0m \u001b[32m4.9/4.9 MB\u001b[0m \u001b[31m104.7 MB/s\u001b[0m eta \u001b[36m0:00:00\u001b[0m00:01\u001b[0m\n",
      "\u001b[?25hCollecting tensorboard-plugin-wit>=1.6.0 (from tensorboard<2.10,>=2.9->tensorflow==2.9.0)\n",
      "  Downloading tensorboard_plugin_wit-1.8.1-py3-none-any.whl (781 kB)\n",
      "\u001b[2K     \u001b[90m━━━━━━━━━━━━━━━━━━━━━━━━━━━━━━━━━━━━━━\u001b[0m \u001b[32m781.3/781.3 kB\u001b[0m \u001b[31m69.8 MB/s\u001b[0m eta \u001b[36m0:00:00\u001b[0m\n",
      "\u001b[?25hRequirement already satisfied: werkzeug>=1.0.1 in /home/jupyterlab/conda/envs/python/lib/python3.7/site-packages (from tensorboard<2.10,>=2.9->tensorflow==2.9.0) (2.2.3)\n",
      "Collecting cachetools<6.0,>=2.0.0 (from google-auth<3,>=1.6.3->tensorboard<2.10,>=2.9->tensorflow==2.9.0)\n",
      "  Downloading cachetools-5.3.1-py3-none-any.whl (9.3 kB)\n",
      "Requirement already satisfied: pyasn1-modules>=0.2.1 in /home/jupyterlab/conda/envs/python/lib/python3.7/site-packages (from google-auth<3,>=1.6.3->tensorboard<2.10,>=2.9->tensorflow==2.9.0) (0.3.0)\n",
      "Collecting rsa<5,>=3.1.4 (from google-auth<3,>=1.6.3->tensorboard<2.10,>=2.9->tensorflow==2.9.0)\n",
      "  Downloading rsa-4.9-py3-none-any.whl (34 kB)\n",
      "Requirement already satisfied: urllib3<2.0 in /home/jupyterlab/conda/envs/python/lib/python3.7/site-packages (from google-auth<3,>=1.6.3->tensorboard<2.10,>=2.9->tensorflow==2.9.0) (1.26.15)\n",
      "Collecting requests-oauthlib>=0.7.0 (from google-auth-oauthlib<0.5,>=0.4.1->tensorboard<2.10,>=2.9->tensorflow==2.9.0)\n",
      "  Downloading requests_oauthlib-1.3.1-py2.py3-none-any.whl (23 kB)\n",
      "Requirement already satisfied: importlib-metadata>=4.4 in /home/jupyterlab/conda/envs/python/lib/python3.7/site-packages (from markdown>=2.6.8->tensorboard<2.10,>=2.9->tensorflow==2.9.0) (4.11.4)\n",
      "Requirement already satisfied: charset-normalizer<4,>=2 in /home/jupyterlab/conda/envs/python/lib/python3.7/site-packages (from requests<3,>=2.21.0->tensorboard<2.10,>=2.9->tensorflow==2.9.0) (3.1.0)\n",
      "Requirement already satisfied: idna<4,>=2.5 in /home/jupyterlab/conda/envs/python/lib/python3.7/site-packages (from requests<3,>=2.21.0->tensorboard<2.10,>=2.9->tensorflow==2.9.0) (3.4)\n",
      "Requirement already satisfied: certifi>=2017.4.17 in /home/jupyterlab/conda/envs/python/lib/python3.7/site-packages (from requests<3,>=2.21.0->tensorboard<2.10,>=2.9->tensorflow==2.9.0) (2023.5.7)\n",
      "Requirement already satisfied: MarkupSafe>=2.1.1 in /home/jupyterlab/conda/envs/python/lib/python3.7/site-packages (from werkzeug>=1.0.1->tensorboard<2.10,>=2.9->tensorflow==2.9.0) (2.1.1)\n",
      "Requirement already satisfied: zipp>=0.5 in /home/jupyterlab/conda/envs/python/lib/python3.7/site-packages (from importlib-metadata>=4.4->markdown>=2.6.8->tensorboard<2.10,>=2.9->tensorflow==2.9.0) (3.15.0)\n",
      "Requirement already satisfied: pyasn1<0.6.0,>=0.4.6 in /home/jupyterlab/conda/envs/python/lib/python3.7/site-packages (from pyasn1-modules>=0.2.1->google-auth<3,>=1.6.3->tensorboard<2.10,>=2.9->tensorflow==2.9.0) (0.5.0)\n",
      "Collecting oauthlib>=3.0.0 (from requests-oauthlib>=0.7.0->google-auth-oauthlib<0.5,>=0.4.1->tensorboard<2.10,>=2.9->tensorflow==2.9.0)\n",
      "  Downloading oauthlib-3.2.2-py3-none-any.whl (151 kB)\n",
      "\u001b[2K     \u001b[90m━━━━━━━━━━━━━━━━━━━━━━━━━━━━━━━━━━━━━━\u001b[0m \u001b[32m151.7/151.7 kB\u001b[0m \u001b[31m26.9 MB/s\u001b[0m eta \u001b[36m0:00:00\u001b[0m\n",
      "\u001b[?25hInstalling collected packages: tensorboard-plugin-wit, libclang, keras, flatbuffers, tensorflow-io-gcs-filesystem, tensorflow-estimator, tensorboard-data-server, rsa, protobuf, opt-einsum, oauthlib, h5py, gast, cachetools, astunparse, requests-oauthlib, google-auth, google-auth-oauthlib, tensorboard, tensorflow\n",
      "  Attempting uninstall: keras\n",
      "    Found existing installation: Keras 2.1.6\n",
      "    Uninstalling Keras-2.1.6:\n",
      "      Successfully uninstalled Keras-2.1.6\n",
      "  Attempting uninstall: tensorflow-estimator\n",
      "    Found existing installation: tensorflow-estimator 1.14.0\n",
      "    Uninstalling tensorflow-estimator-1.14.0:\n",
      "      Successfully uninstalled tensorflow-estimator-1.14.0\n",
      "  Attempting uninstall: protobuf\n",
      "    Found existing installation: protobuf 4.21.8\n",
      "    Uninstalling protobuf-4.21.8:\n",
      "      Successfully uninstalled protobuf-4.21.8\n",
      "  Attempting uninstall: h5py\n",
      "    Found existing installation: h5py 2.8.0\n",
      "    Uninstalling h5py-2.8.0:\n",
      "      Successfully uninstalled h5py-2.8.0\n",
      "  Attempting uninstall: gast\n",
      "    Found existing installation: gast 0.5.3\n",
      "    Uninstalling gast-0.5.3:\n",
      "      Successfully uninstalled gast-0.5.3\n",
      "  Attempting uninstall: tensorboard\n",
      "    Found existing installation: tensorboard 1.14.0\n",
      "    Uninstalling tensorboard-1.14.0:\n",
      "      Successfully uninstalled tensorboard-1.14.0\n",
      "  Attempting uninstall: tensorflow\n",
      "    Found existing installation: tensorflow 1.14.0\n",
      "    Uninstalling tensorflow-1.14.0:\n",
      "      Successfully uninstalled tensorflow-1.14.0\n",
      "Successfully installed astunparse-1.6.3 cachetools-5.3.1 flatbuffers-1.12 gast-0.4.0 google-auth-2.22.0 google-auth-oauthlib-0.4.6 h5py-3.8.0 keras-2.9.0 libclang-16.0.6 oauthlib-3.2.2 opt-einsum-3.3.0 protobuf-3.19.6 requests-oauthlib-1.3.1 rsa-4.9 tensorboard-2.9.1 tensorboard-data-server-0.6.1 tensorboard-plugin-wit-1.8.1 tensorflow-2.9.0 tensorflow-estimator-2.9.0 tensorflow-io-gcs-filesystem-0.34.0\n",
      "Requirement already satisfied: pillow==8.1.0 in /home/jupyterlab/conda/envs/python/lib/python3.7/site-packages (8.1.0)\n"
     ]
    }
   ],
   "source": [
    "!pip install grpcio==1.24.3\n",
    "!pip install tensorflow==2.9.0\n",
    "!pip install pillow==8.1.0"
   ]
  },
  {
   "cell_type": "markdown",
   "metadata": {},
   "source": [
    "<b>Notice:</b> This notebook has been created with TensorFlow version 2.9.0, and might not work with other versions. Therefore we check:\n"
   ]
  },
  {
   "cell_type": "code",
   "execution_count": 3,
   "metadata": {},
   "outputs": [
    {
     "name": "stderr",
     "output_type": "stream",
     "text": [
      "2023-09-11 16:27:53.204296: I tensorflow/core/util/util.cc:169] oneDNN custom operations are on. You may see slightly different numerical results due to floating-point round-off errors from different computation orders. To turn them off, set the environment variable `TF_ENABLE_ONEDNN_OPTS=0`.\n",
      "2023-09-11 16:27:53.209216: W tensorflow/stream_executor/platform/default/dso_loader.cc:64] Could not load dynamic library 'libcudart.so.11.0'; dlerror: libcudart.so.11.0: cannot open shared object file: No such file or directory\n",
      "2023-09-11 16:27:53.209244: I tensorflow/stream_executor/cuda/cudart_stub.cc:29] Ignore above cudart dlerror if you do not have a GPU set up on your machine.\n"
     ]
    }
   ],
   "source": [
    "import tensorflow as tf\n",
    "from IPython.display import Markdown, display\n",
    "\n",
    "\n",
    "def printmd(string):\n",
    "    display(Markdown('# <span style=\"color:red\">' + string + \"</span>\"))\n",
    "\n",
    "\n",
    "if not tf.__version__ == \"2.9.0\":\n",
    "    printmd(\n",
    "        \"<<<<<!!!!! ERROR !!!! please upgrade to TensorFlow 2.9.0, or restart your Kernel (Kernel->Restart & Clear Output)>>>>>\"\n",
    "    )"
   ]
  },
  {
   "cell_type": "markdown",
   "metadata": {},
   "source": [
    "Now, we load in all the packages that we use to create the net including the TensorFlow package:\n"
   ]
  },
  {
   "cell_type": "code",
   "execution_count": 12,
   "metadata": {},
   "outputs": [],
   "source": [
    "import tensorflow as tf\n",
    "import numpy as np\n",
    "\n",
    "from PIL import Image\n",
    "from utils1 import tile_raster_images\n",
    "import matplotlib.pyplot as plt\n",
    "\n",
    "%matplotlib inline"
   ]
  },
  {
   "cell_type": "markdown",
   "metadata": {},
   "source": [
    "<hr>\n"
   ]
  },
  {
   "cell_type": "markdown",
   "metadata": {},
   "source": [
    "<a id=\"ref2\"></a>\n",
    "<h3>RBM layers</h3>\n",
    "\n",
    "An RBM has two layers. The first layer of the RBM is called the <b>visible</b> (or input layer). Imagine that our toy example, has only vectors with 7 values, so the visible layer must have $V=7$ input nodes. \n",
    "The second layer is the <b>hidden</b> layer, which has $H$ neurons in our case. Each hidden node takes on values of either 0 or 1 (i.e., $h_i = 1$ or $h_i$ = 0), with a probability that is a logistic function of the inputs it receives from the other $V$ visible units, called for example, $p(h_i = 1)$. For our toy sample, we'll use 2 nodes in the hidden layer, so $H = 2$.\n",
    "\n",
    "<center><img src=\"https://ibm.box.com/shared/static/eu26opvcefgls6vnwuo29uwp0nudmokh.png\" alt=\"RBM Model\" style=\"width: 400px;\"></center>\n"
   ]
  },
  {
   "cell_type": "markdown",
   "metadata": {},
   "source": [
    "     \n",
    "\n",
    "Each node in the first layer also has a <b>bias</b>. We will denote the bias as $v_{bias}$, and this single value is shared among the $V$ visible units.\n",
    "\n",
    "The <b>bias</b> of the second is defined similarly as $h_{bias}$, and this single value among the $H$ hidden units.\n"
   ]
  },
  {
   "cell_type": "code",
   "execution_count": 13,
   "metadata": {},
   "outputs": [
    {
     "name": "stderr",
     "output_type": "stream",
     "text": [
      "2023-09-11 16:35:12.789161: W tensorflow/stream_executor/platform/default/dso_loader.cc:64] Could not load dynamic library 'libcuda.so.1'; dlerror: libcuda.so.1: cannot open shared object file: No such file or directory\n",
      "2023-09-11 16:35:12.789223: W tensorflow/stream_executor/cuda/cuda_driver.cc:269] failed call to cuInit: UNKNOWN ERROR (303)\n",
      "2023-09-11 16:35:12.789256: I tensorflow/stream_executor/cuda/cuda_diagnostics.cc:156] kernel driver does not appear to be running on this host (jupyterlab-atesamabdull): /proc/driver/nvidia/version does not exist\n",
      "2023-09-11 16:35:12.789831: I tensorflow/core/platform/cpu_feature_guard.cc:193] This TensorFlow binary is optimized with oneAPI Deep Neural Network Library (oneDNN) to use the following CPU instructions in performance-critical operations:  AVX2 AVX512F AVX512_VNNI FMA\n",
      "To enable them in other operations, rebuild TensorFlow with the appropriate compiler flags.\n"
     ]
    }
   ],
   "source": [
    "v_bias = tf.Variable(tf.zeros([7]), tf.float32)\n",
    "h_bias = tf.Variable(tf.zeros([2]), tf.float32)"
   ]
  },
  {
   "cell_type": "markdown",
   "metadata": {},
   "source": [
    "We have to define weights among the input layer and hidden layer nodes. In the weight matrix, the number of rows are equal to the input nodes, and the number of columns are equal to the output nodes. We define a tensor $\\mathbf{W}$ of shape = (7,2), where the number of visible neurons = 7, and the number of hidden neurons = 2. \n"
   ]
  },
  {
   "cell_type": "code",
   "execution_count": 14,
   "metadata": {},
   "outputs": [],
   "source": [
    "W = tf.constant(np.random.normal(loc=0.0, scale=1.0, size=(7, 2)).astype(np.float32))"
   ]
  },
  {
   "cell_type": "markdown",
   "metadata": {},
   "source": [
    "<hr>\n"
   ]
  },
  {
   "cell_type": "markdown",
   "metadata": {},
   "source": [
    "<a id=\"ref3\"></a>\n",
    "<h3>What RBM can do after training?</h3>\n",
    "Think of RBM as a model that has been trained based on images of a dataset of many SUV and sedan cars. Also, imagine that the RBM network has only two hidden nodes, where one node encodes the weight and, and the other encodes the size.  \n",
    "In a sense, the different configurations represent different cars, where one is an SUV and the other is Sedan.  In a training process, through many forward and backward passes, the RBM adjust its weights to send a stronger signal to either the SUV node (0, 1) or the sedan node (1, 0) in the hidden layer, given the pixels of images. Now, given an SUV in hidden layer, which distribution of pixels should we expect? RBM can give you 2 things. First, it encodes your images in hidden layer. Second, it gives you the probability of observing a case, given some hidden values.\n",
    "\n",
    "\n",
    "<h3>The Inference Process</h3>\n",
    "\n",
    "RBM has two phases:\n",
    "<ul>\n",
    "    <li>Forward Pass</li>  \n",
    "    <li>Backward Pass or Reconstruction</li>\n",
    "</ul>\n",
    "\n",
    "<b>Phase 1) Forward pass:</b>  \n",
    "\n",
    "Input one training sample (one image) $\\mathbf{x}$ through all visible nodes, and pass it to all hidden nodes. Processing happens in each node in the hidden layer. This computation begins by making stochastic decisions about whether to transmit that input or not (i.e. to determine the state of each hidden layer).  First, the probability vector is computed using the input feature vector $\\mathbf{x}$, the weight matrix $\\mathbf{W}$, and the bias term $h_{bias}$, as \n",
    "\n",
    "\n",
    "$$p({h_j}|\\mathbf x)= \\sigma( \\sum_{i=1}^V W_{ij} x_i + h_{bias} )$$, \n",
    "\n",
    "where $\\sigma(z) = (1+e^{-z})^{-1}$ is the logistic function.\n",
    "\n",
    "\n",
    "So, what does $p({h_j})$ represent? It is the <b>probability distribution</b> of the hidden units. That is, RBM uses inputs $x_i$ to make predictions about hidden node activations. For example, imagine that the hidden node activation values are [0.51 0.84] for the first training item. It tells you that the conditional probability for each hidden neuron for Phase 1 is: \n",
    "\n",
    "$$p(h_{1} = 1|\\mathbf{v}) = 0.51$$\n",
    "$$p(h_{2} = 1|\\mathbf{v}) = 0.84$$\n",
    "\n",
    "As a result, for each row in the training set, vector of probabilities is generated.  In TensorFlow, this is referred to as a `tensor` with a shape of (1,2). \n",
    "\n",
    "We then turn unit $j$ with probability $p(h_{j}|\\mathbf{v})$, and turn it off with probability $1 - p(h_{j}|\\mathbf{v})$ by generating a uniform random number vector $\\mathbf{\\xi}$, and comparing it to the activation probability as \n",
    "\n",
    "<center>If $\\xi_j>p(h_{j}|\\mathbf{v})$, then $h_j=1$, else $h_j=0$.</center>\n",
    "\n",
    "\n",
    "Therefore, the conditional probability of a configuration of $\\mathbf{h}$ given $\\mathbf{v}$ (for a training sample) is:\n",
    "\n",
    "$$p(\\mathbf{h} \\mid \\mathbf{v}) = \\prod_{j=1}^H p(h_j \\mid \\mathbf{v})$$\n",
    "\n",
    "\n",
    "where $H$ is the number of hidden units.\n",
    "\n"
   ]
  },
  {
   "cell_type": "markdown",
   "metadata": {},
   "source": [
    "Before we go further, let's look at a toy example for one case out of all input. Assume that we have a trained RBM, and a very simple input vector, such as [1.0, 0.0, 0.0, 1.0, 0.0, 0.0, 0.0].   \n",
    "Let's see what the output of forward pass would look like:\n"
   ]
  },
  {
   "cell_type": "code",
   "execution_count": 15,
   "metadata": {},
   "outputs": [
    {
     "name": "stdout",
     "output_type": "stream",
     "text": [
      "Input:  tf.Tensor([[1. 0. 0. 1. 0. 0. 0.]], shape=(1, 7), dtype=float32)\n",
      "hb:  tf.Tensor([0.1 0.1], shape=(2,), dtype=float32)\n",
      "w:  tf.Tensor(\n",
      "[[ 0.41655743 -0.15984482]\n",
      " [ 0.7601061   1.4257498 ]\n",
      " [-0.9362505   0.9948688 ]\n",
      " [-1.002008    1.5797819 ]\n",
      " [-0.8180337   0.05525573]\n",
      " [-0.40362316  0.37073454]\n",
      " [-0.82016885  0.7256121 ]], shape=(7, 2), dtype=float32)\n",
      "p(h|v):  tf.Tensor([[0.3809659 0.8205292]], shape=(1, 2), dtype=float32)\n",
      "h0 states: tf.Tensor([[1. 1.]], shape=(1, 2), dtype=float32)\n"
     ]
    }
   ],
   "source": [
    "X = tf.constant([[1.0, 0.0, 0.0, 1.0, 0.0, 0.0, 0.0]], tf.float32)\n",
    "\n",
    "v_state = X\n",
    "print(\"Input: \", v_state)\n",
    "\n",
    "h_bias = tf.constant([0.1, 0.1])\n",
    "print(\"hb: \", h_bias)\n",
    "print(\"w: \", W)\n",
    "\n",
    "# Calculate the probabilities of turning the hidden units on:\n",
    "h_prob = tf.nn.sigmoid(\n",
    "    tf.matmul(v_state, W) + h_bias\n",
    ")  # probabilities of the hidden units\n",
    "print(\"p(h|v): \", h_prob)\n",
    "\n",
    "# Draw samples from the distribution:\n",
    "h_state = tf.nn.relu(tf.sign(h_prob - tf.random.uniform(tf.shape(h_prob))))  # states\n",
    "print(\"h0 states:\", h_state)"
   ]
  },
  {
   "cell_type": "markdown",
   "metadata": {},
   "source": [
    "<b>Phase 2) Backward Pass (Reconstruction):</b>\n",
    "The RBM reconstructs data by making several forward and backward passes between the visible and hidden layers.\n",
    "\n",
    "So, in the second phase (i.e. reconstruction phase), the samples from the hidden layer (i.e. $\\mathbf h$) becomes the input in the backward pass. The same weight matrix and visible layer biases are used to passed to the sigmoid function. The reproduced output is a reconstruction which is an approximation of the original input.\n"
   ]
  },
  {
   "cell_type": "code",
   "execution_count": 16,
   "metadata": {},
   "outputs": [
    {
     "name": "stdout",
     "output_type": "stream",
     "text": [
      "b:  tf.Tensor([0.1 0.2 0.1 0.1 0.1 0.2 0.1], shape=(7,), dtype=float32)\n",
      "p(vi∣h):  tf.Tensor(\n",
      "[[0.58824444 0.9157424  0.53957164 0.6632417  0.34011585 0.54168093\n",
      "  0.50136083]], shape=(1, 7), dtype=float32)\n",
      "v probability states:  tf.Tensor([[1. 1. 1. 0. 1. 0. 1.]], shape=(1, 7), dtype=float32)\n"
     ]
    }
   ],
   "source": [
    "vb = tf.constant([0.1, 0.2, 0.1, 0.1, 0.1, 0.2, 0.1])\n",
    "print(\"b: \", vb)\n",
    "v_prob = tf.nn.sigmoid(tf.matmul(h_state, tf.transpose(W)) + vb)\n",
    "print(\"p(vi∣h): \", v_prob)\n",
    "v_state = tf.nn.relu(tf.sign(v_prob - tf.random.uniform(tf.shape(v_prob))))\n",
    "print(\"v probability states: \", v_state)"
   ]
  },
  {
   "cell_type": "markdown",
   "metadata": {},
   "source": [
    "RBM learns a probability distribution over the input, and then, after being trained, the RBM can generate new samples from the learned probability distribution. As you know, <b>probability distribution</b>, is a mathematical function that provides the probabilities of occurrence of different possible outcomes in an experiment.\n",
    "\n",
    "The (conditional) probability distribution over the visible units v is given by\n",
    "\n",
    "$$p(\\mathbf{v} \\mid \\mathbf{h}) = \\prod_{i=1}^V p(v_i \\mid \\mathbf{h}),$$\n",
    "\n",
    "\n",
    "where,\n",
    "\n",
    "$$p(v_i \\mid \\mathbf{h}) = \\sigma\\left(\\sum_{j=1}^H W_{ji} h_j + v_{bias} \\right)$$\n",
    "\n",
    "so, given current state of hidden units and weights, what is the probability of generating [1. 0. 0. 1. 0. 0. 0.] in reconstruction phase, based on the above <b>probability distribution</b> function?\n"
   ]
  },
  {
   "cell_type": "code",
   "execution_count": 17,
   "metadata": {},
   "outputs": [
    {
     "name": "stdout",
     "output_type": "stream",
     "text": [
      "input X: [[1. 0. 0. 1. 0. 0. 0.]]\n",
      "probablity vector: [0.58824444 0.9157424  0.53957164 0.6632417  0.34011585 0.54168093\n",
      " 0.50136083]\n",
      "probability of generating X:  0.0022825634\n"
     ]
    }
   ],
   "source": [
    "inp = X\n",
    "print(\"input X:\", inp.numpy())\n",
    "\n",
    "print(\"probablity vector:\", v_prob[0].numpy())\n",
    "v_probability = 1\n",
    "\n",
    "for elm, p in zip(inp[0], v_prob[0]):\n",
    "    if elm == 1:\n",
    "        v_probability *= p\n",
    "    else:\n",
    "        v_probability *= 1 - p\n",
    "\n",
    "print(\"probability of generating X: \", v_probability.numpy())"
   ]
  },
  {
   "cell_type": "markdown",
   "metadata": {},
   "source": [
    "How similar are vectors $\\mathbf{x}$ and $\\mathbf{v}$? Of course, the reconstructed values most likely will not look anything like the input vector, because our network has not been trained yet. Our objective is to train the model in such a way that the input vector and reconstructed vector to be same. Therefore, based on how different the input values look to the ones that we just reconstructed, the weights are adjusted. \n"
   ]
  },
  {
   "cell_type": "markdown",
   "metadata": {},
   "source": [
    "<hr>\n"
   ]
  },
  {
   "cell_type": "markdown",
   "metadata": {},
   "source": [
    "\n",
    "<h2>MNIST</h2>\n"
   ]
  },
  {
   "cell_type": "markdown",
   "metadata": {},
   "source": [
    "We will be using the MNIST dataset to practice the usage of RBMs. The following cell loads the MNIST dataset.\n"
   ]
  },
  {
   "cell_type": "code",
   "execution_count": 18,
   "metadata": {},
   "outputs": [
    {
     "name": "stdout",
     "output_type": "stream",
     "text": [
      "Downloading data from https://storage.googleapis.com/tensorflow/tf-keras-datasets/mnist.npz\n",
      "11490434/11490434 [==============================] - 0s 0us/step\n"
     ]
    }
   ],
   "source": [
    "# loading training and test data\n",
    "mnist = tf.keras.datasets.mnist\n",
    "(trX, trY), (teX, teY) = mnist.load_data()\n",
    "\n",
    "# showing an example of the Flatten class and operation\n",
    "from tensorflow.keras.layers import Flatten\n",
    "\n",
    "flatten = Flatten(dtype=\"float32\")\n",
    "trX = flatten(trX / 255.0)\n",
    "trY = flatten(trY / 255.0)"
   ]
  },
  {
   "cell_type": "markdown",
   "metadata": {},
   "source": [
    "Lets look at the dimension of the images.\n"
   ]
  },
  {
   "cell_type": "markdown",
   "metadata": {},
   "source": [
    "MNIST images have 784 pixels, so the visible layer must have 784 input nodes.  For our case, we'll use 50 nodes in the hidden layer, so i = 50.\n"
   ]
  },
  {
   "cell_type": "code",
   "execution_count": 19,
   "metadata": {},
   "outputs": [],
   "source": [
    "vb = tf.Variable(tf.zeros([784]), tf.float32)\n",
    "hb = tf.Variable(tf.zeros([50]), tf.float32)"
   ]
  },
  {
   "cell_type": "markdown",
   "metadata": {},
   "source": [
    "Let $\\mathbf W$ be the Tensor of 784x50 (784 - number of visible neurons, 50 - number of hidden neurons) that represents weights between the neurons. \n"
   ]
  },
  {
   "cell_type": "code",
   "execution_count": 20,
   "metadata": {},
   "outputs": [],
   "source": [
    "W = tf.Variable(tf.zeros([784, 50]), tf.float32)"
   ]
  },
  {
   "cell_type": "markdown",
   "metadata": {},
   "source": [
    "Lets define the visible layer:\n"
   ]
  },
  {
   "cell_type": "code",
   "execution_count": 21,
   "metadata": {},
   "outputs": [
    {
     "data": {
      "text/plain": [
       "<tf.Tensor: shape=(1, 50), dtype=float32, numpy=\n",
       "array([[0., 0., 0., 0., 0., 0., 0., 0., 0., 0., 0., 0., 0., 0., 0., 0.,\n",
       "        0., 0., 0., 0., 0., 0., 0., 0., 0., 0., 0., 0., 0., 0., 0., 0.,\n",
       "        0., 0., 0., 0., 0., 0., 0., 0., 0., 0., 0., 0., 0., 0., 0., 0.,\n",
       "        0., 0.]], dtype=float32)>"
      ]
     },
     "execution_count": 21,
     "metadata": {},
     "output_type": "execute_result"
    }
   ],
   "source": [
    "v0_state = tf.Variable(tf.zeros([784]), tf.float32)\n",
    "\n",
    "# testing to see if the matrix product works\n",
    "tf.matmul([v0_state], W)"
   ]
  },
  {
   "cell_type": "markdown",
   "metadata": {},
   "source": [
    "Now, we can define hidden layer:\n"
   ]
  },
  {
   "cell_type": "code",
   "execution_count": 22,
   "metadata": {},
   "outputs": [
    {
     "name": "stdout",
     "output_type": "stream",
     "text": [
      "h0_state shape:  tf.Tensor([ 1 50], shape=(2,), dtype=int32)\n",
      "first 15 hidden states:  tf.Tensor([0. 1. 0. 0. 0. 1. 1. 1. 0. 1. 1. 0. 1. 0. 1.], shape=(15,), dtype=float32)\n"
     ]
    }
   ],
   "source": [
    "# computing the hidden nodes probability vector and checking shape\n",
    "h0_prob = tf.nn.sigmoid(\n",
    "    tf.matmul([v0_state], W) + hb\n",
    ")  # probabilities of the hidden units\n",
    "print(\"h0_state shape: \", tf.shape(h0_prob))\n",
    "\n",
    "\n",
    "# defining a function to return only the generated hidden states\n",
    "def hidden_layer(v0_state, W, hb):\n",
    "    h0_prob = tf.nn.sigmoid(\n",
    "        tf.matmul([v0_state], W) + hb\n",
    "    )  # probabilities of the hidden units\n",
    "    h0_state = tf.nn.relu(\n",
    "        tf.sign(h0_prob - tf.random.uniform(tf.shape(h0_prob)))\n",
    "    )  # sample_h_given_X\n",
    "    return h0_state\n",
    "\n",
    "\n",
    "h0_state = hidden_layer(v0_state, W, hb)\n",
    "print(\"first 15 hidden states: \", h0_state[0][0:15])"
   ]
  },
  {
   "cell_type": "markdown",
   "metadata": {},
   "source": [
    "Now, we define reconstruction part:\n"
   ]
  },
  {
   "cell_type": "code",
   "execution_count": 23,
   "metadata": {},
   "outputs": [
    {
     "name": "stdout",
     "output_type": "stream",
     "text": [
      "hidden state shape:  (1, 50)\n",
      "v0 state shape:   (784,)\n",
      "v1 state shape:   (784,)\n"
     ]
    }
   ],
   "source": [
    "def reconstructed_output(h0_state, W, vb):\n",
    "    v1_prob = tf.nn.sigmoid(tf.matmul(h0_state, tf.transpose(W)) + vb)\n",
    "    v1_state = tf.nn.relu(\n",
    "        tf.sign(v1_prob - tf.random.uniform(tf.shape(v1_prob)))\n",
    "    )  # sample_v_given_h\n",
    "    return v1_state[0]\n",
    "\n",
    "\n",
    "v1_state = reconstructed_output(h0_state, W, vb)\n",
    "print(\"hidden state shape: \", h0_state.shape)\n",
    "print(\"v0 state shape:  \", v0_state.shape)\n",
    "print(\"v1 state shape:  \", v1_state.shape)"
   ]
  },
  {
   "cell_type": "markdown",
   "metadata": {},
   "source": [
    "<h3>What is the objective function?</h3>\n",
    "\n",
    "<b>Goal</b>: Maximize the likelihood of our data being drawn from that distribution\n",
    "\n",
    "<b>Calculate error:</b>  \n",
    "In each epoch, we compute the \"error\" as a sum of the squared difference between step 1 and step n,\n",
    "e.g the error shows the difference between the data and its reconstruction.\n",
    "\n",
    "<b>Note:</b> tf.reduce_mean computes the mean of elements across dimensions of a tensor.\n"
   ]
  },
  {
   "cell_type": "code",
   "execution_count": 24,
   "metadata": {},
   "outputs": [
    {
     "name": "stdout",
     "output_type": "stream",
     "text": [
      "error 0.5127551\n"
     ]
    }
   ],
   "source": [
    "def error(v0_state, v1_state):\n",
    "    return tf.reduce_mean(tf.square(v0_state - v1_state))\n",
    "\n",
    "\n",
    "err = tf.reduce_mean(tf.square(v0_state - v1_state))\n",
    "print(\"error\", err.numpy())"
   ]
  },
  {
   "cell_type": "markdown",
   "metadata": {},
   "source": [
    "<a id=\"ref4\"></a>\n",
    "<h3>Training the Model</h3>\n",
    "<b>Warning...</b> The following part is math-heavy, but you can skip it if you just want to run the cells in the next section.\n",
    "\n",
    "As mentioned, we want to give a high probability to the input data we train on. So, in order to train an RBM, we have to maximize the product of probabilities assigned to all rows $\\mathbf{v}$ (images) in the training set $\\mathbf{V}$ (a matrix, where each row of it is treated as a visible vector $\\mathbf{v}$)\n",
    "\n",
    "$$\\arg \\max_W \\prod_{\\mathbf{v}\\in\\mathbf{V}_T} p(\\mathbf{v})$$\n",
    "\n",
    "\n",
    "which is equivalent to maximizing the expectation of the log probability, given as\n",
    "\n",
    "$$\\arg\\max_W\\left[ \\mathbb{E} \\left(\\prod_{\\mathbf v\\in \\mathbf V}\\text{log} \\left(p(\\mathbf v)\\right) \\right) \\right].$$\n",
    "\n",
    "\n",
    "So, we have to update the weights $W_{ij}$  to increase $p(\\mathbf{v})$ for all $\\mathbf{v}$ in our training data during training. So we have to calculate the derivative:\n",
    "\n",
    "\n",
    "$$\\frac{\\partial \\log p(\\mathbf v)}{\\partial W_{ij}}$$\n",
    "\n",
    "This cannot be easily done by typical <b>gradient descent (SGD)</b>, so we can use another approach, which has 2 steps:\n",
    "<ol>\n",
    "    <li>Gibbs Sampling</li>\n",
    "    <li>Contrastive Divergence</li>\n",
    "</ol>    \n",
    "    \n",
    "<h3>Gibbs Sampling</h3>   \n",
    "\n",
    "<h4>Gibbs Sampling Step 1</h4> \n",
    "Given an input vector $\\mathbf{v}$, we are using $p(\\mathbf{h}|\\mathbf{v})$ to predict the hidden values $\\mathbf{h}$. \n",
    "  $$p({h_j}|\\mathbf v)= \\sigma\\left(\\sum_{i=1}^V W_{ij} v_i + h_{bias} \\right)$$\n",
    "The samples are generated from this distribution by generating the uniform random variate vector $\\mathbf{\\xi} \\sim U[0,1]$ of length $H$ and comparing to the computed probabilities as\n",
    "\n",
    "\n",
    "<center>If $\\xi_j>p(h_{j}|\\mathbf{v})$, then $h_j=1$, else $h_j=0$.</center>\n",
    "\n",
    "\n",
    "<h4>Gibbs Sampling Step 2</h4> \n",
    "Then, knowing the hidden values, we use $p(\\mathbf v| \\mathbf h)$ for reconstructing of new input values v. \n",
    "\n",
    "   $$p({v_i}|\\mathbf h)= \\sigma\\left(\\sum_{j=1}^H W^{T}_{ij} h_j + v_{bias} \\right)$$\n",
    "\n",
    "\n",
    "The samples are generated from this distribution by generating a uniform random variate vector $\\mathbf{\\xi} \\sim U[0,1]$ of length $V$ and comparing to the computed probabilities as\n",
    "\n",
    "<center>If $\\xi_i>p(v_{i}|\\mathbf{h})$, then $v_i=1$, else $v_i=0$.</center>\n",
    "\n",
    "Let vectors $\\mathbf v_k$ and $\\mathbf h_k$ be for the $k$th iteration.  In general, the $kth$ state is generrated as: \n",
    "\n",
    "\n",
    "    \n",
    "<b>Iteration</b> $k$: \n",
    "\n",
    "$$\\mathbf v_{k-1} \\Rightarrow p(\\mathbf h_{k-1}|\\mathbf v_{k-1})\\Rightarrow \\mathbf h_{k-1}\\Rightarrow p(\\mathbf v_{k}|\\mathbf h_{k-1})\\Rightarrow \\mathbf v_k$$       \n",
    "    \n",
    "<h3>Contrastive Divergence (CD-k)</h3>\n",
    "The update of the weight matrix is done during the Contrastive Divergence step. \n",
    "\n",
    "Vectors v0 and vk are used to calculate the activation probabilities for hidden values h0 and hk. The difference between the outer products of those probabilities with input vectors v0 and vk results in the update matrix:\n",
    "\n",
    "\n",
    "$$\\Delta \\mathbf W_k =\\mathbf v_k \\otimes \\mathbf h_k - \\mathbf v_{k-1} \\otimes \\mathbf h_{k-1}$$\n",
    "\n",
    "Contrastive Divergence is actually matrix of values that is computed and used to adjust values of the $\\mathbf W$ matrix. Changing $\\mathbf W$ incrementally leads to training of the  $\\mathbf W$ values. Then, on each step (epoch), $\\mathbf W$ is updated using the following:\n",
    "\n",
    "$$\\mathbf W_k = \\mathbf W_{k-1} + \\alpha * \\Delta \\mathbf W_k$$\n",
    "\n",
    "\n",
    "\n",
    "Reconstruction steps:\n",
    "<ul>\n",
    "    <li> Get one data point from data set, like <i>x</i>, and pass it through the following steps:</li>\n",
    "    \n",
    "<b>Iteration</b> $k=1$: \n",
    "    \n",
    "Sampling (starting with input image)\n",
    "    $$\\mathbf x = \\mathbf v_0 \\Rightarrow p(\\mathbf h_0|\\mathbf v_0)\\Rightarrow \\mathbf h_0 \\Rightarrow p(\\mathbf v_1|\\mathbf h_0)\\Rightarrow \\mathbf v_1$$   \n",
    "    followed by the CD-k step\n",
    "$$\\Delta \\mathbf W_1 =\\mathbf v_1 \\otimes \\mathbf h_1 - \\mathbf v_{0} \\otimes \\mathbf h_{0}$$     \n",
    "$$\\mathbf W_1 = \\mathbf W_{0} + \\alpha * \\Delta \\mathbf W_1$$ \n",
    " \n",
    "<li> $\\mathbf v_1$ is the reconstruction of $\\mathbf x$ sent to the next iteration).</li>\n",
    "\n",
    "<b>Iteration</b> $k=2$: \n",
    "\n",
    "Sampling (starting with $\\mathbf v_1$)\n",
    "\n",
    "$$\\mathbf v_1 \\Rightarrow p(\\mathbf h_1|\\mathbf v_1)\\Rightarrow \\mathbf h_1\\Rightarrow p(\\mathbf v_2|\\mathbf h_1)\\Rightarrow \\mathbf v_2$$   \n",
    "\n",
    "followed by the CD-k step\n",
    "$$\\Delta \\mathbf W_2 =\\mathbf v_2 \\otimes \\mathbf h_2 - \\mathbf v_{1} \\otimes \\mathbf h_{1}$$     \n",
    "$$\\mathbf W_2 = \\mathbf W_{1} + \\alpha * \\Delta \\mathbf W_2$$ \n",
    "\n",
    "<li> $\\mathbf v_2$ is the reconstruction of $\\mathbf v_1$ sent to the next iteration).</li>    \n",
    "      \n",
    "<b>Iteration</b> $k=K$:\n",
    "    \n",
    "Sampling (starting with $\\mathbf v_{K-1}$)\n",
    "\n",
    "$$\\mathbf v_{K-1} \\Rightarrow p(\\mathbf h_{K-1}|\\mathbf v_{K-1})\\Rightarrow \\mathbf h_{K-1}\\Rightarrow p(\\mathbf v_K|\\mathbf h_{K-1})\\Rightarrow \\mathbf v_K$$   \n",
    "\n",
    "followed by the CD-k step\n",
    "$$\\Delta \\mathbf W_K =\\mathbf v_K \\otimes \\mathbf h_K - \\mathbf v_{K-1} \\otimes \\mathbf h_{K-1}$$     \n",
    "$$\\mathbf W_K = \\mathbf W_{K-1} + \\alpha * \\Delta \\mathbf W_K$$ \n",
    "    \n",
    "<b>What is $\\alpha$?</b>  \n",
    "Here, alpha is some small step size, and is also known as the \"learning rate\".\n"
   ]
  },
  {
   "cell_type": "markdown",
   "metadata": {},
   "source": [
    "$K$ is adjustable, and good performance can be achieved with $K=1$, so that we just take one set of sampling steps per image.\n"
   ]
  },
  {
   "cell_type": "code",
   "execution_count": 25,
   "metadata": {},
   "outputs": [],
   "source": [
    "h1_prob = tf.nn.sigmoid(tf.matmul([v1_state], W) + hb)\n",
    "h1_state = tf.nn.relu(\n",
    "    tf.sign(h1_prob - tf.random.uniform(tf.shape(h1_prob)))\n",
    ")  # sample_h_given_X"
   ]
  },
  {
   "cell_type": "markdown",
   "metadata": {},
   "source": [
    "Lets look at the error of the first run:\n"
   ]
  },
  {
   "cell_type": "code",
   "execution_count": 26,
   "metadata": {},
   "outputs": [
    {
     "name": "stdout",
     "output_type": "stream",
     "text": [
      "error:  tf.Tensor(0.5127551, shape=(), dtype=float32)\n"
     ]
    }
   ],
   "source": [
    "print(\"error: \", error(v0_state, v1_state))"
   ]
  },
  {
   "cell_type": "code",
   "execution_count": 27,
   "metadata": {},
   "outputs": [
    {
     "name": "stdout",
     "output_type": "stream",
     "text": [
      "Epoch: 0 batch #: 1  of 300 sample #: 199 reconstruction error: 0.172041\n",
      "Epoch: 0 batch #: 2  of 300 sample #: 199 reconstruction error: 0.214498\n",
      "Epoch: 0 batch #: 3  of 300 sample #: 199 reconstruction error: 0.109860\n",
      "Epoch: 0 batch #: 4  of 300 sample #: 199 reconstruction error: 0.137241\n",
      "Epoch: 0 batch #: 5  of 300 sample #: 199 reconstruction error: 0.120621\n",
      "Epoch: 0 batch #: 6  of 300 sample #: 199 reconstruction error: 0.180286\n",
      "Epoch: 0 batch #: 7  of 300 sample #: 199 reconstruction error: 0.093111\n",
      "Epoch: 0 batch #: 8  of 300 sample #: 199 reconstruction error: 0.114852\n",
      "Epoch: 0 batch #: 9  of 300 sample #: 199 reconstruction error: 0.098181\n",
      "Epoch: 0 batch #: 10  of 300 sample #: 199 reconstruction error: 0.175636\n",
      "Epoch: 0 batch #: 11  of 300 sample #: 199 reconstruction error: 0.086649\n",
      "Epoch: 0 batch #: 12  of 300 sample #: 199 reconstruction error: 0.147330\n",
      "Epoch: 0 batch #: 13  of 300 sample #: 199 reconstruction error: 0.062268\n",
      "Epoch: 0 batch #: 14  of 300 sample #: 199 reconstruction error: 0.106189\n",
      "Epoch: 0 batch #: 15  of 300 sample #: 199 reconstruction error: 0.093678\n",
      "Epoch: 0 batch #: 16  of 300 sample #: 199 reconstruction error: 0.095428\n",
      "Epoch: 0 batch #: 17  of 300 sample #: 199 reconstruction error: 0.082010\n",
      "Epoch: 0 batch #: 18  of 300 sample #: 199 reconstruction error: 0.123301\n",
      "Epoch: 0 batch #: 19  of 300 sample #: 199 reconstruction error: 0.135664\n",
      "Epoch: 0 batch #: 20  of 300 sample #: 199 reconstruction error: 0.112760\n",
      "Epoch: 0 batch #: 21  of 300 sample #: 199 reconstruction error: 0.077849\n",
      "Epoch: 0 batch #: 22  of 300 sample #: 199 reconstruction error: 0.089299\n",
      "Epoch: 0 batch #: 23  of 300 sample #: 199 reconstruction error: 0.120319\n",
      "Epoch: 0 batch #: 24  of 300 sample #: 199 reconstruction error: 0.153251\n",
      "Epoch: 0 batch #: 25  of 300 sample #: 199 reconstruction error: 0.094092\n",
      "Epoch: 0 batch #: 26  of 300 sample #: 199 reconstruction error: 0.112947\n",
      "Epoch: 0 batch #: 27  of 300 sample #: 199 reconstruction error: 0.104301\n",
      "Epoch: 0 batch #: 28  of 300 sample #: 199 reconstruction error: 0.087262\n",
      "Epoch: 0 batch #: 29  of 300 sample #: 199 reconstruction error: 0.107168\n",
      "Epoch: 0 batch #: 30  of 300 sample #: 199 reconstruction error: 0.070801\n",
      "Epoch: 0 batch #: 31  of 300 sample #: 199 reconstruction error: 0.088107\n",
      "Epoch: 0 batch #: 32  of 300 sample #: 199 reconstruction error: 0.116648\n",
      "Epoch: 0 batch #: 33  of 300 sample #: 199 reconstruction error: 0.051994\n",
      "Epoch: 0 batch #: 34  of 300 sample #: 199 reconstruction error: 0.062220\n",
      "Epoch: 0 batch #: 35  of 300 sample #: 199 reconstruction error: 0.077761\n",
      "Epoch: 0 batch #: 36  of 300 sample #: 199 reconstruction error: 0.091757\n",
      "Epoch: 0 batch #: 37  of 300 sample #: 199 reconstruction error: 0.061323\n",
      "Epoch: 0 batch #: 38  of 300 sample #: 199 reconstruction error: 0.070613\n",
      "Epoch: 0 batch #: 39  of 300 sample #: 199 reconstruction error: 0.099515\n",
      "Epoch: 0 batch #: 40  of 300 sample #: 199 reconstruction error: 0.115886\n",
      "Epoch: 0 batch #: 41  of 300 sample #: 199 reconstruction error: 0.093479\n",
      "Epoch: 0 batch #: 42  of 300 sample #: 199 reconstruction error: 0.070061\n",
      "Epoch: 0 batch #: 43  of 300 sample #: 199 reconstruction error: 0.124068\n",
      "Epoch: 0 batch #: 44  of 300 sample #: 199 reconstruction error: 0.063277\n",
      "Epoch: 0 batch #: 45  of 300 sample #: 199 reconstruction error: 0.060437\n",
      "Epoch: 0 batch #: 46  of 300 sample #: 199 reconstruction error: 0.041090\n",
      "Epoch: 0 batch #: 47  of 300 sample #: 199 reconstruction error: 0.049489\n",
      "Epoch: 0 batch #: 48  of 300 sample #: 199 reconstruction error: 0.041587\n",
      "Epoch: 0 batch #: 49  of 300 sample #: 199 reconstruction error: 0.119201\n",
      "Epoch: 0 batch #: 50  of 300 sample #: 199 reconstruction error: 0.045611\n",
      "Epoch: 0 batch #: 51  of 300 sample #: 199 reconstruction error: 0.057664\n",
      "Epoch: 0 batch #: 52  of 300 sample #: 199 reconstruction error: 0.035180\n",
      "Epoch: 0 batch #: 53  of 300 sample #: 199 reconstruction error: 0.113070\n",
      "Epoch: 0 batch #: 54  of 300 sample #: 199 reconstruction error: 0.056241\n",
      "Epoch: 0 batch #: 55  of 300 sample #: 199 reconstruction error: 0.106603\n",
      "Epoch: 0 batch #: 56  of 300 sample #: 199 reconstruction error: 0.063819\n",
      "Epoch: 0 batch #: 57  of 300 sample #: 199 reconstruction error: 0.044668\n",
      "Epoch: 0 batch #: 58  of 300 sample #: 199 reconstruction error: 0.053274\n",
      "Epoch: 0 batch #: 59  of 300 sample #: 199 reconstruction error: 0.054580\n",
      "Epoch: 0 batch #: 60  of 300 sample #: 199 reconstruction error: 0.090678\n",
      "Epoch: 0 batch #: 61  of 300 sample #: 199 reconstruction error: 0.089540\n",
      "Epoch: 0 batch #: 62  of 300 sample #: 199 reconstruction error: 0.076132\n",
      "Epoch: 0 batch #: 63  of 300 sample #: 199 reconstruction error: 0.060438\n",
      "Epoch: 0 batch #: 64  of 300 sample #: 199 reconstruction error: 0.099068\n",
      "Epoch: 0 batch #: 65  of 300 sample #: 199 reconstruction error: 0.110650\n",
      "Epoch: 0 batch #: 66  of 300 sample #: 199 reconstruction error: 0.056104\n",
      "Epoch: 0 batch #: 67  of 300 sample #: 199 reconstruction error: 0.052161\n",
      "Epoch: 0 batch #: 68  of 300 sample #: 199 reconstruction error: 0.083627\n",
      "Epoch: 0 batch #: 69  of 300 sample #: 199 reconstruction error: 0.082802\n",
      "Epoch: 0 batch #: 70  of 300 sample #: 199 reconstruction error: 0.095713\n",
      "Epoch: 0 batch #: 71  of 300 sample #: 199 reconstruction error: 0.078491\n",
      "Epoch: 0 batch #: 72  of 300 sample #: 199 reconstruction error: 0.057209\n",
      "Epoch: 0 batch #: 73  of 300 sample #: 199 reconstruction error: 0.086964\n",
      "Epoch: 0 batch #: 74  of 300 sample #: 199 reconstruction error: 0.111131\n",
      "Epoch: 0 batch #: 75  of 300 sample #: 199 reconstruction error: 0.043646\n",
      "Epoch: 0 batch #: 76  of 300 sample #: 199 reconstruction error: 0.081898\n",
      "Epoch: 0 batch #: 77  of 300 sample #: 199 reconstruction error: 0.099208\n",
      "Epoch: 0 batch #: 78  of 300 sample #: 199 reconstruction error: 0.113033\n",
      "Epoch: 0 batch #: 79  of 300 sample #: 199 reconstruction error: 0.121497\n",
      "Epoch: 0 batch #: 80  of 300 sample #: 199 reconstruction error: 0.037113\n",
      "Epoch: 0 batch #: 81  of 300 sample #: 199 reconstruction error: 0.059063\n",
      "Epoch: 0 batch #: 82  of 300 sample #: 199 reconstruction error: 0.044512\n",
      "Epoch: 0 batch #: 83  of 300 sample #: 199 reconstruction error: 0.075835\n",
      "Epoch: 0 batch #: 84  of 300 sample #: 199 reconstruction error: 0.067354\n",
      "Epoch: 0 batch #: 85  of 300 sample #: 199 reconstruction error: 0.046658\n",
      "Epoch: 0 batch #: 86  of 300 sample #: 199 reconstruction error: 0.078421\n",
      "Epoch: 0 batch #: 87  of 300 sample #: 199 reconstruction error: 0.080427\n",
      "Epoch: 0 batch #: 88  of 300 sample #: 199 reconstruction error: 0.027606\n",
      "Epoch: 0 batch #: 89  of 300 sample #: 199 reconstruction error: 0.064760\n",
      "Epoch: 0 batch #: 90  of 300 sample #: 199 reconstruction error: 0.055162\n",
      "Epoch: 0 batch #: 91  of 300 sample #: 199 reconstruction error: 0.066243\n",
      "Epoch: 0 batch #: 92  of 300 sample #: 199 reconstruction error: 0.074497\n",
      "Epoch: 0 batch #: 93  of 300 sample #: 199 reconstruction error: 0.108950\n",
      "Epoch: 0 batch #: 94  of 300 sample #: 199 reconstruction error: 0.116806\n",
      "Epoch: 0 batch #: 95  of 300 sample #: 199 reconstruction error: 0.063800\n",
      "Epoch: 0 batch #: 96  of 300 sample #: 199 reconstruction error: 0.051944\n",
      "Epoch: 0 batch #: 97  of 300 sample #: 199 reconstruction error: 0.120811\n",
      "Epoch: 0 batch #: 98  of 300 sample #: 199 reconstruction error: 0.087484\n",
      "Epoch: 0 batch #: 99  of 300 sample #: 199 reconstruction error: 0.055015\n",
      "Epoch: 0 batch #: 100  of 300 sample #: 199 reconstruction error: 0.089125\n",
      "Epoch: 0 batch #: 101  of 300 sample #: 199 reconstruction error: 0.073562\n",
      "Epoch: 0 batch #: 102  of 300 sample #: 199 reconstruction error: 0.094747\n",
      "Epoch: 0 batch #: 103  of 300 sample #: 199 reconstruction error: 0.076704\n",
      "Epoch: 0 batch #: 104  of 300 sample #: 199 reconstruction error: 0.054131\n",
      "Epoch: 0 batch #: 105  of 300 sample #: 199 reconstruction error: 0.056985\n",
      "Epoch: 0 batch #: 106  of 300 sample #: 199 reconstruction error: 0.119867\n",
      "Epoch: 0 batch #: 107  of 300 sample #: 199 reconstruction error: 0.131540\n",
      "Epoch: 0 batch #: 108  of 300 sample #: 199 reconstruction error: 0.072593\n",
      "Epoch: 0 batch #: 109  of 300 sample #: 199 reconstruction error: 0.113296\n",
      "Epoch: 0 batch #: 110  of 300 sample #: 199 reconstruction error: 0.062333\n",
      "Epoch: 0 batch #: 111  of 300 sample #: 199 reconstruction error: 0.097145\n",
      "Epoch: 0 batch #: 112  of 300 sample #: 199 reconstruction error: 0.050385\n",
      "Epoch: 0 batch #: 113  of 300 sample #: 199 reconstruction error: 0.068972\n",
      "Epoch: 0 batch #: 114  of 300 sample #: 199 reconstruction error: 0.066636\n",
      "Epoch: 0 batch #: 115  of 300 sample #: 199 reconstruction error: 0.057335\n",
      "Epoch: 0 batch #: 116  of 300 sample #: 199 reconstruction error: 0.050655\n",
      "Epoch: 0 batch #: 117  of 300 sample #: 199 reconstruction error: 0.037575\n",
      "Epoch: 0 batch #: 118  of 300 sample #: 199 reconstruction error: 0.069284\n",
      "Epoch: 0 batch #: 119  of 300 sample #: 199 reconstruction error: 0.122558\n",
      "Epoch: 0 batch #: 120  of 300 sample #: 199 reconstruction error: 0.072460\n",
      "Epoch: 0 batch #: 121  of 300 sample #: 199 reconstruction error: 0.050546\n",
      "Epoch: 0 batch #: 122  of 300 sample #: 199 reconstruction error: 0.092229\n",
      "Epoch: 0 batch #: 123  of 300 sample #: 199 reconstruction error: 0.079974\n",
      "Epoch: 0 batch #: 124  of 300 sample #: 199 reconstruction error: 0.070793\n",
      "Epoch: 0 batch #: 125  of 300 sample #: 199 reconstruction error: 0.047402\n",
      "Epoch: 0 batch #: 126  of 300 sample #: 199 reconstruction error: 0.079290\n",
      "Epoch: 0 batch #: 127  of 300 sample #: 199 reconstruction error: 0.088974\n",
      "Epoch: 0 batch #: 128  of 300 sample #: 199 reconstruction error: 0.066341\n",
      "Epoch: 0 batch #: 129  of 300 sample #: 199 reconstruction error: 0.062044\n",
      "Epoch: 0 batch #: 130  of 300 sample #: 199 reconstruction error: 0.076399\n",
      "Epoch: 0 batch #: 131  of 300 sample #: 199 reconstruction error: 0.061867\n",
      "Epoch: 0 batch #: 132  of 300 sample #: 199 reconstruction error: 0.056385\n",
      "Epoch: 0 batch #: 133  of 300 sample #: 199 reconstruction error: 0.068305\n",
      "Epoch: 0 batch #: 134  of 300 sample #: 199 reconstruction error: 0.105836\n",
      "Epoch: 0 batch #: 135  of 300 sample #: 199 reconstruction error: 0.087726\n",
      "Epoch: 0 batch #: 136  of 300 sample #: 199 reconstruction error: 0.130186\n",
      "Epoch: 0 batch #: 137  of 300 sample #: 199 reconstruction error: 0.076314\n",
      "Epoch: 0 batch #: 138  of 300 sample #: 199 reconstruction error: 0.077089\n",
      "Epoch: 0 batch #: 139  of 300 sample #: 199 reconstruction error: 0.105503\n",
      "Epoch: 0 batch #: 140  of 300 sample #: 199 reconstruction error: 0.080388\n",
      "Epoch: 0 batch #: 141  of 300 sample #: 199 reconstruction error: 0.097701\n",
      "Epoch: 0 batch #: 142  of 300 sample #: 199 reconstruction error: 0.067258\n",
      "Epoch: 0 batch #: 143  of 300 sample #: 199 reconstruction error: 0.053090\n",
      "Epoch: 0 batch #: 144  of 300 sample #: 199 reconstruction error: 0.071264\n",
      "Epoch: 0 batch #: 145  of 300 sample #: 199 reconstruction error: 0.108022\n",
      "Epoch: 0 batch #: 146  of 300 sample #: 199 reconstruction error: 0.096147\n",
      "Epoch: 0 batch #: 147  of 300 sample #: 199 reconstruction error: 0.065108\n",
      "Epoch: 0 batch #: 148  of 300 sample #: 199 reconstruction error: 0.086909\n",
      "Epoch: 0 batch #: 149  of 300 sample #: 199 reconstruction error: 0.044983\n",
      "Epoch: 0 batch #: 150  of 300 sample #: 199 reconstruction error: 0.037197\n",
      "Epoch: 0 batch #: 151  of 300 sample #: 199 reconstruction error: 0.101600\n",
      "Epoch: 0 batch #: 152  of 300 sample #: 199 reconstruction error: 0.079993\n",
      "Epoch: 0 batch #: 153  of 300 sample #: 199 reconstruction error: 0.070616\n",
      "Epoch: 0 batch #: 154  of 300 sample #: 199 reconstruction error: 0.069801\n",
      "Epoch: 0 batch #: 155  of 300 sample #: 199 reconstruction error: 0.052334\n",
      "Epoch: 0 batch #: 156  of 300 sample #: 199 reconstruction error: 0.069299\n",
      "Epoch: 0 batch #: 157  of 300 sample #: 199 reconstruction error: 0.080884\n",
      "Epoch: 0 batch #: 158  of 300 sample #: 199 reconstruction error: 0.070400\n",
      "Epoch: 0 batch #: 159  of 300 sample #: 199 reconstruction error: 0.066599\n",
      "Epoch: 0 batch #: 160  of 300 sample #: 199 reconstruction error: 0.073649\n",
      "Epoch: 0 batch #: 161  of 300 sample #: 199 reconstruction error: 0.080009\n",
      "Epoch: 0 batch #: 162  of 300 sample #: 199 reconstruction error: 0.095946\n",
      "Epoch: 0 batch #: 163  of 300 sample #: 199 reconstruction error: 0.046925\n",
      "Epoch: 0 batch #: 164  of 300 sample #: 199 reconstruction error: 0.066551\n",
      "Epoch: 0 batch #: 165  of 300 sample #: 199 reconstruction error: 0.082365\n",
      "Epoch: 0 batch #: 166  of 300 sample #: 199 reconstruction error: 0.066133\n",
      "Epoch: 0 batch #: 167  of 300 sample #: 199 reconstruction error: 0.077331\n",
      "Epoch: 0 batch #: 168  of 300 sample #: 199 reconstruction error: 0.060886\n",
      "Epoch: 0 batch #: 169  of 300 sample #: 199 reconstruction error: 0.034125\n",
      "Epoch: 0 batch #: 170  of 300 sample #: 199 reconstruction error: 0.068212\n",
      "Epoch: 0 batch #: 171  of 300 sample #: 199 reconstruction error: 0.043741\n",
      "Epoch: 0 batch #: 172  of 300 sample #: 199 reconstruction error: 0.050397\n",
      "Epoch: 0 batch #: 173  of 300 sample #: 199 reconstruction error: 0.066221\n",
      "Epoch: 0 batch #: 174  of 300 sample #: 199 reconstruction error: 0.117432\n",
      "Epoch: 0 batch #: 175  of 300 sample #: 199 reconstruction error: 0.076075\n",
      "Epoch: 0 batch #: 176  of 300 sample #: 199 reconstruction error: 0.038518\n",
      "Epoch: 0 batch #: 177  of 300 sample #: 199 reconstruction error: 0.034977\n",
      "Epoch: 0 batch #: 178  of 300 sample #: 199 reconstruction error: 0.126634\n",
      "Epoch: 0 batch #: 179  of 300 sample #: 199 reconstruction error: 0.075599\n",
      "Epoch: 0 batch #: 180  of 300 sample #: 199 reconstruction error: 0.089784\n",
      "Epoch: 0 batch #: 181  of 300 sample #: 199 reconstruction error: 0.092851\n",
      "Epoch: 0 batch #: 182  of 300 sample #: 199 reconstruction error: 0.086425\n",
      "Epoch: 0 batch #: 183  of 300 sample #: 199 reconstruction error: 0.099605\n",
      "Epoch: 0 batch #: 184  of 300 sample #: 199 reconstruction error: 0.065709\n",
      "Epoch: 0 batch #: 185  of 300 sample #: 199 reconstruction error: 0.090290\n",
      "Epoch: 0 batch #: 186  of 300 sample #: 199 reconstruction error: 0.093260\n",
      "Epoch: 0 batch #: 187  of 300 sample #: 199 reconstruction error: 0.052556\n",
      "Epoch: 0 batch #: 188  of 300 sample #: 199 reconstruction error: 0.109994\n",
      "Epoch: 0 batch #: 189  of 300 sample #: 199 reconstruction error: 0.089191\n",
      "Epoch: 0 batch #: 190  of 300 sample #: 199 reconstruction error: 0.066249\n",
      "Epoch: 0 batch #: 191  of 300 sample #: 199 reconstruction error: 0.104407\n",
      "Epoch: 0 batch #: 192  of 300 sample #: 199 reconstruction error: 0.110285\n",
      "Epoch: 0 batch #: 193  of 300 sample #: 199 reconstruction error: 0.093925\n",
      "Epoch: 0 batch #: 194  of 300 sample #: 199 reconstruction error: 0.083035\n",
      "Epoch: 0 batch #: 195  of 300 sample #: 199 reconstruction error: 0.050960\n",
      "Epoch: 0 batch #: 196  of 300 sample #: 199 reconstruction error: 0.056552\n",
      "Epoch: 0 batch #: 197  of 300 sample #: 199 reconstruction error: 0.047872\n",
      "Epoch: 0 batch #: 198  of 300 sample #: 199 reconstruction error: 0.088718\n",
      "Epoch: 0 batch #: 199  of 300 sample #: 199 reconstruction error: 0.081209\n",
      "Epoch: 0 batch #: 200  of 300 sample #: 199 reconstruction error: 0.112235\n",
      "Epoch: 0 batch #: 201  of 300 sample #: 199 reconstruction error: 0.090487\n",
      "Epoch: 0 batch #: 202  of 300 sample #: 199 reconstruction error: 0.032570\n",
      "Epoch: 0 batch #: 203  of 300 sample #: 199 reconstruction error: 0.087150\n",
      "Epoch: 0 batch #: 204  of 300 sample #: 199 reconstruction error: 0.055106\n",
      "Epoch: 0 batch #: 205  of 300 sample #: 199 reconstruction error: 0.015978\n",
      "Epoch: 0 batch #: 206  of 300 sample #: 199 reconstruction error: 0.068404\n",
      "Epoch: 0 batch #: 207  of 300 sample #: 199 reconstruction error: 0.084009\n",
      "Epoch: 0 batch #: 208  of 300 sample #: 199 reconstruction error: 0.057861\n",
      "Epoch: 0 batch #: 209  of 300 sample #: 199 reconstruction error: 0.032732\n",
      "Epoch: 0 batch #: 210  of 300 sample #: 199 reconstruction error: 0.096706\n",
      "Epoch: 0 batch #: 211  of 300 sample #: 199 reconstruction error: 0.109606\n",
      "Epoch: 0 batch #: 212  of 300 sample #: 199 reconstruction error: 0.091159\n",
      "Epoch: 0 batch #: 213  of 300 sample #: 199 reconstruction error: 0.094925\n",
      "Epoch: 0 batch #: 214  of 300 sample #: 199 reconstruction error: 0.098407\n",
      "Epoch: 0 batch #: 215  of 300 sample #: 199 reconstruction error: 0.024345\n",
      "Epoch: 0 batch #: 216  of 300 sample #: 199 reconstruction error: 0.075077\n",
      "Epoch: 0 batch #: 217  of 300 sample #: 199 reconstruction error: 0.072127\n",
      "Epoch: 0 batch #: 218  of 300 sample #: 199 reconstruction error: 0.062314\n",
      "Epoch: 0 batch #: 219  of 300 sample #: 199 reconstruction error: 0.086252\n",
      "Epoch: 0 batch #: 220  of 300 sample #: 199 reconstruction error: 0.069410\n",
      "Epoch: 0 batch #: 221  of 300 sample #: 199 reconstruction error: 0.079905\n",
      "Epoch: 0 batch #: 222  of 300 sample #: 199 reconstruction error: 0.091358\n",
      "Epoch: 0 batch #: 223  of 300 sample #: 199 reconstruction error: 0.090200\n",
      "Epoch: 0 batch #: 224  of 300 sample #: 199 reconstruction error: 0.072519\n",
      "Epoch: 0 batch #: 225  of 300 sample #: 199 reconstruction error: 0.066006\n",
      "Epoch: 0 batch #: 226  of 300 sample #: 199 reconstruction error: 0.127297\n",
      "Epoch: 0 batch #: 227  of 300 sample #: 199 reconstruction error: 0.077211\n",
      "Epoch: 0 batch #: 228  of 300 sample #: 199 reconstruction error: 0.067566\n",
      "Epoch: 0 batch #: 229  of 300 sample #: 199 reconstruction error: 0.091426\n",
      "Epoch: 0 batch #: 230  of 300 sample #: 199 reconstruction error: 0.045118\n",
      "Epoch: 0 batch #: 231  of 300 sample #: 199 reconstruction error: 0.022683\n",
      "Epoch: 0 batch #: 232  of 300 sample #: 199 reconstruction error: 0.089067\n",
      "Epoch: 0 batch #: 233  of 300 sample #: 199 reconstruction error: 0.081239\n",
      "Epoch: 0 batch #: 234  of 300 sample #: 199 reconstruction error: 0.076412\n",
      "Epoch: 0 batch #: 235  of 300 sample #: 199 reconstruction error: 0.060776\n",
      "Epoch: 0 batch #: 236  of 300 sample #: 199 reconstruction error: 0.105173\n",
      "Epoch: 0 batch #: 237  of 300 sample #: 199 reconstruction error: 0.074708\n",
      "Epoch: 0 batch #: 238  of 300 sample #: 199 reconstruction error: 0.124964\n",
      "Epoch: 0 batch #: 239  of 300 sample #: 199 reconstruction error: 0.033497\n",
      "Epoch: 0 batch #: 240  of 300 sample #: 199 reconstruction error: 0.100888\n",
      "Epoch: 0 batch #: 241  of 300 sample #: 199 reconstruction error: 0.089333\n",
      "Epoch: 0 batch #: 242  of 300 sample #: 199 reconstruction error: 0.077073\n",
      "Epoch: 0 batch #: 243  of 300 sample #: 199 reconstruction error: 0.071095\n",
      "Epoch: 0 batch #: 244  of 300 sample #: 199 reconstruction error: 0.088196\n",
      "Epoch: 0 batch #: 245  of 300 sample #: 199 reconstruction error: 0.062243\n",
      "Epoch: 0 batch #: 246  of 300 sample #: 199 reconstruction error: 0.068582\n",
      "Epoch: 0 batch #: 247  of 300 sample #: 199 reconstruction error: 0.047936\n",
      "Epoch: 0 batch #: 248  of 300 sample #: 199 reconstruction error: 0.074200\n",
      "Epoch: 0 batch #: 249  of 300 sample #: 199 reconstruction error: 0.032281\n",
      "Epoch: 0 batch #: 250  of 300 sample #: 199 reconstruction error: 0.093484\n",
      "Epoch: 0 batch #: 251  of 300 sample #: 199 reconstruction error: 0.045110\n",
      "Epoch: 0 batch #: 252  of 300 sample #: 199 reconstruction error: 0.071928\n",
      "Epoch: 0 batch #: 253  of 300 sample #: 199 reconstruction error: 0.060972\n",
      "Epoch: 0 batch #: 254  of 300 sample #: 199 reconstruction error: 0.025411\n",
      "Epoch: 0 batch #: 255  of 300 sample #: 199 reconstruction error: 0.053822\n",
      "Epoch: 0 batch #: 256  of 300 sample #: 199 reconstruction error: 0.078135\n",
      "Epoch: 0 batch #: 257  of 300 sample #: 199 reconstruction error: 0.095921\n",
      "Epoch: 0 batch #: 258  of 300 sample #: 199 reconstruction error: 0.070176\n",
      "Epoch: 0 batch #: 259  of 300 sample #: 199 reconstruction error: 0.078369\n",
      "Epoch: 0 batch #: 260  of 300 sample #: 199 reconstruction error: 0.109543\n",
      "Epoch: 0 batch #: 261  of 300 sample #: 199 reconstruction error: 0.042745\n",
      "Epoch: 0 batch #: 262  of 300 sample #: 199 reconstruction error: 0.047886\n",
      "Epoch: 0 batch #: 263  of 300 sample #: 199 reconstruction error: 0.076716\n",
      "Epoch: 0 batch #: 264  of 300 sample #: 199 reconstruction error: 0.081112\n",
      "Epoch: 0 batch #: 265  of 300 sample #: 199 reconstruction error: 0.070829\n",
      "Epoch: 0 batch #: 266  of 300 sample #: 199 reconstruction error: 0.033363\n",
      "Epoch: 0 batch #: 267  of 300 sample #: 199 reconstruction error: 0.062609\n",
      "Epoch: 0 batch #: 268  of 300 sample #: 199 reconstruction error: 0.020288\n",
      "Epoch: 0 batch #: 269  of 300 sample #: 199 reconstruction error: 0.080094\n",
      "Epoch: 0 batch #: 270  of 300 sample #: 199 reconstruction error: 0.077189\n",
      "Epoch: 0 batch #: 271  of 300 sample #: 199 reconstruction error: 0.060919\n",
      "Epoch: 0 batch #: 272  of 300 sample #: 199 reconstruction error: 0.056179\n",
      "Epoch: 0 batch #: 273  of 300 sample #: 199 reconstruction error: 0.055463\n",
      "Epoch: 0 batch #: 274  of 300 sample #: 199 reconstruction error: 0.048589\n",
      "Epoch: 0 batch #: 275  of 300 sample #: 199 reconstruction error: 0.095504\n",
      "Epoch: 0 batch #: 276  of 300 sample #: 199 reconstruction error: 0.066704\n",
      "Epoch: 0 batch #: 277  of 300 sample #: 199 reconstruction error: 0.067817\n",
      "Epoch: 0 batch #: 278  of 300 sample #: 199 reconstruction error: 0.055088\n",
      "Epoch: 0 batch #: 279  of 300 sample #: 199 reconstruction error: 0.037095\n",
      "Epoch: 0 batch #: 280  of 300 sample #: 199 reconstruction error: 0.073912\n",
      "Epoch: 0 batch #: 281  of 300 sample #: 199 reconstruction error: 0.082817\n",
      "Epoch: 0 batch #: 282  of 300 sample #: 199 reconstruction error: 0.088114\n",
      "Epoch: 0 batch #: 283  of 300 sample #: 199 reconstruction error: 0.064794\n",
      "Epoch: 0 batch #: 284  of 300 sample #: 199 reconstruction error: 0.053324\n",
      "Epoch: 0 batch #: 285  of 300 sample #: 199 reconstruction error: 0.074239\n",
      "Epoch: 0 batch #: 286  of 300 sample #: 199 reconstruction error: 0.099385\n",
      "Epoch: 0 batch #: 287  of 300 sample #: 199 reconstruction error: 0.065397\n",
      "Epoch: 0 batch #: 288  of 300 sample #: 199 reconstruction error: 0.024671\n",
      "Epoch: 0 batch #: 289  of 300 sample #: 199 reconstruction error: 0.095836\n",
      "Epoch: 0 batch #: 290  of 300 sample #: 199 reconstruction error: 0.105797\n",
      "Epoch: 0 batch #: 291  of 300 sample #: 199 reconstruction error: 0.095278\n",
      "Epoch: 0 batch #: 292  of 300 sample #: 199 reconstruction error: 0.060483\n",
      "Epoch: 0 batch #: 293  of 300 sample #: 199 reconstruction error: 0.081895\n",
      "Epoch: 0 batch #: 294  of 300 sample #: 199 reconstruction error: 0.099113\n",
      "Epoch: 0 batch #: 295  of 300 sample #: 199 reconstruction error: 0.072106\n",
      "Epoch: 0 batch #: 296  of 300 sample #: 199 reconstruction error: 0.024993\n",
      "Epoch: 0 batch #: 297  of 300 sample #: 199 reconstruction error: 0.109339\n",
      "Epoch: 0 batch #: 298  of 300 sample #: 199 reconstruction error: 0.051707\n",
      "Epoch: 0 batch #: 299  of 300 sample #: 199 reconstruction error: 0.067452\n",
      "Epoch: 0 batch #: 300  of 300 sample #: 199 reconstruction error: 0.081034\n"
     ]
    }
   ],
   "source": [
    "# Parameters\n",
    "alpha = 0.01\n",
    "epochs = 1\n",
    "batchsize = 200\n",
    "weights = []\n",
    "errors = []\n",
    "batch_number = 0\n",
    "K = 1\n",
    "\n",
    "# creating datasets\n",
    "train_ds = tf.data.Dataset.from_tensor_slices((trX, trY)).batch(batchsize)\n",
    "\n",
    "for epoch in range(epochs):\n",
    "    for batch_x, batch_y in train_ds:\n",
    "        batch_number += 1\n",
    "        for i_sample in range(batchsize):\n",
    "            for k in range(K):\n",
    "                v0_state = batch_x[i_sample]\n",
    "                h0_state = hidden_layer(v0_state, W, hb)\n",
    "                v1_state = reconstructed_output(h0_state, W, vb)\n",
    "                h1_state = hidden_layer(v1_state, W, hb)\n",
    "\n",
    "                delta_W = tf.matmul(tf.transpose([v0_state]), h0_state) - tf.matmul(\n",
    "                    tf.transpose([v1_state]), h1_state\n",
    "                )\n",
    "                W = W + alpha * delta_W\n",
    "\n",
    "                vb = vb + alpha * tf.reduce_mean(v0_state - v1_state, 0)\n",
    "                hb = hb + alpha * tf.reduce_mean(h0_state - h1_state, 0)\n",
    "\n",
    "                v0_state = v1_state\n",
    "\n",
    "            if i_sample == batchsize - 1:\n",
    "                err = error(batch_x[i_sample], v1_state)\n",
    "                errors.append(err)\n",
    "                weights.append(W)\n",
    "                print(\n",
    "                    \"Epoch: %d\" % epoch,\n",
    "                    \"batch #: %i \" % batch_number,\n",
    "                    \"of %i\" % int(60e3 / batchsize),\n",
    "                    \"sample #: %i\" % i_sample,\n",
    "                    \"reconstruction error: %f\" % err,\n",
    "                )"
   ]
  },
  {
   "cell_type": "markdown",
   "metadata": {},
   "source": [
    "Let's take a look at the errors at the end of each batch:\n"
   ]
  },
  {
   "cell_type": "code",
   "execution_count": 28,
   "metadata": {},
   "outputs": [
    {
     "data": {
      "image/png": "[encoded data removed]",
      "text/plain": [
       "<Figure size 640x480 with 1 Axes>"
      ]
     },
     "metadata": {},
     "output_type": "display_data"
    }
   ],
   "source": [
    "plt.plot(errors)\n",
    "plt.xlabel(\"Batch Number\")\n",
    "plt.ylabel(\"Error\")\n",
    "plt.show()"
   ]
  },
  {
   "cell_type": "markdown",
   "metadata": {},
   "source": [
    "What is the final weight matrix $W$ after training?\n"
   ]
  },
  {
   "cell_type": "code",
   "execution_count": 29,
   "metadata": {},
   "outputs": [
    {
     "name": "stdout",
     "output_type": "stream",
     "text": [
      "[[-0.34999993 -0.35999992 -0.41999987 ... -0.12999998 -0.3899999\n",
      "  -0.46999982]\n",
      " [-0.35999992 -0.34999993 -0.46999982 ... -0.14999999 -0.44999984\n",
      "  -0.42999986]\n",
      " [-0.3999999  -0.34999993 -0.46999982 ... -0.14999999 -0.31999996\n",
      "  -0.46999982]\n",
      " ...\n",
      " [-0.29999998 -0.28       -0.40999988 ... -0.19000001 -0.4899998\n",
      "  -0.5399998 ]\n",
      " [-0.3899999  -0.33999994 -0.41999987 ... -0.16       -0.36999992\n",
      "  -0.4799998 ]\n",
      " [-0.33999994 -0.28       -0.42999986 ... -0.18       -0.5099998\n",
      "  -0.45999983]]\n"
     ]
    }
   ],
   "source": [
    "print(W.numpy())  # a weight matrix of shape (50,784)"
   ]
  },
  {
   "cell_type": "markdown",
   "metadata": {},
   "source": [
    "<a id=\"ref5\"></a>\n",
    "<h3>Learned features</h3> \n"
   ]
  },
  {
   "cell_type": "markdown",
   "metadata": {},
   "source": [
    "We can take each hidden unit and visualize the connections between that hidden unit and each element in the input vector. In our case, we have 50 hidden units. Lets visualize those.\n"
   ]
  },
  {
   "cell_type": "markdown",
   "metadata": {},
   "source": [
    "Let's plot the current weights:\n",
    "<b>tile_raster_images</b> helps in generating an easy to grasp image from a set of samples or weights. It transforms the <b>uw</b> (with one flattened image per row of size 784), into an array (of size $28\\times28$) in which images are reshaped and laid out like tiles on a floor.\n"
   ]
  },
  {
   "cell_type": "code",
   "execution_count": 30,
   "metadata": {},
   "outputs": [
    {
     "data": {
      "image/png": "[encoded data removed]",
      "text/plain": [
       "<Figure size 1800x1800 with 1 Axes>"
      ]
     },
     "metadata": {},
     "output_type": "display_data"
    }
   ],
   "source": [
    "tile_raster_images(\n",
    "    X=W.numpy().T, img_shape=(28, 28), tile_shape=(5, 10), tile_spacing=(1, 1)\n",
    ")\n",
    "import matplotlib.pyplot as plt\n",
    "from PIL import Image\n",
    "\n",
    "%matplotlib inline\n",
    "image = Image.fromarray(\n",
    "    tile_raster_images(\n",
    "        X=W.numpy().T, img_shape=(28, 28), tile_shape=(5, 10), tile_spacing=(1, 1)\n",
    "    )\n",
    ")\n",
    "### Plot image\n",
    "plt.rcParams[\"figure.figsize\"] = (18.0, 18.0)\n",
    "imgplot = plt.imshow(image)\n",
    "imgplot.set_cmap(\"gray\")"
   ]
  },
  {
   "cell_type": "markdown",
   "metadata": {},
   "source": [
    "Each tile in the above visualization corresponds to a vector of connections between a hidden unit and visible layer's units. \n"
   ]
  },
  {
   "cell_type": "markdown",
   "metadata": {},
   "source": [
    "Let's look at one of the learned weights corresponding to one of hidden units for example. In this particular square, the gray color represents weight = 0, and the whiter it is, the more positive the weights are (closer to 1). Conversely, the darker pixels are, the more negative the weights. The positive pixels will increase the probability of activation in hidden units (after multiplying by input/visible pixels), and negative pixels will decrease the probability of a unit hidden to be 1 (activated). So, why is this important?  So we can see that this specific square (hidden unit) can detect a feature (e.g. a \"/\" shape) and if it exists in the input.\n"
   ]
  },
  {
   "cell_type": "code",
   "execution_count": 31,
   "metadata": {},
   "outputs": [
    {
     "data": {
      "image/png": "[encoded data removed]",
      "text/plain": [
       "<Figure size 400x400 with 1 Axes>"
      ]
     },
     "metadata": {},
     "output_type": "display_data"
    }
   ],
   "source": [
    "from PIL import Image\n",
    "\n",
    "image = Image.fromarray(\n",
    "    tile_raster_images(\n",
    "        X=W.numpy().T[10:11], img_shape=(28, 28), tile_shape=(1, 1), tile_spacing=(1, 1)\n",
    "    )\n",
    ")\n",
    "### Plot image\n",
    "plt.rcParams[\"figure.figsize\"] = (4.0, 4.0)\n",
    "imgplot = plt.imshow(image)\n",
    "imgplot.set_cmap(\"gray\")"
   ]
  },
  {
   "cell_type": "markdown",
   "metadata": {},
   "source": [
    "Let's look at the reconstruction of an image now. Imagine that we have a destructed image of figure 3. Lets see if our trained network can fix it:\n",
    "\n",
    "First we plot the image:\n"
   ]
  },
  {
   "cell_type": "code",
   "execution_count": 32,
   "metadata": {},
   "outputs": [
    {
     "name": "stdout",
     "output_type": "stream",
     "text": [
      "--2023-09-11 16:42:33--  https://ibm.box.com/shared/static/vvm1b63uvuxq88vbw9znpwu5ol380mco.jpg\n",
      "Resolving ibm.box.com (ibm.box.com)... 74.112.186.144\n",
      "Connecting to ibm.box.com (ibm.box.com)|74.112.186.144|:443... connected.\n",
      "HTTP request sent, awaiting response... 301 Moved Permanently\n",
      "Location: /public/static/vvm1b63uvuxq88vbw9znpwu5ol380mco.jpg [following]\n",
      "--2023-09-11 16:42:33--  https://ibm.box.com/public/static/vvm1b63uvuxq88vbw9znpwu5ol380mco.jpg\n",
      "Reusing existing connection to ibm.box.com:443.\n",
      "HTTP request sent, awaiting response... 301 Moved Permanently\n",
      "Location: https://ibm.ent.box.com/public/static/vvm1b63uvuxq88vbw9znpwu5ol380mco.jpg [following]\n",
      "--2023-09-11 16:42:33--  https://ibm.ent.box.com/public/static/vvm1b63uvuxq88vbw9znpwu5ol380mco.jpg\n",
      "Resolving ibm.ent.box.com (ibm.ent.box.com)... 74.112.186.144\n",
      "Connecting to ibm.ent.box.com (ibm.ent.box.com)|74.112.186.144|:443... connected.\n",
      "HTTP request sent, awaiting response... 302 Found\n",
      "Location: https://public.boxcloud.com/d/1/b1!XzHtKDW7Qbf74SOPzw8dDo4X5jZ36SAHxxv38E4E9OD1uwPOEJt--tYjNNcZOEQhyXdZ-n9stR7CTv0rdUEUYTNkHM57-Ka35fFUCLrufbAnV_1Bx0eBDKEK08kmfVVaFG1lFj72XGTNyvd3Lep-NyF0tt7XFL3aOS2abfhbGPHMvyjHmJilBMvi_EdAczmz0P9493aImGZWteP3MbFlny8kYF2OGm8r8xLf-2xcQxGNm-G_YD2vwGI2-xtAwXnUxlzdIc6YmOUl0rL5AZFeHE676IiIkQQXgfSwsQauqd6sWeJTcDupErhnp61HGlBVTjXXLj_ba7ts1SGUdFDXwtl2adUMQ2PRatD2SnitjjjNN5VzAza9Vs7paMv4a0cMeAmSMdkIAmQ124tMqFv2sA1Iy0npG0T5JnRgZ5L_rbV72Pi3oWMpXSSgw0bd5dWJfBI_y7kZy-rlIdTtOpPe5vg2tIqxHBm60cfFNwFDUvqVKWBwsBO_LFPL8wLFBVTquHCihv-LBQfX_iYG2jDn8h6b5NCuRoQHVXqFT9NL7pwHlemRk0A-gA1uOnKorX-7x1ImuDyY0MnQa_RO_3QhL-ZAydeyD2ZlC4sseSUbF2p0yqkqCj4Ff7ySnUx16johLjZdODSc7uBUC98ZGhOoWJDOYiY4m2HTTxL7yOl1P4x0eBU2_hvhVOn57lwROaOnODiXEmPELP4yIPW6ENiEtojuLTkZyyFPrud8doQJpj18Ngn70rGRcBv0-HS7xRbIIbCoh7WnIzSSHi30JwUhdXG0acqVImKBDwhnAEdHZT9oPnSHUqFk5vkyJY5Z_qTXFIzn7WTrR3DBOwZGxVTl2V9HsSK58rKZQyur90nD3N2N2f9LnEoRdNiGdbIksJehQcy17wEaHVSWyvPqiU-Lie2rrxpu1qReu7UhXQCQmE8KcFXb0G1NE7zJwICrXDFZYcp9f7pl0ponIfx9ywSmf2ovtbD0Ou82jl26II_zZ7MIJDvF_-BNbFXJj6Td1V7gOu2UPaqmuQLd0A1GmxiJO33ji9iVuvXC1hoH8g4mKKamQ_cgugxnKGPNA5YQ5x_H5YAWAz1yknB8lGJfhXpsn403I9IpvkhUN6wRZBjWiGdkA_g0wgrcCx7K_WoUHvlqy7h8SZp9m4zI7YeAwZDX6IbI-MTZTkkBAAGxxCNrRAHtJTW9ie8HhfAgEp4_4TpvcqVelKk5Fhv86pGfTcMo9_JW1ogtn0g6q19FayjoRKIHWVTuG7tLAc2YcGcYZDPEoOZH_teJxnIlxFFAcgvkIkaUFzQMHRLb7W5dwdEI78vn_gs0Qrxsr2NyqvdT7G3wRMleWBYktUbn8zlew2MJv4B4luAI-Et3JZmf5heO8HrvU1z_7cE6n9p6Bd_yYZv7HnqJJeV0xqmV0RQw0VWahWOI/download [following]\n",
      "--2023-09-11 16:42:35--  https://public.boxcloud.com/d/1/b1!XzHtKDW7Qbf74SOPzw8dDo4X5jZ36SAHxxv38E4E9OD1uwPOEJt--tYjNNcZOEQhyXdZ-n9stR7CTv0rdUEUYTNkHM57-Ka35fFUCLrufbAnV_1Bx0eBDKEK08kmfVVaFG1lFj72XGTNyvd3Lep-NyF0tt7XFL3aOS2abfhbGPHMvyjHmJilBMvi_EdAczmz0P9493aImGZWteP3MbFlny8kYF2OGm8r8xLf-2xcQxGNm-G_YD2vwGI2-xtAwXnUxlzdIc6YmOUl0rL5AZFeHE676IiIkQQXgfSwsQauqd6sWeJTcDupErhnp61HGlBVTjXXLj_ba7ts1SGUdFDXwtl2adUMQ2PRatD2SnitjjjNN5VzAza9Vs7paMv4a0cMeAmSMdkIAmQ124tMqFv2sA1Iy0npG0T5JnRgZ5L_rbV72Pi3oWMpXSSgw0bd5dWJfBI_y7kZy-rlIdTtOpPe5vg2tIqxHBm60cfFNwFDUvqVKWBwsBO_LFPL8wLFBVTquHCihv-LBQfX_iYG2jDn8h6b5NCuRoQHVXqFT9NL7pwHlemRk0A-gA1uOnKorX-7x1ImuDyY0MnQa_RO_3QhL-ZAydeyD2ZlC4sseSUbF2p0yqkqCj4Ff7ySnUx16johLjZdODSc7uBUC98ZGhOoWJDOYiY4m2HTTxL7yOl1P4x0eBU2_hvhVOn57lwROaOnODiXEmPELP4yIPW6ENiEtojuLTkZyyFPrud8doQJpj18Ngn70rGRcBv0-HS7xRbIIbCoh7WnIzSSHi30JwUhdXG0acqVImKBDwhnAEdHZT9oPnSHUqFk5vkyJY5Z_qTXFIzn7WTrR3DBOwZGxVTl2V9HsSK58rKZQyur90nD3N2N2f9LnEoRdNiGdbIksJehQcy17wEaHVSWyvPqiU-Lie2rrxpu1qReu7UhXQCQmE8KcFXb0G1NE7zJwICrXDFZYcp9f7pl0ponIfx9ywSmf2ovtbD0Ou82jl26II_zZ7MIJDvF_-BNbFXJj6Td1V7gOu2UPaqmuQLd0A1GmxiJO33ji9iVuvXC1hoH8g4mKKamQ_cgugxnKGPNA5YQ5x_H5YAWAz1yknB8lGJfhXpsn403I9IpvkhUN6wRZBjWiGdkA_g0wgrcCx7K_WoUHvlqy7h8SZp9m4zI7YeAwZDX6IbI-MTZTkkBAAGxxCNrRAHtJTW9ie8HhfAgEp4_4TpvcqVelKk5Fhv86pGfTcMo9_JW1ogtn0g6q19FayjoRKIHWVTuG7tLAc2YcGcYZDPEoOZH_teJxnIlxFFAcgvkIkaUFzQMHRLb7W5dwdEI78vn_gs0Qrxsr2NyqvdT7G3wRMleWBYktUbn8zlew2MJv4B4luAI-Et3JZmf5heO8HrvU1z_7cE6n9p6Bd_yYZv7HnqJJeV0xqmV0RQw0VWahWOI/download\n",
      "Resolving public.boxcloud.com (public.boxcloud.com)... 74.112.186.128\n",
      "Connecting to public.boxcloud.com (public.boxcloud.com)|74.112.186.128|:443... connected.\n",
      "HTTP request sent, awaiting response... 200 OK\n",
      "Length: 24383 (24K) [image/jpeg]\n",
      "Saving to: ‘destructed3.jpg’\n",
      "\n",
      "destructed3.jpg     100%[===================>]  23.81K  --.-KB/s    in 0.002s  \n",
      "\n",
      "2023-09-11 16:42:35 (13.1 MB/s) - ‘destructed3.jpg’ saved [24383/24383]\n",
      "\n"
     ]
    },
    {
     "data": {
      "image/png": "[encoded data removed]",
      "text/plain": [
       "<PIL.JpegImagePlugin.JpegImageFile image mode=RGB size=181x181 at 0x7FB9A4A55590>"
      ]
     },
     "execution_count": 32,
     "metadata": {},
     "output_type": "execute_result"
    }
   ],
   "source": [
    "!wget -O destructed3.jpg  https://ibm.box.com/shared/static/vvm1b63uvuxq88vbw9znpwu5ol380mco.jpg\n",
    "img = Image.open(\"destructed3.jpg\")\n",
    "img"
   ]
  },
  {
   "cell_type": "markdown",
   "metadata": {},
   "source": [
    "Now let's pass this image through the neural net:\n"
   ]
  },
  {
   "cell_type": "code",
   "execution_count": 33,
   "metadata": {},
   "outputs": [],
   "source": [
    "# convert the image to a 1d numpy array\n",
    "sample_case = (\n",
    "    np.array(img.convert(\"I\").resize((28, 28))).ravel().reshape((1, -1)) / 255.0\n",
    ")\n",
    "\n",
    "sample_case = tf.cast(sample_case, dtype=tf.float32)"
   ]
  },
  {
   "cell_type": "markdown",
   "metadata": {},
   "source": [
    "Feed the sample case into the network and reconstruct the output:\n"
   ]
  },
  {
   "cell_type": "code",
   "execution_count": 34,
   "metadata": {},
   "outputs": [
    {
     "name": "stdout",
     "output_type": "stream",
     "text": [
      "Probability nodes in hidden layer: tf.Tensor(\n",
      "[[9.1347427e-09 2.2552386e-14 9.9940771e-01 1.0000000e+00 1.9884563e-08\n",
      "  3.9113410e-11 2.4040563e-02 3.8176360e-09 7.3910177e-01 1.5778993e-03\n",
      "  1.5080706e-12 2.0292130e-06 1.0452046e-05 9.9999654e-01 1.0000000e+00\n",
      "  2.3428946e-11 9.6989906e-01 8.8989268e-14 9.9988908e-01 8.2967328e-03\n",
      "  1.6928314e-01 1.1032861e-06 9.9911433e-01 1.3242940e-06 9.9977213e-01\n",
      "  1.0000000e+00 9.9829704e-01 1.3755938e-02 1.2556856e-12 2.2206946e-17\n",
      "  9.5887953e-01 9.0599322e-05 5.7690773e-02 4.5851871e-15 5.0452634e-08\n",
      "  9.9999982e-01 9.9912620e-01 4.0573370e-02 9.7979367e-01 5.2123374e-05\n",
      "  9.9992287e-01 3.1870850e-06 1.9981714e-04 6.4078449e-06 1.8367690e-03\n",
      "  3.5222281e-05 1.0000000e+00 9.4162357e-15 3.3156095e-10 9.9997008e-01]], shape=(1, 50), dtype=float32)\n",
      "activated nodes in hidden layer: tf.Tensor(\n",
      "[[0. 0. 1. 1. 0. 0. 0. 0. 1. 0. 0. 0. 0. 1. 1. 0. 1. 0. 1. 0. 0. 0. 1. 0.\n",
      "  1. 1. 1. 0. 0. 0. 1. 0. 0. 0. 0. 1. 1. 0. 1. 0. 1. 0. 0. 0. 0. 0. 1. 0.\n",
      "  0. 1.]], shape=(1, 50), dtype=float32)\n",
      "tf.Tensor(\n",
      "[[1.61292148e-04 2.22106304e-04 1.36079922e-04 1.29444190e-04\n",
      "  6.36447294e-05 1.13666239e-04 1.59687639e-04 9.21379615e-05\n",
      "  1.66203536e-04 1.26881307e-04 2.05033502e-04 7.54374560e-05\n",
      "  1.54054287e-04 1.47031096e-04 8.83279354e-05 1.35107126e-04\n",
      "  1.58098948e-04 1.25618928e-04 1.40223565e-04 1.69560226e-04\n",
      "  1.32058718e-04 1.37447409e-04 1.96995592e-04 1.69560386e-04\n",
      "  1.18304488e-04 1.54968788e-04 1.98975118e-04 2.15543550e-04\n",
      "  1.21906814e-04 1.98975307e-04 1.61292308e-04 1.44493490e-04\n",
      "  1.12046648e-04 1.39965487e-04 1.50944921e-04 1.03514205e-04\n",
      "  1.70902276e-04 1.59456205e-04 3.83503997e-04 2.63935450e-04\n",
      "  2.62841349e-04 2.68601638e-04 3.16752907e-04 2.68833246e-04\n",
      "  4.63224424e-04 3.29636619e-04 2.98944418e-04 2.19965965e-04\n",
      "  2.04768381e-04 1.48590043e-04 1.45551225e-04 1.50938722e-04\n",
      "  2.55474617e-04 2.50417303e-04 1.36080052e-04 1.74723347e-04\n",
      "  1.24369253e-04 1.37447540e-04 1.56538430e-04 1.86020960e-04\n",
      "  1.94090069e-04 2.18205023e-04 1.20368102e-04 2.23014344e-04\n",
      "  1.83385637e-04 1.18142394e-04 1.17104799e-04 9.85207953e-05\n",
      "  1.03121594e-04 4.50235493e-05 1.21079298e-04 1.36498275e-04\n",
      "  1.30480461e-04 6.42070881e-05 7.55061192e-05 6.73712639e-05\n",
      "  6.44586180e-05 1.74559638e-04 3.42050917e-04 2.52685684e-04\n",
      "  1.78154733e-04 2.19448964e-04 1.15962124e-04 1.45945509e-04\n",
      "  1.02850448e-04 2.13399268e-04 1.45220591e-04 1.52826920e-04\n",
      "  1.17633717e-04 2.72868347e-04 1.54774869e-04 1.72633285e-04\n",
      "  1.35495065e-04 7.97889588e-05 8.86583875e-05 1.04715480e-04\n",
      "  6.66074411e-05 2.26364878e-04 3.53051815e-04 3.46403976e-04\n",
      "  5.18163200e-04 2.43998438e-04 4.51843138e-04 2.26125223e-04\n",
      "  1.35289287e-04 1.23747377e-04 1.42535777e-04 3.16467660e-04\n",
      "  2.41763992e-04 1.54611000e-04 1.14032315e-04 1.53427158e-04\n",
      "  1.43055935e-04 2.17248846e-04 1.97661095e-04 1.52336317e-04\n",
      "  2.49192846e-04 3.35399061e-04 4.38971270e-04 1.98984199e-04\n",
      "  4.35069494e-04 1.17510720e-03 1.91798841e-03 2.20851926e-03\n",
      "  6.67157909e-03 1.00040315e-02 1.71700213e-02 4.35530990e-02\n",
      "  3.98290269e-02 5.81589639e-02 2.96541862e-02 7.07567809e-03\n",
      "  4.07150062e-03 1.44633616e-03 4.22990788e-03 1.61369878e-03\n",
      "  7.05256010e-04 5.24716103e-04 2.46791547e-04 1.43471756e-04\n",
      "  1.28156331e-04 2.35837462e-04 1.85795128e-04 1.99482849e-04\n",
      "  7.78330083e-04 3.88193585e-04 4.96234105e-04 4.27381397e-04\n",
      "  2.92181433e-03 8.51701107e-03 5.99283315e-02 1.16850026e-01\n",
      "  1.86562151e-01 4.43290949e-01 6.45168304e-01 8.44218075e-01\n",
      "  7.94104218e-01 7.56471753e-01 5.27027428e-01 2.39828780e-01\n",
      "  7.49390796e-02 2.63523366e-02 3.14120203e-02 1.43039823e-02\n",
      "  4.43246681e-03 1.10904325e-03 6.73832139e-04 1.90620791e-04\n",
      "  1.17127456e-04 1.86598132e-04 2.43027724e-04 5.04151394e-04\n",
      "  4.68941871e-04 4.77159920e-04 5.32509934e-04 2.33018002e-03\n",
      "  1.26872398e-02 3.06983180e-02 2.18717366e-01 5.09480417e-01\n",
      "  8.68104935e-01 9.37363625e-01 9.54450607e-01 8.94662321e-01\n",
      "  9.04195905e-01 8.95072401e-01 8.38032544e-01 6.80595934e-01\n",
      "  3.58113348e-01 2.70501852e-01 1.19619764e-01 2.95815766e-02\n",
      "  5.28262928e-03 3.42607242e-03 9.06732108e-04 1.87882863e-04\n",
      "  1.10337489e-04 1.93202126e-04 2.69910379e-04 5.56707731e-04\n",
      "  3.27846443e-04 6.04181143e-04 6.19363564e-04 2.68737948e-03\n",
      "  1.43927559e-02 1.75281897e-01 6.60888255e-01 8.76405418e-01\n",
      "  9.59480345e-01 9.38741624e-01 9.10419047e-01 9.18549538e-01\n",
      "  7.79960394e-01 5.20579457e-01 5.18353462e-01 7.68098235e-01\n",
      "  8.14619422e-01 5.75654209e-01 2.43511036e-01 4.25627939e-02\n",
      "  4.22217045e-03 1.05999049e-03 1.07356056e-03 2.00321883e-04\n",
      "  1.33810259e-04 2.66921852e-04 2.98055355e-04 5.60891174e-04\n",
      "  3.62442865e-04 3.83358711e-04 6.35701173e-04 3.97367543e-03\n",
      "  2.13235822e-02 2.03740835e-01 7.89854228e-01 8.64669561e-01\n",
      "  8.77177417e-01 8.00452590e-01 5.49251199e-01 2.09494203e-01\n",
      "  2.09372759e-01 1.59431547e-01 3.15413952e-01 6.98459208e-01\n",
      "  8.54752302e-01 8.14442515e-01 3.19229424e-01 3.17658968e-02\n",
      "  3.93123552e-03 9.24132008e-04 2.80714215e-04 1.82646094e-04\n",
      "  1.25142265e-04 1.63309538e-04 2.40469017e-04 4.78016504e-04\n",
      "  3.08988994e-04 5.29491866e-04 4.45581245e-04 4.36980510e-03\n",
      "  1.37183396e-02 1.38509050e-01 3.41851711e-01 5.49619079e-01\n",
      "  3.10139209e-01 1.70065939e-01 6.92819282e-02 4.89971340e-02\n",
      "  1.08897917e-01 1.54133111e-01 2.52278090e-01 7.13673770e-01\n",
      "  8.95001948e-01 7.82858431e-01 3.10714751e-01 3.94729897e-02\n",
      "  6.12301053e-03 7.28518527e-04 3.06528789e-04 2.43199233e-04\n",
      "  2.18504836e-04 1.03028222e-04 2.92728277e-04 8.54742946e-04\n",
      "  1.07411179e-03 1.12873095e-03 9.02452739e-04 3.47816944e-03\n",
      "  6.16391050e-03 3.74796055e-02 1.61742836e-01 7.59305432e-02\n",
      "  1.71236798e-01 1.36167273e-01 5.18259220e-02 9.86939445e-02\n",
      "  1.90919802e-01 3.22384238e-01 5.56711137e-01 7.17995822e-01\n",
      "  7.51611590e-01 5.42147040e-01 2.42100894e-01 3.26688923e-02\n",
      "  4.71429573e-03 9.18785285e-04 3.79749486e-04 1.92016305e-04\n",
      "  1.52688983e-04 1.72065163e-04 3.92123446e-04 1.07322808e-03\n",
      "  1.62447360e-03 1.69060274e-03 1.48383202e-03 3.10087577e-03\n",
      "  3.39908269e-03 1.28859347e-02 4.35803011e-02 4.76129502e-02\n",
      "  1.90741956e-01 2.93700069e-01 4.48676735e-01 6.11973882e-01\n",
      "  6.52677834e-01 6.67518497e-01 5.23017347e-01 5.70438981e-01\n",
      "  4.90341336e-01 1.99772060e-01 4.22178507e-02 3.75372474e-03\n",
      "  1.48114981e-03 5.86796144e-04 4.30771004e-04 1.48270177e-04\n",
      "  1.35941285e-04 1.58975410e-04 4.13611939e-04 4.42894292e-04\n",
      "  1.21284032e-03 1.35235477e-03 3.29529494e-03 2.23781588e-03\n",
      "  3.14312289e-03 2.08965968e-02 3.25233527e-02 1.53628871e-01\n",
      "  6.72705591e-01 8.02470207e-01 8.72977257e-01 9.27415311e-01\n",
      "  9.17101622e-01 7.10605979e-01 5.10173202e-01 3.17673802e-01\n",
      "  1.11655988e-01 3.81603912e-02 1.43544795e-02 1.08295516e-03\n",
      "  3.99515004e-04 6.48291083e-04 2.27572207e-04 2.39743997e-04\n",
      "  1.47788160e-04 2.39405708e-04 3.36188154e-04 7.71831779e-04\n",
      "  1.14637089e-03 1.85508898e-03 4.71554231e-03 3.33731296e-03\n",
      "  8.38954840e-03 4.53621037e-02 1.17014281e-01 4.48124796e-01\n",
      "  8.39047968e-01 9.15461957e-01 9.47671711e-01 9.25956726e-01\n",
      "  9.35959339e-01 7.26593018e-01 4.70324159e-01 2.34509826e-01\n",
      "  5.15997894e-02 2.96527576e-02 5.26950322e-03 5.96725382e-04\n",
      "  2.43687595e-04 2.53530045e-04 1.90957697e-04 8.94959230e-05\n",
      "  1.49859843e-04 1.10030800e-04 1.90329651e-04 7.34331319e-04\n",
      "  2.39126803e-03 1.99651695e-03 1.64642581e-03 3.42167122e-03\n",
      "  2.28059199e-02 5.69168106e-02 2.73821533e-01 7.41963685e-01\n",
      "  8.78628194e-01 9.34376776e-01 9.07116711e-01 9.39142466e-01\n",
      "  9.20220256e-01 8.86470795e-01 6.01741374e-01 2.34110683e-01\n",
      "  6.74537867e-02 1.38133597e-02 4.09011450e-03 5.65619324e-04\n",
      "  1.11159738e-04 2.57436332e-04 3.35687917e-04 1.03631835e-04\n",
      "  2.49114935e-04 1.79359951e-04 1.39281416e-04 7.79703725e-04\n",
      "  2.82748905e-03 2.92614778e-03 2.94665177e-03 8.64037499e-03\n",
      "  2.87500061e-02 4.23909277e-02 1.60351589e-01 3.73490900e-01\n",
      "  6.65589035e-01 5.70752919e-01 4.52697486e-01 6.73825383e-01\n",
      "  8.70476305e-01 9.14667904e-01 7.98301041e-01 2.31680840e-01\n",
      "  3.94022092e-02 1.34039950e-02 3.22726672e-03 5.94768149e-04\n",
      "  1.34611138e-04 1.00605539e-04 2.99073523e-04 1.68738014e-04\n",
      "  1.96455774e-04 1.00798359e-04 2.25785698e-04 1.84414315e-03\n",
      "  5.57884341e-03 9.75551549e-03 2.11291127e-02 5.76940365e-02\n",
      "  5.18662296e-02 5.58233783e-02 1.10869877e-01 2.07184553e-01\n",
      "  1.47760615e-01 1.09192669e-01 1.24748521e-01 2.59959459e-01\n",
      "  7.76794553e-01 9.13207293e-01 7.44572401e-01 2.73134619e-01\n",
      "  3.69803570e-02 9.07059107e-03 1.49767916e-03 6.67771965e-04\n",
      "  2.12011044e-04 1.23084450e-04 2.39885077e-04 2.06016630e-04\n",
      "  1.50389475e-04 1.66666927e-04 5.17687760e-04 3.39485495e-03\n",
      "  2.76523158e-02 3.65302749e-02 8.49734992e-02 6.18030652e-02\n",
      "  6.23526648e-02 6.95128590e-02 1.23216130e-01 9.51249003e-02\n",
      "  2.38522217e-02 1.81167219e-02 3.32038812e-02 2.00088516e-01\n",
      "  7.08738327e-01 8.10135901e-01 5.51993072e-01 3.87856513e-01\n",
      "  8.16502795e-02 2.92535760e-02 2.30670371e-03 3.80753801e-04\n",
      "  2.55380874e-04 1.58087190e-04 3.83158273e-04 1.68605809e-04\n",
      "  9.15116252e-05 1.91114712e-04 1.37887197e-03 9.89850704e-03\n",
      "  8.79829675e-02 9.65325683e-02 1.00109577e-01 3.15219797e-02\n",
      "  8.19436237e-02 9.90701988e-02 8.23859870e-02 2.00354978e-02\n",
      "  5.38456999e-03 4.01343871e-03 5.21974936e-02 2.61637896e-01\n",
      "  6.98852360e-01 7.23689973e-01 5.98608851e-01 2.75959074e-01\n",
      "  7.50243887e-02 1.07993409e-02 1.20145234e-03 3.67227185e-04\n",
      "  1.34207541e-04 2.73436599e-04 3.37628095e-04 1.62192824e-04\n",
      "  1.39729716e-04 2.83967529e-04 1.41758088e-03 3.28350551e-02\n",
      "  2.35777900e-01 3.63169521e-01 2.26422369e-01 1.57766938e-01\n",
      "  1.53856114e-01 1.04172207e-01 3.24498117e-02 2.06845906e-02\n",
      "  4.45142388e-03 3.86476028e-03 2.07948126e-02 2.08279476e-01\n",
      "  7.71318734e-01 6.31116748e-01 4.63975906e-01 2.05146924e-01\n",
      "  2.99476385e-02 2.34266184e-03 6.18739054e-04 3.53389245e-04\n",
      "  1.28339045e-04 2.70845077e-04 4.45435144e-04 1.20912009e-04\n",
      "  1.38828604e-04 2.28224060e-04 3.34742805e-03 1.14126556e-01\n",
      "  3.54307860e-01 5.15509784e-01 3.55110437e-01 2.14796349e-01\n",
      "  2.89964765e-01 2.06450850e-01 6.24102131e-02 1.38267539e-02\n",
      "  5.43490984e-03 8.37728474e-03 4.10777591e-02 4.76657003e-01\n",
      "  7.01775730e-01 4.31934148e-01 1.75708830e-01 7.89747238e-02\n",
      "  6.11331454e-03 9.14442062e-04 3.36606201e-04 8.92839234e-05\n",
      "  2.48931377e-04 3.20023886e-04 2.76063947e-04 2.10334445e-04\n",
      "  1.55559348e-04 2.00039227e-04 2.04105070e-03 5.12036122e-02\n",
      "  4.00013894e-01 6.24602258e-01 5.24135053e-01 4.25149411e-01\n",
      "  3.57601941e-01 2.52655804e-01 1.22803219e-01 3.61430235e-02\n",
      "  3.81095856e-02 8.56128484e-02 2.58054316e-01 6.60235941e-01\n",
      "  7.42302716e-01 6.67137861e-01 1.29533127e-01 7.06966734e-03\n",
      "  1.98792084e-03 4.14905982e-04 3.13167082e-04 2.86700437e-04\n",
      "  1.46950784e-04 3.41368577e-04 2.22952673e-04 1.56029811e-04\n",
      "  1.60226962e-04 1.72707543e-04 1.09827588e-03 3.44578177e-02\n",
      "  1.31400988e-01 4.75381404e-01 5.02162039e-01 7.64523983e-01\n",
      "  6.41017199e-01 4.92889762e-01 4.79626864e-01 4.26680863e-01\n",
      "  3.01824212e-01 4.55171227e-01 8.57360482e-01 8.82302880e-01\n",
      "  6.79973364e-01 2.14982554e-01 5.05314060e-02 3.50752450e-03\n",
      "  1.93363708e-03 1.13272539e-03 2.88765819e-04 3.16978287e-04\n",
      "  4.68080398e-04 2.69372045e-04 2.19914378e-04 9.99168842e-05\n",
      "  2.11276507e-04 1.53427158e-04 3.09316732e-04 4.18943353e-03\n",
      "  8.58933702e-02 2.02385142e-01 3.42636526e-01 6.06976330e-01\n",
      "  8.15945208e-01 8.40111494e-01 8.74877751e-01 8.45979929e-01\n",
      "  8.78075838e-01 9.03607845e-01 7.80273020e-01 7.07649291e-01\n",
      "  3.62996310e-01 5.14505319e-02 1.13238981e-02 3.78967868e-03\n",
      "  2.67039239e-03 7.61090487e-04 5.05143485e-04 4.72098065e-04\n",
      "  4.05076542e-04 2.10309561e-04 2.55976425e-04 1.53427158e-04\n",
      "  1.67873513e-04 1.28156331e-04 2.14178974e-04 7.68600963e-04\n",
      "  7.60447280e-03 4.55057546e-02 1.65919632e-01 3.80198091e-01\n",
      "  4.93890792e-01 7.12751210e-01 8.39705646e-01 5.92318237e-01\n",
      "  5.96442759e-01 3.83716017e-01 3.22363883e-01 7.07935840e-02\n",
      "  2.04495341e-02 6.15687715e-03 8.30625359e-04 1.38804608e-03\n",
      "  7.05674232e-04 3.17014579e-04 6.76320691e-04 5.16676519e-04\n",
      "  2.20086789e-04 2.74628226e-04 1.08970147e-04 9.49436799e-05\n",
      "  1.93095868e-04 1.64549841e-04 1.27755164e-04 2.20803937e-04\n",
      "  4.41714801e-04 1.09398155e-03 2.31440249e-03 5.49226347e-03\n",
      "  1.46965059e-02 2.12775879e-02 1.31755648e-02 9.52628162e-03\n",
      "  9.83036589e-03 7.63776340e-03 8.14874563e-03 7.21649500e-03\n",
      "  2.90032988e-03 7.51195825e-04 3.04364512e-04 4.85997531e-04\n",
      "  2.50557263e-04 2.05356308e-04 1.56514405e-04 2.77921237e-04\n",
      "  1.32302492e-04 1.60824988e-04 1.93603584e-04 1.69560386e-04\n",
      "  1.24369253e-04 2.31168538e-04 1.62912940e-04 1.59112649e-04\n",
      "  2.19819209e-04 6.35411940e-04 9.32016410e-04 4.97750996e-04\n",
      "  3.72555311e-04 2.07616074e-04 2.60227622e-04 2.86252238e-04\n",
      "  2.03357180e-04 4.86150238e-04 6.24338165e-04 2.80070235e-04\n",
      "  7.05765124e-05 9.41958278e-05 1.13609247e-04 2.11501654e-04\n",
      "  2.63274735e-04 1.10091554e-04 1.53294968e-04 2.32422972e-04\n",
      "  1.22992002e-04 1.52378023e-04 1.47411949e-04 2.40600435e-04\n",
      "  1.62912780e-04 1.12535243e-04 1.87389975e-04 1.58098803e-04\n",
      "  1.77123904e-04 1.56692084e-04 1.66895930e-04 3.40271828e-04\n",
      "  3.91416834e-04 4.53433342e-04 4.64115525e-04 3.17611441e-04\n",
      "  4.05044470e-04 4.85838478e-04 3.19885381e-04 2.04367927e-04\n",
      "  2.16170461e-04 4.33158886e-04 2.02533236e-04 2.58943852e-04\n",
      "  9.31955074e-05 1.15074305e-04 1.65845762e-04 1.30611777e-04\n",
      "  1.02850448e-04 1.47411949e-04 1.38828473e-04 1.34726200e-04]], shape=(1, 784), dtype=float32)\n"
     ]
    }
   ],
   "source": [
    "hh0_p = tf.nn.sigmoid(tf.matmul(sample_case, W) + hb)\n",
    "hh0_s = tf.round(hh0_p)\n",
    "\n",
    "print(\"Probability nodes in hidden layer:\", hh0_p)\n",
    "print(\"activated nodes in hidden layer:\", hh0_s)\n",
    "\n",
    "# reconstruct\n",
    "vv1_p = tf.nn.sigmoid(tf.matmul(hh0_s, tf.transpose(W)) + vb)\n",
    "\n",
    "print(vv1_p)\n",
    "# rec_prob = sess.run(vv1_p, feed_dict={ hh0_s: hh0_s_val, W: prv_w, vb: prv_vb})"
   ]
  },
  {
   "cell_type": "markdown",
   "metadata": {},
   "source": [
    "Here we plot the reconstructed image:\n"
   ]
  },
  {
   "cell_type": "code",
   "execution_count": 35,
   "metadata": {},
   "outputs": [
    {
     "data": {
      "image/png": "[encoded data removed]",
      "text/plain": [
       "<Figure size 400x400 with 1 Axes>"
      ]
     },
     "metadata": {},
     "output_type": "display_data"
    }
   ],
   "source": [
    "img = Image.fromarray(\n",
    "    tile_raster_images(\n",
    "        X=vv1_p.numpy(), img_shape=(28, 28), tile_shape=(1, 1), tile_spacing=(1, 1)\n",
    "    )\n",
    ")\n",
    "plt.rcParams[\"figure.figsize\"] = (4.0, 4.0)\n",
    "imgplot = plt.imshow(img)\n",
    "imgplot.set_cmap(\"gray\")"
   ]
  },
  {
   "cell_type": "markdown",
   "metadata": {},
   "source": [
    "### Thanks for completing this lesson!\n",
    "\n",
    "Notebook created by: <a href = \"https://ca.linkedin.com/in/saeedaghabozorgi\">Saeed Aghabozorgi</a>\n",
    "\n",
    "Updated to TF 2.X by  <a href=\"https://ca.linkedin.com/in/nilmeier?utm_medium=Exinfluencer&utm_source=Exinfluencer&utm_content=000026UJ&utm_term=10006555&utm_id=NA-SkillsNetwork-Channel-SkillsNetworkCoursesIBMDeveloperSkillsNetworkDL0120ENSkillsNetwork954-2023-01-01\"> Jerome Nilmeier</a><br />\n"
   ]
  },
  {
   "cell_type": "markdown",
   "metadata": {},
   "source": [
    "### References:\n",
    "https://en.wikipedia.org/wiki/Restricted_Boltzmann_machine  \n",
    "http://deeplearning.net/tutorial/rbm.html  \n",
    "http://www.cs.utoronto.ca/~hinton/absps/netflixICML.pdf<br>\n",
    "http://imonad.com/rbm/restricted-boltzmann-machine/  \n"
   ]
  },
  {
   "cell_type": "markdown",
   "metadata": {},
   "source": [
    "<hr>\n",
    "\n",
    "Copyright &copy; 2018 [Cognitive Class](https://cocl.us/DX0108EN_CC). This notebook and its source code are released under the terms of the [MIT License](https://bigdatauniversity.com/mit-license/?utm_medium=Exinfluencer&utm_source=Exinfluencer&utm_content=000026UJ&utm_term=10006555&utm_id=NA-SkillsNetwork-Channel-SkillsNetworkCoursesIBMDeveloperSkillsNetworkDL0120ENSkillsNetwork954-2023-01-01).\n"
   ]
  }
 ],
 "metadata": {
  "kernelspec": {
   "display_name": "Python",
   "language": "python",
   "name": "conda-env-python-py"
  },
  "language_info": {
   "codemirror_mode": {
    "name": "ipython",
    "version": 3
   },
   "file_extension": ".py",
   "mimetype": "text/x-python",
   "name": "python",
   "nbconvert_exporter": "python",
   "pygments_lexer": "ipython3",
   "version": "3.7.12"
  }
 },
 "nbformat": 4,
 "nbformat_minor": 4
}
