{
 "cells": [
  {
   "cell_type": "markdown",
   "metadata": {},
   "source": [
    "<img src=\"https://cf-courses-data.s3.us.cloud-object-storage.appdomain.cloud/IBMDeveloperSkillsNetwork-DL0120EN-SkillsNetwork/images/IDSN-logo.png\" width=\"300\" alt=\"cognitiveclass.ai logo\">\n",
    "\n",
    "<h1 align=\"center\"><font size=\"5\">RECURRENT NETWORKS and LSTM IN DEEP LEARNING</font></h1>\n"
   ]
  },
  {
   "cell_type": "markdown",
   "metadata": {},
   "source": [
    "Estimated time needed: **30** minutes\n"
   ]
  },
  {
   "cell_type": "markdown",
   "metadata": {},
   "source": [
    "<h2>Applying Recurrent Neural Networks/LSTM for Language Modeling</h2>\n",
    "Hello and welcome to this part. In this notebook, we will go over the topic of Language Modelling, and create a Recurrent Neural Network model based on the Long Short-Term Memory unit to train and benchmark on the Penn Treebank dataset. By the end of this notebook, you should be able to understand how TensorFlow builds and executes a RNN model for Language Modelling.\n"
   ]
  },
  {
   "cell_type": "markdown",
   "metadata": {},
   "source": [
    "<h2>The Objective</h2>\n",
    "By now, you should have an understanding of how Recurrent Networks work -- a specialized model to process sequential data by keeping track of the \"state\" or context. In this notebook, we go over a TensorFlow code snippet for creating a model focused on <b>Language Modelling</b> -- a very relevant task that is the cornerstone of many different linguistic problems such as <b>Speech Recognition, Machine Translation and Image Captioning</b>. For this, we will be using the Penn Treebank dataset, which is an often-used dataset for benchmarking Language Modelling models.\n"
   ]
  },
  {
   "cell_type": "markdown",
   "metadata": {},
   "source": [
    "\n",
    "<h2>Table of Contents</h2>\n",
    "<ol>\n",
    "    <li><a href=\"#language_modelling\">What exactly is Language Modelling?</a></li>\n",
    "    <li><a href=\"#treebank_dataset\">The Penn Treebank dataset</a></li>\n",
    "    <li><a href=\"#word_embedding\">Word Embedding</a></li>\n",
    "    <li><a href=\"#building_lstm_model\">Building the LSTM model for Language Modeling</a></li>\n",
    "    <li><a href=\"#ltsm\">LTSM</a></li>\n",
    "</ol>\n",
    "<p></p>\n",
    "</div>\n",
    "<br>\n"
   ]
  },
  {
   "cell_type": "markdown",
   "metadata": {},
   "source": [
    "--------\n"
   ]
  },
  {
   "cell_type": "markdown",
   "metadata": {},
   "source": [
    "<a id=\"language_modelling\"></a>\n",
    "<h2>What exactly is Language Modelling?</h2>\n",
    "Language Modelling, to put it simply, <b>is the task of assigning probabilities to sequences of words</b>. This means that, given a context of one or a sequence of words in the language the model was trained on, the model should provide the next most probable words or sequence of words that follows from the given sequence of words the sentence. Language Modelling is one of the most important tasks in Natural Language Processing.\n",
    "\n",
    "<img src=\"https://ibm.box.com/shared/static/1d1i5gub6wljby2vani2vzxp0xsph702.png\" width=\"1080\">\n",
    "<center><i>Example of a sentence being predicted</i></center>\n",
    "<br><br>\n",
    "In this example, one can see the predictions for the next word of a sentence, given the context \"This is an\". As you can see, this boils down to a sequential data analysis task -- you are given a word or a sequence of words (the input data), and, given the context (the state), you need to find out what is the next word (the prediction). This kind of analysis is very important for language-related tasks such as <b>Speech Recognition, Machine Translation, Image Captioning, Text Correction</b> and many other very relevant problems. \n",
    "\n",
    "<img src=\"https://ibm.box.com/shared/static/az39idf9ipfdpc5ugifpgxnydelhyf3i.png\" width=\"1080\">\n",
    "<center><i>The above example is a schema of an RNN in execution</i></center>\n",
    "<br><br>\n",
    "As the above image shows, Recurrent Network models fit this problem like a glove. Alongside LSTM and its capacity to maintain the model's state for over one thousand time steps, we have all the tools we need to undertake this problem. The goal for this notebook is to create a model that can reach <b>low levels of perplexity</b> on our desired dataset.\n",
    "\n",
    "For Language Modelling problems, <b>perplexity</b> is the way to gauge efficiency. Perplexity is simply a measure of how well a probabilistic model is able to predict its sample. A higher-level way to explain this would be saying that <b>low perplexity means a higher degree of trust in the predictions the model makes</b>. Therefore, the lower perplexity is, the better.\n"
   ]
  },
  {
   "cell_type": "markdown",
   "metadata": {},
   "source": [
    "<a id=\"treebank_dataset\"></a>\n",
    "<h2>The Penn Treebank dataset</h2>\n",
    "Historically, datasets big enough for Natural Language Processing are hard to come by. This is in part due to the necessity of the sentences to be broken down and tagged with a certain degree of correctness -- or else the models trained on it won't be able to be correct at all. This means that we need a <b>large amount of data, annotated by or at least corrected by humans</b>. This is, of course, not an easy task at all.\n",
    "\n",
    "The Penn Treebank, or PTB for short, is a dataset maintained by the University of Pennsylvania. It is <i>huge</i> -- there are over <b>four million and eight hundred thousand</b> annotated words in it, all corrected by humans. It is composed of many different sources, from abstracts of Department of Energy papers to texts from the Library of America. Since it is verifiably correct and of such a huge size, the Penn Treebank is commonly used as a benchmark dataset for Language Modelling.\n",
    "\n",
    "The dataset is divided in different kinds of annotations, such as Piece-of-Speech, Syntactic and Semantic skeletons. For this example, we will simply use a sample of clean, non-annotated words (with the exception of one tag --<code>&lt;unk&gt;</code>\n",
    ", which is used for rare words such as uncommon proper nouns) for our model. This means that we just want to predict what the next words would be, not what they mean in context or their classes on a given sentence.\n",
    "\n",
    "<center>Example of text from the dataset we are going to use, <b>ptb.train</b></center>\n",
    "<br><br>\n",
    "\n",
    "<div class=\"alert alert-block alert-info\" style=\"margin-top: 20px\">\n",
    "    <center>the percentage of lung cancer deaths among the workers at the west <code>&lt;unk&gt;</code> mass. paper factory appears to be the highest for any asbestos workers studied in western industrialized countries he said \n",
    " the plant which is owned by <code>&lt;unk&gt;</code> & <code>&lt;unk&gt;</code> co. was under contract with <code>&lt;unk&gt;</code> to make the cigarette filters \n",
    " the finding probably will support those who argue that the U.S. should regulate the class of asbestos including <code>&lt;unk&gt;</code> more <code>&lt;unk&gt;</code> than the common kind of asbestos <code>&lt;unk&gt;</code> found in most schools and other buildings dr. <code>&lt;unk&gt;</code> said</center>\n",
    "</div>\n"
   ]
  },
  {
   "cell_type": "markdown",
   "metadata": {},
   "source": [
    "<a id=\"word_embedding\"></a>\n",
    "<h2>Word Embeddings</h2><br/>\n",
    "\n",
    "For better processing, in this example, we will make use of <a href=\"https://www.tensorflow.org/tutorials/word2vec/?utm_medium=Exinfluencer&utm_source=Exinfluencer&utm_content=000026UJ&utm_term=10006555&utm_id=NA-SkillsNetwork-Channel-SkillsNetworkCoursesIBMDeveloperSkillsNetworkDL0120ENSkillsNetwork954-2023-01-01\"><b>word embeddings</b></a>, which is <b>a way of representing sentence structures or words as n-dimensional vectors (where n is a reasonably high number, such as 200 or 500) of real numbers</b>. Basically, we will assign each word a randomly-initialized vector, and input those into the network to be processed. After a number of iterations, these vectors are expected to assume values that help the network to correctly predict what it needs to -- in our case, the probable next word in the sentence. This is shown to be a very effective task in Natural Language Processing, and is a commonplace practice.\n",
    "<br><br>\n",
    "<font size=\"4\"><strong>\n",
    "$$Vec(\"Example\") = [0.02, 0.00, 0.00, 0.92, 0.30, \\ldots]$$\n",
    "</strong></font>\n",
    "<br>\n",
    "Word Embedding tends to group up similarly used words <i>reasonably</i> close together in the vectorial space. For example, if we use T-SNE (a dimensional reduction visualization algorithm) to flatten the dimensions of our vectors into a 2-dimensional space and plot these words in a 2-dimensional space, we might see something like this:\n",
    "\n",
    "<img src=\"https://ibm.box.com/shared/static/bqhc5dg879gcoabzhxra1w8rkg3od1cu.png\" width=\"800\">\n",
    "<center><i>T-SNE Mockup with clusters marked for easier visualization</i></center>\n",
    "<br><br>\n",
    "As you can see, words that are frequently used together, in place of each other, or in the same places as them tend to be grouped together -- being closer together the higher they are correlated. For example, \"None\" is pretty semantically close to \"Zero\", while a phrase that uses \"Italy\", you could probably also fit \"Germany\" in it, with little damage to the sentence structure. The vectorial \"closeness\" for similar words like this is a great indicator of a well-built model.\n",
    "\n",
    "<hr>\n",
    " \n"
   ]
  },
  {
   "cell_type": "markdown",
   "metadata": {},
   "source": [
    "We need to import the necessary modules for our code. We need <b><code>numpy</code></b> and <b><code>tensorflow</code></b>, obviously. Additionally, we can import directly the <b><code>tensorflow.models.rnn</code></b> model, which includes the function for building RNNs, and <b><code>tensorflow.models.rnn.ptb.reader</code></b> which is the helper module for getting the input data from the dataset we just downloaded.\n",
    "\n",
    "If you want to learn more take a look at https://github.com/tensorflow/models/blob/master/tutorials/rnn/ptb/reader.py\n"
   ]
  },
  {
   "cell_type": "code",
   "execution_count": 1,
   "metadata": {
    "tags": []
   },
   "outputs": [
    {
     "name": "stdout",
     "output_type": "stream",
     "text": [
      "Requirement already satisfied: tensorflow==2.9.0 in /home/jupyterlab/conda/envs/python/lib/python3.7/site-packages (2.9.0)\n",
      "Requirement already satisfied: absl-py>=1.0.0 in /home/jupyterlab/conda/envs/python/lib/python3.7/site-packages (from tensorflow==2.9.0) (1.4.0)\n",
      "Requirement already satisfied: astunparse>=1.6.0 in /home/jupyterlab/conda/envs/python/lib/python3.7/site-packages (from tensorflow==2.9.0) (1.6.3)\n",
      "Requirement already satisfied: flatbuffers<2,>=1.12 in /home/jupyterlab/conda/envs/python/lib/python3.7/site-packages (from tensorflow==2.9.0) (1.12)\n",
      "Requirement already satisfied: gast<=0.4.0,>=0.2.1 in /home/jupyterlab/conda/envs/python/lib/python3.7/site-packages (from tensorflow==2.9.0) (0.4.0)\n",
      "Requirement already satisfied: google-pasta>=0.1.1 in /home/jupyterlab/conda/envs/python/lib/python3.7/site-packages (from tensorflow==2.9.0) (0.2.0)\n",
      "Requirement already satisfied: grpcio<2.0,>=1.24.3 in /home/jupyterlab/conda/envs/python/lib/python3.7/site-packages (from tensorflow==2.9.0) (1.48.1)\n",
      "Requirement already satisfied: h5py>=2.9.0 in /home/jupyterlab/conda/envs/python/lib/python3.7/site-packages (from tensorflow==2.9.0) (3.8.0)\n",
      "Requirement already satisfied: keras<2.10.0,>=2.9.0rc0 in /home/jupyterlab/conda/envs/python/lib/python3.7/site-packages (from tensorflow==2.9.0) (2.9.0)\n",
      "Requirement already satisfied: keras-preprocessing>=1.1.1 in /home/jupyterlab/conda/envs/python/lib/python3.7/site-packages (from tensorflow==2.9.0) (1.1.2)\n",
      "Requirement already satisfied: libclang>=13.0.0 in /home/jupyterlab/conda/envs/python/lib/python3.7/site-packages (from tensorflow==2.9.0) (16.0.6)\n",
      "Requirement already satisfied: numpy>=1.20 in /home/jupyterlab/conda/envs/python/lib/python3.7/site-packages (from tensorflow==2.9.0) (1.21.6)\n",
      "Requirement already satisfied: opt-einsum>=2.3.2 in /home/jupyterlab/conda/envs/python/lib/python3.7/site-packages (from tensorflow==2.9.0) (3.3.0)\n",
      "Requirement already satisfied: packaging in /home/jupyterlab/conda/envs/python/lib/python3.7/site-packages (from tensorflow==2.9.0) (23.1)\n",
      "Requirement already satisfied: protobuf>=3.9.2 in /home/jupyterlab/conda/envs/python/lib/python3.7/site-packages (from tensorflow==2.9.0) (3.19.6)\n",
      "Requirement already satisfied: setuptools in /home/jupyterlab/conda/envs/python/lib/python3.7/site-packages (from tensorflow==2.9.0) (67.7.2)\n",
      "Requirement already satisfied: six>=1.12.0 in /home/jupyterlab/conda/envs/python/lib/python3.7/site-packages (from tensorflow==2.9.0) (1.16.0)\n",
      "Requirement already satisfied: tensorboard<2.10,>=2.9 in /home/jupyterlab/conda/envs/python/lib/python3.7/site-packages (from tensorflow==2.9.0) (2.9.1)\n",
      "Requirement already satisfied: tensorflow-io-gcs-filesystem>=0.23.1 in /home/jupyterlab/conda/envs/python/lib/python3.7/site-packages (from tensorflow==2.9.0) (0.34.0)\n",
      "Requirement already satisfied: tensorflow-estimator<2.10.0,>=2.9.0rc0 in /home/jupyterlab/conda/envs/python/lib/python3.7/site-packages (from tensorflow==2.9.0) (2.9.0)\n",
      "Requirement already satisfied: termcolor>=1.1.0 in /home/jupyterlab/conda/envs/python/lib/python3.7/site-packages (from tensorflow==2.9.0) (2.3.0)\n",
      "Requirement already satisfied: typing-extensions>=3.6.6 in /home/jupyterlab/conda/envs/python/lib/python3.7/site-packages (from tensorflow==2.9.0) (4.5.0)\n",
      "Requirement already satisfied: wrapt>=1.11.0 in /home/jupyterlab/conda/envs/python/lib/python3.7/site-packages (from tensorflow==2.9.0) (1.14.1)\n",
      "Requirement already satisfied: wheel<1.0,>=0.23.0 in /home/jupyterlab/conda/envs/python/lib/python3.7/site-packages (from astunparse>=1.6.0->tensorflow==2.9.0) (0.40.0)\n",
      "Requirement already satisfied: google-auth<3,>=1.6.3 in /home/jupyterlab/conda/envs/python/lib/python3.7/site-packages (from tensorboard<2.10,>=2.9->tensorflow==2.9.0) (2.22.0)\n",
      "Requirement already satisfied: google-auth-oauthlib<0.5,>=0.4.1 in /home/jupyterlab/conda/envs/python/lib/python3.7/site-packages (from tensorboard<2.10,>=2.9->tensorflow==2.9.0) (0.4.6)\n",
      "Requirement already satisfied: markdown>=2.6.8 in /home/jupyterlab/conda/envs/python/lib/python3.7/site-packages (from tensorboard<2.10,>=2.9->tensorflow==2.9.0) (3.4.3)\n",
      "Requirement already satisfied: requests<3,>=2.21.0 in /home/jupyterlab/conda/envs/python/lib/python3.7/site-packages (from tensorboard<2.10,>=2.9->tensorflow==2.9.0) (2.29.0)\n",
      "Requirement already satisfied: tensorboard-data-server<0.7.0,>=0.6.0 in /home/jupyterlab/conda/envs/python/lib/python3.7/site-packages (from tensorboard<2.10,>=2.9->tensorflow==2.9.0) (0.6.1)\n",
      "Requirement already satisfied: tensorboard-plugin-wit>=1.6.0 in /home/jupyterlab/conda/envs/python/lib/python3.7/site-packages (from tensorboard<2.10,>=2.9->tensorflow==2.9.0) (1.8.1)\n",
      "Requirement already satisfied: werkzeug>=1.0.1 in /home/jupyterlab/conda/envs/python/lib/python3.7/site-packages (from tensorboard<2.10,>=2.9->tensorflow==2.9.0) (2.2.3)\n",
      "Requirement already satisfied: cachetools<6.0,>=2.0.0 in /home/jupyterlab/conda/envs/python/lib/python3.7/site-packages (from google-auth<3,>=1.6.3->tensorboard<2.10,>=2.9->tensorflow==2.9.0) (5.3.1)\n",
      "Requirement already satisfied: pyasn1-modules>=0.2.1 in /home/jupyterlab/conda/envs/python/lib/python3.7/site-packages (from google-auth<3,>=1.6.3->tensorboard<2.10,>=2.9->tensorflow==2.9.0) (0.3.0)\n",
      "Requirement already satisfied: rsa<5,>=3.1.4 in /home/jupyterlab/conda/envs/python/lib/python3.7/site-packages (from google-auth<3,>=1.6.3->tensorboard<2.10,>=2.9->tensorflow==2.9.0) (4.9)\n",
      "Requirement already satisfied: urllib3<2.0 in /home/jupyterlab/conda/envs/python/lib/python3.7/site-packages (from google-auth<3,>=1.6.3->tensorboard<2.10,>=2.9->tensorflow==2.9.0) (1.26.15)\n",
      "Requirement already satisfied: requests-oauthlib>=0.7.0 in /home/jupyterlab/conda/envs/python/lib/python3.7/site-packages (from google-auth-oauthlib<0.5,>=0.4.1->tensorboard<2.10,>=2.9->tensorflow==2.9.0) (1.3.1)\n",
      "Requirement already satisfied: importlib-metadata>=4.4 in /home/jupyterlab/conda/envs/python/lib/python3.7/site-packages (from markdown>=2.6.8->tensorboard<2.10,>=2.9->tensorflow==2.9.0) (4.11.4)\n",
      "Requirement already satisfied: charset-normalizer<4,>=2 in /home/jupyterlab/conda/envs/python/lib/python3.7/site-packages (from requests<3,>=2.21.0->tensorboard<2.10,>=2.9->tensorflow==2.9.0) (3.1.0)\n",
      "Requirement already satisfied: idna<4,>=2.5 in /home/jupyterlab/conda/envs/python/lib/python3.7/site-packages (from requests<3,>=2.21.0->tensorboard<2.10,>=2.9->tensorflow==2.9.0) (3.4)\n",
      "Requirement already satisfied: certifi>=2017.4.17 in /home/jupyterlab/conda/envs/python/lib/python3.7/site-packages (from requests<3,>=2.21.0->tensorboard<2.10,>=2.9->tensorflow==2.9.0) (2023.5.7)\n",
      "Requirement already satisfied: MarkupSafe>=2.1.1 in /home/jupyterlab/conda/envs/python/lib/python3.7/site-packages (from werkzeug>=1.0.1->tensorboard<2.10,>=2.9->tensorflow==2.9.0) (2.1.1)\n",
      "Requirement already satisfied: zipp>=0.5 in /home/jupyterlab/conda/envs/python/lib/python3.7/site-packages (from importlib-metadata>=4.4->markdown>=2.6.8->tensorboard<2.10,>=2.9->tensorflow==2.9.0) (3.15.0)\n",
      "Requirement already satisfied: pyasn1<0.6.0,>=0.4.6 in /home/jupyterlab/conda/envs/python/lib/python3.7/site-packages (from pyasn1-modules>=0.2.1->google-auth<3,>=1.6.3->tensorboard<2.10,>=2.9->tensorflow==2.9.0) (0.5.0)\n",
      "Requirement already satisfied: oauthlib>=3.0.0 in /home/jupyterlab/conda/envs/python/lib/python3.7/site-packages (from requests-oauthlib>=0.7.0->google-auth-oauthlib<0.5,>=0.4.1->tensorboard<2.10,>=2.9->tensorflow==2.9.0) (3.2.2)\n",
      "Collecting numpy==1.21.4\n",
      "  Downloading numpy-1.21.4-cp37-cp37m-manylinux_2_12_x86_64.manylinux2010_x86_64.whl (15.7 MB)\n",
      "\u001b[2K     \u001b[90m━━━━━━━━━━━━━━━━━━━━━━━━━━━━━━━━━━━━━━━━\u001b[0m \u001b[32m15.7/15.7 MB\u001b[0m \u001b[31m57.6 MB/s\u001b[0m eta \u001b[36m0:00:00\u001b[0m00:01\u001b[0m00:01\u001b[0m\n",
      "\u001b[?25hInstalling collected packages: numpy\n",
      "  Attempting uninstall: numpy\n",
      "    Found existing installation: numpy 1.21.6\n",
      "    Uninstalling numpy-1.21.6:\n",
      "      Successfully uninstalled numpy-1.21.6\n",
      "Successfully installed numpy-1.21.4\n"
     ]
    }
   ],
   "source": [
    "!pip install tensorflow==2.9.0\n",
    "!pip install numpy==1.21.4\n"
   ]
  },
  {
   "cell_type": "code",
   "execution_count": 2,
   "metadata": {
    "tags": []
   },
   "outputs": [
    {
     "name": "stderr",
     "output_type": "stream",
     "text": [
      "2023-09-09 15:30:34.264972: I tensorflow/core/util/util.cc:169] oneDNN custom operations are on. You may see slightly different numerical results due to floating-point round-off errors from different computation orders. To turn them off, set the environment variable `TF_ENABLE_ONEDNN_OPTS=0`.\n",
      "2023-09-09 15:30:34.270880: W tensorflow/stream_executor/platform/default/dso_loader.cc:64] Could not load dynamic library 'libcudart.so.11.0'; dlerror: libcudart.so.11.0: cannot open shared object file: No such file or directory\n",
      "2023-09-09 15:30:34.270913: I tensorflow/stream_executor/cuda/cudart_stub.cc:29] Ignore above cudart dlerror if you do not have a GPU set up on your machine.\n"
     ]
    }
   ],
   "source": [
    "import time\n",
    "import numpy as np\n",
    "import tensorflow as tf\n",
    "if not tf.__version__ == '2.9.0':\n",
    "    print(tf.__version__)\n",
    "    raise ValueError('please upgrade to TensorFlow 2.9.0, or restart your Kernel (Kernel->Restart & Clear Output)')"
   ]
  },
  {
   "cell_type": "markdown",
   "metadata": {},
   "source": [
    "IMPORTANT! => Please restart the kernel by clicking on \"Kernel\"->\"Restart and Clear Outout\" and wait until all output disapears. Then your changes are beeing picked up\n"
   ]
  },
  {
   "cell_type": "code",
   "execution_count": 21,
   "metadata": {
    "tags": []
   },
   "outputs": [],
   "source": [
    "!mkdir data\n",
    "!mkdir data/ptb\n",
    "!wget -q -O data/ptb/reader.py https://cf-courses-data.s3.us.cloud-object-storage.appdomain.cloud/IBMDeveloperSkillsNetwork-DL0120EN-SkillsNetwork/labs/Week3/data/ptb/reader.py\n",
    "!cp data/ptb/reader.py .\n",
    "\n"
   ]
  },
  {
   "cell_type": "code",
   "execution_count": 22,
   "metadata": {
    "tags": []
   },
   "outputs": [],
   "source": [
    "# Copyright 2015 The TensorFlow Authors. All Rights Reserved.\n",
    "#\n",
    "# Licensed under the Apache License, Version 2.0 (the \"License\");\n",
    "# you may not use this file except in compliance with the License.\n",
    "# You may obtain a copy of the License at\n",
    "#\n",
    "#     http://www.apache.org/licenses/LICENSE-2.0\n",
    "#\n",
    "# Unless required by applicable law or agreed to in writing, software\n",
    "# distributed under the License is distributed on an \"AS IS\" BASIS,\n",
    "# WITHOUT WARRANTIES OR CONDITIONS OF ANY KIND, either express or implied.\n",
    "# See the License for the specific language governing permissions and\n",
    "# limitations under the License.\n",
    "# ==============================================================================\n",
    "\n",
    "\n",
    "\"\"\"Utilities for parsing PTB text files.\"\"\"\n",
    "from __future__ import absolute_import\n",
    "from __future__ import division\n",
    "from __future__ import print_function\n",
    "\n",
    "import collections\n",
    "import os\n",
    "\n",
    "import numpy as np\n",
    "import tensorflow as tf\n",
    "\n",
    "\n",
    "def _read_words(filename):\n",
    "  with tf.io.gfile.GFile(filename, \"r\") as f:\n",
    "    return f.read().replace(\"\\n\", \"<eos>\").split()\n",
    "\n",
    "\n",
    "def _build_vocab(filename):\n",
    "  data = _read_words(filename)\n",
    "\n",
    "  counter = collections.Counter(data)\n",
    "  count_pairs = sorted(counter.items(), key=lambda x: (-x[1], x[0]))\n",
    "\n",
    "  words, _ = list(zip(*count_pairs))\n",
    "  word_to_id = dict(zip(words, range(len(words))))\n",
    "\n",
    "  return word_to_id\n",
    "\n",
    "\n",
    "def _file_to_word_ids(filename, word_to_id):\n",
    "  data = _read_words(filename)\n",
    "  return [word_to_id[word] for word in data if word in word_to_id]\n",
    "\n",
    "\n",
    "def ptb_raw_data(data_path=None):\n",
    "  \"\"\"Load PTB raw data from data directory \"data_path\".\n",
    "\n",
    "  Reads PTB text files, converts strings to integer ids,\n",
    "  and performs mini-batching of the inputs.\n",
    "\n",
    "  The PTB dataset comes from Tomas Mikolov's webpage:\n",
    "\n",
    "  http://www.fit.vutbr.cz/~imikolov/rnnlm/simple-examples.tgz\n",
    "\n",
    "  Args:\n",
    "    data_path: string path to the directory where simple-examples.tgz has\n",
    "      been extracted.\n",
    "\n",
    "  Returns:\n",
    "    tuple (train_data, valid_data, test_data, vocabulary)\n",
    "    where each of the data objects can be passed to PTBIterator.\n",
    "  \"\"\"\n",
    "\n",
    "  train_path = os.path.join(data_path, \"ptb.train.txt\")\n",
    "  valid_path = os.path.join(data_path, \"ptb.valid.txt\")\n",
    "  test_path = os.path.join(data_path, \"ptb.test.txt\")\n",
    "\n",
    "  word_to_id = _build_vocab(train_path)\n",
    "  train_data = _file_to_word_ids(train_path, word_to_id)\n",
    "  valid_data = _file_to_word_ids(valid_path, word_to_id)\n",
    "  test_data = _file_to_word_ids(test_path, word_to_id)\n",
    "  vocabulary = len(word_to_id)\n",
    "  return train_data, valid_data, test_data, vocabulary, word_to_id\n",
    "\n",
    "\n",
    "def ptb_iterator(raw_data, batch_size, num_steps):\n",
    "  \"\"\"Iterate on the raw PTB data.\n",
    "\n",
    "  This generates batch_size pointers into the raw PTB data, and allows\n",
    "  minibatch iteration along these pointers.\n",
    "\n",
    "  Args:\n",
    "    raw_data: one of the raw data outputs from ptb_raw_data.\n",
    "    batch_size: int, the batch size.\n",
    "    num_steps: int, the number of unrolls.\n",
    "\n",
    "  Yields:\n",
    "    Pairs of the batched data, each a matrix of shape [batch_size, num_steps].\n",
    "    The second element of the tuple is the same data time-shifted to the\n",
    "    right by one.\n",
    "\n",
    "  Raises:\n",
    "    ValueError: if batch_size or num_steps are too high.\n",
    "  \"\"\"\n",
    "  raw_data = np.array(raw_data, dtype=np.int32)\n",
    "\n",
    "  data_len = len(raw_data)\n",
    "  batch_len = data_len // batch_size\n",
    "  data = np.zeros([batch_size, batch_len], dtype=np.int32)\n",
    "  for i in range(batch_size):\n",
    "    data[i] = raw_data[batch_len * i:batch_len * (i + 1)]\n",
    "\n",
    "  epoch_size = (batch_len - 1) // num_steps\n",
    "\n",
    "  if epoch_size == 0:\n",
    "    raise ValueError(\"epoch_size == 0, decrease batch_size or num_steps\")\n",
    "\n",
    "  for i in range(epoch_size):\n",
    "    x = data[:, i*num_steps:(i+1)*num_steps]\n",
    "    y = data[:, i*num_steps+1:(i+1)*num_steps+1]\n",
    "    yield (x, y)"
   ]
  },
  {
   "cell_type": "markdown",
   "metadata": {},
   "source": [
    "<a id=\"building_lstm_model\"></a>\n",
    "<h2>Building the LSTM model for Language Modeling</h2>\n",
    "Now that we know exactly what we are doing, we can start building our model using TensorFlow. The very first thing we need to do is download and extract the <code>simple-examples</code> dataset, which can be done by executing the code cell below.\n"
   ]
  },
  {
   "cell_type": "code",
   "execution_count": 23,
   "metadata": {
    "tags": []
   },
   "outputs": [
    {
     "name": "stdout",
     "output_type": "stream",
     "text": [
      "--2023-09-09 15:41:34--  http://www.fit.vutbr.cz/~imikolov/rnnlm/simple-examples.tgz\n",
      "Resolving www.fit.vutbr.cz (www.fit.vutbr.cz)... 147.229.9.23, 2001:67c:1220:809::93e5:917\n",
      "Connecting to www.fit.vutbr.cz (www.fit.vutbr.cz)|147.229.9.23|:80... connected.\n",
      "HTTP request sent, awaiting response... 200 OK\n",
      "Length: 34869662 (33M) [application/x-gtar]\n",
      "Saving to: ‘simple-examples.tgz.1’\n",
      "\n",
      "simple-examples.tgz 100%[===================>]  33.25M  9.19MB/s    in 4.0s    \n",
      "\n",
      "2023-09-09 15:41:40 (8.35 MB/s) - ‘simple-examples.tgz.1’ saved [34869662/34869662]\n",
      "\n"
     ]
    }
   ],
   "source": [
    "!wget http://www.fit.vutbr.cz/~imikolov/rnnlm/simple-examples.tgz \n",
    "!tar xzf simple-examples.tgz -C data/"
   ]
  },
  {
   "cell_type": "markdown",
   "metadata": {},
   "source": [
    "Additionally, for the sake of making it easy to play around with the model's hyperparameters, we can declare them beforehand. Feel free to change these -- you will see a difference in performance each time you change those!  \n"
   ]
  },
  {
   "cell_type": "code",
   "execution_count": 24,
   "metadata": {
    "tags": []
   },
   "outputs": [],
   "source": [
    "#Initial weight scale\n",
    "init_scale = 0.1\n",
    "#Initial learning rate\n",
    "learning_rate = 1.0\n",
    "#Maximum permissible norm for the gradient (For gradient clipping -- another measure against Exploding Gradients)\n",
    "max_grad_norm = 5\n",
    "#The number of layers in our model\n",
    "num_layers = 2\n",
    "#The total number of recurrence steps, also known as the number of layers when our RNN is \"unfolded\"\n",
    "num_steps = 20\n",
    "#The number of processing units (neurons) in the hidden layers\n",
    "hidden_size_l1 = 256\n",
    "hidden_size_l2 = 128\n",
    "#The maximum number of epochs trained with the initial learning rate\n",
    "max_epoch_decay_lr = 4\n",
    "#The total number of epochs in training\n",
    "max_epoch = 15\n",
    "#The probability for keeping data in the Dropout Layer (This is an optimization, but is outside our scope for this notebook!)\n",
    "#At 1, we ignore the Dropout Layer wrapping.\n",
    "keep_prob = 1\n",
    "#The decay for the learning rate\n",
    "decay = 0.5\n",
    "#The size for each batch of data\n",
    "batch_size = 30\n",
    "#The size of our vocabulary\n",
    "vocab_size = 10000\n",
    "embeding_vector_size= 200\n",
    "#Training flag to separate training from testing\n",
    "is_training = 1\n",
    "#Data directory for our dataset\n",
    "data_dir = \"data/simple-examples/data/\""
   ]
  },
  {
   "cell_type": "markdown",
   "metadata": {},
   "source": [
    "Some clarifications for LSTM architecture based on the arguments:\n",
    "\n",
    "Network structure:\n",
    "<ul>\n",
    "    <li>In this network, the number of LSTM cells are 2. To give the model more expressive power, we can add multiple layers of LSTMs to process the data. The output of the first layer will become the input of the second and so on.\n",
    "    </li>\n",
    "    <li>The recurrence steps is 20, that is, when our RNN is \"Unfolded\", the recurrence step is 20.</li>   \n",
    "    <li>the structure is like:\n",
    "        <ul>\n",
    "            <li>200 input units -> [200x200] Weight -> 200 Hidden units (first layer) -> [200x200] Weight matrix  -> 200 Hidden units (second layer) ->  [200] weight Matrix -> 200 unit output</li>\n",
    "        </ul>\n",
    "    </li>\n",
    "</ul>\n",
    "<br>\n",
    "\n",
    "Input layer: \n",
    "<ul>\n",
    "    <li>The network has 200 input units.</li>\n",
    "    <li>Suppose each word is represented by an embedding vector of dimensionality e=200. The input layer of each cell will have 200 linear units. These e=200 linear units are connected to each of the h=200 LSTM units in the hidden layer (assuming there is only one hidden layer, though our case has 2 layers).\n",
    "    </li>\n",
    "    <li>The input shape is [batch_size, num_steps], that is [30x20]. It will turn into [30x20x200] after embedding, and then 20x[30x200]\n",
    "    </li>\n",
    "</ul>\n",
    "<br>\n",
    "\n",
    "Hidden layer:\n",
    "<ul>\n",
    "    <li>Each LSTM has 200 hidden units which is equivalent to the dimensionality of the embedding words and output.</li>\n",
    "</ul>\n",
    "<br>\n"
   ]
  },
  {
   "cell_type": "markdown",
   "metadata": {},
   "source": [
    "There is a lot to be done and a ton of information to process at the same time, so go over this code slowly. It may seem complex at first, but if you try to apply what you just learned about language modelling to the code you see, you should be able to understand it.\n",
    "\n",
    "This code is adapted from the <a href=\"https://github.com/tensorflow/models\">PTBModel</a> example bundled with the TensorFlow source code.\n",
    "\n",
    "\n",
    "<h3>Training data</h3>\n",
    "The story starts from data:\n",
    "<ul>\n",
    "    <li>Train data is a list of words, of size 929589, represented by numbers, e.g. [9971, 9972, 9974, 9975,...]</li>\n",
    "    <li>We read data as mini-batch of size b=30. Assume the size of each sentence is 20 words (num_steps = 20). Then it will take $$floor(\\frac{N}{b \\times h})+1=1548$$ iterations for the learner to go through all sentences once. Where N is the size of the list of words, b is batch size, and h is size of each sentence. So, the number of iterators is 1548\n",
    "    </li>\n",
    "    <li>Each batch data is read from train dataset of size 600, and shape of [30x20]</li>\n",
    "</ul>\n"
   ]
  },
  {
   "cell_type": "code",
   "execution_count": 25,
   "metadata": {
    "tags": []
   },
   "outputs": [],
   "source": [
    "# Reads the data and separates it into training data, validation data and testing data\n",
    "raw_data = ptb_raw_data(data_dir)\n",
    "train_data, valid_data, test_data, vocab, word_to_id = raw_data"
   ]
  },
  {
   "cell_type": "code",
   "execution_count": 26,
   "metadata": {
    "tags": []
   },
   "outputs": [
    {
     "data": {
      "text/plain": [
       "929589"
      ]
     },
     "execution_count": 26,
     "metadata": {},
     "output_type": "execute_result"
    }
   ],
   "source": [
    "len(train_data)"
   ]
  },
  {
   "cell_type": "code",
   "execution_count": 27,
   "metadata": {
    "tags": []
   },
   "outputs": [
    {
     "name": "stdout",
     "output_type": "stream",
     "text": [
      "['aer', 'banknote', 'berlitz', 'calloway', 'centrust', 'cluett', 'fromstein', 'gitano', 'guterman', 'hydro-quebec', 'ipo', 'kia', 'memotec', 'mlx', 'nahb', 'punts', 'rake', 'regatta', 'rubens', 'sim', 'snack-food', 'ssangyong', 'swapo', 'wachter', '<eos>', 'pierre', '<unk>', 'N', 'years', 'old', 'will', 'join', 'the', 'board', 'as', 'a', 'nonexecutive', 'director', 'nov.', 'N', '<eos>', 'mr.', '<unk>', 'is', 'chairman', 'of', '<unk>', 'n.v.', 'the', 'dutch', 'publishing', 'group', '<eos>', 'rudolph', '<unk>', 'N', 'years', 'old', 'and', 'former', 'chairman', 'of', 'consolidated', 'gold', 'fields', 'plc', 'was', 'named', 'a', 'nonexecutive', 'director', 'of', 'this', 'british', 'industrial', 'conglomerate', '<eos>', 'a', 'form', 'of', 'asbestos', 'once', 'used', 'to', 'make', 'kent', 'cigarette', 'filters', 'has', 'caused', 'a', 'high', 'percentage', 'of', 'cancer', 'deaths', 'among', 'a', 'group', 'of']\n"
     ]
    }
   ],
   "source": [
    "def id_to_word(id_list):\n",
    "    line = []\n",
    "    for w in id_list:\n",
    "        for word, wid in word_to_id.items():\n",
    "            if wid == w:\n",
    "                line.append(word)\n",
    "    return line            \n",
    "                \n",
    "\n",
    "print(id_to_word(train_data[0:100]))"
   ]
  },
  {
   "cell_type": "markdown",
   "metadata": {},
   "source": [
    "Lets just read one mini-batch now and feed our network:\n"
   ]
  },
  {
   "cell_type": "code",
   "execution_count": 28,
   "metadata": {
    "tags": []
   },
   "outputs": [],
   "source": [
    "itera = ptb_iterator(train_data, batch_size, num_steps)\n",
    "first_touple = itera.__next__()\n",
    "_input_data = first_touple[0]\n",
    "_targets = first_touple[1]"
   ]
  },
  {
   "cell_type": "code",
   "execution_count": 29,
   "metadata": {
    "tags": []
   },
   "outputs": [
    {
     "data": {
      "text/plain": [
       "(30, 20)"
      ]
     },
     "execution_count": 29,
     "metadata": {},
     "output_type": "execute_result"
    }
   ],
   "source": [
    "_input_data.shape"
   ]
  },
  {
   "cell_type": "code",
   "execution_count": 30,
   "metadata": {
    "tags": []
   },
   "outputs": [
    {
     "data": {
      "text/plain": [
       "(30, 20)"
      ]
     },
     "execution_count": 30,
     "metadata": {},
     "output_type": "execute_result"
    }
   ],
   "source": [
    "_targets.shape"
   ]
  },
  {
   "cell_type": "markdown",
   "metadata": {},
   "source": [
    "Lets look at 3 sentences of our input x:\n"
   ]
  },
  {
   "cell_type": "code",
   "execution_count": 31,
   "metadata": {
    "tags": []
   },
   "outputs": [
    {
     "data": {
      "text/plain": [
       "array([[9970, 9971, 9972, 9974, 9975, 9976, 9980, 9981, 9982, 9983, 9984,\n",
       "        9986, 9987, 9988, 9989, 9991, 9992, 9993, 9994, 9995],\n",
       "       [2654,    6,  334, 2886,    4,    1,  233,  711,  834,   11,  130,\n",
       "         123,    7,  514,    2,   63,   10,  514,    8,  605],\n",
       "       [   0, 1071,    4,    0,  185,   24,  368,   20,   31, 3109,  954,\n",
       "          12,    3,   21,    2, 2915,    2,   12,    3,   21]],\n",
       "      dtype=int32)"
      ]
     },
     "execution_count": 31,
     "metadata": {},
     "output_type": "execute_result"
    }
   ],
   "source": [
    "_input_data[0:3]"
   ]
  },
  {
   "cell_type": "code",
   "execution_count": 32,
   "metadata": {
    "tags": []
   },
   "outputs": [
    {
     "name": "stdout",
     "output_type": "stream",
     "text": [
      "['aer', 'banknote', 'berlitz', 'calloway', 'centrust', 'cluett', 'fromstein', 'gitano', 'guterman', 'hydro-quebec', 'ipo', 'kia', 'memotec', 'mlx', 'nahb', 'punts', 'rake', 'regatta', 'rubens', 'sim']\n"
     ]
    }
   ],
   "source": [
    "print(id_to_word(_input_data[0,:]))"
   ]
  },
  {
   "cell_type": "markdown",
   "metadata": {},
   "source": [
    "<h3>Embeddings</h3>\n",
    "We have to convert the words in our dataset to vectors of numbers. The traditional approach is to use one-hot encoding method that is usually used for converting categorical values to numerical values. However, One-hot encoded vectors are high-dimensional, sparse and in a big dataset, computationally inefficient. So, we use word2vec approach. It is, in fact, a layer in our LSTM network, where the word IDs will be represented as a dense representation before feeding to the LSTM. \n",
    "\n",
    "The embedded vectors also get updated during the training process of the deep neural network.\n",
    "We create the embeddings for our input data. <b>embedding_vocab</b> is matrix of [10000x200] for all 10000 unique words.\n"
   ]
  },
  {
   "cell_type": "markdown",
   "metadata": {},
   "source": [
    "<b>embedding_lookup()</b> finds the embedded values for our batch of 30x20 words. It  goes to each row of <code>input_data</code>, and for each word in the row/sentence, finds the correspond vector in <code>embedding_dic<code>. <br>\n",
    "It creates a [30x20x200] tensor, so, the first element of <b>inputs</b> (the first sentence), is a matrix of 20x200, which each row of it, is vector representing a word in the sentence.\n"
   ]
  },
  {
   "cell_type": "code",
   "execution_count": 33,
   "metadata": {
    "tags": []
   },
   "outputs": [],
   "source": [
    "embedding_layer = tf.keras.layers.Embedding(vocab_size, embeding_vector_size,batch_input_shape=(batch_size, num_steps),trainable=True,name=\"embedding_vocab\")  "
   ]
  },
  {
   "cell_type": "code",
   "execution_count": 34,
   "metadata": {
    "tags": []
   },
   "outputs": [
    {
     "name": "stderr",
     "output_type": "stream",
     "text": [
      "2023-09-09 15:42:24.631248: W tensorflow/stream_executor/platform/default/dso_loader.cc:64] Could not load dynamic library 'libcuda.so.1'; dlerror: libcuda.so.1: cannot open shared object file: No such file or directory\n",
      "2023-09-09 15:42:24.631322: W tensorflow/stream_executor/cuda/cuda_driver.cc:269] failed call to cuInit: UNKNOWN ERROR (303)\n",
      "2023-09-09 15:42:24.631369: I tensorflow/stream_executor/cuda/cuda_diagnostics.cc:156] kernel driver does not appear to be running on this host (jupyterlab-atesamabdull): /proc/driver/nvidia/version does not exist\n",
      "2023-09-09 15:42:24.631984: I tensorflow/core/platform/cpu_feature_guard.cc:193] This TensorFlow binary is optimized with oneAPI Deep Neural Network Library (oneDNN) to use the following CPU instructions in performance-critical operations:  AVX2 AVX512F AVX512_VNNI FMA\n",
      "To enable them in other operations, rebuild TensorFlow with the appropriate compiler flags.\n"
     ]
    },
    {
     "data": {
      "text/plain": [
       "<tf.Tensor: shape=(30, 20, 200), dtype=float32, numpy=\n",
       "array([[[-0.0492515 ,  0.02394127,  0.01774374, ...,  0.01365102,\n",
       "          0.0390765 ,  0.01184212],\n",
       "        [-0.00261297,  0.03151789, -0.02929361, ...,  0.04249886,\n",
       "          0.00807638,  0.0331566 ],\n",
       "        [ 0.02435357, -0.02450513, -0.00929147, ..., -0.04055173,\n",
       "         -0.0303981 , -0.04458021],\n",
       "        ...,\n",
       "        [ 0.03458812, -0.0481385 ,  0.00640379, ..., -0.02627416,\n",
       "          0.02111803,  0.04215198],\n",
       "        [-0.00240896, -0.03188946, -0.02109151, ...,  0.01232351,\n",
       "          0.00464138, -0.040883  ],\n",
       "        [ 0.00558784, -0.03610205, -0.02099587, ..., -0.02592393,\n",
       "          0.01869465, -0.00039072]],\n",
       "\n",
       "       [[ 0.00088681,  0.00519111, -0.03242745, ...,  0.04126963,\n",
       "          0.00485801,  0.02653116],\n",
       "        [-0.01946889, -0.03462783,  0.0415617 , ...,  0.03286343,\n",
       "          0.00096872, -0.03895631],\n",
       "        [-0.02103221, -0.00041745,  0.02678036, ...,  0.04169828,\n",
       "          0.01769093, -0.03646629],\n",
       "        ...,\n",
       "        [ 0.04437908, -0.0446471 ,  0.01036116, ...,  0.01477785,\n",
       "         -0.01802123, -0.00457909],\n",
       "        [-0.04736861, -0.02489038, -0.0029822 , ..., -0.02667422,\n",
       "          0.00440005, -0.02342489],\n",
       "        [-0.0218138 , -0.02929002, -0.04574347, ...,  0.02835685,\n",
       "          0.03897072, -0.00806538]],\n",
       "\n",
       "       [[ 0.03087946,  0.04926031, -0.02117037, ...,  0.00201551,\n",
       "          0.00050223, -0.00825335],\n",
       "        [-0.03728868,  0.01436925, -0.01384283, ...,  0.02780363,\n",
       "          0.03785857, -0.04800275],\n",
       "        [-0.00784609, -0.03711777, -0.03513138, ...,  0.04302336,\n",
       "         -0.00394483,  0.00989435],\n",
       "        ...,\n",
       "        [ 0.00081379,  0.04705067, -0.03607819, ..., -0.0131017 ,\n",
       "          0.01554203,  0.00974176],\n",
       "        [-0.01638745,  0.01782158, -0.00826725, ..., -0.00759698,\n",
       "         -0.04928907,  0.04374195],\n",
       "        [ 0.03025726, -0.04774456,  0.04023973, ..., -0.02542781,\n",
       "         -0.01488156, -0.04548436]],\n",
       "\n",
       "       ...,\n",
       "\n",
       "       [[-0.02452985,  0.02240532, -0.00568146, ...,  0.02631706,\n",
       "          0.01310575, -0.01667653],\n",
       "        [-0.03111081, -0.02414621, -0.04111432, ..., -0.01344172,\n",
       "          0.01665784,  0.00760785],\n",
       "        [-0.00164748, -0.04236818, -0.01298175, ..., -0.01253908,\n",
       "          0.03405256, -0.02415553],\n",
       "        ...,\n",
       "        [ 0.02618143,  0.04403058, -0.04275906, ...,  0.02254981,\n",
       "          0.02084687,  0.0187926 ],\n",
       "        [-0.0046849 ,  0.04732518,  0.01819325, ...,  0.03659226,\n",
       "         -0.02330364,  0.00367007],\n",
       "        [-0.04674659, -0.04739913, -0.03173807, ..., -0.04625311,\n",
       "         -0.03782433,  0.04183144]],\n",
       "\n",
       "       [[ 0.02512531, -0.02580321,  0.0020353 , ..., -0.01638663,\n",
       "         -0.00931206, -0.03429117],\n",
       "        [-0.01388616, -0.04759351,  0.04122126, ...,  0.04073281,\n",
       "          0.02583906, -0.01190929],\n",
       "        [-0.00784609, -0.03711777, -0.03513138, ...,  0.04302336,\n",
       "         -0.00394483,  0.00989435],\n",
       "        ...,\n",
       "        [-0.01343263, -0.02029832,  0.00546179, ..., -0.02475302,\n",
       "          0.04179938, -0.03772696],\n",
       "        [-0.01946889, -0.03462783,  0.0415617 , ...,  0.03286343,\n",
       "          0.00096872, -0.03895631],\n",
       "        [ 0.04752869, -0.01653403, -0.01710989, ..., -0.02005067,\n",
       "         -0.01675946,  0.01035184]],\n",
       "\n",
       "       [[-0.00889212, -0.00284537, -0.01086218, ..., -0.03324317,\n",
       "          0.00403829, -0.04656563],\n",
       "        [-0.03446014,  0.02119343,  0.00626421, ..., -0.03887517,\n",
       "          0.02031979, -0.01631998],\n",
       "        [-0.03819031, -0.02951297, -0.03158742, ...,  0.01198355,\n",
       "         -0.04081687, -0.01937681],\n",
       "        ...,\n",
       "        [ 0.01284427, -0.04425795,  0.03558363, ...,  0.02197126,\n",
       "          0.03891722,  0.04429967],\n",
       "        [-0.04838419,  0.02392168,  0.02536118, ...,  0.04524953,\n",
       "         -0.0165588 ,  0.02962298],\n",
       "        [-0.04622852, -0.04290025,  0.01074556, ..., -0.04090016,\n",
       "          0.02505669,  0.00223875]]], dtype=float32)>"
      ]
     },
     "execution_count": 34,
     "metadata": {},
     "output_type": "execute_result"
    }
   ],
   "source": [
    "# Define where to get the data for our embeddings from\n",
    "inputs = embedding_layer(_input_data)\n",
    "inputs"
   ]
  },
  {
   "cell_type": "markdown",
   "metadata": {},
   "source": [
    "<h3>Constructing Recurrent Neural Networks</h3>\n"
   ]
  },
  {
   "cell_type": "markdown",
   "metadata": {},
   "source": [
    "In this step, we create the stacked LSTM using <b>tf.keras.layers.StackedRNNCells</b>, which is a 2 layer LSTM network:\n"
   ]
  },
  {
   "cell_type": "code",
   "execution_count": 35,
   "metadata": {
    "tags": []
   },
   "outputs": [],
   "source": [
    "lstm_cell_l1 = tf.keras.layers.LSTMCell(hidden_size_l1)\n",
    "lstm_cell_l2 = tf.keras.layers.LSTMCell(hidden_size_l2)"
   ]
  },
  {
   "cell_type": "code",
   "execution_count": 36,
   "metadata": {
    "tags": []
   },
   "outputs": [],
   "source": [
    "stacked_lstm = tf.keras.layers.StackedRNNCells([lstm_cell_l1, lstm_cell_l2])"
   ]
  },
  {
   "cell_type": "markdown",
   "metadata": {},
   "source": [
    "<b>tf.keras.layers.RNN</b> creates a recurrent neural network using <b>stacked_lstm</b>. \n",
    "\n",
    "The input should be a Tensor of shape: [batch_size, max_time, embedding_vector_size], in our case it would be (30, 20, 200)\n"
   ]
  },
  {
   "cell_type": "code",
   "execution_count": 37,
   "metadata": {
    "tags": []
   },
   "outputs": [],
   "source": [
    "layer  =  tf.keras.layers.RNN(stacked_lstm,[batch_size, num_steps],return_state=False,stateful=True,trainable=True)"
   ]
  },
  {
   "cell_type": "markdown",
   "metadata": {},
   "source": [
    "Also, we initialize the states of the nework:\n",
    "\n",
    "<h4>_initial_state</h4>\n",
    "\n",
    "For each LSTM, there are 2 state matrices, c\\_state and m\\_state.  c_state and m_state represent \"Memory State\" and \"Cell State\". Each hidden layer, has a vector of size 30, which keeps the states. so, for 200 hidden units in each LSTM, we have a matrix of size [30x200]\n"
   ]
  },
  {
   "cell_type": "code",
   "execution_count": 38,
   "metadata": {
    "tags": []
   },
   "outputs": [],
   "source": [
    "init_state = tf.Variable(tf.zeros([batch_size,embeding_vector_size]),trainable=False)"
   ]
  },
  {
   "cell_type": "code",
   "execution_count": 39,
   "metadata": {
    "tags": []
   },
   "outputs": [],
   "source": [
    "layer.inital_state = init_state"
   ]
  },
  {
   "cell_type": "code",
   "execution_count": 40,
   "metadata": {
    "tags": []
   },
   "outputs": [
    {
     "data": {
      "text/plain": [
       "<tf.Variable 'Variable:0' shape=(30, 200) dtype=float32, numpy=\n",
       "array([[0., 0., 0., ..., 0., 0., 0.],\n",
       "       [0., 0., 0., ..., 0., 0., 0.],\n",
       "       [0., 0., 0., ..., 0., 0., 0.],\n",
       "       ...,\n",
       "       [0., 0., 0., ..., 0., 0., 0.],\n",
       "       [0., 0., 0., ..., 0., 0., 0.],\n",
       "       [0., 0., 0., ..., 0., 0., 0.]], dtype=float32)>"
      ]
     },
     "execution_count": 40,
     "metadata": {},
     "output_type": "execute_result"
    }
   ],
   "source": [
    "layer.inital_state"
   ]
  },
  {
   "cell_type": "markdown",
   "metadata": {},
   "source": [
    "so, lets look at the outputs. The output of the stackedLSTM comes from 128 hidden_layer, and in each time step(=20), one of them get activated. we use the linear activation to map the 128 hidden layer to a [30X20 matrix]\n"
   ]
  },
  {
   "cell_type": "code",
   "execution_count": 41,
   "metadata": {
    "tags": []
   },
   "outputs": [],
   "source": [
    "outputs = layer(inputs)"
   ]
  },
  {
   "cell_type": "code",
   "execution_count": 42,
   "metadata": {
    "tags": []
   },
   "outputs": [
    {
     "data": {
      "text/plain": [
       "<tf.Tensor: shape=(30, 20, 128), dtype=float32, numpy=\n",
       "array([[[-3.74206604e-04, -4.39406344e-04, -1.60956726e-04, ...,\n",
       "          9.83074890e-04, -1.01248047e-03, -1.28743530e-03],\n",
       "        [ 1.60621596e-03, -3.72258510e-04, -1.54856173e-03, ...,\n",
       "          2.26082760e-04, -1.54683948e-03, -2.42742687e-03],\n",
       "        [ 1.32877706e-03, -9.93683469e-04, -2.58870656e-03, ...,\n",
       "          5.41972440e-05, -2.43564439e-03, -1.43485772e-03],\n",
       "        ...,\n",
       "        [ 3.75010393e-04, -1.00327283e-03, -8.78713501e-04, ...,\n",
       "          4.70265606e-03, -1.03410613e-03,  3.62790492e-03],\n",
       "        [ 8.40717170e-04, -1.25830504e-03, -1.23575877e-03, ...,\n",
       "          3.59493424e-03,  2.33780273e-04,  2.05208524e-03],\n",
       "        [ 2.07397342e-03, -1.36258197e-04, -2.55402946e-03, ...,\n",
       "          2.62009632e-03,  1.17122347e-03,  9.88145242e-04]],\n",
       "\n",
       "       [[ 9.96316667e-04,  1.75786234e-04, -9.65660089e-04, ...,\n",
       "          9.50098562e-04,  1.57775544e-03,  8.47692310e-04],\n",
       "        [ 2.36339960e-03, -6.90104149e-04, -1.50038337e-03, ...,\n",
       "          6.00439846e-04,  5.07782330e-04,  7.04702223e-04],\n",
       "        [ 1.81707100e-03, -4.85425931e-04, -1.08879060e-03, ...,\n",
       "          9.07271024e-05, -6.60243037e-04,  1.36653020e-03],\n",
       "        ...,\n",
       "        [-8.37524794e-03, -5.21776406e-03, -7.88853876e-03, ...,\n",
       "          5.93474368e-04,  1.02451397e-03, -2.92154704e-03],\n",
       "        [-9.66772903e-03, -5.42778522e-03, -8.10887478e-03, ...,\n",
       "          8.99353705e-04,  9.96137038e-04, -2.42976542e-03],\n",
       "        [-9.29265842e-03, -5.32991393e-03, -8.82529002e-03, ...,\n",
       "         -1.31926674e-04,  2.10381695e-03, -2.60573137e-03]],\n",
       "\n",
       "       [[-7.51915271e-04, -5.50610712e-04,  3.58971389e-04, ...,\n",
       "          6.43414038e-04,  8.20383662e-04,  5.88503375e-04],\n",
       "        [-1.97015959e-03, -5.61862427e-04,  1.44791196e-03, ...,\n",
       "          2.23203213e-03,  2.21407902e-03,  6.06639194e-04],\n",
       "        [-3.14361881e-03,  2.14247833e-04,  1.35630998e-03, ...,\n",
       "          2.59081996e-03,  3.57499463e-03,  1.88980973e-03],\n",
       "        ...,\n",
       "        [ 2.87636858e-03, -3.39922425e-03, -4.10255045e-03, ...,\n",
       "          9.55183874e-04,  2.17214460e-03, -3.49768880e-03],\n",
       "        [ 3.05107818e-03, -3.14169843e-03, -4.20441804e-03, ...,\n",
       "          7.99817033e-04,  9.40518861e-04, -4.97217570e-03],\n",
       "        [ 2.91195163e-03, -2.68351333e-03, -4.26559430e-03, ...,\n",
       "          7.13816204e-04, -3.35050892e-04, -4.57162689e-03]],\n",
       "\n",
       "       ...,\n",
       "\n",
       "       [[-6.55568379e-04,  4.22556594e-04,  2.62357411e-04, ...,\n",
       "          2.93754529e-05,  7.94261345e-04, -9.25154891e-04],\n",
       "        [-6.96501462e-04,  1.73632725e-04,  9.11686860e-04, ...,\n",
       "         -1.27379352e-03,  6.21391868e-04, -2.15246179e-03],\n",
       "        [-8.68533622e-04,  1.84373383e-03, -9.68480308e-05, ...,\n",
       "         -3.05125344e-04,  8.65659968e-04, -2.85281893e-03],\n",
       "        ...,\n",
       "        [ 4.37005796e-03,  3.76427226e-04, -1.27662381e-03, ...,\n",
       "          3.39987280e-04, -3.22161266e-03, -6.12975843e-03],\n",
       "        [ 5.24749793e-03, -2.59311427e-03, -1.98286492e-03, ...,\n",
       "         -4.72859741e-04, -2.81161023e-03, -6.06026594e-03],\n",
       "        [ 4.68630902e-03, -3.26246978e-03, -2.65103113e-03, ...,\n",
       "         -1.86586089e-03, -2.02383869e-03, -6.39903732e-03]],\n",
       "\n",
       "       [[-1.79558279e-04, -1.04122085e-03, -3.13378667e-04, ...,\n",
       "          4.62960801e-04, -3.76591110e-04,  1.37104158e-04],\n",
       "        [ 5.34805760e-04, -1.97236612e-03, -3.66866821e-04, ...,\n",
       "          1.86734262e-03, -1.09981156e-04,  6.68337336e-04],\n",
       "        [ 2.24990901e-04, -1.50704128e-03, -5.88585623e-04, ...,\n",
       "          2.07162602e-03,  5.08508994e-04,  1.88744976e-03],\n",
       "        ...,\n",
       "        [ 8.16551689e-03, -3.63111869e-03, -8.56112281e-04, ...,\n",
       "         -3.57756042e-04, -2.69811804e-04,  1.41184533e-03],\n",
       "        [ 9.62487608e-03, -4.90908884e-03, -3.73874209e-04, ...,\n",
       "         -1.26789755e-03, -1.49420893e-03,  2.66120129e-04],\n",
       "        [ 9.92693566e-03, -5.26355673e-03, -8.48785159e-04, ...,\n",
       "         -3.52343614e-03, -1.29176176e-03,  3.16043996e-04]],\n",
       "\n",
       "       [[-1.20967312e-03, -1.05600327e-03,  5.84727561e-04, ...,\n",
       "         -1.12625863e-03, -1.08400395e-03,  5.68480347e-04],\n",
       "        [-1.40177528e-03, -7.18982541e-04,  3.19065904e-04, ...,\n",
       "         -1.05743541e-03, -2.15410558e-03,  1.86168088e-03],\n",
       "        [-1.77534239e-03, -7.48451042e-04,  8.30733825e-06, ...,\n",
       "         -2.04259995e-03, -3.78715689e-03,  3.02928616e-03],\n",
       "        ...,\n",
       "        [ 7.98778888e-03, -2.74786330e-03, -5.96284168e-03, ...,\n",
       "         -1.87283824e-03, -1.92032987e-03, -6.28574798e-03],\n",
       "        [ 8.90489481e-03, -1.33404951e-03, -6.12804154e-03, ...,\n",
       "         -2.42435999e-04, -2.38849572e-03, -6.06388459e-03],\n",
       "        [ 8.63217097e-03, -2.05270504e-03, -6.87812595e-03, ...,\n",
       "         -1.29650507e-04, -2.83710007e-03, -6.60714926e-03]]],\n",
       "      dtype=float32)>"
      ]
     },
     "execution_count": 42,
     "metadata": {},
     "output_type": "execute_result"
    }
   ],
   "source": [
    "outputs"
   ]
  },
  {
   "cell_type": "markdown",
   "metadata": {},
   "source": [
    "<h2>Dense layer</h2>\n",
    "We now create densely-connected neural network layer that would reshape the outputs tensor from  [30 x 20 x 128] to [30 x 20 x 10000].\n"
   ]
  },
  {
   "cell_type": "code",
   "execution_count": 43,
   "metadata": {
    "tags": []
   },
   "outputs": [],
   "source": [
    "dense = tf.keras.layers.Dense(vocab_size)"
   ]
  },
  {
   "cell_type": "code",
   "execution_count": 44,
   "metadata": {
    "tags": []
   },
   "outputs": [],
   "source": [
    "logits_outputs  = dense(outputs)"
   ]
  },
  {
   "cell_type": "code",
   "execution_count": 45,
   "metadata": {
    "tags": []
   },
   "outputs": [
    {
     "name": "stdout",
     "output_type": "stream",
     "text": [
      "shape of the output from dense layer:  (30, 20, 10000)\n"
     ]
    }
   ],
   "source": [
    "print(\"shape of the output from dense layer: \", logits_outputs.shape) #(batch_size, sequence_length, vocab_size)"
   ]
  },
  {
   "cell_type": "markdown",
   "metadata": {},
   "source": [
    "<h2>Activation layer</h2>\n",
    "\n",
    "\n",
    "A softmax activation layers is also then applied to derive the probability of the output being in any of the multiclass(10000 in this case) possibilities. \n"
   ]
  },
  {
   "cell_type": "code",
   "execution_count": 46,
   "metadata": {
    "tags": []
   },
   "outputs": [],
   "source": [
    "activation = tf.keras.layers.Activation('softmax')"
   ]
  },
  {
   "cell_type": "code",
   "execution_count": 47,
   "metadata": {
    "tags": []
   },
   "outputs": [],
   "source": [
    "output_words_prob = activation(logits_outputs)"
   ]
  },
  {
   "cell_type": "code",
   "execution_count": 48,
   "metadata": {
    "tags": []
   },
   "outputs": [
    {
     "name": "stdout",
     "output_type": "stream",
     "text": [
      "shape of the output from the activation layer:  (30, 20, 10000)\n"
     ]
    }
   ],
   "source": [
    "print(\"shape of the output from the activation layer: \", output_words_prob.shape) #(batch_size, sequence_length, vocab_size)"
   ]
  },
  {
   "cell_type": "markdown",
   "metadata": {},
   "source": [
    "Lets look at the probability of observing words for t=0 to t=20:\n"
   ]
  },
  {
   "cell_type": "code",
   "execution_count": 49,
   "metadata": {
    "tags": []
   },
   "outputs": [
    {
     "name": "stdout",
     "output_type": "stream",
     "text": [
      "The probability of observing words in t=0 to t=20 tf.Tensor(\n",
      "[[9.99971235e-05 1.00018398e-04 9.99811527e-05 ... 9.99847034e-05\n",
      "  1.00017278e-04 9.99910553e-05]\n",
      " [1.00011930e-04 1.00028265e-04 9.99659678e-05 ... 9.99738695e-05\n",
      "  1.00034245e-04 9.99761614e-05]\n",
      " [1.00029793e-04 1.00029560e-04 9.99563053e-05 ... 9.99402619e-05\n",
      "  1.00049030e-04 9.99643962e-05]\n",
      " ...\n",
      " [9.99923068e-05 9.99505719e-05 1.00005345e-04 ... 9.99663607e-05\n",
      "  1.00062782e-04 1.00023666e-04]\n",
      " [9.99831100e-05 9.99849435e-05 1.00007055e-04 ... 9.99690674e-05\n",
      "  1.00063757e-04 1.00019402e-04]\n",
      " [9.99827898e-05 9.99813710e-05 1.00013560e-04 ... 9.99641416e-05\n",
      "  1.00056946e-04 1.00013465e-04]], shape=(20, 10000), dtype=float32)\n"
     ]
    }
   ],
   "source": [
    "print(\"The probability of observing words in t=0 to t=20\", output_words_prob[0,0:num_steps])"
   ]
  },
  {
   "cell_type": "markdown",
   "metadata": {},
   "source": [
    "<h3>Prediction</h3>\n",
    "What is the word correspond to the probability output? Lets use the maximum probability:\n"
   ]
  },
  {
   "cell_type": "code",
   "execution_count": 50,
   "metadata": {
    "tags": []
   },
   "outputs": [
    {
     "data": {
      "text/plain": [
       "array([8677, 7405, 4134, 4134, 2512, 2512, 2512, 2512, 2512,  590,  590,\n",
       "       8447,  590,  590, 5129, 5129, 5691, 5691, 6039, 6039])"
      ]
     },
     "execution_count": 50,
     "metadata": {},
     "output_type": "execute_result"
    }
   ],
   "source": [
    "np.argmax(output_words_prob[0,0:num_steps], axis=1)"
   ]
  },
  {
   "cell_type": "markdown",
   "metadata": {},
   "source": [
    "So, what is the ground truth for the first word of first sentence? You can get it from target tensor, if you want to find the embedding vector: \n"
   ]
  },
  {
   "cell_type": "code",
   "execution_count": 51,
   "metadata": {
    "tags": []
   },
   "outputs": [
    {
     "data": {
      "text/plain": [
       "array([9971, 9972, 9974, 9975, 9976, 9980, 9981, 9982, 9983, 9984, 9986,\n",
       "       9987, 9988, 9989, 9991, 9992, 9993, 9994, 9995, 9996], dtype=int32)"
      ]
     },
     "execution_count": 51,
     "metadata": {},
     "output_type": "execute_result"
    }
   ],
   "source": [
    "_targets[0]"
   ]
  },
  {
   "cell_type": "markdown",
   "metadata": {},
   "source": [
    "<h4>Objective function</h4>\n",
    "\n",
    "\n",
    "How similar the predicted words are to the target words?\n",
    "\n",
    "\n",
    "Now we have to define our objective function, to calculate the similarity of predicted values to ground truth, and then, penalize the model with the error. Our objective is to minimize loss function, that is, to minimize the average negative log probability of the target words:\n",
    "\n",
    "$$\\text{loss} = -\\frac{1}{N}\\sum_{i=1}^{N} \\ln p_{\\text{target}_i}$$\n",
    "\n",
    "This function is already implemented and available in TensorFlow through *tf.keras.losses.sparse_categorical_crossentropy*. It calculates the categorical cross-entropy loss for <b>logits</b> and the <b>target</b> sequence.  \n",
    "\n",
    "The arguments of this function are:  \n",
    "<ul>\n",
    "    <li>logits: List of 2D Tensors of shape [batch_size x num_decoder_symbols].</li>  \n",
    "    <li>targets: List of 1D batch-sized int32 Tensors of the same length as logits.</li>   \n",
    "</ul>\n"
   ]
  },
  {
   "cell_type": "code",
   "execution_count": 52,
   "metadata": {
    "tags": []
   },
   "outputs": [],
   "source": [
    "def crossentropy(y_true, y_pred):\n",
    "    return tf.keras.losses.sparse_categorical_crossentropy(y_true, y_pred)"
   ]
  },
  {
   "cell_type": "code",
   "execution_count": 53,
   "metadata": {
    "tags": []
   },
   "outputs": [],
   "source": [
    "loss  = crossentropy(_targets, output_words_prob)"
   ]
  },
  {
   "cell_type": "markdown",
   "metadata": {},
   "source": [
    "Lets look at the first 10 values of loss:\n"
   ]
  },
  {
   "cell_type": "code",
   "execution_count": 54,
   "metadata": {
    "tags": []
   },
   "outputs": [
    {
     "data": {
      "text/plain": [
       "<tf.Tensor: shape=(10,), dtype=float32, numpy=\n",
       "array([9.210462, 9.210233, 9.210002, 9.210193, 9.211276, 9.210047,\n",
       "       9.211749, 9.21113 , 9.210415, 9.21006 ], dtype=float32)>"
      ]
     },
     "execution_count": 54,
     "metadata": {},
     "output_type": "execute_result"
    }
   ],
   "source": [
    "loss[0,:10]"
   ]
  },
  {
   "cell_type": "markdown",
   "metadata": {},
   "source": [
    "Now, we define cost as average of the losses:\n"
   ]
  },
  {
   "cell_type": "code",
   "execution_count": 55,
   "metadata": {
    "tags": []
   },
   "outputs": [
    {
     "data": {
      "text/plain": [
       "<tf.Tensor: shape=(), dtype=float32, numpy=184.20692>"
      ]
     },
     "execution_count": 55,
     "metadata": {},
     "output_type": "execute_result"
    }
   ],
   "source": [
    "cost = tf.reduce_sum(loss / batch_size)\n",
    "cost"
   ]
  },
  {
   "cell_type": "markdown",
   "metadata": {},
   "source": [
    "<h3>Training</h3>\n",
    "\n",
    "To do training for our network, we have to take the following steps:\n",
    "<ol>\n",
    "    <li>Define the optimizer.</li>\n",
    "    <li>Assemble layers to build model.</li>\n",
    "    <li>Calculate the gradients based on the loss function.</li>\n",
    "    <li>Apply the optimizer to the variables/gradients tuple.</li>\n",
    "</ol>\n"
   ]
  },
  {
   "cell_type": "markdown",
   "metadata": {},
   "source": [
    "<h4>1. Define Optimizer</h4>\n",
    "\n"
   ]
  },
  {
   "cell_type": "code",
   "execution_count": 56,
   "metadata": {
    "tags": []
   },
   "outputs": [
    {
     "name": "stderr",
     "output_type": "stream",
     "text": [
      "/home/jupyterlab/conda/envs/python/lib/python3.7/site-packages/keras/optimizers/optimizer_v2/gradient_descent.py:108: UserWarning: The `lr` argument is deprecated, use `learning_rate` instead.\n",
      "  super(SGD, self).__init__(name, **kwargs)\n"
     ]
    }
   ],
   "source": [
    "# Create a variable for the learning rate\n",
    "lr = tf.Variable(0.0, trainable=False)\n",
    "optimizer = tf.keras.optimizers.SGD(lr=lr, clipnorm=max_grad_norm)"
   ]
  },
  {
   "cell_type": "markdown",
   "metadata": {},
   "source": [
    "<h4>2. Assemble layers to build model.</h4>\n"
   ]
  },
  {
   "cell_type": "code",
   "execution_count": 57,
   "metadata": {
    "tags": []
   },
   "outputs": [
    {
     "name": "stdout",
     "output_type": "stream",
     "text": [
      "Model: \"sequential\"\n",
      "_________________________________________________________________\n",
      " Layer (type)                Output Shape              Param #   \n",
      "=================================================================\n",
      " embedding_vocab (Embedding)  (30, 20, 200)            2000000   \n",
      "                                                                 \n",
      " rnn (RNN)                   (30, 20, 128)             671088    \n",
      "                                                                 \n",
      " dense (Dense)               (30, 20, 10000)           1290000   \n",
      "                                                                 \n",
      " activation (Activation)     (30, 20, 10000)           0         \n",
      "                                                                 \n",
      "=================================================================\n",
      "Total params: 3,961,088\n",
      "Trainable params: 3,955,088\n",
      "Non-trainable params: 6,000\n",
      "_________________________________________________________________\n"
     ]
    }
   ],
   "source": [
    "model = tf.keras.Sequential()\n",
    "model.add(embedding_layer)\n",
    "model.add(layer)\n",
    "model.add(dense)\n",
    "model.add(activation)\n",
    "model.compile(loss=crossentropy, optimizer=optimizer)\n",
    "model.summary()"
   ]
  },
  {
   "cell_type": "markdown",
   "metadata": {},
   "source": [
    "\n",
    "<h4>2. Trainable Variables</h4>\n"
   ]
  },
  {
   "cell_type": "markdown",
   "metadata": {},
   "source": [
    "Defining a variable, if you passed <i>trainable=True</i>, the variable constructor automatically adds new variables to the graph collection <b>GraphKeys.TRAINABLE_VARIABLES</b>. Now, using <i>tf.trainable_variables()</i> you can get all variables created with <b>trainable=True</b>.\n"
   ]
  },
  {
   "cell_type": "code",
   "execution_count": 58,
   "metadata": {
    "tags": []
   },
   "outputs": [],
   "source": [
    "# Get all TensorFlow variables marked as \"trainable\" (i.e. all of them except _lr, which we just created)\n",
    "tvars = model.trainable_variables"
   ]
  },
  {
   "cell_type": "markdown",
   "metadata": {},
   "source": [
    "Note: we can find the name and scope of all variables:\n"
   ]
  },
  {
   "cell_type": "code",
   "execution_count": 59,
   "metadata": {
    "tags": []
   },
   "outputs": [
    {
     "data": {
      "text/plain": [
       "['embedding_vocab/embeddings:0',\n",
       " 'rnn/stacked_rnn_cells/lstm_cell/kernel:0',\n",
       " 'rnn/stacked_rnn_cells/lstm_cell/recurrent_kernel:0',\n",
       " 'rnn/stacked_rnn_cells/lstm_cell/bias:0',\n",
       " 'rnn/stacked_rnn_cells/lstm_cell_1/kernel:0',\n",
       " 'rnn/stacked_rnn_cells/lstm_cell_1/recurrent_kernel:0',\n",
       " 'rnn/stacked_rnn_cells/lstm_cell_1/bias:0',\n",
       " 'dense/kernel:0',\n",
       " 'dense/bias:0']"
      ]
     },
     "execution_count": 59,
     "metadata": {},
     "output_type": "execute_result"
    }
   ],
   "source": [
    "[v.name for v in tvars] "
   ]
  },
  {
   "cell_type": "markdown",
   "metadata": {},
   "source": [
    "<h4>3. Calculate the gradients based on the loss function</h4>\n"
   ]
  },
  {
   "cell_type": "markdown",
   "metadata": {},
   "source": [
    "**Gradient**: The gradient of a function is the slope of its derivative (line), or in other words, the rate of change of a function. It's a vector (a direction to move) that points in the direction of greatest increase of the function, and calculated by the <b>derivative</b> operation.\n"
   ]
  },
  {
   "cell_type": "markdown",
   "metadata": {},
   "source": [
    "First lets recall the gradient function using an toy example:\n",
    "$$ z = \\left(2x^2 + 3xy\\right)$$\n"
   ]
  },
  {
   "cell_type": "code",
   "execution_count": 60,
   "metadata": {
    "tags": []
   },
   "outputs": [],
   "source": [
    "x = tf.constant(1.0)\n",
    "y =  tf.constant(2.0)\n",
    "with tf.GradientTape(persistent=True) as g:\n",
    "    g.watch(x)\n",
    "    g.watch(y)\n",
    "    func_test = 2 * x * x + 3 * x * y"
   ]
  },
  {
   "cell_type": "markdown",
   "metadata": {},
   "source": [
    "The <b>tf.gradients()</b> function allows you to compute the symbolic gradient of one tensor with respect to one or more other tensors—including variables. <b>tf.gradients(func, xs)</b> constructs symbolic partial derivatives of sum of <b>func</b> w.r.t. <i>x</i> in <b>xs</b>. \n",
    "\n",
    "Now, lets look at the derivitive w.r.t. <b>var_x</b>:\n",
    "$$ \\frac{\\partial \\:}{\\partial \\:x}\\left(2x^2 + 3xy\\right) = 4x + 3y $$\n"
   ]
  },
  {
   "cell_type": "code",
   "execution_count": 61,
   "metadata": {
    "tags": []
   },
   "outputs": [
    {
     "name": "stdout",
     "output_type": "stream",
     "text": [
      "tf.Tensor(10.0, shape=(), dtype=float32)\n"
     ]
    }
   ],
   "source": [
    "var_grad = g.gradient(func_test, x) # Will compute to 10.0\n",
    "print(var_grad)"
   ]
  },
  {
   "cell_type": "markdown",
   "metadata": {},
   "source": [
    "the derivative w.r.t. <b>var_y</b>:\n",
    "$$ \\frac{\\partial \\:}{\\partial \\:y}\\left(2x^2 + 3xy\\right) = 3x $$\n"
   ]
  },
  {
   "cell_type": "code",
   "execution_count": 62,
   "metadata": {
    "tags": []
   },
   "outputs": [
    {
     "name": "stdout",
     "output_type": "stream",
     "text": [
      "tf.Tensor(3.0, shape=(), dtype=float32)\n"
     ]
    }
   ],
   "source": [
    "var_grad = g.gradient(func_test, y) # Will compute to 3.0\n",
    "print(var_grad)"
   ]
  },
  {
   "cell_type": "markdown",
   "metadata": {},
   "source": [
    "Now, we can look at gradients w.r.t all variables:\n"
   ]
  },
  {
   "cell_type": "code",
   "execution_count": 63,
   "metadata": {
    "tags": []
   },
   "outputs": [],
   "source": [
    "with tf.GradientTape() as tape:\n",
    "    # Forward pass.\n",
    "    output_words_prob = model(_input_data)\n",
    "    # Loss value for this batch.\n",
    "    loss  = crossentropy(_targets, output_words_prob)\n",
    "    cost = tf.reduce_sum(loss,axis=0) / batch_size"
   ]
  },
  {
   "cell_type": "code",
   "execution_count": 64,
   "metadata": {
    "tags": []
   },
   "outputs": [],
   "source": [
    "# Get gradients of loss wrt the trainable variables.\n",
    "grad_t_list = tape.gradient(cost, tvars)"
   ]
  },
  {
   "cell_type": "code",
   "execution_count": 65,
   "metadata": {
    "tags": []
   },
   "outputs": [
    {
     "name": "stdout",
     "output_type": "stream",
     "text": [
      "[<tensorflow.python.framework.indexed_slices.IndexedSlices object at 0x7fc20936f650>, <tf.Tensor: shape=(200, 1024), dtype=float32, numpy=\n",
      "array([[-2.7970901e-07,  9.5110323e-07,  3.7645367e-07, ...,\n",
      "        -3.0417360e-07,  3.6439255e-07,  2.6511643e-08],\n",
      "       [-1.0193088e-07, -7.6923561e-07,  3.9398896e-07, ...,\n",
      "        -2.8792809e-07,  1.8515900e-07, -1.5117639e-08],\n",
      "       [ 3.7949277e-08, -5.6653982e-07, -7.3014695e-07, ...,\n",
      "         2.4159709e-07,  1.8791657e-07,  8.3802547e-08],\n",
      "       ...,\n",
      "       [ 1.4551692e-07, -2.5798863e-07, -5.9361707e-07, ...,\n",
      "         6.6612841e-07,  7.8202085e-09, -3.8530740e-07],\n",
      "       [ 2.3701412e-07,  6.9366814e-07, -3.4255146e-07, ...,\n",
      "        -1.4836235e-07, -4.6510166e-08, -2.8835171e-07],\n",
      "       [ 2.0633744e-08, -1.2281486e-06, -5.4869292e-07, ...,\n",
      "        -5.1685561e-07, -2.7459794e-07,  3.8158612e-07]], dtype=float32)>, <tf.Tensor: shape=(256, 1024), dtype=float32, numpy=\n",
      "array([[-3.4433192e-08,  1.6665595e-08,  3.0478975e-07, ...,\n",
      "         1.6907194e-07,  3.8539579e-07, -4.3824091e-08],\n",
      "       [-2.1104343e-07,  3.6947675e-08, -2.2394659e-08, ...,\n",
      "         3.3987575e-08, -1.1615737e-07,  3.9078095e-08],\n",
      "       [-1.7269400e-08,  7.2671270e-08, -6.9128909e-08, ...,\n",
      "         9.1570499e-08, -9.8249231e-08, -1.5943135e-07],\n",
      "       ...,\n",
      "       [-3.2973933e-08, -1.2409286e-07, -1.8317675e-07, ...,\n",
      "         8.3677570e-08,  4.1917730e-08, -4.4072074e-08],\n",
      "       [ 6.0396360e-08, -2.0857595e-07,  7.5178725e-09, ...,\n",
      "         4.4454708e-08, -3.4101564e-07, -6.1728599e-08],\n",
      "       [-7.4890423e-08,  7.1711426e-08,  4.6169074e-08, ...,\n",
      "        -6.6280244e-09, -8.1559293e-08,  1.3124465e-07]], dtype=float32)>, <tf.Tensor: shape=(1024,), dtype=float32, numpy=\n",
      "array([-1.37750849e-05, -1.90126921e-05,  1.05593590e-05, ...,\n",
      "        1.21687435e-05,  3.22711239e-05,  1.42056788e-05], dtype=float32)>, <tf.Tensor: shape=(256, 512), dtype=float32, numpy=\n",
      "array([[-4.0252007e-07, -4.1311779e-07, -5.6365931e-08, ...,\n",
      "        -5.0091955e-07, -2.8388635e-07,  3.6217216e-09],\n",
      "       [-8.6431328e-08, -1.4130795e-07,  1.5814740e-08, ...,\n",
      "         1.6693750e-07,  7.7366728e-08, -1.5158801e-07],\n",
      "       [ 7.3589241e-08,  8.8742638e-08, -1.3052819e-08, ...,\n",
      "         1.7071926e-07,  8.9537238e-08, -6.5572650e-08],\n",
      "       ...,\n",
      "       [ 1.9888384e-07, -1.9251725e-07, -5.9143773e-08, ...,\n",
      "        -1.5776564e-08,  4.7464610e-08,  5.7275344e-08],\n",
      "       [ 6.5226914e-08,  2.9482159e-08, -8.7679233e-08, ...,\n",
      "         1.0741531e-07,  2.2875852e-07, -5.2023427e-07],\n",
      "       [ 1.5121228e-07,  1.0613819e-07, -9.4138120e-09, ...,\n",
      "         3.7854360e-08,  2.1434653e-07,  6.2072303e-10]], dtype=float32)>, <tf.Tensor: shape=(128, 512), dtype=float32, numpy=\n",
      "array([[-4.2434209e-07, -1.1165834e-07, -5.1282314e-08, ...,\n",
      "        -5.7146412e-08, -1.5017667e-07, -2.9721061e-08],\n",
      "       [ 1.0871420e-07,  1.7157791e-07,  7.2153838e-08, ...,\n",
      "         4.6208193e-08,  1.0940484e-07,  4.1432315e-09],\n",
      "       [ 1.4068448e-07,  6.9216014e-08,  8.9496694e-08, ...,\n",
      "         1.0964483e-07,  1.3508151e-07,  1.1682033e-08],\n",
      "       ...,\n",
      "       [ 1.7211964e-07, -6.9042422e-08, -2.1663411e-08, ...,\n",
      "        -3.8688933e-07, -7.7065422e-08,  2.1408295e-07],\n",
      "       [ 1.7904642e-07,  6.1144092e-08,  6.3104793e-08, ...,\n",
      "         6.2401568e-08,  4.6949887e-07, -1.4633197e-07],\n",
      "       [ 3.5412381e-07, -1.8243040e-07,  6.8517437e-08, ...,\n",
      "        -7.9607616e-08, -1.3508816e-07,  3.7790426e-07]], dtype=float32)>, <tf.Tensor: shape=(512,), dtype=float32, numpy=\n",
      "array([-5.80712331e-05, -4.51392516e-05, -2.17286670e-05, -4.36026203e-05,\n",
      "        5.30745274e-06,  6.65478638e-06, -1.51523727e-05,  5.23933340e-05,\n",
      "       -4.12574918e-05, -1.58495186e-05, -2.67667856e-05, -2.34761842e-06,\n",
      "        3.07657501e-06, -2.77176860e-05, -1.10624751e-05, -2.42535607e-05,\n",
      "       -1.77005604e-05,  4.98176450e-05, -2.27743967e-05,  6.98796648e-05,\n",
      "       -2.72155648e-05, -1.83414431e-06,  6.90175602e-06, -2.41643647e-05,\n",
      "       -1.18591852e-05, -6.60201258e-05, -1.69839586e-05, -7.46504957e-05,\n",
      "       -4.17991487e-06,  1.08120170e-04, -5.93956574e-05,  5.61325942e-06,\n",
      "       -2.48008546e-05, -5.76262391e-05,  6.78693032e-05,  2.61095875e-06,\n",
      "       -2.20086185e-05, -1.60576856e-05,  1.64274115e-06,  1.69560153e-05,\n",
      "        2.93410721e-06,  1.77329475e-05, -2.27280652e-05, -2.47477146e-05,\n",
      "        3.18952152e-05,  3.40781735e-05,  2.08563724e-05, -1.17908630e-05,\n",
      "        1.37533898e-05, -5.11051621e-05,  4.07232874e-05, -7.47614786e-06,\n",
      "       -5.09643578e-05,  1.30796223e-04, -6.14336386e-06, -3.32842092e-06,\n",
      "        9.41267717e-06, -3.14408535e-05, -8.73929384e-05,  1.08646636e-05,\n",
      "        2.37716085e-05, -2.32242110e-05, -1.30186500e-05,  3.72334216e-05,\n",
      "       -1.84454730e-05,  2.38458342e-05,  1.57534869e-05, -3.15683865e-05,\n",
      "       -2.56264320e-06, -4.15681279e-06, -1.38596079e-05, -8.93393917e-06,\n",
      "       -4.47779939e-06, -1.95888024e-05,  3.28414826e-05,  2.66134448e-05,\n",
      "        3.04173027e-05, -7.55691435e-05,  1.40076110e-04, -7.87430508e-06,\n",
      "       -1.22492529e-05, -1.46690709e-05,  4.42508281e-06, -2.01893818e-05,\n",
      "       -3.60596678e-05, -6.36086315e-06, -1.22792808e-05,  1.14920185e-05,\n",
      "        3.33060598e-06,  1.97227309e-05, -2.83465542e-05,  2.50597732e-05,\n",
      "        3.28642491e-05,  4.64335899e-05, -1.46092534e-05,  2.31293125e-05,\n",
      "       -5.36848820e-05, -1.63107652e-05,  3.70798625e-05,  2.83359423e-05,\n",
      "        1.82137665e-05,  4.45337646e-05,  2.63509755e-05, -1.64634221e-05,\n",
      "       -1.05467152e-05,  9.40980317e-06, -1.39598842e-05,  1.56760070e-05,\n",
      "       -1.11640165e-05, -1.65892561e-05,  4.32190745e-06, -2.83150075e-06,\n",
      "        1.19780962e-05, -3.10173746e-05,  4.31362714e-05,  2.62263075e-06,\n",
      "       -1.51301265e-05, -4.69245151e-06,  9.43936902e-06,  2.65800190e-05,\n",
      "        4.63213219e-05,  5.68553151e-05,  4.96096618e-05,  5.52023121e-05,\n",
      "        1.05731669e-05, -3.57728800e-06, -2.70455366e-05, -4.01556026e-05,\n",
      "       -8.34322127e-05, -5.28528544e-05, -2.72735324e-05, -8.14217201e-05,\n",
      "        3.79921876e-05, -1.73952740e-05, -4.10531793e-05,  6.84511688e-05,\n",
      "       -5.44249051e-05, -4.30823784e-05, -3.21045809e-05, -1.91416657e-05,\n",
      "        5.06001925e-07, -3.03487759e-05, -3.09449351e-05, -4.22725861e-05,\n",
      "       -2.49680488e-05,  5.14948624e-05, -3.30325129e-05,  1.02022845e-04,\n",
      "       -4.36233277e-05,  3.60310332e-06, -4.40669282e-06, -1.58669191e-05,\n",
      "        6.55534677e-06, -8.25682000e-05, -1.37199722e-05, -6.85560881e-05,\n",
      "        1.85381650e-05,  1.75904061e-04, -8.36558902e-05, -1.72268265e-05,\n",
      "       -3.61191742e-05, -8.63553141e-05,  1.25691455e-04,  9.18535079e-07,\n",
      "       -2.40731315e-05, -3.00508600e-05,  7.06255378e-06,  1.47927085e-05,\n",
      "       -1.43529269e-05,  2.19496251e-05, -3.63006984e-05, -4.32311535e-05,\n",
      "        3.58390644e-05,  2.41012040e-05,  4.54745896e-05, -3.80259517e-05,\n",
      "        8.07694505e-06, -2.72371290e-05,  6.52666422e-05,  1.87890219e-05,\n",
      "       -4.38478964e-05,  1.89761005e-04,  9.05494562e-06, -6.93441052e-06,\n",
      "        4.16308467e-07, -5.00987226e-05, -1.21173609e-04,  5.91417302e-06,\n",
      "        1.46191187e-05, -3.78202458e-05, -8.62035540e-06,  2.88875563e-05,\n",
      "       -3.52895513e-05,  4.33332498e-05,  5.50979494e-05, -4.46271733e-05,\n",
      "        1.39390977e-06,  1.45886934e-05, -3.67247376e-05, -2.56338717e-06,\n",
      "        4.11218207e-06,  6.48891955e-06,  2.39992496e-05,  6.77013395e-06,\n",
      "        4.73820983e-05, -8.20140558e-05,  2.08128564e-04,  5.56958548e-06,\n",
      "       -2.51911079e-05,  1.17617565e-05,  4.04909406e-05, -1.15370394e-05,\n",
      "       -4.32918496e-05, -1.98187390e-05, -3.12086122e-05, -2.87499552e-06,\n",
      "        1.31138595e-05,  1.05628187e-05, -1.80438565e-05,  7.13257177e-05,\n",
      "        2.34028812e-05,  5.58097963e-05, -9.69969642e-06,  1.25825081e-05,\n",
      "       -7.74111613e-05, -3.85175372e-05,  5.89268602e-05,  2.18770256e-05,\n",
      "       -1.20957520e-05,  6.91654495e-05,  4.76384557e-05, -3.62040337e-05,\n",
      "        6.70606050e-06,  3.73493663e-06, -8.55131475e-06, -1.15211260e-05,\n",
      "       -2.13817166e-05,  2.05022570e-05,  7.62995205e-06, -1.85560802e-05,\n",
      "       -4.74515582e-06, -3.92511720e-05,  4.03477134e-05,  1.59277261e-05,\n",
      "       -2.00143222e-05,  1.30991557e-05,  1.88620834e-06,  4.45170663e-05,\n",
      "        5.78444124e-05,  9.20115272e-05,  5.72356439e-05,  7.52394772e-05,\n",
      "        1.31032957e-05, -1.39670246e-05, -7.99634563e-06, -6.61580634e-05,\n",
      "       -1.29857063e-02,  2.05003433e-02,  8.91758315e-03, -2.10531279e-02,\n",
      "        2.92291362e-02,  2.75575444e-02,  2.28297338e-02,  1.05031468e-02,\n",
      "       -4.17326167e-02, -1.87540445e-02, -3.65315005e-02,  2.63679177e-02,\n",
      "        4.97341016e-03,  2.05329321e-02, -2.68452540e-02, -1.04950974e-02,\n",
      "        2.39682160e-02, -1.62348486e-02, -1.77863538e-02,  2.71093845e-02,\n",
      "       -2.54374258e-02, -2.16823965e-02, -4.32904437e-02,  4.81360480e-02,\n",
      "        3.21847619e-04,  6.67530298e-02,  4.75890636e-02, -2.14506127e-02,\n",
      "        3.30528356e-02,  3.82333994e-02, -4.59709167e-02, -9.58306808e-03,\n",
      "       -5.03253378e-03, -2.87684090e-02,  4.81606945e-02, -3.01649421e-02,\n",
      "        2.12666090e-03, -1.21066794e-02, -1.35958008e-02, -1.16036553e-02,\n",
      "        4.26748767e-02, -2.52922326e-02,  6.61361730e-03, -5.18093593e-02,\n",
      "       -2.42464952e-02, -3.57818119e-02, -2.28128321e-02, -6.21613674e-03,\n",
      "       -3.84170488e-02, -3.05784866e-02, -3.07469107e-02,  8.23307689e-03,\n",
      "        4.16687690e-02,  5.30601367e-02,  3.72947427e-03,  3.71286944e-02,\n",
      "       -4.49288636e-02,  2.24894490e-02, -2.77348813e-02,  1.31480880e-02,\n",
      "       -3.93824279e-02, -5.06539904e-02, -2.51443349e-02,  7.11580599e-03,\n",
      "       -3.60499918e-02, -1.01863695e-02, -2.98690610e-02, -6.39595687e-02,\n",
      "        2.95139030e-02,  6.03843760e-03, -1.01980595e-02,  2.92383544e-02,\n",
      "        1.26160169e-02,  1.63034536e-02,  2.45805038e-03, -2.43020579e-02,\n",
      "        1.05283083e-02, -3.96129638e-02, -5.13076000e-02,  4.83448617e-03,\n",
      "       -1.92748047e-02, -1.80388503e-02,  5.74009027e-03, -2.50695534e-02,\n",
      "       -4.17852923e-02, -7.22775934e-03, -1.36575811e-02, -3.31114866e-02,\n",
      "        1.40930675e-02,  7.99893774e-03,  2.09658705e-02, -2.42652986e-02,\n",
      "       -1.69980358e-02, -1.55700147e-02,  4.26079854e-02, -3.16870213e-02,\n",
      "       -3.75308320e-02,  1.65189020e-02,  1.60763972e-02, -2.16408516e-04,\n",
      "        1.08244047e-02,  2.83147823e-02,  2.16552839e-02, -1.18500516e-02,\n",
      "        3.42694744e-02,  3.88997681e-02,  2.03455258e-02, -3.53435576e-02,\n",
      "        8.07508454e-03,  1.20069981e-02,  9.09190439e-03, -4.76158084e-03,\n",
      "       -7.38480594e-04, -5.42387143e-02,  4.79272241e-03,  2.26337984e-02,\n",
      "        2.77306288e-02, -4.01984006e-02, -5.53376321e-03,  5.56864738e-02,\n",
      "        1.05561502e-03, -3.36908884e-02,  3.23969424e-02,  1.55300135e-04,\n",
      "        1.98152252e-02, -3.81866992e-02,  2.80702673e-02,  1.43925156e-02,\n",
      "       -6.15177050e-05, -4.79978116e-05, -3.33158896e-05, -5.76477614e-05,\n",
      "        3.26161717e-06,  1.09442481e-05, -2.38440171e-05,  5.15729407e-05,\n",
      "       -4.91253595e-05, -1.72579821e-05, -3.21129992e-05, -2.97292036e-06,\n",
      "       -3.69610916e-06, -2.90366734e-05, -2.18402020e-05, -2.79096148e-05,\n",
      "       -1.05604122e-05,  5.26180120e-05, -2.23171701e-05,  7.83433861e-05,\n",
      "       -4.02515034e-05,  3.72784780e-06,  1.14154482e-05, -2.50548946e-05,\n",
      "       -1.28917509e-06, -7.54672437e-05, -2.90292683e-05, -7.83282885e-05,\n",
      "       -3.47488822e-07,  1.14697643e-04, -5.96992759e-05,  7.75995977e-06,\n",
      "       -1.70815110e-05, -6.01460197e-05,  8.34577950e-05, -7.29398380e-07,\n",
      "       -2.16110730e-05, -1.74037250e-05, -2.15982436e-06,  1.89789025e-05,\n",
      "        1.32961623e-06,  1.35840755e-05, -2.26005905e-05, -3.02395511e-05,\n",
      "        3.52181451e-05,  3.39163889e-05,  1.91940708e-05, -2.76582887e-05,\n",
      "        1.92267071e-05, -4.71470485e-05,  4.29099236e-05, -1.25267097e-05,\n",
      "       -5.02902258e-05,  1.63082557e-04, -3.56345481e-07, -2.70414012e-06,\n",
      "        7.78533285e-06, -4.63269462e-05, -1.07095591e-04,  1.46445636e-05,\n",
      "        3.92257098e-05, -2.46273321e-05, -1.32538298e-05,  3.13317287e-05,\n",
      "       -2.55604773e-05,  3.60675695e-05,  2.68929707e-05, -3.04626919e-05,\n",
      "        4.42014425e-07, -9.09636583e-07, -1.55113921e-05, -4.34110734e-06,\n",
      "        3.94377184e-06, -1.18677926e-05,  3.13157361e-05,  3.29911636e-05,\n",
      "        4.02594924e-05, -7.92513601e-05,  1.64897603e-04, -1.66713062e-06,\n",
      "       -1.89936818e-05, -1.42415483e-05,  5.76067214e-06, -2.54362458e-05,\n",
      "       -3.72563009e-05, -4.94682354e-07, -3.27656708e-05,  1.46683051e-05,\n",
      "       -9.89281034e-07,  1.74805791e-05, -2.65045146e-05,  2.46178624e-05,\n",
      "        2.93818084e-05,  5.08968697e-05, -1.07546130e-05,  2.85114693e-05,\n",
      "       -7.33727793e-05, -2.00452123e-05,  3.55125521e-05,  4.19735006e-05,\n",
      "        2.38074244e-05,  4.51936467e-05,  2.53517574e-05, -1.92451535e-05,\n",
      "        9.25363565e-07,  6.53603729e-06, -1.15806142e-05,  9.94675793e-06,\n",
      "       -1.82514541e-05, -1.36288709e-05,  4.65574340e-06, -5.51805078e-06,\n",
      "        1.00043217e-05, -3.58089164e-05,  4.18694763e-05,  6.10099778e-06,\n",
      "       -2.19427893e-05, -7.33554180e-06, -2.11287716e-06,  3.45684493e-05,\n",
      "        5.14333515e-05,  7.78960239e-05,  5.97154976e-05,  5.24135867e-05,\n",
      "        8.64791218e-06, -6.38839265e-06, -2.11362203e-05, -5.27050433e-05],\n",
      "      dtype=float32)>, <tf.Tensor: shape=(128, 10000), dtype=float32, numpy=\n",
      "array([[-3.1667096e-03, -3.7972233e-03, -2.6100688e-03, ...,\n",
      "         5.1011652e-06,  5.1026382e-06,  5.1056550e-06],\n",
      "       [ 1.5639479e-03,  7.8561751e-04, -8.7051070e-04, ...,\n",
      "        -2.6296461e-06, -2.6301846e-06, -2.6316434e-06],\n",
      "       [ 2.0420549e-03,  2.5856071e-03,  2.6315844e-03, ...,\n",
      "        -4.1764056e-06, -4.1797211e-06, -4.1794729e-06],\n",
      "       ...,\n",
      "       [-6.1862251e-05, -7.1387045e-04, -9.1998908e-04, ...,\n",
      "         4.0810312e-07,  4.0888767e-07,  4.0758081e-07],\n",
      "       [ 7.6369935e-05,  1.4921584e-03,  7.2316697e-04, ...,\n",
      "        -9.0355775e-07, -9.0496962e-07, -9.0636070e-07],\n",
      "       [ 7.4071786e-04,  2.0947251e-03,  9.0745627e-04, ...,\n",
      "        -1.9574998e-06, -1.9581373e-06, -1.9615463e-06]], dtype=float32)>, <tf.Tensor: shape=(10000,), dtype=float32, numpy=\n",
      "array([-0.79799795, -1.0313315 , -1.0313313 , ...,  0.00199892,\n",
      "        0.0019995 ,  0.00199963], dtype=float32)>]\n"
     ]
    }
   ],
   "source": [
    "print(grad_t_list)"
   ]
  },
  {
   "cell_type": "markdown",
   "metadata": {},
   "source": [
    "\n",
    "\n",
    "\n",
    "now, we have a list of tensors, t-list. We can use it to find clipped tensors. <b>clip_by_global_norm</b> clips values of multiple tensors by the ratio of the sum of their norms.\n",
    "\n",
    "<b>clip_by_global_norm</b> get <i>t-list</i> as input and returns 2 things:\n",
    "<ul>\n",
    "    <li>a list of clipped tensors, so called <i>list_clipped</i></li> \n",
    "    <li>the global norm (global_norm) of all tensors in t_list</li> \n",
    "</ul>\n"
   ]
  },
  {
   "cell_type": "code",
   "execution_count": 66,
   "metadata": {
    "tags": []
   },
   "outputs": [
    {
     "data": {
      "text/plain": [
       "[<tensorflow.python.framework.indexed_slices.IndexedSlices at 0x7fc209365b10>,\n",
       " <tf.Tensor: shape=(200, 1024), dtype=float32, numpy=\n",
       " array([[-2.7970901e-07,  9.5110323e-07,  3.7645367e-07, ...,\n",
       "         -3.0417360e-07,  3.6439255e-07,  2.6511643e-08],\n",
       "        [-1.0193088e-07, -7.6923561e-07,  3.9398896e-07, ...,\n",
       "         -2.8792809e-07,  1.8515900e-07, -1.5117639e-08],\n",
       "        [ 3.7949277e-08, -5.6653982e-07, -7.3014695e-07, ...,\n",
       "          2.4159709e-07,  1.8791657e-07,  8.3802547e-08],\n",
       "        ...,\n",
       "        [ 1.4551692e-07, -2.5798863e-07, -5.9361707e-07, ...,\n",
       "          6.6612841e-07,  7.8202085e-09, -3.8530740e-07],\n",
       "        [ 2.3701412e-07,  6.9366814e-07, -3.4255146e-07, ...,\n",
       "         -1.4836235e-07, -4.6510166e-08, -2.8835171e-07],\n",
       "        [ 2.0633744e-08, -1.2281486e-06, -5.4869292e-07, ...,\n",
       "         -5.1685561e-07, -2.7459794e-07,  3.8158612e-07]], dtype=float32)>,\n",
       " <tf.Tensor: shape=(256, 1024), dtype=float32, numpy=\n",
       " array([[-3.4433192e-08,  1.6665595e-08,  3.0478975e-07, ...,\n",
       "          1.6907194e-07,  3.8539579e-07, -4.3824091e-08],\n",
       "        [-2.1104343e-07,  3.6947675e-08, -2.2394659e-08, ...,\n",
       "          3.3987575e-08, -1.1615737e-07,  3.9078095e-08],\n",
       "        [-1.7269400e-08,  7.2671270e-08, -6.9128909e-08, ...,\n",
       "          9.1570499e-08, -9.8249231e-08, -1.5943135e-07],\n",
       "        ...,\n",
       "        [-3.2973933e-08, -1.2409286e-07, -1.8317675e-07, ...,\n",
       "          8.3677570e-08,  4.1917730e-08, -4.4072074e-08],\n",
       "        [ 6.0396360e-08, -2.0857595e-07,  7.5178725e-09, ...,\n",
       "          4.4454708e-08, -3.4101564e-07, -6.1728599e-08],\n",
       "        [-7.4890423e-08,  7.1711426e-08,  4.6169074e-08, ...,\n",
       "         -6.6280244e-09, -8.1559293e-08,  1.3124465e-07]], dtype=float32)>,\n",
       " <tf.Tensor: shape=(1024,), dtype=float32, numpy=\n",
       " array([-1.37750849e-05, -1.90126921e-05,  1.05593590e-05, ...,\n",
       "         1.21687435e-05,  3.22711239e-05,  1.42056788e-05], dtype=float32)>,\n",
       " <tf.Tensor: shape=(256, 512), dtype=float32, numpy=\n",
       " array([[-4.0252007e-07, -4.1311779e-07, -5.6365931e-08, ...,\n",
       "         -5.0091955e-07, -2.8388635e-07,  3.6217216e-09],\n",
       "        [-8.6431328e-08, -1.4130795e-07,  1.5814740e-08, ...,\n",
       "          1.6693750e-07,  7.7366728e-08, -1.5158801e-07],\n",
       "        [ 7.3589241e-08,  8.8742638e-08, -1.3052819e-08, ...,\n",
       "          1.7071926e-07,  8.9537238e-08, -6.5572650e-08],\n",
       "        ...,\n",
       "        [ 1.9888384e-07, -1.9251725e-07, -5.9143773e-08, ...,\n",
       "         -1.5776564e-08,  4.7464610e-08,  5.7275344e-08],\n",
       "        [ 6.5226914e-08,  2.9482159e-08, -8.7679233e-08, ...,\n",
       "          1.0741531e-07,  2.2875852e-07, -5.2023427e-07],\n",
       "        [ 1.5121228e-07,  1.0613819e-07, -9.4138120e-09, ...,\n",
       "          3.7854360e-08,  2.1434653e-07,  6.2072303e-10]], dtype=float32)>,\n",
       " <tf.Tensor: shape=(128, 512), dtype=float32, numpy=\n",
       " array([[-4.2434209e-07, -1.1165834e-07, -5.1282314e-08, ...,\n",
       "         -5.7146412e-08, -1.5017667e-07, -2.9721061e-08],\n",
       "        [ 1.0871420e-07,  1.7157791e-07,  7.2153838e-08, ...,\n",
       "          4.6208193e-08,  1.0940484e-07,  4.1432315e-09],\n",
       "        [ 1.4068448e-07,  6.9216014e-08,  8.9496694e-08, ...,\n",
       "          1.0964483e-07,  1.3508151e-07,  1.1682033e-08],\n",
       "        ...,\n",
       "        [ 1.7211964e-07, -6.9042422e-08, -2.1663411e-08, ...,\n",
       "         -3.8688933e-07, -7.7065422e-08,  2.1408295e-07],\n",
       "        [ 1.7904642e-07,  6.1144092e-08,  6.3104793e-08, ...,\n",
       "          6.2401568e-08,  4.6949887e-07, -1.4633197e-07],\n",
       "        [ 3.5412381e-07, -1.8243040e-07,  6.8517437e-08, ...,\n",
       "         -7.9607616e-08, -1.3508816e-07,  3.7790426e-07]], dtype=float32)>,\n",
       " <tf.Tensor: shape=(512,), dtype=float32, numpy=\n",
       " array([-5.80712331e-05, -4.51392516e-05, -2.17286670e-05, -4.36026203e-05,\n",
       "         5.30745274e-06,  6.65478638e-06, -1.51523727e-05,  5.23933340e-05,\n",
       "        -4.12574918e-05, -1.58495186e-05, -2.67667856e-05, -2.34761842e-06,\n",
       "         3.07657501e-06, -2.77176860e-05, -1.10624751e-05, -2.42535607e-05,\n",
       "        -1.77005604e-05,  4.98176450e-05, -2.27743967e-05,  6.98796648e-05,\n",
       "        -2.72155648e-05, -1.83414431e-06,  6.90175602e-06, -2.41643647e-05,\n",
       "        -1.18591852e-05, -6.60201258e-05, -1.69839586e-05, -7.46504957e-05,\n",
       "        -4.17991487e-06,  1.08120170e-04, -5.93956574e-05,  5.61325942e-06,\n",
       "        -2.48008546e-05, -5.76262391e-05,  6.78693032e-05,  2.61095875e-06,\n",
       "        -2.20086185e-05, -1.60576856e-05,  1.64274115e-06,  1.69560153e-05,\n",
       "         2.93410721e-06,  1.77329475e-05, -2.27280652e-05, -2.47477146e-05,\n",
       "         3.18952152e-05,  3.40781735e-05,  2.08563724e-05, -1.17908630e-05,\n",
       "         1.37533898e-05, -5.11051621e-05,  4.07232874e-05, -7.47614786e-06,\n",
       "        -5.09643578e-05,  1.30796223e-04, -6.14336386e-06, -3.32842092e-06,\n",
       "         9.41267717e-06, -3.14408535e-05, -8.73929384e-05,  1.08646636e-05,\n",
       "         2.37716085e-05, -2.32242110e-05, -1.30186500e-05,  3.72334216e-05,\n",
       "        -1.84454730e-05,  2.38458342e-05,  1.57534869e-05, -3.15683865e-05,\n",
       "        -2.56264320e-06, -4.15681279e-06, -1.38596079e-05, -8.93393917e-06,\n",
       "        -4.47779939e-06, -1.95888024e-05,  3.28414826e-05,  2.66134448e-05,\n",
       "         3.04173027e-05, -7.55691435e-05,  1.40076110e-04, -7.87430508e-06,\n",
       "        -1.22492529e-05, -1.46690709e-05,  4.42508281e-06, -2.01893818e-05,\n",
       "        -3.60596678e-05, -6.36086315e-06, -1.22792808e-05,  1.14920185e-05,\n",
       "         3.33060598e-06,  1.97227309e-05, -2.83465542e-05,  2.50597732e-05,\n",
       "         3.28642491e-05,  4.64335899e-05, -1.46092534e-05,  2.31293125e-05,\n",
       "        -5.36848820e-05, -1.63107652e-05,  3.70798625e-05,  2.83359423e-05,\n",
       "         1.82137665e-05,  4.45337646e-05,  2.63509755e-05, -1.64634221e-05,\n",
       "        -1.05467152e-05,  9.40980317e-06, -1.39598842e-05,  1.56760070e-05,\n",
       "        -1.11640165e-05, -1.65892561e-05,  4.32190745e-06, -2.83150075e-06,\n",
       "         1.19780962e-05, -3.10173746e-05,  4.31362714e-05,  2.62263075e-06,\n",
       "        -1.51301265e-05, -4.69245151e-06,  9.43936902e-06,  2.65800190e-05,\n",
       "         4.63213219e-05,  5.68553151e-05,  4.96096618e-05,  5.52023121e-05,\n",
       "         1.05731669e-05, -3.57728800e-06, -2.70455366e-05, -4.01556026e-05,\n",
       "        -8.34322127e-05, -5.28528544e-05, -2.72735324e-05, -8.14217201e-05,\n",
       "         3.79921876e-05, -1.73952740e-05, -4.10531793e-05,  6.84511688e-05,\n",
       "        -5.44249051e-05, -4.30823784e-05, -3.21045809e-05, -1.91416657e-05,\n",
       "         5.06001925e-07, -3.03487759e-05, -3.09449351e-05, -4.22725861e-05,\n",
       "        -2.49680488e-05,  5.14948624e-05, -3.30325129e-05,  1.02022845e-04,\n",
       "        -4.36233277e-05,  3.60310332e-06, -4.40669282e-06, -1.58669191e-05,\n",
       "         6.55534677e-06, -8.25682000e-05, -1.37199722e-05, -6.85560881e-05,\n",
       "         1.85381650e-05,  1.75904061e-04, -8.36558902e-05, -1.72268265e-05,\n",
       "        -3.61191742e-05, -8.63553141e-05,  1.25691455e-04,  9.18535079e-07,\n",
       "        -2.40731315e-05, -3.00508600e-05,  7.06255378e-06,  1.47927085e-05,\n",
       "        -1.43529269e-05,  2.19496251e-05, -3.63006984e-05, -4.32311535e-05,\n",
       "         3.58390644e-05,  2.41012040e-05,  4.54745896e-05, -3.80259517e-05,\n",
       "         8.07694505e-06, -2.72371290e-05,  6.52666422e-05,  1.87890219e-05,\n",
       "        -4.38478964e-05,  1.89761005e-04,  9.05494562e-06, -6.93441052e-06,\n",
       "         4.16308467e-07, -5.00987226e-05, -1.21173609e-04,  5.91417302e-06,\n",
       "         1.46191187e-05, -3.78202458e-05, -8.62035540e-06,  2.88875563e-05,\n",
       "        -3.52895513e-05,  4.33332498e-05,  5.50979494e-05, -4.46271733e-05,\n",
       "         1.39390977e-06,  1.45886934e-05, -3.67247376e-05, -2.56338717e-06,\n",
       "         4.11218207e-06,  6.48891955e-06,  2.39992496e-05,  6.77013395e-06,\n",
       "         4.73820983e-05, -8.20140558e-05,  2.08128564e-04,  5.56958548e-06,\n",
       "        -2.51911079e-05,  1.17617565e-05,  4.04909406e-05, -1.15370394e-05,\n",
       "        -4.32918496e-05, -1.98187390e-05, -3.12086122e-05, -2.87499552e-06,\n",
       "         1.31138595e-05,  1.05628187e-05, -1.80438565e-05,  7.13257177e-05,\n",
       "         2.34028812e-05,  5.58097963e-05, -9.69969642e-06,  1.25825081e-05,\n",
       "        -7.74111613e-05, -3.85175372e-05,  5.89268602e-05,  2.18770256e-05,\n",
       "        -1.20957520e-05,  6.91654495e-05,  4.76384557e-05, -3.62040337e-05,\n",
       "         6.70606050e-06,  3.73493663e-06, -8.55131475e-06, -1.15211260e-05,\n",
       "        -2.13817166e-05,  2.05022570e-05,  7.62995205e-06, -1.85560802e-05,\n",
       "        -4.74515582e-06, -3.92511720e-05,  4.03477134e-05,  1.59277261e-05,\n",
       "        -2.00143222e-05,  1.30991557e-05,  1.88620834e-06,  4.45170663e-05,\n",
       "         5.78444124e-05,  9.20115272e-05,  5.72356439e-05,  7.52394772e-05,\n",
       "         1.31032957e-05, -1.39670246e-05, -7.99634563e-06, -6.61580634e-05,\n",
       "        -1.29857063e-02,  2.05003433e-02,  8.91758315e-03, -2.10531279e-02,\n",
       "         2.92291362e-02,  2.75575444e-02,  2.28297338e-02,  1.05031468e-02,\n",
       "        -4.17326167e-02, -1.87540445e-02, -3.65315005e-02,  2.63679177e-02,\n",
       "         4.97341016e-03,  2.05329321e-02, -2.68452540e-02, -1.04950974e-02,\n",
       "         2.39682160e-02, -1.62348486e-02, -1.77863538e-02,  2.71093845e-02,\n",
       "        -2.54374258e-02, -2.16823965e-02, -4.32904437e-02,  4.81360480e-02,\n",
       "         3.21847619e-04,  6.67530298e-02,  4.75890636e-02, -2.14506127e-02,\n",
       "         3.30528356e-02,  3.82333994e-02, -4.59709167e-02, -9.58306808e-03,\n",
       "        -5.03253378e-03, -2.87684090e-02,  4.81606945e-02, -3.01649421e-02,\n",
       "         2.12666090e-03, -1.21066794e-02, -1.35958008e-02, -1.16036553e-02,\n",
       "         4.26748767e-02, -2.52922326e-02,  6.61361730e-03, -5.18093593e-02,\n",
       "        -2.42464952e-02, -3.57818119e-02, -2.28128321e-02, -6.21613674e-03,\n",
       "        -3.84170488e-02, -3.05784866e-02, -3.07469107e-02,  8.23307689e-03,\n",
       "         4.16687690e-02,  5.30601367e-02,  3.72947427e-03,  3.71286944e-02,\n",
       "        -4.49288636e-02,  2.24894490e-02, -2.77348813e-02,  1.31480880e-02,\n",
       "        -3.93824279e-02, -5.06539904e-02, -2.51443349e-02,  7.11580599e-03,\n",
       "        -3.60499918e-02, -1.01863695e-02, -2.98690610e-02, -6.39595687e-02,\n",
       "         2.95139030e-02,  6.03843760e-03, -1.01980595e-02,  2.92383544e-02,\n",
       "         1.26160169e-02,  1.63034536e-02,  2.45805038e-03, -2.43020579e-02,\n",
       "         1.05283083e-02, -3.96129638e-02, -5.13076000e-02,  4.83448617e-03,\n",
       "        -1.92748047e-02, -1.80388503e-02,  5.74009027e-03, -2.50695534e-02,\n",
       "        -4.17852923e-02, -7.22775934e-03, -1.36575811e-02, -3.31114866e-02,\n",
       "         1.40930675e-02,  7.99893774e-03,  2.09658705e-02, -2.42652986e-02,\n",
       "        -1.69980358e-02, -1.55700147e-02,  4.26079854e-02, -3.16870213e-02,\n",
       "        -3.75308320e-02,  1.65189020e-02,  1.60763972e-02, -2.16408516e-04,\n",
       "         1.08244047e-02,  2.83147823e-02,  2.16552839e-02, -1.18500516e-02,\n",
       "         3.42694744e-02,  3.88997681e-02,  2.03455258e-02, -3.53435576e-02,\n",
       "         8.07508454e-03,  1.20069981e-02,  9.09190439e-03, -4.76158084e-03,\n",
       "        -7.38480594e-04, -5.42387143e-02,  4.79272241e-03,  2.26337984e-02,\n",
       "         2.77306288e-02, -4.01984006e-02, -5.53376321e-03,  5.56864738e-02,\n",
       "         1.05561502e-03, -3.36908884e-02,  3.23969424e-02,  1.55300135e-04,\n",
       "         1.98152252e-02, -3.81866992e-02,  2.80702673e-02,  1.43925156e-02,\n",
       "        -6.15177050e-05, -4.79978116e-05, -3.33158896e-05, -5.76477614e-05,\n",
       "         3.26161717e-06,  1.09442481e-05, -2.38440171e-05,  5.15729407e-05,\n",
       "        -4.91253595e-05, -1.72579821e-05, -3.21129992e-05, -2.97292036e-06,\n",
       "        -3.69610916e-06, -2.90366734e-05, -2.18402020e-05, -2.79096148e-05,\n",
       "        -1.05604122e-05,  5.26180120e-05, -2.23171701e-05,  7.83433861e-05,\n",
       "        -4.02515034e-05,  3.72784780e-06,  1.14154482e-05, -2.50548946e-05,\n",
       "        -1.28917509e-06, -7.54672437e-05, -2.90292683e-05, -7.83282885e-05,\n",
       "        -3.47488822e-07,  1.14697643e-04, -5.96992759e-05,  7.75995977e-06,\n",
       "        -1.70815110e-05, -6.01460197e-05,  8.34577950e-05, -7.29398380e-07,\n",
       "        -2.16110730e-05, -1.74037250e-05, -2.15982436e-06,  1.89789025e-05,\n",
       "         1.32961623e-06,  1.35840755e-05, -2.26005905e-05, -3.02395511e-05,\n",
       "         3.52181451e-05,  3.39163889e-05,  1.91940708e-05, -2.76582887e-05,\n",
       "         1.92267071e-05, -4.71470485e-05,  4.29099236e-05, -1.25267097e-05,\n",
       "        -5.02902258e-05,  1.63082557e-04, -3.56345481e-07, -2.70414012e-06,\n",
       "         7.78533285e-06, -4.63269462e-05, -1.07095591e-04,  1.46445636e-05,\n",
       "         3.92257098e-05, -2.46273321e-05, -1.32538298e-05,  3.13317287e-05,\n",
       "        -2.55604773e-05,  3.60675695e-05,  2.68929707e-05, -3.04626919e-05,\n",
       "         4.42014425e-07, -9.09636583e-07, -1.55113921e-05, -4.34110734e-06,\n",
       "         3.94377184e-06, -1.18677926e-05,  3.13157361e-05,  3.29911636e-05,\n",
       "         4.02594924e-05, -7.92513601e-05,  1.64897603e-04, -1.66713062e-06,\n",
       "        -1.89936818e-05, -1.42415483e-05,  5.76067214e-06, -2.54362458e-05,\n",
       "        -3.72563009e-05, -4.94682354e-07, -3.27656708e-05,  1.46683051e-05,\n",
       "        -9.89281034e-07,  1.74805791e-05, -2.65045146e-05,  2.46178624e-05,\n",
       "         2.93818084e-05,  5.08968697e-05, -1.07546130e-05,  2.85114693e-05,\n",
       "        -7.33727793e-05, -2.00452123e-05,  3.55125521e-05,  4.19735006e-05,\n",
       "         2.38074244e-05,  4.51936467e-05,  2.53517574e-05, -1.92451535e-05,\n",
       "         9.25363565e-07,  6.53603729e-06, -1.15806142e-05,  9.94675793e-06,\n",
       "        -1.82514541e-05, -1.36288709e-05,  4.65574340e-06, -5.51805078e-06,\n",
       "         1.00043217e-05, -3.58089164e-05,  4.18694763e-05,  6.10099778e-06,\n",
       "        -2.19427893e-05, -7.33554180e-06, -2.11287716e-06,  3.45684493e-05,\n",
       "         5.14333515e-05,  7.78960239e-05,  5.97154976e-05,  5.24135867e-05,\n",
       "         8.64791218e-06, -6.38839265e-06, -2.11362203e-05, -5.27050433e-05],\n",
       "       dtype=float32)>,\n",
       " <tf.Tensor: shape=(128, 10000), dtype=float32, numpy=\n",
       " array([[-3.1667096e-03, -3.7972233e-03, -2.6100688e-03, ...,\n",
       "          5.1011652e-06,  5.1026382e-06,  5.1056550e-06],\n",
       "        [ 1.5639479e-03,  7.8561751e-04, -8.7051070e-04, ...,\n",
       "         -2.6296461e-06, -2.6301846e-06, -2.6316434e-06],\n",
       "        [ 2.0420549e-03,  2.5856071e-03,  2.6315844e-03, ...,\n",
       "         -4.1764056e-06, -4.1797211e-06, -4.1794729e-06],\n",
       "        ...,\n",
       "        [-6.1862251e-05, -7.1387045e-04, -9.1998908e-04, ...,\n",
       "          4.0810312e-07,  4.0888767e-07,  4.0758081e-07],\n",
       "        [ 7.6369935e-05,  1.4921584e-03,  7.2316697e-04, ...,\n",
       "         -9.0355775e-07, -9.0496962e-07, -9.0636070e-07],\n",
       "        [ 7.4071786e-04,  2.0947251e-03,  9.0745627e-04, ...,\n",
       "         -1.9574998e-06, -1.9581373e-06, -1.9615463e-06]], dtype=float32)>,\n",
       " <tf.Tensor: shape=(10000,), dtype=float32, numpy=\n",
       " array([-0.79799795, -1.0313315 , -1.0313313 , ...,  0.00199892,\n",
       "         0.0019995 ,  0.00199963], dtype=float32)>]"
      ]
     },
     "execution_count": 66,
     "metadata": {},
     "output_type": "execute_result"
    }
   ],
   "source": [
    "# Define the gradient clipping threshold\n",
    "grads, _ = tf.clip_by_global_norm(grad_t_list, max_grad_norm)\n",
    "grads"
   ]
  },
  {
   "cell_type": "markdown",
   "metadata": {},
   "source": [
    "<h4> 4.Apply the optimizer to the variables/gradients tuple. </h4>\n"
   ]
  },
  {
   "cell_type": "code",
   "execution_count": 67,
   "metadata": {
    "tags": []
   },
   "outputs": [],
   "source": [
    "# Create the training TensorFlow Operation through our optimizer\n",
    "train_op = optimizer.apply_gradients(zip(grads, tvars))"
   ]
  },
  {
   "cell_type": "markdown",
   "metadata": {},
   "source": [
    "<a id=\"ltsm\"></a>\n",
    "<h2>LSTM</h2>\n"
   ]
  },
  {
   "cell_type": "markdown",
   "metadata": {},
   "source": [
    "We learned how the model is build step by step. Noe, let's then create a Class that represents our model. This class needs a few things:\n",
    "<ul>\n",
    "    <li>We have to create the model in accordance with our defined hyperparameters</li>\n",
    "    <li>We have to create the LSTM cell structure and connect them with our RNN structure</li>\n",
    "    <li>We have to create the word embeddings and point them to the input data</li>\n",
    "    <li>We have to create the input structure for our RNN</li>\n",
    "    <li>We need to create a logistic structure to return the probability of our words</li>\n",
    "    <li>We need to create the loss and cost functions for our optimizer to work, and then create the optimizer</li>\n",
    "    <li>And finally, we need to create a training operation that can be run to actually train our model</li>\n",
    "</ul>\n"
   ]
  },
  {
   "cell_type": "code",
   "execution_count": 68,
   "metadata": {
    "tags": []
   },
   "outputs": [],
   "source": [
    "class PTBModel(object):\n",
    "\n",
    "\n",
    "    def __init__(self):\n",
    "        ######################################\n",
    "        # Setting parameters for ease of use #\n",
    "        ######################################\n",
    "        self.batch_size = batch_size\n",
    "        self.num_steps = num_steps\n",
    "        self.hidden_size_l1 = hidden_size_l1\n",
    "        self.hidden_size_l2 = hidden_size_l2\n",
    "        self.vocab_size = vocab_size\n",
    "        self.embeding_vector_size = embeding_vector_size\n",
    "        # Create a variable for the learning rate\n",
    "        self._lr = 1.0\n",
    "        \n",
    "        ###############################################################################\n",
    "        # Initializing the model using keras Sequential API  #\n",
    "        ###############################################################################\n",
    "        \n",
    "        self._model = tf.keras.models.Sequential()\n",
    "        \n",
    "        ####################################################################\n",
    "        # Creating the word embeddings layer and adding it to the sequence #\n",
    "        ####################################################################\n",
    "        with tf.device(\"/cpu:0\"):\n",
    "            # Create the embeddings for our input data. Size is hidden size.\n",
    "            self._embedding_layer = tf.keras.layers.Embedding(self.vocab_size, self.embeding_vector_size,batch_input_shape=(self.batch_size, self.num_steps),trainable=True,name=\"embedding_vocab\")  #[10000x200]\n",
    "            self._model.add(self._embedding_layer)\n",
    "            \n",
    "\n",
    "        ##########################################################################\n",
    "        # Creating the LSTM cell structure and connect it with the RNN structure #\n",
    "        ##########################################################################\n",
    "        # Create the LSTM Cells. \n",
    "        # This creates only the structure for the LSTM and has to be associated with a RNN unit still.\n",
    "        # The argument  of LSTMCell is size of hidden layer, that is, the number of hidden units of the LSTM (inside A). \n",
    "        # LSTM cell processes one word at a time and computes probabilities of the possible continuations of the sentence.\n",
    "        lstm_cell_l1 = tf.keras.layers.LSTMCell(hidden_size_l1)\n",
    "        lstm_cell_l2 = tf.keras.layers.LSTMCell(hidden_size_l2)\n",
    "        \n",
    "\n",
    "        \n",
    "        # By taking in the LSTM cells as parameters, the StackedRNNCells function junctions the LSTM units to the RNN units.\n",
    "        # RNN cell composed sequentially of stacked simple cells.\n",
    "        stacked_lstm = tf.keras.layers.StackedRNNCells([lstm_cell_l1, lstm_cell_l2])\n",
    "\n",
    "\n",
    "        \n",
    "\n",
    "        ############################################\n",
    "        # Creating the input structure for our RNN #\n",
    "        ############################################\n",
    "        # Input structure is 20x[30x200]\n",
    "        # Considering each word is represended by a 200 dimentional vector, and we have 30 batchs, we create 30 word-vectors of size [30xx2000]\n",
    "        # The input structure is fed from the embeddings, which are filled in by the input data\n",
    "        # Feeding a batch of b sentences to a RNN:\n",
    "        # In step 1,  first word of each of the b sentences (in a batch) is input in parallel.  \n",
    "        # In step 2,  second word of each of the b sentences is input in parallel. \n",
    "        # The parallelism is only for efficiency.  \n",
    "        # Each sentence in a batch is handled in parallel, but the network sees one word of a sentence at a time and does the computations accordingly. \n",
    "        # All the computations involving the words of all sentences in a batch at a given time step are done in parallel. \n",
    "\n",
    "        ########################################################################################################\n",
    "        # Instantiating our RNN model and setting stateful to True to feed forward the state to the next layer #\n",
    "        ########################################################################################################\n",
    "        \n",
    "        self._RNNlayer  =  tf.keras.layers.RNN(stacked_lstm,[batch_size, num_steps],return_state=False,stateful=True,trainable=True)\n",
    "        \n",
    "        # Define the initial state, i.e., the model state for the very first data point\n",
    "        # It initialize the state of the LSTM memory. The memory state of the network is initialized with a vector of zeros and gets updated after reading each word.\n",
    "        self._initial_state = tf.Variable(tf.zeros([batch_size,embeding_vector_size]),trainable=False)\n",
    "        self._RNNlayer.inital_state = self._initial_state\n",
    "    \n",
    "        ############################################\n",
    "        # Adding RNN layer to keras sequential API #\n",
    "        ############################################        \n",
    "        self._model.add(self._RNNlayer)\n",
    "        \n",
    "        #self._model.add(tf.keras.layers.LSTM(hidden_size_l1,return_sequences=True,stateful=True))\n",
    "        #self._model.add(tf.keras.layers.LSTM(hidden_size_l2,return_sequences=True))\n",
    "        \n",
    "        \n",
    "        ####################################################################################################\n",
    "        # Instantiating a Dense layer that connects the output to the vocab_size  and adding layer to model#\n",
    "        ####################################################################################################\n",
    "        self._dense = tf.keras.layers.Dense(self.vocab_size)\n",
    "        self._model.add(self._dense)\n",
    " \n",
    "        \n",
    "        ####################################################################################################\n",
    "        # Adding softmax activation layer and deriving probability to each class and adding layer to model #\n",
    "        ####################################################################################################\n",
    "        self._activation = tf.keras.layers.Activation('softmax')\n",
    "        self._model.add(self._activation)\n",
    "\n",
    "        ##########################################################\n",
    "        # Instantiating the stochastic gradient decent optimizer #\n",
    "        ########################################################## \n",
    "        self._optimizer = tf.keras.optimizers.SGD(lr=self._lr, clipnorm=max_grad_norm)\n",
    "        \n",
    "        \n",
    "        ##############################################################################\n",
    "        # Compiling and summarizing the model stacked using the keras sequential API #\n",
    "        ##############################################################################\n",
    "        self._model.compile(loss=self.crossentropy, optimizer=self._optimizer)\n",
    "        self._model.summary()\n",
    "\n",
    "\n",
    "    def crossentropy(self,y_true, y_pred):\n",
    "        return tf.keras.losses.sparse_categorical_crossentropy(y_true, y_pred)\n",
    "\n",
    "    def train_batch(self,_input_data,_targets):\n",
    "        #################################################\n",
    "        # Creating the Training Operation for our Model #\n",
    "        #################################################\n",
    "        # Create a variable for the learning rate\n",
    "        self._lr = tf.Variable(0.0, trainable=False)\n",
    "        # Get all TensorFlow variables marked as \"trainable\" (i.e. all of them except _lr, which we just created)\n",
    "        tvars = self._model.trainable_variables\n",
    "        # Define the gradient clipping threshold\n",
    "        with tf.GradientTape() as tape:\n",
    "            # Forward pass.\n",
    "            output_words_prob = self._model(_input_data)\n",
    "            # Loss value for this batch.\n",
    "            loss  = self.crossentropy(_targets, output_words_prob)\n",
    "            # average across batch and reduce sum\n",
    "            cost = tf.reduce_sum(loss/ self.batch_size)\n",
    "        # Get gradients of loss wrt the trainable variables.\n",
    "        grad_t_list = tape.gradient(cost, tvars)\n",
    "        # Define the gradient clipping threshold\n",
    "        grads, _ = tf.clip_by_global_norm(grad_t_list, max_grad_norm)\n",
    "        # Create the training TensorFlow Operation through our optimizer\n",
    "        train_op = self._optimizer.apply_gradients(zip(grads, tvars))\n",
    "        return cost\n",
    "        \n",
    "    def test_batch(self,_input_data,_targets):\n",
    "        #################################################\n",
    "        # Creating the Testing Operation for our Model #\n",
    "        #################################################\n",
    "        output_words_prob = self._model(_input_data)\n",
    "        loss  = self.crossentropy(_targets, output_words_prob)\n",
    "        # average across batch and reduce sum\n",
    "        cost = tf.reduce_sum(loss/ self.batch_size)\n",
    "\n",
    "        return cost\n",
    "    @classmethod\n",
    "    def instance(cls) : \n",
    "        return PTBModel()"
   ]
  },
  {
   "cell_type": "markdown",
   "metadata": {},
   "source": [
    "With that, the actual structure of our Recurrent Neural Network with Long Short-Term Memory is finished. What remains for us to do is to actually create the methods to run through time -- that is, the <code>run_epoch</code> method to be run at each epoch and a <code>main</code> script which ties all of this together.\n",
    "\n",
    "What our <code>run_epoch</code> method should do is take our input data and feed it to the relevant operations. This will return at the very least the current result for the cost function.\n"
   ]
  },
  {
   "cell_type": "code",
   "execution_count": 69,
   "metadata": {
    "tags": []
   },
   "outputs": [],
   "source": [
    "\n",
    "########################################################################################################################\n",
    "# run_one_epoch takes as parameters  the model instance, the data to be fed, training or testing mode and verbose info #\n",
    "########################################################################################################################\n",
    "def run_one_epoch(m, data,is_training=True,verbose=False):\n",
    "\n",
    "    #Define the epoch size based on the length of the data, batch size and the number of steps\n",
    "    epoch_size = ((len(data) // m.batch_size) - 1) // m.num_steps\n",
    "    start_time = time.time()\n",
    "    costs = 0.\n",
    "    iters = 0\n",
    "    \n",
    "    m._model.reset_states()\n",
    "    \n",
    "    #For each step and data point\n",
    "    for step, (x, y) in enumerate(ptb_iterator(data, m.batch_size, m.num_steps)):\n",
    "        \n",
    "        #Evaluate and return cost, state by running cost, final_state and the function passed as parameter\n",
    "        #y = tf.keras.utils.to_categorical(y, num_classes=vocab_size)\n",
    "        if is_training : \n",
    "            loss=  m.train_batch(x, y)\n",
    "        else :\n",
    "            loss = m.test_batch(x, y)\n",
    "                                   \n",
    "\n",
    "        #Add returned cost to costs (which keeps track of the total costs for this epoch)\n",
    "        costs += loss\n",
    "        \n",
    "        #Add number of steps to iteration counter\n",
    "        iters += m.num_steps\n",
    "\n",
    "        if verbose and step % (epoch_size // 10) == 10:\n",
    "            print(\"Itr %d of %d, perplexity: %.3f speed: %.0f wps\" % (step , epoch_size, np.exp(costs / iters), iters * m.batch_size / (time.time() - start_time)))\n",
    "        \n",
    "\n",
    "\n",
    "    # Returns the Perplexity rating for us to keep track of how the model is evolving\n",
    "    return np.exp(costs / iters)\n"
   ]
  },
  {
   "cell_type": "markdown",
   "metadata": {},
   "source": [
    "Now, we create the <code>main</code> method to tie everything together. The code here reads the data from the directory, using the <code>reader</code> helper module, and then trains and evaluates the model on both a testing and a validating subset of data.\n"
   ]
  },
  {
   "cell_type": "code",
   "execution_count": 70,
   "metadata": {
    "tags": []
   },
   "outputs": [],
   "source": [
    "# Reads the data and separates it into training data, validation data and testing data\n",
    "raw_data = ptb_raw_data(data_dir)\n",
    "train_data, valid_data, test_data, _, _ = raw_data"
   ]
  },
  {
   "cell_type": "code",
   "execution_count": null,
   "metadata": {
    "tags": []
   },
   "outputs": [
    {
     "name": "stdout",
     "output_type": "stream",
     "text": [
      "Model: \"sequential_1\"\n",
      "_________________________________________________________________\n",
      " Layer (type)                Output Shape              Param #   \n",
      "=================================================================\n",
      " embedding_vocab (Embedding)  (30, 20, 200)            2000000   \n",
      "                                                                 \n",
      " rnn_1 (RNN)                 (30, 20, 128)             671088    \n",
      "                                                                 \n",
      " dense_1 (Dense)             (30, 20, 10000)           1290000   \n",
      "                                                                 \n",
      " activation_1 (Activation)   (30, 20, 10000)           0         \n",
      "                                                                 \n",
      "=================================================================\n",
      "Total params: 3,961,088\n",
      "Trainable params: 3,955,088\n",
      "Non-trainable params: 6,000\n",
      "_________________________________________________________________\n",
      "Epoch 1 : Learning rate: 1.000\n",
      "Itr 10 of 1549, perplexity: 4839.122 speed: 1141 wps\n"
     ]
    }
   ],
   "source": [
    "# Instantiates the PTBModel class\n",
    "m=PTBModel.instance()   \n",
    "K = tf.keras.backend \n",
    "for i in range(max_epoch):\n",
    "    # Define the decay for this epoch\n",
    "    lr_decay = decay ** max(i - max_epoch_decay_lr, 0.0)\n",
    "    dcr = learning_rate * lr_decay\n",
    "    m._lr = dcr\n",
    "    K.set_value(m._model.optimizer.learning_rate,m._lr)\n",
    "    print(\"Epoch %d : Learning rate: %.3f\" % (i + 1, m._model.optimizer.learning_rate))\n",
    "    # Run the loop for this epoch in the training mode\n",
    "    train_perplexity = run_one_epoch(m, train_data,is_training=True,verbose=True)\n",
    "    print(\"Epoch %d : Train Perplexity: %.3f\" % (i + 1, train_perplexity))\n",
    "        \n",
    "    # Run the loop for this epoch in the validation mode\n",
    "    valid_perplexity = run_one_epoch(m, valid_data,is_training=False,verbose=False)\n",
    "    print(\"Epoch %d : Valid Perplexity: %.3f\" % (i + 1, valid_perplexity))\n",
    "    \n",
    "# Run the loop in the testing mode to see how effective was our training\n",
    "test_perplexity = run_one_epoch(m, test_data,is_training=False,verbose=False)\n",
    "print(\"Test Perplexity: %.3f\" % test_perplexity)\n",
    "\n"
   ]
  },
  {
   "cell_type": "markdown",
   "metadata": {},
   "source": [
    "As you can see, the model's perplexity rating drops very quickly after a few iterations. As was elaborated before, <b>lower Perplexity means that the model is more certain about its prediction</b>. As such, we can be sure that this model is performing well!\n"
   ]
  },
  {
   "cell_type": "markdown",
   "metadata": {},
   "source": [
    "-------\n"
   ]
  },
  {
   "cell_type": "markdown",
   "metadata": {},
   "source": [
    "This is the end of the <b>Applying Recurrent Neural Networks to Text Processing</b> notebook. Hopefully you now have a better understanding of Recurrent Neural Networks and how to implement one utilizing TensorFlow. Thank you for reading this notebook, and good luck on your studies.\n"
   ]
  },
  {
   "cell_type": "markdown",
   "metadata": {},
   "source": [
    "### Thanks for completing this lesson!\n",
    "\n",
    "Notebook created by <a href=\"https://br.linkedin.com/in/walter-gomes-de-amorim-junior-624726121?utm_medium=Exinfluencer&utm_source=Exinfluencer&utm_content=000026UJ&utm_term=10006555&utm_id=NA-SkillsNetwork-Channel-SkillsNetworkCoursesIBMDeveloperSkillsNetworkDL0120ENSkillsNetwork954-2023-01-01\">Walter Gomes de Amorim Junior</a>, <a href = \"https://linkedin.com/in/saeedaghabozorgi\"> Saeed Aghabozorgi </a></h4>\n",
    "\n",
    "\n",
    "Updated to TF 2.X by  <a href=\"https://www.linkedin.com/in/samaya-madhavan?utm_medium=Exinfluencer&utm_source=Exinfluencer&utm_content=000026UJ&utm_term=10006555&utm_id=NA-SkillsNetwork-Channel-SkillsNetworkCoursesIBMDeveloperSkillsNetworkDL0120ENSkillsNetwork954-2023-01-01\"> Samaya Madhavan </a>\n"
   ]
  },
  {
   "cell_type": "markdown",
   "metadata": {},
   "source": [
    "<hr>\n",
    "\n",
    "Copyright &copy; 2018 [Cognitive Class](https://cocl.us/DX0108EN_CC). This notebook and its source code are released under the terms of the [MIT License](https://bigdatauniversity.com/mit-license/?utm_medium=Exinfluencer&utm_source=Exinfluencer&utm_content=000026UJ&utm_term=10006555&utm_id=NA-SkillsNetwork-Channel-SkillsNetworkCoursesIBMDeveloperSkillsNetworkDL0120ENSkillsNetwork954-2023-01-01).\n"
   ]
  }
 ],
 "metadata": {
  "kernelspec": {
   "display_name": "Python",
   "language": "python",
   "name": "conda-env-python-py"
  },
  "language_info": {
   "codemirror_mode": {
    "name": "ipython",
    "version": 3
   },
   "file_extension": ".py",
   "mimetype": "text/x-python",
   "name": "python",
   "nbconvert_exporter": "python",
   "pygments_lexer": "ipython3",
   "version": "3.7.12"
  }
 },
 "nbformat": 4,
 "nbformat_minor": 4
}
